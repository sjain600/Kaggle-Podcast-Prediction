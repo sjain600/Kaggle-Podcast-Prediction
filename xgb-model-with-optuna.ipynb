{
 "cells": [
  {
   "cell_type": "code",
   "execution_count": 1,
   "id": "c122d6e9",
   "metadata": {
    "execution": {
     "iopub.execute_input": "2025-04-11T13:18:34.698952Z",
     "iopub.status.busy": "2025-04-11T13:18:34.698534Z",
     "iopub.status.idle": "2025-04-11T13:18:42.528457Z",
     "shell.execute_reply": "2025-04-11T13:18:42.527416Z"
    },
    "papermill": {
     "duration": 7.838011,
     "end_time": "2025-04-11T13:18:42.530169",
     "exception": false,
     "start_time": "2025-04-11T13:18:34.692158",
     "status": "completed"
    },
    "tags": []
   },
   "outputs": [
    {
     "name": "stdout",
     "output_type": "stream",
     "text": [
      "/kaggle/input/playground-series-s5e4/sample_submission.csv\n",
      "/kaggle/input/playground-series-s5e4/train.csv\n",
      "/kaggle/input/playground-series-s5e4/test.csv\n"
     ]
    }
   ],
   "source": [
    "# This Python 3 environment comes with many helpful analytics libraries installed\n",
    "# It is defined by the kaggle/python Docker image: https://github.com/kaggle/docker-python\n",
    "# For example, here's several helpful packages to load\n",
    "%load_ext cudf.pandas\n",
    "import numpy as np # linear algebra\n",
    "import pandas as pd # data processing, CSV file I/O (e.g. pd.read_csv)\n",
    "import matplotlib.pyplot as plt\n",
    "\n",
    "# Input data files are available in the read-only \"../input/\" directory\n",
    "# For example, running this (by clicking run or pressing Shift+Enter) will list all files under the input directory\n",
    "\n",
    "import os\n",
    "for dirname, _, filenames in os.walk('/kaggle/input'):\n",
    "    for filename in filenames:\n",
    "        print(os.path.join(dirname, filename))\n",
    "        \n",
    "import warnings\n",
    "warnings.filterwarnings(\"ignore\")\n",
    "\n",
    "# You can write up to 20GB to the current directory (/kaggle/working/) that gets preserved as output when you create a version using \"Save & Run All\" \n",
    "# You can also write temporary files to /kaggle/temp/, but they won't be saved outside of the current session"
   ]
  },
  {
   "cell_type": "code",
   "execution_count": 2,
   "id": "7c1d8239",
   "metadata": {
    "execution": {
     "iopub.execute_input": "2025-04-11T13:18:42.539889Z",
     "iopub.status.busy": "2025-04-11T13:18:42.539425Z",
     "iopub.status.idle": "2025-04-11T13:18:43.977187Z",
     "shell.execute_reply": "2025-04-11T13:18:43.976453Z"
    },
    "papermill": {
     "duration": 1.444156,
     "end_time": "2025-04-11T13:18:43.978769",
     "exception": false,
     "start_time": "2025-04-11T13:18:42.534613",
     "status": "completed"
    },
    "tags": []
   },
   "outputs": [],
   "source": [
    "train = pd.read_csv('/kaggle/input/playground-series-s5e4/train.csv')\n",
    "test = pd.read_csv('/kaggle/input/playground-series-s5e4/test.csv')\n",
    "all_data = pd.concat([train, test])"
   ]
  },
  {
   "cell_type": "code",
   "execution_count": 3,
   "id": "f83c45de",
   "metadata": {
    "execution": {
     "iopub.execute_input": "2025-04-11T13:18:43.988402Z",
     "iopub.status.busy": "2025-04-11T13:18:43.988053Z",
     "iopub.status.idle": "2025-04-11T13:18:45.090236Z",
     "shell.execute_reply": "2025-04-11T13:18:45.089299Z"
    },
    "papermill": {
     "duration": 1.108656,
     "end_time": "2025-04-11T13:18:45.091700",
     "exception": false,
     "start_time": "2025-04-11T13:18:43.983044",
     "status": "completed"
    },
    "tags": []
   },
   "outputs": [
    {
     "data": {
      "text/html": [
       "<div>\n",
       "<style scoped>\n",
       "    .dataframe tbody tr th:only-of-type {\n",
       "        vertical-align: middle;\n",
       "    }\n",
       "\n",
       "    .dataframe tbody tr th {\n",
       "        vertical-align: top;\n",
       "    }\n",
       "\n",
       "    .dataframe thead th {\n",
       "        text-align: right;\n",
       "    }\n",
       "</style>\n",
       "<table border=\"1\" class=\"dataframe\">\n",
       "  <thead>\n",
       "    <tr style=\"text-align: right;\">\n",
       "      <th></th>\n",
       "      <th>id</th>\n",
       "      <th>Podcast_Name</th>\n",
       "      <th>Episode_Title</th>\n",
       "      <th>Episode_Length_minutes</th>\n",
       "      <th>Genre</th>\n",
       "      <th>Host_Popularity_percentage</th>\n",
       "      <th>Publication_Day</th>\n",
       "      <th>Publication_Time</th>\n",
       "      <th>Guest_Popularity_percentage</th>\n",
       "      <th>Number_of_Ads</th>\n",
       "      <th>Episode_Sentiment</th>\n",
       "      <th>Listening_Time_minutes</th>\n",
       "    </tr>\n",
       "  </thead>\n",
       "  <tbody>\n",
       "    <tr>\n",
       "      <th>114876</th>\n",
       "      <td>114876</td>\n",
       "      <td>Athlete's Arena</td>\n",
       "      <td>Episode 14</td>\n",
       "      <td>90.89</td>\n",
       "      <td>Sports</td>\n",
       "      <td>84.73</td>\n",
       "      <td>Monday</td>\n",
       "      <td>Evening</td>\n",
       "      <td>60.79</td>\n",
       "      <td>0.0</td>\n",
       "      <td>Positive</td>\n",
       "      <td>77.36534</td>\n",
       "    </tr>\n",
       "    <tr>\n",
       "      <th>200624</th>\n",
       "      <td>200624</td>\n",
       "      <td>Fashion Forward</td>\n",
       "      <td>Episode 18</td>\n",
       "      <td>41.37</td>\n",
       "      <td>Lifestyle</td>\n",
       "      <td>77.13</td>\n",
       "      <td>Wednesday</td>\n",
       "      <td>Night</td>\n",
       "      <td>&lt;NA&gt;</td>\n",
       "      <td>2.0</td>\n",
       "      <td>Neutral</td>\n",
       "      <td>33.13709</td>\n",
       "    </tr>\n",
       "    <tr>\n",
       "      <th>280292</th>\n",
       "      <td>280292</td>\n",
       "      <td>Sports Central</td>\n",
       "      <td>Episode 20</td>\n",
       "      <td>44.18</td>\n",
       "      <td>Sports</td>\n",
       "      <td>68.64</td>\n",
       "      <td>Tuesday</td>\n",
       "      <td>Night</td>\n",
       "      <td>96.74</td>\n",
       "      <td>0.0</td>\n",
       "      <td>Positive</td>\n",
       "      <td>28.93326</td>\n",
       "    </tr>\n",
       "    <tr>\n",
       "      <th>85318</th>\n",
       "      <td>85318</td>\n",
       "      <td>Humor Hub</td>\n",
       "      <td>Episode 77</td>\n",
       "      <td>116.71</td>\n",
       "      <td>Comedy</td>\n",
       "      <td>51.69</td>\n",
       "      <td>Saturday</td>\n",
       "      <td>Night</td>\n",
       "      <td>31.32</td>\n",
       "      <td>0.0</td>\n",
       "      <td>Neutral</td>\n",
       "      <td>110.88000</td>\n",
       "    </tr>\n",
       "    <tr>\n",
       "      <th>660341</th>\n",
       "      <td>660341</td>\n",
       "      <td>News Roundup</td>\n",
       "      <td>Episode 47</td>\n",
       "      <td>34.41</td>\n",
       "      <td>News</td>\n",
       "      <td>68.73</td>\n",
       "      <td>Saturday</td>\n",
       "      <td>Morning</td>\n",
       "      <td>&lt;NA&gt;</td>\n",
       "      <td>1.0</td>\n",
       "      <td>Positive</td>\n",
       "      <td>27.35651</td>\n",
       "    </tr>\n",
       "    <tr>\n",
       "      <th>441613</th>\n",
       "      <td>441613</td>\n",
       "      <td>Learning Lab</td>\n",
       "      <td>Episode 15</td>\n",
       "      <td>63.41</td>\n",
       "      <td>Education</td>\n",
       "      <td>33.56</td>\n",
       "      <td>Sunday</td>\n",
       "      <td>Evening</td>\n",
       "      <td>30.52</td>\n",
       "      <td>2.0</td>\n",
       "      <td>Neutral</td>\n",
       "      <td>52.01943</td>\n",
       "    </tr>\n",
       "    <tr>\n",
       "      <th>724795</th>\n",
       "      <td>724795</td>\n",
       "      <td>Music Matters</td>\n",
       "      <td>Episode 14</td>\n",
       "      <td>&lt;NA&gt;</td>\n",
       "      <td>Music</td>\n",
       "      <td>58.39</td>\n",
       "      <td>Monday</td>\n",
       "      <td>Morning</td>\n",
       "      <td>52.66</td>\n",
       "      <td>2.0</td>\n",
       "      <td>Neutral</td>\n",
       "      <td>63.77349</td>\n",
       "    </tr>\n",
       "    <tr>\n",
       "      <th>680734</th>\n",
       "      <td>680734</td>\n",
       "      <td>Humor Hub</td>\n",
       "      <td>Episode 68</td>\n",
       "      <td>42.15</td>\n",
       "      <td>Comedy</td>\n",
       "      <td>74.68</td>\n",
       "      <td>Tuesday</td>\n",
       "      <td>Morning</td>\n",
       "      <td>82.75</td>\n",
       "      <td>0.0</td>\n",
       "      <td>Negative</td>\n",
       "      <td>22.92000</td>\n",
       "    </tr>\n",
       "    <tr>\n",
       "      <th>469605</th>\n",
       "      <td>469605</td>\n",
       "      <td>Tech Talks</td>\n",
       "      <td>Episode 1</td>\n",
       "      <td>38.59</td>\n",
       "      <td>Technology</td>\n",
       "      <td>99.51</td>\n",
       "      <td>Saturday</td>\n",
       "      <td>Evening</td>\n",
       "      <td>86.51</td>\n",
       "      <td>2.0</td>\n",
       "      <td>Neutral</td>\n",
       "      <td>28.30617</td>\n",
       "    </tr>\n",
       "    <tr>\n",
       "      <th>571075</th>\n",
       "      <td>571075</td>\n",
       "      <td>Athlete's Arena</td>\n",
       "      <td>Episode 53</td>\n",
       "      <td>81.8</td>\n",
       "      <td>Sports</td>\n",
       "      <td>69.43</td>\n",
       "      <td>Tuesday</td>\n",
       "      <td>Night</td>\n",
       "      <td>86.93</td>\n",
       "      <td>0.0</td>\n",
       "      <td>Neutral</td>\n",
       "      <td>58.61642</td>\n",
       "    </tr>\n",
       "  </tbody>\n",
       "</table>\n",
       "</div>"
      ],
      "text/plain": [
       "            id     Podcast_Name Episode_Title Episode_Length_minutes  \\\n",
       "114876  114876  Athlete's Arena    Episode 14                  90.89   \n",
       "200624  200624  Fashion Forward    Episode 18                  41.37   \n",
       "280292  280292   Sports Central    Episode 20                  44.18   \n",
       "85318    85318        Humor Hub    Episode 77                 116.71   \n",
       "660341  660341     News Roundup    Episode 47                  34.41   \n",
       "441613  441613     Learning Lab    Episode 15                  63.41   \n",
       "724795  724795    Music Matters    Episode 14                   <NA>   \n",
       "680734  680734        Humor Hub    Episode 68                  42.15   \n",
       "469605  469605       Tech Talks     Episode 1                  38.59   \n",
       "571075  571075  Athlete's Arena    Episode 53                   81.8   \n",
       "\n",
       "             Genre  Host_Popularity_percentage Publication_Day  \\\n",
       "114876      Sports                       84.73          Monday   \n",
       "200624   Lifestyle                       77.13       Wednesday   \n",
       "280292      Sports                       68.64         Tuesday   \n",
       "85318       Comedy                       51.69        Saturday   \n",
       "660341        News                       68.73        Saturday   \n",
       "441613   Education                       33.56          Sunday   \n",
       "724795       Music                       58.39          Monday   \n",
       "680734      Comedy                       74.68         Tuesday   \n",
       "469605  Technology                       99.51        Saturday   \n",
       "571075      Sports                       69.43         Tuesday   \n",
       "\n",
       "       Publication_Time Guest_Popularity_percentage  Number_of_Ads  \\\n",
       "114876          Evening                       60.79            0.0   \n",
       "200624            Night                        <NA>            2.0   \n",
       "280292            Night                       96.74            0.0   \n",
       "85318             Night                       31.32            0.0   \n",
       "660341          Morning                        <NA>            1.0   \n",
       "441613          Evening                       30.52            2.0   \n",
       "724795          Morning                       52.66            2.0   \n",
       "680734          Morning                       82.75            0.0   \n",
       "469605          Evening                       86.51            2.0   \n",
       "571075            Night                       86.93            0.0   \n",
       "\n",
       "       Episode_Sentiment  Listening_Time_minutes  \n",
       "114876          Positive                77.36534  \n",
       "200624           Neutral                33.13709  \n",
       "280292          Positive                28.93326  \n",
       "85318            Neutral               110.88000  \n",
       "660341          Positive                27.35651  \n",
       "441613           Neutral                52.01943  \n",
       "724795           Neutral                63.77349  \n",
       "680734          Negative                22.92000  \n",
       "469605           Neutral                28.30617  \n",
       "571075           Neutral                58.61642  "
      ]
     },
     "execution_count": 3,
     "metadata": {},
     "output_type": "execute_result"
    }
   ],
   "source": [
    "train.sample(10)"
   ]
  },
  {
   "cell_type": "code",
   "execution_count": 4,
   "id": "424cdf07",
   "metadata": {
    "execution": {
     "iopub.execute_input": "2025-04-11T13:18:45.102591Z",
     "iopub.status.busy": "2025-04-11T13:18:45.102315Z",
     "iopub.status.idle": "2025-04-11T13:18:45.762975Z",
     "shell.execute_reply": "2025-04-11T13:18:45.761997Z"
    },
    "papermill": {
     "duration": 0.667647,
     "end_time": "2025-04-11T13:18:45.764493",
     "exception": false,
     "start_time": "2025-04-11T13:18:45.096846",
     "status": "completed"
    },
    "tags": []
   },
   "outputs": [
    {
     "data": {
      "text/html": [
       "<div>\n",
       "<style scoped>\n",
       "    .dataframe tbody tr th:only-of-type {\n",
       "        vertical-align: middle;\n",
       "    }\n",
       "\n",
       "    .dataframe tbody tr th {\n",
       "        vertical-align: top;\n",
       "    }\n",
       "\n",
       "    .dataframe thead th {\n",
       "        text-align: right;\n",
       "    }\n",
       "</style>\n",
       "<table border=\"1\" class=\"dataframe\">\n",
       "  <thead>\n",
       "    <tr style=\"text-align: right;\">\n",
       "      <th></th>\n",
       "      <th>id</th>\n",
       "      <th>Episode_Length_minutes</th>\n",
       "      <th>Host_Popularity_percentage</th>\n",
       "      <th>Guest_Popularity_percentage</th>\n",
       "      <th>Number_of_Ads</th>\n",
       "      <th>Listening_Time_minutes</th>\n",
       "    </tr>\n",
       "  </thead>\n",
       "  <tbody>\n",
       "    <tr>\n",
       "      <th>count</th>\n",
       "      <td>750000.000000</td>\n",
       "      <td>662907.000000</td>\n",
       "      <td>750000.000000</td>\n",
       "      <td>603970.000000</td>\n",
       "      <td>749999.000000</td>\n",
       "      <td>750000.000000</td>\n",
       "    </tr>\n",
       "    <tr>\n",
       "      <th>mean</th>\n",
       "      <td>374999.500000</td>\n",
       "      <td>64.504738</td>\n",
       "      <td>59.859901</td>\n",
       "      <td>52.236449</td>\n",
       "      <td>1.348855</td>\n",
       "      <td>45.437406</td>\n",
       "    </tr>\n",
       "    <tr>\n",
       "      <th>std</th>\n",
       "      <td>216506.495284</td>\n",
       "      <td>32.969603</td>\n",
       "      <td>22.873098</td>\n",
       "      <td>28.451241</td>\n",
       "      <td>1.151130</td>\n",
       "      <td>27.138306</td>\n",
       "    </tr>\n",
       "    <tr>\n",
       "      <th>min</th>\n",
       "      <td>0.000000</td>\n",
       "      <td>0.000000</td>\n",
       "      <td>1.300000</td>\n",
       "      <td>0.000000</td>\n",
       "      <td>0.000000</td>\n",
       "      <td>0.000000</td>\n",
       "    </tr>\n",
       "    <tr>\n",
       "      <th>25%</th>\n",
       "      <td>187499.750000</td>\n",
       "      <td>35.730000</td>\n",
       "      <td>39.410000</td>\n",
       "      <td>28.380000</td>\n",
       "      <td>0.000000</td>\n",
       "      <td>23.178350</td>\n",
       "    </tr>\n",
       "    <tr>\n",
       "      <th>50%</th>\n",
       "      <td>374999.500000</td>\n",
       "      <td>63.840000</td>\n",
       "      <td>60.050000</td>\n",
       "      <td>53.580000</td>\n",
       "      <td>1.000000</td>\n",
       "      <td>43.379460</td>\n",
       "    </tr>\n",
       "    <tr>\n",
       "      <th>75%</th>\n",
       "      <td>562499.250000</td>\n",
       "      <td>94.070000</td>\n",
       "      <td>79.530000</td>\n",
       "      <td>76.600000</td>\n",
       "      <td>2.000000</td>\n",
       "      <td>64.811580</td>\n",
       "    </tr>\n",
       "    <tr>\n",
       "      <th>max</th>\n",
       "      <td>749999.000000</td>\n",
       "      <td>325.240000</td>\n",
       "      <td>119.460000</td>\n",
       "      <td>119.910000</td>\n",
       "      <td>103.910000</td>\n",
       "      <td>119.970000</td>\n",
       "    </tr>\n",
       "  </tbody>\n",
       "</table>\n",
       "</div>"
      ],
      "text/plain": [
       "                  id  Episode_Length_minutes  Host_Popularity_percentage  \\\n",
       "count  750000.000000           662907.000000               750000.000000   \n",
       "mean   374999.500000               64.504738                   59.859901   \n",
       "std    216506.495284               32.969603                   22.873098   \n",
       "min         0.000000                0.000000                    1.300000   \n",
       "25%    187499.750000               35.730000                   39.410000   \n",
       "50%    374999.500000               63.840000                   60.050000   \n",
       "75%    562499.250000               94.070000                   79.530000   \n",
       "max    749999.000000              325.240000                  119.460000   \n",
       "\n",
       "       Guest_Popularity_percentage  Number_of_Ads  Listening_Time_minutes  \n",
       "count                603970.000000  749999.000000           750000.000000  \n",
       "mean                     52.236449       1.348855               45.437406  \n",
       "std                      28.451241       1.151130               27.138306  \n",
       "min                       0.000000       0.000000                0.000000  \n",
       "25%                      28.380000       0.000000               23.178350  \n",
       "50%                      53.580000       1.000000               43.379460  \n",
       "75%                      76.600000       2.000000               64.811580  \n",
       "max                     119.910000     103.910000              119.970000  "
      ]
     },
     "execution_count": 4,
     "metadata": {},
     "output_type": "execute_result"
    }
   ],
   "source": [
    "train.describe()"
   ]
  },
  {
   "cell_type": "code",
   "execution_count": 5,
   "id": "be8d2f8b",
   "metadata": {
    "execution": {
     "iopub.execute_input": "2025-04-11T13:18:45.775411Z",
     "iopub.status.busy": "2025-04-11T13:18:45.775123Z",
     "iopub.status.idle": "2025-04-11T13:18:45.780408Z",
     "shell.execute_reply": "2025-04-11T13:18:45.779538Z"
    },
    "papermill": {
     "duration": 0.012224,
     "end_time": "2025-04-11T13:18:45.781771",
     "exception": false,
     "start_time": "2025-04-11T13:18:45.769547",
     "status": "completed"
    },
    "tags": []
   },
   "outputs": [
    {
     "data": {
      "text/plain": [
       "(750000, 12)"
      ]
     },
     "execution_count": 5,
     "metadata": {},
     "output_type": "execute_result"
    }
   ],
   "source": [
    "train.shape"
   ]
  },
  {
   "cell_type": "code",
   "execution_count": 6,
   "id": "64f37882",
   "metadata": {
    "execution": {
     "iopub.execute_input": "2025-04-11T13:18:45.792239Z",
     "iopub.status.busy": "2025-04-11T13:18:45.791985Z",
     "iopub.status.idle": "2025-04-11T13:18:45.796775Z",
     "shell.execute_reply": "2025-04-11T13:18:45.795863Z"
    },
    "papermill": {
     "duration": 0.011409,
     "end_time": "2025-04-11T13:18:45.798011",
     "exception": false,
     "start_time": "2025-04-11T13:18:45.786602",
     "status": "completed"
    },
    "tags": []
   },
   "outputs": [
    {
     "data": {
      "text/plain": [
       "(250000, 11)"
      ]
     },
     "execution_count": 6,
     "metadata": {},
     "output_type": "execute_result"
    }
   ],
   "source": [
    "test.shape"
   ]
  },
  {
   "cell_type": "code",
   "execution_count": 7,
   "id": "dbc0bca0",
   "metadata": {
    "execution": {
     "iopub.execute_input": "2025-04-11T13:18:45.808486Z",
     "iopub.status.busy": "2025-04-11T13:18:45.808235Z",
     "iopub.status.idle": "2025-04-11T13:18:45.829164Z",
     "shell.execute_reply": "2025-04-11T13:18:45.828173Z"
    },
    "papermill": {
     "duration": 0.027625,
     "end_time": "2025-04-11T13:18:45.830554",
     "exception": false,
     "start_time": "2025-04-11T13:18:45.802929",
     "status": "completed"
    },
    "tags": []
   },
   "outputs": [
    {
     "name": "stdout",
     "output_type": "stream",
     "text": [
      "<class 'cudf.core.dataframe.DataFrame'>\n",
      "RangeIndex: 750000 entries, 0 to 749999\n",
      "Data columns (total 12 columns):\n",
      " #   Column                       Non-Null Count   Dtype\n",
      "---  ------                       --------------   -----\n",
      " 0   id                           750000 non-null  int64\n",
      " 1   Podcast_Name                 750000 non-null  object\n",
      " 2   Episode_Title                750000 non-null  object\n",
      " 3   Episode_Length_minutes       662907 non-null  float64\n",
      " 4   Genre                        750000 non-null  object\n",
      " 5   Host_Popularity_percentage   750000 non-null  float64\n",
      " 6   Publication_Day              750000 non-null  object\n",
      " 7   Publication_Time             750000 non-null  object\n",
      " 8   Guest_Popularity_percentage  603970 non-null  float64\n",
      " 9   Number_of_Ads                749999 non-null  float64\n",
      " 10  Episode_Sentiment            750000 non-null  object\n",
      " 11  Listening_Time_minutes       750000 non-null  float64\n",
      "dtypes: float64(5), int64(1), object(6)\n",
      "memory usage: 88.8+ MB\n"
     ]
    }
   ],
   "source": [
    "train.info()"
   ]
  },
  {
   "cell_type": "code",
   "execution_count": 8,
   "id": "71683b1a",
   "metadata": {
    "execution": {
     "iopub.execute_input": "2025-04-11T13:18:45.841197Z",
     "iopub.status.busy": "2025-04-11T13:18:45.840975Z",
     "iopub.status.idle": "2025-04-11T13:18:45.944262Z",
     "shell.execute_reply": "2025-04-11T13:18:45.943403Z"
    },
    "papermill": {
     "duration": 0.110312,
     "end_time": "2025-04-11T13:18:45.945811",
     "exception": false,
     "start_time": "2025-04-11T13:18:45.835499",
     "status": "completed"
    },
    "tags": []
   },
   "outputs": [
    {
     "data": {
      "text/plain": [
       "id                                  0\n",
       "Podcast_Name                        0\n",
       "Episode_Title                       0\n",
       "Episode_Length_minutes          87093\n",
       "Genre                               0\n",
       "Host_Popularity_percentage          0\n",
       "Publication_Day                     0\n",
       "Publication_Time                    0\n",
       "Guest_Popularity_percentage    146030\n",
       "Number_of_Ads                       1\n",
       "Episode_Sentiment                   0\n",
       "Listening_Time_minutes              0\n",
       "dtype: int64"
      ]
     },
     "execution_count": 8,
     "metadata": {},
     "output_type": "execute_result"
    }
   ],
   "source": [
    "train.isnull().sum()"
   ]
  },
  {
   "cell_type": "code",
   "execution_count": 9,
   "id": "11a4c876",
   "metadata": {
    "execution": {
     "iopub.execute_input": "2025-04-11T13:18:45.957406Z",
     "iopub.status.busy": "2025-04-11T13:18:45.957139Z",
     "iopub.status.idle": "2025-04-11T13:18:46.042907Z",
     "shell.execute_reply": "2025-04-11T13:18:46.042016Z"
    },
    "papermill": {
     "duration": 0.092822,
     "end_time": "2025-04-11T13:18:46.044251",
     "exception": false,
     "start_time": "2025-04-11T13:18:45.951429",
     "status": "completed"
    },
    "tags": []
   },
   "outputs": [
    {
     "data": {
      "text/plain": [
       "id                                 0\n",
       "Podcast_Name                       0\n",
       "Episode_Title                      0\n",
       "Episode_Length_minutes         28736\n",
       "Genre                              0\n",
       "Host_Popularity_percentage         0\n",
       "Publication_Day                    0\n",
       "Publication_Time                   0\n",
       "Guest_Popularity_percentage    48832\n",
       "Number_of_Ads                      0\n",
       "Episode_Sentiment                  0\n",
       "dtype: int64"
      ]
     },
     "execution_count": 9,
     "metadata": {},
     "output_type": "execute_result"
    }
   ],
   "source": [
    "test.isnull().sum()"
   ]
  },
  {
   "cell_type": "markdown",
   "id": "a20b9daf",
   "metadata": {
    "papermill": {
     "duration": 0.004883,
     "end_time": "2025-04-11T13:18:46.054560",
     "exception": false,
     "start_time": "2025-04-11T13:18:46.049677",
     "status": "completed"
    },
    "tags": []
   },
   "source": [
    "## Data Preprocessing"
   ]
  },
  {
   "cell_type": "code",
   "execution_count": 10,
   "id": "5c3b86cb",
   "metadata": {
    "execution": {
     "iopub.execute_input": "2025-04-11T13:18:46.066076Z",
     "iopub.status.busy": "2025-04-11T13:18:46.065777Z",
     "iopub.status.idle": "2025-04-11T13:18:50.655223Z",
     "shell.execute_reply": "2025-04-11T13:18:50.654205Z"
    },
    "papermill": {
     "duration": 4.597316,
     "end_time": "2025-04-11T13:18:50.656991",
     "exception": false,
     "start_time": "2025-04-11T13:18:46.059675",
     "status": "completed"
    },
    "tags": []
   },
   "outputs": [],
   "source": [
    "from sklearn.impute import SimpleImputer\n",
    "\n",
    "impute = SimpleImputer(strategy='median')\n",
    "num_cols = test.select_dtypes(include=['float64']).columns\n",
    "train[num_cols] = impute.fit_transform(train[num_cols])\n",
    "test[num_cols] = impute.fit_transform(test[num_cols])"
   ]
  },
  {
   "cell_type": "markdown",
   "id": "bf01c277",
   "metadata": {
    "papermill": {
     "duration": 0.005035,
     "end_time": "2025-04-11T13:18:50.667579",
     "exception": false,
     "start_time": "2025-04-11T13:18:50.662544",
     "status": "completed"
    },
    "tags": []
   },
   "source": [
    "## Feature engineering"
   ]
  },
  {
   "cell_type": "code",
   "execution_count": 11,
   "id": "d53f2cb6",
   "metadata": {
    "execution": {
     "iopub.execute_input": "2025-04-11T13:18:50.678971Z",
     "iopub.status.busy": "2025-04-11T13:18:50.678449Z",
     "iopub.status.idle": "2025-04-11T13:18:51.276058Z",
     "shell.execute_reply": "2025-04-11T13:18:51.275024Z"
    },
    "papermill": {
     "duration": 0.605323,
     "end_time": "2025-04-11T13:18:51.277884",
     "exception": false,
     "start_time": "2025-04-11T13:18:50.672561",
     "status": "completed"
    },
    "tags": []
   },
   "outputs": [],
   "source": [
    "from category_encoders import CountEncoder\n",
    "\n",
    "def add_features(df):\n",
    "    df['Guest_Popularity_percentage'] =  df['Guest_Popularity_percentage'].clip(upper=100)\n",
    "    df['Host_Popularity_percentage'] =  df['Host_Popularity_percentage'].clip(upper=100)\n",
    "    df['Number_of_Ads'] = df['Number_of_Ads'].astype(int)\n",
    "    df['title_number'] = df['Episode_Title'].str.split().str[1].astype(int)\n",
    "    \n",
    "    df['IsWeekend'] = df['Publication_Day'].isin(['Saturday', 'Sunday']).astype(int)\n",
    "    \n",
    "    sentiments = {'Positive': 1, 'Neutral': 0, 'Negative': -1}\n",
    "    df['Episode_Sentiment'] = df['Episode_Sentiment'].map(sentiments)\n",
    "    \n",
    "    df['Guest_Popularity_lengthmin'] =  df['Guest_Popularity_percentage'] * df['Episode_Length_minutes']\n",
    "    df['Title_Length'] =  df['title_number'] * df['Episode_Length_minutes']\n",
    "    df['Host_Popularity_lengthmin'] =  df['Host_Popularity_percentage'] * df['Episode_Length_minutes']\n",
    "    df['Average_popularity'] = (df['Host_Popularity_percentage'] + df['Guest_Popularity_percentage']) / 2\n",
    "    df['minutes_per_ads'] = df['Episode_Length_minutes'] / (df['Number_of_Ads'] + 1) \n",
    "            \n",
    "    cat_cols = ['Podcast_Name','Genre', 'Publication_Day', 'Publication_Time']\n",
    "    for colname in cat_cols:\n",
    "        df[colname] = df[colname].astype('category')\n",
    "\n",
    "    ce = CountEncoder()\n",
    "    for colname in cat_cols:\n",
    "        df[colname] = ce.fit_transform(df[colname])\n",
    "    \n",
    "    return df "
   ]
  },
  {
   "cell_type": "markdown",
   "id": "cdb80cfd",
   "metadata": {
    "papermill": {
     "duration": 0.005158,
     "end_time": "2025-04-11T13:18:51.288760",
     "exception": false,
     "start_time": "2025-04-11T13:18:51.283602",
     "status": "completed"
    },
    "tags": []
   },
   "source": [
    "## Identifying outlier and clipping them"
   ]
  },
  {
   "cell_type": "code",
   "execution_count": 12,
   "id": "ac085daf",
   "metadata": {
    "execution": {
     "iopub.execute_input": "2025-04-11T13:18:51.300521Z",
     "iopub.status.busy": "2025-04-11T13:18:51.300029Z",
     "iopub.status.idle": "2025-04-11T13:18:51.463563Z",
     "shell.execute_reply": "2025-04-11T13:18:51.462823Z"
    },
    "papermill": {
     "duration": 0.171226,
     "end_time": "2025-04-11T13:18:51.465318",
     "exception": false,
     "start_time": "2025-04-11T13:18:51.294092",
     "status": "completed"
    },
    "tags": []
   },
   "outputs": [],
   "source": [
    "for colname in test.select_dtypes(exclude='object').columns:\n",
    "    Q1 = all_data[colname].quantile(0.25)\n",
    "    Q3 = all_data[colname].quantile(0.75)\n",
    "    IQR = Q3 - Q1\n",
    "    lower_bound = Q1 - 1.5 * IQR\n",
    "    upper_bound = Q3 + 1.5 * IQR\n",
    "    \n",
    "    outliers = (all_data[colname] < lower_bound) | (all_data[colname] > upper_bound)\n",
    "    \n",
    "    train[colname] = train[colname].clip(lower=lower_bound, upper=upper_bound)\n",
    "    test[colname] = test[colname].clip(lower=lower_bound, upper=upper_bound)"
   ]
  },
  {
   "cell_type": "markdown",
   "id": "732eb1d0",
   "metadata": {
    "papermill": {
     "duration": 0.005206,
     "end_time": "2025-04-11T13:18:51.476184",
     "exception": false,
     "start_time": "2025-04-11T13:18:51.470978",
     "status": "completed"
    },
    "tags": []
   },
   "source": [
    "## Splitting the train data by KFold"
   ]
  },
  {
   "cell_type": "code",
   "execution_count": 13,
   "id": "346bfb99",
   "metadata": {
    "execution": {
     "iopub.execute_input": "2025-04-11T13:18:51.488120Z",
     "iopub.status.busy": "2025-04-11T13:18:51.487818Z",
     "iopub.status.idle": "2025-04-11T13:19:24.798979Z",
     "shell.execute_reply": "2025-04-11T13:19:24.798173Z"
    },
    "papermill": {
     "duration": 33.319389,
     "end_time": "2025-04-11T13:19:24.800928",
     "exception": false,
     "start_time": "2025-04-11T13:18:51.481539",
     "status": "completed"
    },
    "tags": []
   },
   "outputs": [],
   "source": [
    "from sklearn.model_selection import KFold\n",
    "\n",
    "X = train.copy()\n",
    "y = X.pop('Listening_Time_minutes')\n",
    "X = add_features(X)\n",
    "X.drop('Episode_Title', axis=1, inplace=True)\n",
    "\n",
    "X_test = test.copy()\n",
    "X_test = add_features(X_test)\n",
    "X_test.drop('Episode_Title', axis=1, inplace=True)\n",
    "\n",
    "kf = KFold(n_splits=10, shuffle=True, random_state=600)\n",
    "\n",
    "for train_index, valid_index in kf.split(X, y):\n",
    "    X_train, X_valid = X.iloc[train_index], X.iloc[valid_index]\n",
    "    y_train, y_valid = y.iloc[train_index], y.iloc[valid_index]  "
   ]
  },
  {
   "cell_type": "markdown",
   "id": "46db4076",
   "metadata": {
    "papermill": {
     "duration": 0.005572,
     "end_time": "2025-04-11T13:19:24.812764",
     "exception": false,
     "start_time": "2025-04-11T13:19:24.807192",
     "status": "completed"
    },
    "tags": []
   },
   "source": [
    "## Target encoding"
   ]
  },
  {
   "cell_type": "code",
   "execution_count": 14,
   "id": "092b1c06",
   "metadata": {
    "execution": {
     "iopub.execute_input": "2025-04-11T13:19:24.825285Z",
     "iopub.status.busy": "2025-04-11T13:19:24.824954Z",
     "iopub.status.idle": "2025-04-11T13:19:25.730674Z",
     "shell.execute_reply": "2025-04-11T13:19:25.729851Z"
    },
    "papermill": {
     "duration": 0.914057,
     "end_time": "2025-04-11T13:19:25.732346",
     "exception": false,
     "start_time": "2025-04-11T13:19:24.818289",
     "status": "completed"
    },
    "tags": []
   },
   "outputs": [],
   "source": [
    "stats = ['mean', 'median', 'std', 'skew']\n",
    "\n",
    "train_with_target = X_train.copy()\n",
    "train_with_target['Listening_Time_minutes'] = y_train\n",
    "\n",
    "grouped_stats = train_with_target.groupby(['Episode_Length_minutes'])['Listening_Time_minutes'].agg(stats).fillna(0.0)\n",
    "grouped_stats.columns = [f'TE1_WC_{stat}' for stat in stats]\n",
    "\n",
    "grouped_stats_full = train.groupby(['Episode_Length_minutes'])['Listening_Time_minutes'].agg(stats).fillna(0.0)\n",
    "grouped_stats_full.columns = [f'TE1_WC_{stat}' for stat in stats]\n",
    "\n",
    "X_train = X_train.merge(grouped_stats, on='Episode_Length_minutes', how='left')\n",
    "X_valid = X_valid.merge(grouped_stats, on='Episode_Length_minutes', how='left')\n",
    "X_test = X_test.merge(grouped_stats_full, on='Episode_Length_minutes', how='left')"
   ]
  },
  {
   "cell_type": "code",
   "execution_count": 15,
   "id": "d8d0c787",
   "metadata": {
    "execution": {
     "iopub.execute_input": "2025-04-11T13:19:25.744539Z",
     "iopub.status.busy": "2025-04-11T13:19:25.744234Z",
     "iopub.status.idle": "2025-04-11T13:19:32.176401Z",
     "shell.execute_reply": "2025-04-11T13:19:32.175241Z"
    },
    "papermill": {
     "duration": 6.440001,
     "end_time": "2025-04-11T13:19:32.178115",
     "exception": false,
     "start_time": "2025-04-11T13:19:25.738114",
     "status": "completed"
    },
    "tags": []
   },
   "outputs": [
    {
     "name": "stdout",
     "output_type": "stream",
     "text": [
      "RMSE: 13.04670343161135\n"
     ]
    }
   ],
   "source": [
    "from xgboost import XGBRegressor\n",
    "from sklearn.metrics import mean_squared_error\n",
    "\n",
    "xgb = XGBRegressor(\n",
    "    n_estimators=386, \n",
    "    learning_rate=0.05,\n",
    "    verbose=0, \n",
    "    eval_metric='rmse',\n",
    "    device='cuda'\n",
    ").fit(X_train, y_train)\n",
    "\n",
    "pred_xgb = xgb.predict(X_valid)\n",
    "print(f'RMSE: {np.sqrt(mean_squared_error(y_valid, pred_xgb))}')\n"
   ]
  },
  {
   "cell_type": "code",
   "execution_count": 16,
   "id": "f7d91264",
   "metadata": {
    "execution": {
     "iopub.execute_input": "2025-04-11T13:19:32.190602Z",
     "iopub.status.busy": "2025-04-11T13:19:32.190280Z",
     "iopub.status.idle": "2025-04-11T13:19:32.403178Z",
     "shell.execute_reply": "2025-04-11T13:19:32.402050Z"
    },
    "papermill": {
     "duration": 0.22049,
     "end_time": "2025-04-11T13:19:32.404838",
     "exception": false,
     "start_time": "2025-04-11T13:19:32.184348",
     "status": "completed"
    },
    "tags": []
   },
   "outputs": [
    {
     "name": "stdout",
     "output_type": "stream",
     "text": [
      "Index(['Genre', 'Host_Popularity_percentage', 'Publication_Day',\n",
      "       'Guest_Popularity_percentage', 'Number_of_Ads', 'Episode_Sentiment',\n",
      "       'title_number', 'IsWeekend', 'Guest_Popularity_lengthmin',\n",
      "       'Host_Popularity_lengthmin', 'minutes_per_ads', 'TE1_WC_mean',\n",
      "       'TE1_WC_median', 'TE1_WC_std'],\n",
      "      dtype='object')\n"
     ]
    }
   ],
   "source": [
    "importances = xgb.feature_importances_\n",
    "columns = X_train.columns\n",
    "\n",
    "threshold = np.quantile(importances, 0.3)\n",
    "selected_features = columns[importances > threshold]\n",
    "top_X_train = X_train[selected_features]\n",
    "\n",
    "print(selected_features)"
   ]
  },
  {
   "cell_type": "code",
   "execution_count": 17,
   "id": "06ac5e02",
   "metadata": {
    "execution": {
     "iopub.execute_input": "2025-04-11T13:19:32.416906Z",
     "iopub.status.busy": "2025-04-11T13:19:32.416605Z",
     "iopub.status.idle": "2025-04-11T13:19:32.807619Z",
     "shell.execute_reply": "2025-04-11T13:19:32.806899Z"
    },
    "papermill": {
     "duration": 0.398775,
     "end_time": "2025-04-11T13:19:32.809285",
     "exception": false,
     "start_time": "2025-04-11T13:19:32.410510",
     "status": "completed"
    },
    "tags": []
   },
   "outputs": [],
   "source": [
    "top_X_train = X_train[selected_features]\n",
    "top_X_valid = X_valid[selected_features]\n",
    "top_X_test = X_test[selected_features]"
   ]
  },
  {
   "cell_type": "markdown",
   "id": "a8277522",
   "metadata": {
    "papermill": {
     "duration": 0.005051,
     "end_time": "2025-04-11T13:19:32.819920",
     "exception": false,
     "start_time": "2025-04-11T13:19:32.814869",
     "status": "completed"
    },
    "tags": []
   },
   "source": [
    "## Hyperparameter Tuning using Optuna"
   ]
  },
  {
   "cell_type": "code",
   "execution_count": 18,
   "id": "ed0c2543",
   "metadata": {
    "execution": {
     "iopub.execute_input": "2025-04-11T13:19:32.832324Z",
     "iopub.status.busy": "2025-04-11T13:19:32.832037Z",
     "iopub.status.idle": "2025-04-11T13:31:15.639299Z",
     "shell.execute_reply": "2025-04-11T13:31:15.638228Z"
    },
    "papermill": {
     "duration": 702.82139,
     "end_time": "2025-04-11T13:31:15.646997",
     "exception": false,
     "start_time": "2025-04-11T13:19:32.825607",
     "status": "completed"
    },
    "tags": []
   },
   "outputs": [
    {
     "name": "stderr",
     "output_type": "stream",
     "text": [
      "[I 2025-04-11 13:19:32,835] A new study created in memory with name: XGB-RMSE-Optimization\n",
      "[I 2025-04-11 13:19:57,037] Trial 0 finished with value: 23.279820088544984 and parameters: {'learning_rate': 0.0033274339437791016, 'max_depth': 1, 'reg_lambda': 2.9740231047549077, 'reg_alpha': 8.415192145926992, 'subsample': 0.985802003606952}. Best is trial 0 with value: 23.279820088544984.\n",
      "[I 2025-04-11 13:20:35,732] Trial 1 finished with value: 24.8618102216476 and parameters: {'learning_rate': 0.001182052852521601, 'max_depth': 9, 'reg_lambda': 2.9721100152529307, 'reg_alpha': 7.703325778225823, 'subsample': 0.7575835608118217}. Best is trial 0 with value: 23.279820088544984.\n",
      "[I 2025-04-11 13:20:59,778] Trial 2 finished with value: 24.69317916204563 and parameters: {'learning_rate': 0.001960307836256081, 'max_depth': 1, 'reg_lambda': 4.6976297887977605, 'reg_alpha': 9.369678037503688, 'subsample': 0.6044253583340908}. Best is trial 0 with value: 23.279820088544984.\n",
      "[I 2025-04-11 13:21:24,498] Trial 3 finished with value: 24.849221595296797 and parameters: {'learning_rate': 0.0013103641250762788, 'max_depth': 2, 'reg_lambda': 9.2302640977381, 'reg_alpha': 5.6705746114954705, 'subsample': 0.7127910114163528}. Best is trial 0 with value: 23.279820088544984.\n",
      "[I 2025-04-11 13:21:58,061] Trial 4 finished with value: 13.219013515711747 and parameters: {'learning_rate': 0.026807950853402047, 'max_depth': 8, 'reg_lambda': 0.749985539515675, 'reg_alpha': 7.287064730726188, 'subsample': 0.5193291726075702}. Best is trial 4 with value: 13.219013515711747.\n",
      "[I 2025-04-11 13:22:34,439] Trial 5 finished with value: 12.993669763380762 and parameters: {'learning_rate': 0.09228425544740107, 'max_depth': 9, 'reg_lambda': 9.019249485778518, 'reg_alpha': 2.2887338982690975, 'subsample': 0.4160135678995436}. Best is trial 5 with value: 12.993669763380762.\n",
      "[I 2025-04-11 13:23:05,102] Trial 6 finished with value: 18.461720201653403 and parameters: {'learning_rate': 0.00607661315872849, 'max_depth': 7, 'reg_lambda': 2.611347986296434, 'reg_alpha': 4.782602911050602, 'subsample': 0.9775530531015035}. Best is trial 5 with value: 12.993669763380762.\n",
      "[I 2025-04-11 13:24:49,981] Trial 7 finished with value: 23.04979418165015 and parameters: {'learning_rate': 0.002266827717732305, 'max_depth': 13, 'reg_lambda': 1.6778411851670316, 'reg_alpha': 2.4268401383123392, 'subsample': 0.619489625150373}. Best is trial 5 with value: 12.993669763380762.\n",
      "[I 2025-04-11 13:25:43,983] Trial 8 finished with value: 12.924962343005868 and parameters: {'learning_rate': 0.07739049580007798, 'max_depth': 11, 'reg_lambda': 0.5545268366542778, 'reg_alpha': 4.155609296642793, 'subsample': 0.6207200510839943}. Best is trial 8 with value: 12.924962343005868.\n",
      "[I 2025-04-11 13:26:15,793] Trial 9 finished with value: 23.681024194417436 and parameters: {'learning_rate': 0.0018726219866948375, 'max_depth': 8, 'reg_lambda': 0.8415424670411342, 'reg_alpha': 8.943005725462466, 'subsample': 0.4847865830945923}. Best is trial 8 with value: 12.924962343005868.\n",
      "[I 2025-04-11 13:27:50,979] Trial 10 finished with value: 12.87776960138502 and parameters: {'learning_rate': 0.08987564991593647, 'max_depth': 13, 'reg_lambda': 6.773936398787561, 'reg_alpha': 0.55614379118368, 'subsample': 0.7932199697397905}. Best is trial 10 with value: 12.87776960138502.\n",
      "[I 2025-04-11 13:29:24,998] Trial 11 finished with value: 12.875688730095785 and parameters: {'learning_rate': 0.09665648553223233, 'max_depth': 13, 'reg_lambda': 6.691536561536285, 'reg_alpha': 0.2094626887125326, 'subsample': 0.8330993677042788}. Best is trial 11 with value: 12.875688730095785.\n",
      "[I 2025-04-11 13:31:15,633] Trial 12 finished with value: 13.022796268196686 and parameters: {'learning_rate': 0.031238282786526097, 'max_depth': 13, 'reg_lambda': 6.955300860602873, 'reg_alpha': 0.1498171086767574, 'subsample': 0.8508601548908096}. Best is trial 11 with value: 12.875688730095785.\n"
     ]
    },
    {
     "name": "stdout",
     "output_type": "stream",
     "text": [
      "Best cross-validation RMSE: 12.8757\n",
      "Best parameters: {'learning_rate': 0.09665648553223233, 'max_depth': 13, 'reg_lambda': 6.691536561536285, 'reg_alpha': 0.2094626887125326, 'subsample': 0.8330993677042788}\n"
     ]
    }
   ],
   "source": [
    "import optuna\n",
    "from sklearn.model_selection import cross_val_score\n",
    "\n",
    "def objective(trial):\n",
    "    learning_rate = trial.suggest_float('learning_rate', 0.001, 0.1, log=True)\n",
    "    max_depth = trial.suggest_int('max_depth', 1, 13)\n",
    "    reg_lambda = trial.suggest_float('reg_lambda', 0.1, 10)\n",
    "    reg_alpha = trial.suggest_float('reg_alpha', 0.1, 10)\n",
    "    sub_sample = trial.suggest_float('subsample', 0.4, 1)\n",
    "    \n",
    "    model = XGBRegressor(\n",
    "        learning_rate=learning_rate,\n",
    "        max_depth=max_depth,\n",
    "        reg_lambda=reg_lambda,\n",
    "        reg_alpha=reg_alpha,\n",
    "        sub_sample= sub_sample,\n",
    "        random_state=600, \n",
    "        eval_metric='rmse',\n",
    "        device='cuda',\n",
    "        tree_method='gpu_hist',    \n",
    "    )\n",
    "    \n",
    "    score = -1 * cross_val_score(model, X, y, cv=kf, scoring='neg_root_mean_squared_error').mean()\n",
    "    return score\n",
    "\n",
    "study = optuna.create_study(direction='minimize', study_name='XGB-RMSE-Optimization')\n",
    "study.optimize(objective, n_trials=13)\n",
    "\n",
    "print(f'Best cross-validation RMSE: {study.best_value:,.4f}')\n",
    "print(f'Best parameters: {study.best_params}')"
   ]
  },
  {
   "cell_type": "code",
   "execution_count": 19,
   "id": "5d003225",
   "metadata": {
    "execution": {
     "iopub.execute_input": "2025-04-11T13:31:15.660827Z",
     "iopub.status.busy": "2025-04-11T13:31:15.660448Z",
     "iopub.status.idle": "2025-04-11T13:31:44.141023Z",
     "shell.execute_reply": "2025-04-11T13:31:44.140220Z"
    },
    "papermill": {
     "duration": 28.489376,
     "end_time": "2025-04-11T13:31:44.142697",
     "exception": false,
     "start_time": "2025-04-11T13:31:15.653321",
     "status": "completed"
    },
    "tags": []
   },
   "outputs": [],
   "source": [
    "best_model = XGBRegressor(\n",
    "    **study.best_params,\n",
    "    n_estimators=2000,\n",
    "    early_stopping_rounds=20,\n",
    "    eval_metric='rmse'\n",
    ").fit(top_X_train, y_train, eval_set=[(top_X_valid, y_valid)], verbose=0)"
   ]
  },
  {
   "cell_type": "code",
   "execution_count": 20,
   "id": "c2dc513f",
   "metadata": {
    "execution": {
     "iopub.execute_input": "2025-04-11T13:31:44.156620Z",
     "iopub.status.busy": "2025-04-11T13:31:44.156325Z",
     "iopub.status.idle": "2025-04-11T13:31:46.117291Z",
     "shell.execute_reply": "2025-04-11T13:31:46.116347Z"
    },
    "papermill": {
     "duration": 1.969678,
     "end_time": "2025-04-11T13:31:46.118898",
     "exception": false,
     "start_time": "2025-04-11T13:31:44.149220",
     "status": "completed"
    },
    "tags": []
   },
   "outputs": [
    {
     "name": "stdout",
     "output_type": "stream",
     "text": [
      "Your submission was successfully saved!\n"
     ]
    }
   ],
   "source": [
    "test_preds = best_model.predict(top_X_test)\n",
    "output = pd.DataFrame({\n",
    "    'id': test['id'],\n",
    "    'Listening_Time_minutes': test_preds\n",
    "})\n",
    "output.to_csv('submission.csv', index=False)\n",
    "print(\"Your submission was successfully saved!\")"
   ]
  }
 ],
 "metadata": {
  "kaggle": {
   "accelerator": "nvidiaTeslaT4",
   "dataSources": [
    {
     "databundleVersionId": 11351736,
     "sourceId": 91715,
     "sourceType": "competition"
    }
   ],
   "dockerImageVersionId": 30918,
   "isGpuEnabled": true,
   "isInternetEnabled": true,
   "language": "python",
   "sourceType": "notebook"
  },
  "kernelspec": {
   "display_name": "Python 3",
   "language": "python",
   "name": "python3"
  },
  "language_info": {
   "codemirror_mode": {
    "name": "ipython",
    "version": 3
   },
   "file_extension": ".py",
   "mimetype": "text/x-python",
   "name": "python",
   "nbconvert_exporter": "python",
   "pygments_lexer": "ipython3",
   "version": "3.10.12"
  },
  "papermill": {
   "default_parameters": {},
   "duration": 796.279777,
   "end_time": "2025-04-11T13:31:48.049540",
   "environment_variables": {},
   "exception": null,
   "input_path": "__notebook__.ipynb",
   "output_path": "__notebook__.ipynb",
   "parameters": {},
   "start_time": "2025-04-11T13:18:31.769763",
   "version": "2.6.0"
  }
 },
 "nbformat": 4,
 "nbformat_minor": 5
}
