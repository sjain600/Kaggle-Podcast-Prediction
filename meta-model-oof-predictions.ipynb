{
 "cells": [
  {
   "cell_type": "code",
   "execution_count": 1,
   "id": "8ac0072c",
   "metadata": {
    "execution": {
     "iopub.execute_input": "2025-04-30T12:03:11.425536Z",
     "iopub.status.busy": "2025-04-30T12:03:11.425147Z",
     "iopub.status.idle": "2025-04-30T12:03:24.196165Z",
     "shell.execute_reply": "2025-04-30T12:03:24.195312Z"
    },
    "papermill": {
     "duration": 12.788314,
     "end_time": "2025-04-30T12:03:24.197555",
     "exception": false,
     "start_time": "2025-04-30T12:03:11.409241",
     "status": "completed"
    },
    "tags": []
   },
   "outputs": [
    {
     "name": "stdout",
     "output_type": "stream",
     "text": [
      "/kaggle/input/playground-series-s5e4/sample_submission.csv\n",
      "/kaggle/input/playground-series-s5e4/train.csv\n",
      "/kaggle/input/playground-series-s5e4/test.csv\n"
     ]
    }
   ],
   "source": [
    "# This Python 3 environment comes with many helpful analytics libraries installed\n",
    "# It is defined by the kaggle/python Docker image: https://github.com/kaggle/docker-python\n",
    "# For example, here's several helpful packages to load\n",
    "%load_ext cudf.pandas\n",
    "import cuml\n",
    "import numpy as np # linear algebra\n",
    "import pandas as pd # data processing, CSV file I/O (e.g. pd.read_csv)\n",
    "import matplotlib.pyplot as plt\n",
    "pd.set_option('display.max_columns', 500)\n",
    "\n",
    "# Input data files are available in the read-only \"../input/\" directory\n",
    "# For example, running this (by clicking run or pressing Shift+Enter) will list all files under the input directory\n",
    "\n",
    "import os\n",
    "for dirname, _, filenames in os.walk('/kaggle/input'):\n",
    "    for filename in filenames:\n",
    "        print(os.path.join(dirname, filename))\n",
    "        \n",
    "import warnings\n",
    "warnings.filterwarnings(\"ignore\")\n",
    "\n",
    "# You can write up to 20GB to the current directory (/kaggle/working/) that gets preserved as output when you create a version using \"Save & Run All\" \n",
    "# You can also write temporary files to /kaggle/temp/, but they won't be saved outside of the current session"
   ]
  },
  {
   "cell_type": "code",
   "execution_count": 2,
   "id": "8761eafe",
   "metadata": {
    "execution": {
     "iopub.execute_input": "2025-04-30T12:03:24.210902Z",
     "iopub.status.busy": "2025-04-30T12:03:24.210427Z",
     "iopub.status.idle": "2025-04-30T12:03:24.774408Z",
     "shell.execute_reply": "2025-04-30T12:03:24.773509Z"
    },
    "papermill": {
     "duration": 0.571968,
     "end_time": "2025-04-30T12:03:24.775988",
     "exception": false,
     "start_time": "2025-04-30T12:03:24.204020",
     "status": "completed"
    },
    "tags": []
   },
   "outputs": [],
   "source": [
    "train = pd.read_csv('/kaggle/input/playground-series-s5e4/train.csv', index_col='id')\n",
    "test = pd.read_csv('/kaggle/input/playground-series-s5e4/test.csv', index_col='id')"
   ]
  },
  {
   "cell_type": "code",
   "execution_count": 3,
   "id": "cbfb93ec",
   "metadata": {
    "execution": {
     "iopub.execute_input": "2025-04-30T12:03:24.789127Z",
     "iopub.status.busy": "2025-04-30T12:03:24.788877Z",
     "iopub.status.idle": "2025-04-30T12:03:24.793870Z",
     "shell.execute_reply": "2025-04-30T12:03:24.793189Z"
    },
    "papermill": {
     "duration": 0.012698,
     "end_time": "2025-04-30T12:03:24.794995",
     "exception": false,
     "start_time": "2025-04-30T12:03:24.782297",
     "status": "completed"
    },
    "tags": []
   },
   "outputs": [
    {
     "data": {
      "text/plain": [
       "(750000, 11)"
      ]
     },
     "execution_count": 3,
     "metadata": {},
     "output_type": "execute_result"
    }
   ],
   "source": [
    "train.shape"
   ]
  },
  {
   "cell_type": "code",
   "execution_count": 4,
   "id": "97d49349",
   "metadata": {
    "execution": {
     "iopub.execute_input": "2025-04-30T12:03:24.807602Z",
     "iopub.status.busy": "2025-04-30T12:03:24.807362Z",
     "iopub.status.idle": "2025-04-30T12:03:24.811590Z",
     "shell.execute_reply": "2025-04-30T12:03:24.810970Z"
    },
    "papermill": {
     "duration": 0.011803,
     "end_time": "2025-04-30T12:03:24.812748",
     "exception": false,
     "start_time": "2025-04-30T12:03:24.800945",
     "status": "completed"
    },
    "tags": []
   },
   "outputs": [
    {
     "data": {
      "text/plain": [
       "(250000, 10)"
      ]
     },
     "execution_count": 4,
     "metadata": {},
     "output_type": "execute_result"
    }
   ],
   "source": [
    "test.shape"
   ]
  },
  {
   "cell_type": "markdown",
   "id": "da5ceeea",
   "metadata": {
    "papermill": {
     "duration": 0.005623,
     "end_time": "2025-04-30T12:03:24.824253",
     "exception": false,
     "start_time": "2025-04-30T12:03:24.818630",
     "status": "completed"
    },
    "tags": []
   },
   "source": [
    "## Data Understanding"
   ]
  },
  {
   "cell_type": "code",
   "execution_count": 5,
   "id": "5a4bffdf",
   "metadata": {
    "execution": {
     "iopub.execute_input": "2025-04-30T12:03:24.836491Z",
     "iopub.status.busy": "2025-04-30T12:03:24.836273Z",
     "iopub.status.idle": "2025-04-30T12:03:26.062445Z",
     "shell.execute_reply": "2025-04-30T12:03:26.061489Z"
    },
    "papermill": {
     "duration": 1.233801,
     "end_time": "2025-04-30T12:03:26.063857",
     "exception": false,
     "start_time": "2025-04-30T12:03:24.830056",
     "status": "completed"
    },
    "tags": []
   },
   "outputs": [
    {
     "data": {
      "text/html": [
       "<div>\n",
       "<style scoped>\n",
       "    .dataframe tbody tr th:only-of-type {\n",
       "        vertical-align: middle;\n",
       "    }\n",
       "\n",
       "    .dataframe tbody tr th {\n",
       "        vertical-align: top;\n",
       "    }\n",
       "\n",
       "    .dataframe thead th {\n",
       "        text-align: right;\n",
       "    }\n",
       "</style>\n",
       "<table border=\"1\" class=\"dataframe\">\n",
       "  <thead>\n",
       "    <tr style=\"text-align: right;\">\n",
       "      <th></th>\n",
       "      <th>Podcast_Name</th>\n",
       "      <th>Episode_Title</th>\n",
       "      <th>Episode_Length_minutes</th>\n",
       "      <th>Genre</th>\n",
       "      <th>Host_Popularity_percentage</th>\n",
       "      <th>Publication_Day</th>\n",
       "      <th>Publication_Time</th>\n",
       "      <th>Guest_Popularity_percentage</th>\n",
       "      <th>Number_of_Ads</th>\n",
       "      <th>Episode_Sentiment</th>\n",
       "      <th>Listening_Time_minutes</th>\n",
       "    </tr>\n",
       "    <tr>\n",
       "      <th>id</th>\n",
       "      <th></th>\n",
       "      <th></th>\n",
       "      <th></th>\n",
       "      <th></th>\n",
       "      <th></th>\n",
       "      <th></th>\n",
       "      <th></th>\n",
       "      <th></th>\n",
       "      <th></th>\n",
       "      <th></th>\n",
       "      <th></th>\n",
       "    </tr>\n",
       "  </thead>\n",
       "  <tbody>\n",
       "    <tr>\n",
       "      <th>418548</th>\n",
       "      <td>Mystery Matters</td>\n",
       "      <td>Episode 90</td>\n",
       "      <td>52.46</td>\n",
       "      <td>True Crime</td>\n",
       "      <td>27.20</td>\n",
       "      <td>Wednesday</td>\n",
       "      <td>Afternoon</td>\n",
       "      <td>60.2</td>\n",
       "      <td>0.0</td>\n",
       "      <td>Positive</td>\n",
       "      <td>38.72000</td>\n",
       "    </tr>\n",
       "    <tr>\n",
       "      <th>217351</th>\n",
       "      <td>Game Day</td>\n",
       "      <td>Episode 70</td>\n",
       "      <td>24.81</td>\n",
       "      <td>Sports</td>\n",
       "      <td>36.29</td>\n",
       "      <td>Tuesday</td>\n",
       "      <td>Afternoon</td>\n",
       "      <td>12.72</td>\n",
       "      <td>3.0</td>\n",
       "      <td>Negative</td>\n",
       "      <td>10.97180</td>\n",
       "    </tr>\n",
       "    <tr>\n",
       "      <th>393607</th>\n",
       "      <td>Fitness First</td>\n",
       "      <td>Episode 88</td>\n",
       "      <td>80.38</td>\n",
       "      <td>Health</td>\n",
       "      <td>88.33</td>\n",
       "      <td>Wednesday</td>\n",
       "      <td>Morning</td>\n",
       "      <td>26.52</td>\n",
       "      <td>2.0</td>\n",
       "      <td>Negative</td>\n",
       "      <td>53.13332</td>\n",
       "    </tr>\n",
       "    <tr>\n",
       "      <th>230797</th>\n",
       "      <td>Criminal Minds</td>\n",
       "      <td>Episode 30</td>\n",
       "      <td>31.91</td>\n",
       "      <td>True Crime</td>\n",
       "      <td>85.03</td>\n",
       "      <td>Tuesday</td>\n",
       "      <td>Afternoon</td>\n",
       "      <td>98.67</td>\n",
       "      <td>2.0</td>\n",
       "      <td>Negative</td>\n",
       "      <td>19.68336</td>\n",
       "    </tr>\n",
       "    <tr>\n",
       "      <th>589937</th>\n",
       "      <td>Fitness First</td>\n",
       "      <td>Episode 41</td>\n",
       "      <td>22.18</td>\n",
       "      <td>Health</td>\n",
       "      <td>21.20</td>\n",
       "      <td>Friday</td>\n",
       "      <td>Morning</td>\n",
       "      <td>12.2</td>\n",
       "      <td>0.0</td>\n",
       "      <td>Negative</td>\n",
       "      <td>5.60613</td>\n",
       "    </tr>\n",
       "    <tr>\n",
       "      <th>173502</th>\n",
       "      <td>Life Lessons</td>\n",
       "      <td>Episode 95</td>\n",
       "      <td>53.04</td>\n",
       "      <td>Lifestyle</td>\n",
       "      <td>32.30</td>\n",
       "      <td>Monday</td>\n",
       "      <td>Evening</td>\n",
       "      <td>78.6</td>\n",
       "      <td>1.0</td>\n",
       "      <td>Neutral</td>\n",
       "      <td>51.79939</td>\n",
       "    </tr>\n",
       "    <tr>\n",
       "      <th>23700</th>\n",
       "      <td>Business Briefs</td>\n",
       "      <td>Episode 20</td>\n",
       "      <td>96.11</td>\n",
       "      <td>Business</td>\n",
       "      <td>83.73</td>\n",
       "      <td>Tuesday</td>\n",
       "      <td>Morning</td>\n",
       "      <td>65.83</td>\n",
       "      <td>0.0</td>\n",
       "      <td>Positive</td>\n",
       "      <td>88.57411</td>\n",
       "    </tr>\n",
       "    <tr>\n",
       "      <th>729521</th>\n",
       "      <td>Mystery Matters</td>\n",
       "      <td>Episode 3</td>\n",
       "      <td>106.66</td>\n",
       "      <td>True Crime</td>\n",
       "      <td>98.29</td>\n",
       "      <td>Tuesday</td>\n",
       "      <td>Evening</td>\n",
       "      <td>23.97</td>\n",
       "      <td>2.0</td>\n",
       "      <td>Neutral</td>\n",
       "      <td>52.58826</td>\n",
       "    </tr>\n",
       "    <tr>\n",
       "      <th>45733</th>\n",
       "      <td>Style Guide</td>\n",
       "      <td>Episode 90</td>\n",
       "      <td>12.82</td>\n",
       "      <td>Lifestyle</td>\n",
       "      <td>43.80</td>\n",
       "      <td>Thursday</td>\n",
       "      <td>Evening</td>\n",
       "      <td>&lt;NA&gt;</td>\n",
       "      <td>1.0</td>\n",
       "      <td>Negative</td>\n",
       "      <td>4.47776</td>\n",
       "    </tr>\n",
       "    <tr>\n",
       "      <th>628039</th>\n",
       "      <td>World Watch</td>\n",
       "      <td>Episode 68</td>\n",
       "      <td>103.56</td>\n",
       "      <td>News</td>\n",
       "      <td>27.33</td>\n",
       "      <td>Sunday</td>\n",
       "      <td>Morning</td>\n",
       "      <td>71.53</td>\n",
       "      <td>2.0</td>\n",
       "      <td>Negative</td>\n",
       "      <td>73.93252</td>\n",
       "    </tr>\n",
       "  </tbody>\n",
       "</table>\n",
       "</div>"
      ],
      "text/plain": [
       "           Podcast_Name Episode_Title  Episode_Length_minutes       Genre  \\\n",
       "id                                                                          \n",
       "418548  Mystery Matters    Episode 90                   52.46  True Crime   \n",
       "217351         Game Day    Episode 70                   24.81      Sports   \n",
       "393607    Fitness First    Episode 88                   80.38      Health   \n",
       "230797   Criminal Minds    Episode 30                   31.91  True Crime   \n",
       "589937    Fitness First    Episode 41                   22.18      Health   \n",
       "173502     Life Lessons    Episode 95                   53.04   Lifestyle   \n",
       "23700   Business Briefs    Episode 20                   96.11    Business   \n",
       "729521  Mystery Matters     Episode 3                  106.66  True Crime   \n",
       "45733       Style Guide    Episode 90                   12.82   Lifestyle   \n",
       "628039      World Watch    Episode 68                  103.56        News   \n",
       "\n",
       "        Host_Popularity_percentage Publication_Day Publication_Time  \\\n",
       "id                                                                    \n",
       "418548                       27.20       Wednesday        Afternoon   \n",
       "217351                       36.29         Tuesday        Afternoon   \n",
       "393607                       88.33       Wednesday          Morning   \n",
       "230797                       85.03         Tuesday        Afternoon   \n",
       "589937                       21.20          Friday          Morning   \n",
       "173502                       32.30          Monday          Evening   \n",
       "23700                        83.73         Tuesday          Morning   \n",
       "729521                       98.29         Tuesday          Evening   \n",
       "45733                        43.80        Thursday          Evening   \n",
       "628039                       27.33          Sunday          Morning   \n",
       "\n",
       "       Guest_Popularity_percentage  Number_of_Ads Episode_Sentiment  \\\n",
       "id                                                                    \n",
       "418548                        60.2            0.0          Positive   \n",
       "217351                       12.72            3.0          Negative   \n",
       "393607                       26.52            2.0          Negative   \n",
       "230797                       98.67            2.0          Negative   \n",
       "589937                        12.2            0.0          Negative   \n",
       "173502                        78.6            1.0           Neutral   \n",
       "23700                        65.83            0.0          Positive   \n",
       "729521                       23.97            2.0           Neutral   \n",
       "45733                         <NA>            1.0          Negative   \n",
       "628039                       71.53            2.0          Negative   \n",
       "\n",
       "        Listening_Time_minutes  \n",
       "id                              \n",
       "418548                38.72000  \n",
       "217351                10.97180  \n",
       "393607                53.13332  \n",
       "230797                19.68336  \n",
       "589937                 5.60613  \n",
       "173502                51.79939  \n",
       "23700                 88.57411  \n",
       "729521                52.58826  \n",
       "45733                  4.47776  \n",
       "628039                73.93252  "
      ]
     },
     "execution_count": 5,
     "metadata": {},
     "output_type": "execute_result"
    }
   ],
   "source": [
    "train.sample(10)"
   ]
  },
  {
   "cell_type": "code",
   "execution_count": 6,
   "id": "1c936640",
   "metadata": {
    "execution": {
     "iopub.execute_input": "2025-04-30T12:03:26.078102Z",
     "iopub.status.busy": "2025-04-30T12:03:26.077830Z",
     "iopub.status.idle": "2025-04-30T12:03:26.953073Z",
     "shell.execute_reply": "2025-04-30T12:03:26.952223Z"
    },
    "papermill": {
     "duration": 0.884159,
     "end_time": "2025-04-30T12:03:26.954672",
     "exception": false,
     "start_time": "2025-04-30T12:03:26.070513",
     "status": "completed"
    },
    "tags": []
   },
   "outputs": [
    {
     "data": {
      "text/html": [
       "<div>\n",
       "<style scoped>\n",
       "    .dataframe tbody tr th:only-of-type {\n",
       "        vertical-align: middle;\n",
       "    }\n",
       "\n",
       "    .dataframe tbody tr th {\n",
       "        vertical-align: top;\n",
       "    }\n",
       "\n",
       "    .dataframe thead th {\n",
       "        text-align: right;\n",
       "    }\n",
       "</style>\n",
       "<table border=\"1\" class=\"dataframe\">\n",
       "  <thead>\n",
       "    <tr style=\"text-align: right;\">\n",
       "      <th></th>\n",
       "      <th>Episode_Length_minutes</th>\n",
       "      <th>Host_Popularity_percentage</th>\n",
       "      <th>Guest_Popularity_percentage</th>\n",
       "      <th>Number_of_Ads</th>\n",
       "      <th>Listening_Time_minutes</th>\n",
       "    </tr>\n",
       "  </thead>\n",
       "  <tbody>\n",
       "    <tr>\n",
       "      <th>count</th>\n",
       "      <td>662907.000000</td>\n",
       "      <td>750000.000000</td>\n",
       "      <td>603970.000000</td>\n",
       "      <td>749999.000000</td>\n",
       "      <td>750000.000000</td>\n",
       "    </tr>\n",
       "    <tr>\n",
       "      <th>mean</th>\n",
       "      <td>64.504738</td>\n",
       "      <td>59.859901</td>\n",
       "      <td>52.236449</td>\n",
       "      <td>1.348855</td>\n",
       "      <td>45.437406</td>\n",
       "    </tr>\n",
       "    <tr>\n",
       "      <th>std</th>\n",
       "      <td>32.969603</td>\n",
       "      <td>22.873098</td>\n",
       "      <td>28.451241</td>\n",
       "      <td>1.151130</td>\n",
       "      <td>27.138306</td>\n",
       "    </tr>\n",
       "    <tr>\n",
       "      <th>min</th>\n",
       "      <td>0.000000</td>\n",
       "      <td>1.300000</td>\n",
       "      <td>0.000000</td>\n",
       "      <td>0.000000</td>\n",
       "      <td>0.000000</td>\n",
       "    </tr>\n",
       "    <tr>\n",
       "      <th>25%</th>\n",
       "      <td>35.730000</td>\n",
       "      <td>39.410000</td>\n",
       "      <td>28.380000</td>\n",
       "      <td>0.000000</td>\n",
       "      <td>23.178350</td>\n",
       "    </tr>\n",
       "    <tr>\n",
       "      <th>50%</th>\n",
       "      <td>63.840000</td>\n",
       "      <td>60.050000</td>\n",
       "      <td>53.580000</td>\n",
       "      <td>1.000000</td>\n",
       "      <td>43.379460</td>\n",
       "    </tr>\n",
       "    <tr>\n",
       "      <th>75%</th>\n",
       "      <td>94.070000</td>\n",
       "      <td>79.530000</td>\n",
       "      <td>76.600000</td>\n",
       "      <td>2.000000</td>\n",
       "      <td>64.811580</td>\n",
       "    </tr>\n",
       "    <tr>\n",
       "      <th>max</th>\n",
       "      <td>325.240000</td>\n",
       "      <td>119.460000</td>\n",
       "      <td>119.910000</td>\n",
       "      <td>103.910000</td>\n",
       "      <td>119.970000</td>\n",
       "    </tr>\n",
       "  </tbody>\n",
       "</table>\n",
       "</div>"
      ],
      "text/plain": [
       "       Episode_Length_minutes  Host_Popularity_percentage  \\\n",
       "count           662907.000000               750000.000000   \n",
       "mean                64.504738                   59.859901   \n",
       "std                 32.969603                   22.873098   \n",
       "min                  0.000000                    1.300000   \n",
       "25%                 35.730000                   39.410000   \n",
       "50%                 63.840000                   60.050000   \n",
       "75%                 94.070000                   79.530000   \n",
       "max                325.240000                  119.460000   \n",
       "\n",
       "       Guest_Popularity_percentage  Number_of_Ads  Listening_Time_minutes  \n",
       "count                603970.000000  749999.000000           750000.000000  \n",
       "mean                     52.236449       1.348855               45.437406  \n",
       "std                      28.451241       1.151130               27.138306  \n",
       "min                       0.000000       0.000000                0.000000  \n",
       "25%                      28.380000       0.000000               23.178350  \n",
       "50%                      53.580000       1.000000               43.379460  \n",
       "75%                      76.600000       2.000000               64.811580  \n",
       "max                     119.910000     103.910000              119.970000  "
      ]
     },
     "execution_count": 6,
     "metadata": {},
     "output_type": "execute_result"
    }
   ],
   "source": [
    "train.describe()"
   ]
  },
  {
   "cell_type": "code",
   "execution_count": 7,
   "id": "d4d5aae7",
   "metadata": {
    "execution": {
     "iopub.execute_input": "2025-04-30T12:03:26.972123Z",
     "iopub.status.busy": "2025-04-30T12:03:26.971890Z",
     "iopub.status.idle": "2025-04-30T12:03:26.976144Z",
     "shell.execute_reply": "2025-04-30T12:03:26.975527Z"
    },
    "papermill": {
     "duration": 0.012345,
     "end_time": "2025-04-30T12:03:26.977192",
     "exception": false,
     "start_time": "2025-04-30T12:03:26.964847",
     "status": "completed"
    },
    "tags": []
   },
   "outputs": [
    {
     "data": {
      "text/plain": [
       "(750000, 11)"
      ]
     },
     "execution_count": 7,
     "metadata": {},
     "output_type": "execute_result"
    }
   ],
   "source": [
    "train.shape"
   ]
  },
  {
   "cell_type": "code",
   "execution_count": 8,
   "id": "0dd18886",
   "metadata": {
    "execution": {
     "iopub.execute_input": "2025-04-30T12:03:26.991035Z",
     "iopub.status.busy": "2025-04-30T12:03:26.990771Z",
     "iopub.status.idle": "2025-04-30T12:03:26.995277Z",
     "shell.execute_reply": "2025-04-30T12:03:26.994448Z"
    },
    "papermill": {
     "duration": 0.013284,
     "end_time": "2025-04-30T12:03:26.996826",
     "exception": false,
     "start_time": "2025-04-30T12:03:26.983542",
     "status": "completed"
    },
    "tags": []
   },
   "outputs": [
    {
     "data": {
      "text/plain": [
       "(250000, 10)"
      ]
     },
     "execution_count": 8,
     "metadata": {},
     "output_type": "execute_result"
    }
   ],
   "source": [
    "test.shape"
   ]
  },
  {
   "cell_type": "code",
   "execution_count": 9,
   "id": "84bfe6d4",
   "metadata": {
    "execution": {
     "iopub.execute_input": "2025-04-30T12:03:27.013290Z",
     "iopub.status.busy": "2025-04-30T12:03:27.013018Z",
     "iopub.status.idle": "2025-04-30T12:03:27.033544Z",
     "shell.execute_reply": "2025-04-30T12:03:27.032698Z"
    },
    "papermill": {
     "duration": 0.029985,
     "end_time": "2025-04-30T12:03:27.034707",
     "exception": false,
     "start_time": "2025-04-30T12:03:27.004722",
     "status": "completed"
    },
    "tags": []
   },
   "outputs": [
    {
     "name": "stdout",
     "output_type": "stream",
     "text": [
      "<class 'cudf.core.dataframe.DataFrame'>\n",
      "Index: 750000 entries, 0 to 749999\n",
      "Data columns (total 11 columns):\n",
      " #   Column                       Non-Null Count   Dtype\n",
      "---  ------                       --------------   -----\n",
      " 0   Podcast_Name                 750000 non-null  object\n",
      " 1   Episode_Title                750000 non-null  object\n",
      " 2   Episode_Length_minutes       662907 non-null  float64\n",
      " 3   Genre                        750000 non-null  object\n",
      " 4   Host_Popularity_percentage   750000 non-null  float64\n",
      " 5   Publication_Day              750000 non-null  object\n",
      " 6   Publication_Time             750000 non-null  object\n",
      " 7   Guest_Popularity_percentage  603970 non-null  float64\n",
      " 8   Number_of_Ads                749999 non-null  float64\n",
      " 9   Episode_Sentiment            750000 non-null  object\n",
      " 10  Listening_Time_minutes       750000 non-null  float64\n",
      "dtypes: float64(5), object(6)\n",
      "memory usage: 88.8+ MB\n"
     ]
    }
   ],
   "source": [
    "train.info()"
   ]
  },
  {
   "cell_type": "code",
   "execution_count": 10,
   "id": "0415b909",
   "metadata": {
    "execution": {
     "iopub.execute_input": "2025-04-30T12:03:27.048533Z",
     "iopub.status.busy": "2025-04-30T12:03:27.048290Z",
     "iopub.status.idle": "2025-04-30T12:03:27.150128Z",
     "shell.execute_reply": "2025-04-30T12:03:27.149489Z"
    },
    "papermill": {
     "duration": 0.110061,
     "end_time": "2025-04-30T12:03:27.151342",
     "exception": false,
     "start_time": "2025-04-30T12:03:27.041281",
     "status": "completed"
    },
    "tags": []
   },
   "outputs": [
    {
     "data": {
      "text/plain": [
       "Podcast_Name                        0\n",
       "Episode_Title                       0\n",
       "Episode_Length_minutes          87093\n",
       "Genre                               0\n",
       "Host_Popularity_percentage          0\n",
       "Publication_Day                     0\n",
       "Publication_Time                    0\n",
       "Guest_Popularity_percentage    146030\n",
       "Number_of_Ads                       1\n",
       "Episode_Sentiment                   0\n",
       "Listening_Time_minutes              0\n",
       "dtype: int64"
      ]
     },
     "execution_count": 10,
     "metadata": {},
     "output_type": "execute_result"
    }
   ],
   "source": [
    "train.isnull().sum()"
   ]
  },
  {
   "cell_type": "code",
   "execution_count": 11,
   "id": "ee21957b",
   "metadata": {
    "execution": {
     "iopub.execute_input": "2025-04-30T12:03:27.165445Z",
     "iopub.status.busy": "2025-04-30T12:03:27.165242Z",
     "iopub.status.idle": "2025-04-30T12:03:27.238185Z",
     "shell.execute_reply": "2025-04-30T12:03:27.237559Z"
    },
    "papermill": {
     "duration": 0.081216,
     "end_time": "2025-04-30T12:03:27.239397",
     "exception": false,
     "start_time": "2025-04-30T12:03:27.158181",
     "status": "completed"
    },
    "tags": []
   },
   "outputs": [
    {
     "data": {
      "text/plain": [
       "Podcast_Name                       0\n",
       "Episode_Title                      0\n",
       "Episode_Length_minutes         28736\n",
       "Genre                              0\n",
       "Host_Popularity_percentage         0\n",
       "Publication_Day                    0\n",
       "Publication_Time                   0\n",
       "Guest_Popularity_percentage    48832\n",
       "Number_of_Ads                      0\n",
       "Episode_Sentiment                  0\n",
       "dtype: int64"
      ]
     },
     "execution_count": 11,
     "metadata": {},
     "output_type": "execute_result"
    }
   ],
   "source": [
    "test.isnull().sum()"
   ]
  },
  {
   "cell_type": "markdown",
   "id": "5db8347b",
   "metadata": {
    "papermill": {
     "duration": 0.00685,
     "end_time": "2025-04-30T12:03:27.253334",
     "exception": false,
     "start_time": "2025-04-30T12:03:27.246484",
     "status": "completed"
    },
    "tags": []
   },
   "source": [
    "## Data Preparation"
   ]
  },
  {
   "cell_type": "markdown",
   "id": "44919f07",
   "metadata": {
    "papermill": {
     "duration": 0.006904,
     "end_time": "2025-04-30T12:03:27.267088",
     "exception": false,
     "start_time": "2025-04-30T12:03:27.260184",
     "status": "completed"
    },
    "tags": []
   },
   "source": [
    "Reducing the memory space of the dataset by converting the num_cols into float32 and cat_cols into category"
   ]
  },
  {
   "cell_type": "code",
   "execution_count": 12,
   "id": "665aa753",
   "metadata": {
    "execution": {
     "iopub.execute_input": "2025-04-30T12:03:27.281458Z",
     "iopub.status.busy": "2025-04-30T12:03:27.281233Z",
     "iopub.status.idle": "2025-04-30T12:03:27.299346Z",
     "shell.execute_reply": "2025-04-30T12:03:27.298618Z"
    },
    "papermill": {
     "duration": 0.026801,
     "end_time": "2025-04-30T12:03:27.300668",
     "exception": false,
     "start_time": "2025-04-30T12:03:27.273867",
     "status": "completed"
    },
    "tags": []
   },
   "outputs": [],
   "source": [
    "num_cols = test.select_dtypes(include=['float64']).columns\n",
    "for col in num_cols:\n",
    "    train[col] = train[col].astype('float32')\n",
    "    test[col] = test[col].astype('float32')"
   ]
  },
  {
   "cell_type": "code",
   "execution_count": 13,
   "id": "0124a055",
   "metadata": {
    "execution": {
     "iopub.execute_input": "2025-04-30T12:03:27.315866Z",
     "iopub.status.busy": "2025-04-30T12:03:27.315663Z",
     "iopub.status.idle": "2025-04-30T12:03:27.478714Z",
     "shell.execute_reply": "2025-04-30T12:03:27.478081Z"
    },
    "papermill": {
     "duration": 0.172694,
     "end_time": "2025-04-30T12:03:27.480063",
     "exception": false,
     "start_time": "2025-04-30T12:03:27.307369",
     "status": "completed"
    },
    "tags": []
   },
   "outputs": [],
   "source": [
    "cat_cols = train.select_dtypes(include=['object']).columns\n",
    "for col in cat_cols:\n",
    "    train[col] = train[col].astype('category')\n",
    "    test[col] = test[col].astype('category')"
   ]
  },
  {
   "cell_type": "code",
   "execution_count": 14,
   "id": "1d951a16",
   "metadata": {
    "execution": {
     "iopub.execute_input": "2025-04-30T12:03:27.495001Z",
     "iopub.status.busy": "2025-04-30T12:03:27.494773Z",
     "iopub.status.idle": "2025-04-30T12:03:28.182707Z",
     "shell.execute_reply": "2025-04-30T12:03:28.182002Z"
    },
    "papermill": {
     "duration": 0.697052,
     "end_time": "2025-04-30T12:03:28.184403",
     "exception": false,
     "start_time": "2025-04-30T12:03:27.487351",
     "status": "completed"
    },
    "tags": []
   },
   "outputs": [],
   "source": [
    "from scipy.stats.mstats import winsorize\n",
    "\n",
    "train['Number_of_Ads'] = winsorize(train['Number_of_Ads'], limits=(0.01, 0.01))\n",
    "test['Number_of_Ads'] = winsorize(test['Number_of_Ads'], limits=(0.01, 0.01))\n",
    "\n",
    "train['Listening_Time_minutes'] = winsorize(train['Listening_Time_minutes'], limits=(0.01, 0.01))"
   ]
  },
  {
   "cell_type": "code",
   "execution_count": 15,
   "id": "402f0ed9",
   "metadata": {
    "execution": {
     "iopub.execute_input": "2025-04-30T12:03:28.199664Z",
     "iopub.status.busy": "2025-04-30T12:03:28.199386Z",
     "iopub.status.idle": "2025-04-30T12:03:28.224229Z",
     "shell.execute_reply": "2025-04-30T12:03:28.223394Z"
    },
    "papermill": {
     "duration": 0.033759,
     "end_time": "2025-04-30T12:03:28.225447",
     "exception": false,
     "start_time": "2025-04-30T12:03:28.191688",
     "status": "completed"
    },
    "tags": []
   },
   "outputs": [
    {
     "name": "stdout",
     "output_type": "stream",
     "text": [
      "<class 'cudf.core.dataframe.DataFrame'>\n",
      "Index: 750000 entries, 0 to 749999\n",
      "Data columns (total 11 columns):\n",
      " #   Column                       Non-Null Count   Dtype\n",
      "---  ------                       --------------   -----\n",
      " 0   Podcast_Name                 750000 non-null  category\n",
      " 1   Episode_Title                750000 non-null  category\n",
      " 2   Episode_Length_minutes       662907 non-null  float32\n",
      " 3   Genre                        750000 non-null  category\n",
      " 4   Host_Popularity_percentage   750000 non-null  float32\n",
      " 5   Publication_Day              750000 non-null  category\n",
      " 6   Publication_Time             750000 non-null  category\n",
      " 7   Guest_Popularity_percentage  603970 non-null  float32\n",
      " 8   Number_of_Ads                750000 non-null  float32\n",
      " 9   Episode_Sentiment            750000 non-null  category\n",
      " 10  Listening_Time_minutes       750000 non-null  float64\n",
      "dtypes: category(6), float32(4), float64(1)\n",
      "memory usage: 27.4 MB\n"
     ]
    }
   ],
   "source": [
    "train.info()"
   ]
  },
  {
   "cell_type": "code",
   "execution_count": 16,
   "id": "fd6a1de7",
   "metadata": {
    "execution": {
     "iopub.execute_input": "2025-04-30T12:03:28.239821Z",
     "iopub.status.busy": "2025-04-30T12:03:28.239571Z",
     "iopub.status.idle": "2025-04-30T12:03:29.355030Z",
     "shell.execute_reply": "2025-04-30T12:03:29.354162Z"
    },
    "papermill": {
     "duration": 1.124366,
     "end_time": "2025-04-30T12:03:29.356667",
     "exception": false,
     "start_time": "2025-04-30T12:03:28.232301",
     "status": "completed"
    },
    "tags": []
   },
   "outputs": [],
   "source": [
    "from sklearn.impute import SimpleImputer\n",
    "\n",
    "impute = SimpleImputer(strategy='median')\n",
    "num_cols = test.select_dtypes(include=['float32']).columns\n",
    "train[num_cols] = impute.fit_transform(train[num_cols])\n",
    "test[num_cols] = impute.fit_transform(test[num_cols])"
   ]
  },
  {
   "cell_type": "code",
   "execution_count": 17,
   "id": "66a91f4c",
   "metadata": {
    "execution": {
     "iopub.execute_input": "2025-04-30T12:03:29.372607Z",
     "iopub.status.busy": "2025-04-30T12:03:29.372343Z",
     "iopub.status.idle": "2025-04-30T12:03:29.421154Z",
     "shell.execute_reply": "2025-04-30T12:03:29.420527Z"
    },
    "papermill": {
     "duration": 0.058292,
     "end_time": "2025-04-30T12:03:29.422274",
     "exception": false,
     "start_time": "2025-04-30T12:03:29.363982",
     "status": "completed"
    },
    "tags": []
   },
   "outputs": [],
   "source": [
    "sentiments = {'Positive': 1, 'Neutral': 0, 'Negative': -1}\n",
    "train['Episode_Sentiment'] = train['Episode_Sentiment'].map(sentiments).astype('float32')\n",
    "test['Episode_Sentiment'] = test['Episode_Sentiment'].map(sentiments).astype('float32')"
   ]
  },
  {
   "cell_type": "markdown",
   "id": "c1a937af",
   "metadata": {
    "papermill": {
     "duration": 0.006696,
     "end_time": "2025-04-30T12:03:29.436262",
     "exception": false,
     "start_time": "2025-04-30T12:03:29.429566",
     "status": "completed"
    },
    "tags": []
   },
   "source": [
    "## Feature engineering"
   ]
  },
  {
   "cell_type": "markdown",
   "id": "1d971054",
   "metadata": {
    "papermill": {
     "duration": 0.006709,
     "end_time": "2025-04-30T12:03:29.450002",
     "exception": false,
     "start_time": "2025-04-30T12:03:29.443293",
     "status": "completed"
    },
    "tags": []
   },
   "source": [
    "## Count Encoding for high cardinality columns"
   ]
  },
  {
   "cell_type": "code",
   "execution_count": 18,
   "id": "32294bce",
   "metadata": {
    "execution": {
     "iopub.execute_input": "2025-04-30T12:03:29.464258Z",
     "iopub.status.busy": "2025-04-30T12:03:29.464016Z",
     "iopub.status.idle": "2025-04-30T12:03:45.875498Z",
     "shell.execute_reply": "2025-04-30T12:03:45.874780Z"
    },
    "papermill": {
     "duration": 16.420341,
     "end_time": "2025-04-30T12:03:45.877035",
     "exception": false,
     "start_time": "2025-04-30T12:03:29.456694",
     "status": "completed"
    },
    "tags": []
   },
   "outputs": [],
   "source": [
    "from category_encoders import CountEncoder\n",
    "\n",
    "ce = CountEncoder()\n",
    "count_category = ['Podcast_Name', 'Genre', 'Episode_Title']\n",
    "train[count_category] = ce.fit_transform(train[count_category])\n",
    "test[count_category] = ce.transform(test[count_category])"
   ]
  },
  {
   "cell_type": "code",
   "execution_count": 19,
   "id": "8e0d58dd",
   "metadata": {
    "execution": {
     "iopub.execute_input": "2025-04-30T12:03:45.892286Z",
     "iopub.status.busy": "2025-04-30T12:03:45.891873Z",
     "iopub.status.idle": "2025-04-30T12:03:46.325407Z",
     "shell.execute_reply": "2025-04-30T12:03:46.324719Z"
    },
    "papermill": {
     "duration": 0.442634,
     "end_time": "2025-04-30T12:03:46.327019",
     "exception": false,
     "start_time": "2025-04-30T12:03:45.884385",
     "status": "completed"
    },
    "tags": []
   },
   "outputs": [],
   "source": [
    "from sklearn.preprocessing import LabelEncoder\n",
    "\n",
    "cat_cols = ['Publication_Day', 'Publication_Time']\n",
    "for colname in cat_cols:\n",
    "    le = LabelEncoder()\n",
    "    train[colname] = le.fit_transform(train[colname])\n",
    "    test[colname] = le.transform(test[colname])"
   ]
  },
  {
   "cell_type": "code",
   "execution_count": 20,
   "id": "22378197",
   "metadata": {
    "execution": {
     "iopub.execute_input": "2025-04-30T12:03:46.342158Z",
     "iopub.status.busy": "2025-04-30T12:03:46.341927Z",
     "iopub.status.idle": "2025-04-30T12:03:47.067671Z",
     "shell.execute_reply": "2025-04-30T12:03:47.066929Z"
    },
    "papermill": {
     "duration": 0.734867,
     "end_time": "2025-04-30T12:03:47.069275",
     "exception": false,
     "start_time": "2025-04-30T12:03:46.334408",
     "status": "completed"
    },
    "tags": []
   },
   "outputs": [],
   "source": [
    "from sklearn.preprocessing import KBinsDiscretizer\n",
    "\n",
    "kmeans = KBinsDiscretizer(n_bins=5, encode='ordinal', strategy='kmeans')\n",
    "train['Kmeans_bins'] = kmeans.fit_transform(train[['Episode_Length_minutes']])\n",
    "test['Kmeans_bins'] = kmeans.transform(test[['Episode_Length_minutes']])"
   ]
  },
  {
   "cell_type": "code",
   "execution_count": 21,
   "id": "e4c81b2e",
   "metadata": {
    "execution": {
     "iopub.execute_input": "2025-04-30T12:03:47.084321Z",
     "iopub.status.busy": "2025-04-30T12:03:47.084073Z",
     "iopub.status.idle": "2025-04-30T12:03:47.387212Z",
     "shell.execute_reply": "2025-04-30T12:03:47.386163Z"
    },
    "papermill": {
     "duration": 0.312567,
     "end_time": "2025-04-30T12:03:47.389198",
     "exception": false,
     "start_time": "2025-04-30T12:03:47.076631",
     "status": "completed"
    },
    "tags": []
   },
   "outputs": [],
   "source": [
    "from sklearn.preprocessing import KBinsDiscretizer\n",
    "\n",
    "ew = KBinsDiscretizer(n_bins=5, encode='ordinal', strategy='uniform')\n",
    "train['Host_bins'] = ew.fit_transform(train[['Episode_Length_minutes']])\n",
    "test['Host_bins'] = ew.transform(test[['Episode_Length_minutes']])"
   ]
  },
  {
   "cell_type": "code",
   "execution_count": 22,
   "id": "be309492",
   "metadata": {
    "execution": {
     "iopub.execute_input": "2025-04-30T12:03:47.405513Z",
     "iopub.status.busy": "2025-04-30T12:03:47.405207Z",
     "iopub.status.idle": "2025-04-30T12:03:47.482040Z",
     "shell.execute_reply": "2025-04-30T12:03:47.481146Z"
    },
    "papermill": {
     "duration": 0.086722,
     "end_time": "2025-04-30T12:03:47.483735",
     "exception": false,
     "start_time": "2025-04-30T12:03:47.397013",
     "status": "completed"
    },
    "tags": []
   },
   "outputs": [],
   "source": [
    "for col in ['Host_Popularity_percentage', 'Guest_Popularity_percentage', 'Episode_Length_minutes']:\n",
    "    for k in range(0, 3):\n",
    "        new_round_col = f\"{col}_round{k}\"\n",
    "        train[new_round_col] = train[col].round(k)\n",
    "        test[new_round_col] = test[col].round(k)"
   ]
  },
  {
   "cell_type": "code",
   "execution_count": 23,
   "id": "a31c9d2a",
   "metadata": {
    "execution": {
     "iopub.execute_input": "2025-04-30T12:03:47.498695Z",
     "iopub.status.busy": "2025-04-30T12:03:47.498415Z",
     "iopub.status.idle": "2025-04-30T12:03:47.516135Z",
     "shell.execute_reply": "2025-04-30T12:03:47.515529Z"
    },
    "papermill": {
     "duration": 0.026236,
     "end_time": "2025-04-30T12:03:47.517257",
     "exception": false,
     "start_time": "2025-04-30T12:03:47.491021",
     "status": "completed"
    },
    "tags": []
   },
   "outputs": [],
   "source": [
    "train['Guest_Popularity_percentage'] =  train['Guest_Popularity_percentage'].clip(upper=100)\n",
    "train['Host_Popularity_percentage'] =  train['Host_Popularity_percentage'].clip(upper=100)\n",
    "test['Guest_Popularity_percentage'] =  test['Guest_Popularity_percentage'].clip(upper=100)\n",
    "test['Host_Popularity_percentage'] =  test['Host_Popularity_percentage'].clip(upper=100)\n"
   ]
  },
  {
   "cell_type": "code",
   "execution_count": 24,
   "id": "151a335a",
   "metadata": {
    "execution": {
     "iopub.execute_input": "2025-04-30T12:03:47.532706Z",
     "iopub.status.busy": "2025-04-30T12:03:47.532462Z",
     "iopub.status.idle": "2025-04-30T12:03:47.583628Z",
     "shell.execute_reply": "2025-04-30T12:03:47.583043Z"
    },
    "papermill": {
     "duration": 0.06016,
     "end_time": "2025-04-30T12:03:47.584853",
     "exception": false,
     "start_time": "2025-04-30T12:03:47.524693",
     "status": "completed"
    },
    "tags": []
   },
   "outputs": [],
   "source": [
    "train['Average_popularity'] = (train['Host_Popularity_percentage'] + train['Guest_Popularity_percentage']) / 2\n",
    "test['Average_popularity'] = (test['Host_Popularity_percentage'] + test['Guest_Popularity_percentage']) / 2\n",
    "train['minutes_per_ads'] = train['Episode_Length_minutes'] / (train['Number_of_Ads'] + 1e-3) \n",
    "test['minutes_per_ads'] = test['Episode_Length_minutes'] / (test['Number_of_Ads'] + 1e-3)"
   ]
  },
  {
   "cell_type": "code",
   "execution_count": 25,
   "id": "988b80ca",
   "metadata": {
    "execution": {
     "iopub.execute_input": "2025-04-30T12:03:47.599418Z",
     "iopub.status.busy": "2025-04-30T12:03:47.599215Z",
     "iopub.status.idle": "2025-04-30T12:03:47.605990Z",
     "shell.execute_reply": "2025-04-30T12:03:47.605327Z"
    },
    "papermill": {
     "duration": 0.015399,
     "end_time": "2025-04-30T12:03:47.607189",
     "exception": false,
     "start_time": "2025-04-30T12:03:47.591790",
     "status": "completed"
    },
    "tags": []
   },
   "outputs": [
    {
     "data": {
      "text/plain": [
       "Index(['Podcast_Name', 'Episode_Title', 'Episode_Length_minutes', 'Genre',\n",
       "       'Host_Popularity_percentage', 'Publication_Day', 'Publication_Time',\n",
       "       'Guest_Popularity_percentage', 'Number_of_Ads', 'Episode_Sentiment',\n",
       "       'Listening_Time_minutes', 'Kmeans_bins', 'Host_bins',\n",
       "       'Host_Popularity_percentage_round0',\n",
       "       'Host_Popularity_percentage_round1',\n",
       "       'Host_Popularity_percentage_round2',\n",
       "       'Guest_Popularity_percentage_round0',\n",
       "       'Guest_Popularity_percentage_round1',\n",
       "       'Guest_Popularity_percentage_round2', 'Episode_Length_minutes_round0',\n",
       "       'Episode_Length_minutes_round1', 'Episode_Length_minutes_round2',\n",
       "       'Average_popularity', 'minutes_per_ads'],\n",
       "      dtype='object')"
      ]
     },
     "execution_count": 25,
     "metadata": {},
     "output_type": "execute_result"
    }
   ],
   "source": [
    "train.columns"
   ]
  },
  {
   "cell_type": "code",
   "execution_count": 26,
   "id": "d2039630",
   "metadata": {
    "execution": {
     "iopub.execute_input": "2025-04-30T12:03:47.621745Z",
     "iopub.status.busy": "2025-04-30T12:03:47.621530Z",
     "iopub.status.idle": "2025-04-30T12:03:47.624828Z",
     "shell.execute_reply": "2025-04-30T12:03:47.624202Z"
    },
    "papermill": {
     "duration": 0.011819,
     "end_time": "2025-04-30T12:03:47.625986",
     "exception": false,
     "start_time": "2025-04-30T12:03:47.614167",
     "status": "completed"
    },
    "tags": []
   },
   "outputs": [],
   "source": [
    "features = ['Podcast_Name', 'Episode_Title', 'Episode_Length_minutes', 'Genre',\n",
    "       'Host_Popularity_percentage', 'Publication_Day', 'Publication_Time',\n",
    "       'Guest_Popularity_percentage', 'Number_of_Ads', 'Episode_Sentiment', 'Kmeans_bins', 'Host_bins',\n",
    "       'Host_Popularity_percentage_round0',\n",
    "       'Host_Popularity_percentage_round1',\n",
    "       'Host_Popularity_percentage_round2',\n",
    "       'Guest_Popularity_percentage_round0',\n",
    "       'Guest_Popularity_percentage_round1',\n",
    "       'Guest_Popularity_percentage_round2', 'Episode_Length_minutes_round0',\n",
    "       'Episode_Length_minutes_round1', 'Episode_Length_minutes_round2',\n",
    "       'Average_popularity', 'minutes_per_ads']"
   ]
  },
  {
   "cell_type": "code",
   "execution_count": 27,
   "id": "00bbc061",
   "metadata": {
    "execution": {
     "iopub.execute_input": "2025-04-30T12:03:47.641114Z",
     "iopub.status.busy": "2025-04-30T12:03:47.640894Z",
     "iopub.status.idle": "2025-04-30T12:03:47.643896Z",
     "shell.execute_reply": "2025-04-30T12:03:47.643275Z"
    },
    "papermill": {
     "duration": 0.01205,
     "end_time": "2025-04-30T12:03:47.645029",
     "exception": false,
     "start_time": "2025-04-30T12:03:47.632979",
     "status": "completed"
    },
    "tags": []
   },
   "outputs": [],
   "source": [
    "cat_features = ['Podcast_Name', 'Episode_Title', 'Episode_Length_minutes', 'Genre', 'Publication_Day', 'Publication_Time']"
   ]
  },
  {
   "cell_type": "code",
   "execution_count": 28,
   "id": "f51cc15c",
   "metadata": {
    "execution": {
     "iopub.execute_input": "2025-04-30T12:03:47.659704Z",
     "iopub.status.busy": "2025-04-30T12:03:47.659447Z",
     "iopub.status.idle": "2025-04-30T12:03:47.719768Z",
     "shell.execute_reply": "2025-04-30T12:03:47.719007Z"
    },
    "papermill": {
     "duration": 0.068994,
     "end_time": "2025-04-30T12:03:47.721035",
     "exception": false,
     "start_time": "2025-04-30T12:03:47.652041",
     "status": "completed"
    },
    "tags": []
   },
   "outputs": [
    {
     "name": "stdout",
     "output_type": "stream",
     "text": [
      "There are 15 interaction features:\n"
     ]
    }
   ],
   "source": [
    "interact = []\n",
    "for i, c1 in enumerate(cat_features):\n",
    "    for c2 in (cat_features[i+1:]):\n",
    "        n = f'{c1}_{c2}'\n",
    "        train[n] = train[c1] * train[c2]\n",
    "        test[n] = test[c1] * test[c2]\n",
    "        interact.append(n)\n",
    "\n",
    "print(f\"There are {len(interact)} interaction features:\")"
   ]
  },
  {
   "cell_type": "code",
   "execution_count": 29,
   "id": "87af13e5",
   "metadata": {
    "execution": {
     "iopub.execute_input": "2025-04-30T12:03:47.735662Z",
     "iopub.status.busy": "2025-04-30T12:03:47.735398Z",
     "iopub.status.idle": "2025-04-30T12:03:47.743000Z",
     "shell.execute_reply": "2025-04-30T12:03:47.742040Z"
    },
    "papermill": {
     "duration": 0.016569,
     "end_time": "2025-04-30T12:03:47.744691",
     "exception": false,
     "start_time": "2025-04-30T12:03:47.728122",
     "status": "completed"
    },
    "tags": []
   },
   "outputs": [
    {
     "data": {
      "text/plain": [
       "Index(['Podcast_Name', 'Episode_Title', 'Episode_Length_minutes', 'Genre',\n",
       "       'Host_Popularity_percentage', 'Publication_Day', 'Publication_Time',\n",
       "       'Guest_Popularity_percentage', 'Number_of_Ads', 'Episode_Sentiment',\n",
       "       'Listening_Time_minutes', 'Kmeans_bins', 'Host_bins',\n",
       "       'Host_Popularity_percentage_round0',\n",
       "       'Host_Popularity_percentage_round1',\n",
       "       'Host_Popularity_percentage_round2',\n",
       "       'Guest_Popularity_percentage_round0',\n",
       "       'Guest_Popularity_percentage_round1',\n",
       "       'Guest_Popularity_percentage_round2', 'Episode_Length_minutes_round0',\n",
       "       'Episode_Length_minutes_round1', 'Episode_Length_minutes_round2',\n",
       "       'Average_popularity', 'minutes_per_ads', 'Podcast_Name_Episode_Title',\n",
       "       'Podcast_Name_Episode_Length_minutes', 'Podcast_Name_Genre',\n",
       "       'Podcast_Name_Publication_Day', 'Podcast_Name_Publication_Time',\n",
       "       'Episode_Title_Episode_Length_minutes', 'Episode_Title_Genre',\n",
       "       'Episode_Title_Publication_Day', 'Episode_Title_Publication_Time',\n",
       "       'Episode_Length_minutes_Genre',\n",
       "       'Episode_Length_minutes_Publication_Day',\n",
       "       'Episode_Length_minutes_Publication_Time', 'Genre_Publication_Day',\n",
       "       'Genre_Publication_Time', 'Publication_Day_Publication_Time'],\n",
       "      dtype='object')"
      ]
     },
     "execution_count": 29,
     "metadata": {},
     "output_type": "execute_result"
    }
   ],
   "source": [
    "train.columns"
   ]
  },
  {
   "cell_type": "code",
   "execution_count": 30,
   "id": "3b596035",
   "metadata": {
    "execution": {
     "iopub.execute_input": "2025-04-30T12:03:47.765496Z",
     "iopub.status.busy": "2025-04-30T12:03:47.765227Z",
     "iopub.status.idle": "2025-04-30T12:03:48.133690Z",
     "shell.execute_reply": "2025-04-30T12:03:48.132760Z"
    },
    "papermill": {
     "duration": 0.378383,
     "end_time": "2025-04-30T12:03:48.135294",
     "exception": false,
     "start_time": "2025-04-30T12:03:47.756911",
     "status": "completed"
    },
    "tags": []
   },
   "outputs": [],
   "source": [
    "from sklearn.model_selection import KFold, cross_val_predict\n",
    "from cuml.metrics import mean_squared_error\n",
    "from xgboost import XGBRegressor\n",
    "\n",
    "X = train.copy()\n",
    "y = X.pop('Listening_Time_minutes')\n",
    "X_test = test.copy()\n",
    "\n",
    "oof_df = pd.DataFrame()\n",
    "test_pred_df = pd.DataFrame()\n",
    "result_df = pd.DataFrame()\n",
    "\n",
    "n_folds = 7\n",
    "kf = KFold(n_splits=n_folds, shuffle=True, random_state=34)\n",
    "\n",
    "def add_models(model, name):\n",
    "    oof_pred = cross_val_predict(model, X, y, cv=kf)\n",
    "    rmse = np.sqrt(mean_squared_error(y, oof_pred))\n",
    "    print(f'{name} RMSE {rmse:,.6f} ')\n",
    "\n",
    "    oof_df[name] = oof_pred\n",
    "\n",
    "    model.fit(X, y - y.mean())\n",
    "    test_pred_df[name] = model.predict(X_test + y.mean())\n",
    "\n",
    "    result_df.at[name, 'rmse'] = rmse\n",
    "        "
   ]
  },
  {
   "cell_type": "code",
   "execution_count": 31,
   "id": "48d5bbe1",
   "metadata": {
    "execution": {
     "iopub.execute_input": "2025-04-30T12:03:48.151529Z",
     "iopub.status.busy": "2025-04-30T12:03:48.151246Z",
     "iopub.status.idle": "2025-04-30T12:08:05.448978Z",
     "shell.execute_reply": "2025-04-30T12:08:05.448285Z"
    },
    "papermill": {
     "duration": 257.30728,
     "end_time": "2025-04-30T12:08:05.450450",
     "exception": false,
     "start_time": "2025-04-30T12:03:48.143170",
     "status": "completed"
    },
    "tags": []
   },
   "outputs": [
    {
     "name": "stdout",
     "output_type": "stream",
     "text": [
      "xgb RMSE 12.718235 \n"
     ]
    }
   ],
   "source": [
    "xgb = XGBRegressor(\n",
    "        n_estimators=700, \n",
    "        learning_rate=0.07, \n",
    "        max_depth=11,\n",
    "        colsample_bytree=0.5,\n",
    "        subsample=0.8,\n",
    "        device='cuda',\n",
    "        tree_method='gpu_hist',\n",
    "        eval_metric='rmse',\n",
    "        random_state=34\n",
    "    )\n",
    "\n",
    "add_models(xgb, 'xgb')"
   ]
  },
  {
   "cell_type": "code",
   "execution_count": 32,
   "id": "17bae108",
   "metadata": {
    "execution": {
     "iopub.execute_input": "2025-04-30T12:08:05.466433Z",
     "iopub.status.busy": "2025-04-30T12:08:05.466211Z",
     "iopub.status.idle": "2025-04-30T12:10:06.888695Z",
     "shell.execute_reply": "2025-04-30T12:10:06.887805Z"
    },
    "papermill": {
     "duration": 121.432956,
     "end_time": "2025-04-30T12:10:06.891256",
     "exception": false,
     "start_time": "2025-04-30T12:08:05.458300",
     "status": "completed"
    },
    "tags": []
   },
   "outputs": [
    {
     "name": "stdout",
     "output_type": "stream",
     "text": [
      "cat RMSE 12.926312 \n"
     ]
    }
   ],
   "source": [
    "from catboost import CatBoostRegressor\n",
    "\n",
    "cat = CatBoostRegressor(\n",
    "    iterations=1000,\n",
    "    learning_rate= 0.06655423,  \n",
    "    depth=9, \n",
    "    l2_leaf_reg=2.21012489857, \n",
    "    rsm=1.0,\n",
    "    bagging_temperature=0.446987,\n",
    "    random_strength=0.8499895,\n",
    "    task_type='GPU',\n",
    "    verbose=0,\n",
    ")\n",
    "\n",
    "add_models(cat, 'cat')"
   ]
  },
  {
   "cell_type": "code",
   "execution_count": 33,
   "id": "179896fd",
   "metadata": {
    "execution": {
     "iopub.execute_input": "2025-04-30T12:10:06.919226Z",
     "iopub.status.busy": "2025-04-30T12:10:06.918925Z",
     "iopub.status.idle": "2025-04-30T12:12:17.333541Z",
     "shell.execute_reply": "2025-04-30T12:12:17.332788Z"
    },
    "papermill": {
     "duration": 130.430072,
     "end_time": "2025-04-30T12:12:17.335166",
     "exception": false,
     "start_time": "2025-04-30T12:10:06.905094",
     "status": "completed"
    },
    "tags": []
   },
   "outputs": [
    {
     "name": "stdout",
     "output_type": "stream",
     "text": [
      "lgm RMSE 12.914261 \n"
     ]
    }
   ],
   "source": [
    "from lightgbm import LGBMRegressor\n",
    "\n",
    "lgm = LGBMRegressor(\n",
    "    n_estimators=829, \n",
    "    learning_rate=0.085995, \n",
    "    max_depth=7,\n",
    "    reg_lambda=1, \n",
    "    min_child_samples=4,\n",
    "    num_leaves=31,\n",
    "    verbose=-1,\n",
    "    device='gpu',\n",
    ")\n",
    "\n",
    "add_models(lgm, 'lgm')"
   ]
  },
  {
   "cell_type": "code",
   "execution_count": 34,
   "id": "5349fef3",
   "metadata": {
    "execution": {
     "iopub.execute_input": "2025-04-30T12:12:17.351303Z",
     "iopub.status.busy": "2025-04-30T12:12:17.351044Z",
     "iopub.status.idle": "2025-04-30T12:12:19.816785Z",
     "shell.execute_reply": "2025-04-30T12:12:19.815920Z"
    },
    "papermill": {
     "duration": 2.474919,
     "end_time": "2025-04-30T12:12:19.818142",
     "exception": false,
     "start_time": "2025-04-30T12:12:17.343223",
     "status": "completed"
    },
    "tags": []
   },
   "outputs": [
    {
     "data": {
      "text/html": [
       "<style>#sk-container-id-1 {color: black;background-color: white;}#sk-container-id-1 pre{padding: 0;}#sk-container-id-1 div.sk-toggleable {background-color: white;}#sk-container-id-1 label.sk-toggleable__label {cursor: pointer;display: block;width: 100%;margin-bottom: 0;padding: 0.3em;box-sizing: border-box;text-align: center;}#sk-container-id-1 label.sk-toggleable__label-arrow:before {content: \"▸\";float: left;margin-right: 0.25em;color: #696969;}#sk-container-id-1 label.sk-toggleable__label-arrow:hover:before {color: black;}#sk-container-id-1 div.sk-estimator:hover label.sk-toggleable__label-arrow:before {color: black;}#sk-container-id-1 div.sk-toggleable__content {max-height: 0;max-width: 0;overflow: hidden;text-align: left;background-color: #f0f8ff;}#sk-container-id-1 div.sk-toggleable__content pre {margin: 0.2em;color: black;border-radius: 0.25em;background-color: #f0f8ff;}#sk-container-id-1 input.sk-toggleable__control:checked~div.sk-toggleable__content {max-height: 200px;max-width: 100%;overflow: auto;}#sk-container-id-1 input.sk-toggleable__control:checked~label.sk-toggleable__label-arrow:before {content: \"▾\";}#sk-container-id-1 div.sk-estimator input.sk-toggleable__control:checked~label.sk-toggleable__label {background-color: #d4ebff;}#sk-container-id-1 div.sk-label input.sk-toggleable__control:checked~label.sk-toggleable__label {background-color: #d4ebff;}#sk-container-id-1 input.sk-hidden--visually {border: 0;clip: rect(1px 1px 1px 1px);clip: rect(1px, 1px, 1px, 1px);height: 1px;margin: -1px;overflow: hidden;padding: 0;position: absolute;width: 1px;}#sk-container-id-1 div.sk-estimator {font-family: monospace;background-color: #f0f8ff;border: 1px dotted black;border-radius: 0.25em;box-sizing: border-box;margin-bottom: 0.5em;}#sk-container-id-1 div.sk-estimator:hover {background-color: #d4ebff;}#sk-container-id-1 div.sk-parallel-item::after {content: \"\";width: 100%;border-bottom: 1px solid gray;flex-grow: 1;}#sk-container-id-1 div.sk-label:hover label.sk-toggleable__label {background-color: #d4ebff;}#sk-container-id-1 div.sk-serial::before {content: \"\";position: absolute;border-left: 1px solid gray;box-sizing: border-box;top: 0;bottom: 0;left: 50%;z-index: 0;}#sk-container-id-1 div.sk-serial {display: flex;flex-direction: column;align-items: center;background-color: white;padding-right: 0.2em;padding-left: 0.2em;position: relative;}#sk-container-id-1 div.sk-item {position: relative;z-index: 1;}#sk-container-id-1 div.sk-parallel {display: flex;align-items: stretch;justify-content: center;background-color: white;position: relative;}#sk-container-id-1 div.sk-item::before, #sk-container-id-1 div.sk-parallel-item::before {content: \"\";position: absolute;border-left: 1px solid gray;box-sizing: border-box;top: 0;bottom: 0;left: 50%;z-index: -1;}#sk-container-id-1 div.sk-parallel-item {display: flex;flex-direction: column;z-index: 1;position: relative;background-color: white;}#sk-container-id-1 div.sk-parallel-item:first-child::after {align-self: flex-end;width: 50%;}#sk-container-id-1 div.sk-parallel-item:last-child::after {align-self: flex-start;width: 50%;}#sk-container-id-1 div.sk-parallel-item:only-child::after {width: 0;}#sk-container-id-1 div.sk-dashed-wrapped {border: 1px dashed gray;margin: 0 0.4em 0.5em 0.4em;box-sizing: border-box;padding-bottom: 0.4em;background-color: white;}#sk-container-id-1 div.sk-label label {font-family: monospace;font-weight: bold;display: inline-block;line-height: 1.2em;}#sk-container-id-1 div.sk-label-container {text-align: center;}#sk-container-id-1 div.sk-container {/* jupyter's `normalize.less` sets `[hidden] { display: none; }` but bootstrap.min.css set `[hidden] { display: none !important; }` so we also need the `!important` here to be able to override the default hidden behavior on the sphinx rendered scikit-learn.org. See: https://github.com/scikit-learn/scikit-learn/issues/21755 */display: inline-block !important;position: relative;}#sk-container-id-1 div.sk-text-repr-fallback {display: none;}</style><div id=\"sk-container-id-1\" class=\"sk-top-container\"><div class=\"sk-text-repr-fallback\"><pre>BayesianRidge()</pre><b>In a Jupyter environment, please rerun this cell to show the HTML representation or trust the notebook. <br />On GitHub, the HTML representation is unable to render, please try loading this page with nbviewer.org.</b></div><div class=\"sk-container\" hidden><div class=\"sk-item\"><div class=\"sk-estimator sk-toggleable\"><input class=\"sk-toggleable__control sk-hidden--visually\" id=\"sk-estimator-id-1\" type=\"checkbox\" checked><label for=\"sk-estimator-id-1\" class=\"sk-toggleable__label sk-toggleable__label-arrow\">BayesianRidge</label><div class=\"sk-toggleable__content\"><pre>BayesianRidge()</pre></div></div></div></div></div>"
      ],
      "text/plain": [
       "BayesianRidge()"
      ]
     },
     "execution_count": 34,
     "metadata": {},
     "output_type": "execute_result"
    }
   ],
   "source": [
    "from sklearn.linear_model import BayesianRidge\n",
    "\n",
    "meta_model = BayesianRidge()\n",
    "oof_pred = cross_val_predict(meta_model, oof_df, y, cv=kf)\n",
    "rmse = np.sqrt(mean_squared_error(y, oof_pred))\n",
    "meta_model.fit(oof_df, y)"
   ]
  },
  {
   "cell_type": "markdown",
   "id": "736ca7fc",
   "metadata": {
    "papermill": {
     "duration": 0.007524,
     "end_time": "2025-04-30T12:12:19.833868",
     "exception": false,
     "start_time": "2025-04-30T12:12:19.826344",
     "status": "completed"
    },
    "tags": []
   },
   "source": [
    "## Final Submission"
   ]
  },
  {
   "cell_type": "code",
   "execution_count": 35,
   "id": "da08746d",
   "metadata": {
    "execution": {
     "iopub.execute_input": "2025-04-30T12:12:19.850211Z",
     "iopub.status.busy": "2025-04-30T12:12:19.849966Z",
     "iopub.status.idle": "2025-04-30T12:12:19.980384Z",
     "shell.execute_reply": "2025-04-30T12:12:19.979372Z"
    },
    "papermill": {
     "duration": 0.140249,
     "end_time": "2025-04-30T12:12:19.981970",
     "exception": false,
     "start_time": "2025-04-30T12:12:19.841721",
     "status": "completed"
    },
    "tags": []
   },
   "outputs": [
    {
     "name": "stdout",
     "output_type": "stream",
     "text": [
      "Your submission was successfully saved!\n"
     ]
    }
   ],
   "source": [
    "y_pred = pd.Series(meta_model.predict(test_pred_df), index=test_pred_df.index)\n",
    "sub = pd.read_csv('/kaggle/input/playground-series-s5e4/sample_submission.csv')\n",
    "sub['Listening_Time_minutes'] = y_pred\n",
    "sub.to_csv('submission.csv', index=False)\n",
    "print(\"Your submission was successfully saved!\")"
   ]
  }
 ],
 "metadata": {
  "kaggle": {
   "accelerator": "nvidiaTeslaT4",
   "dataSources": [
    {
     "databundleVersionId": 11351736,
     "sourceId": 91715,
     "sourceType": "competition"
    }
   ],
   "dockerImageVersionId": 30919,
   "isGpuEnabled": true,
   "isInternetEnabled": true,
   "language": "python",
   "sourceType": "notebook"
  },
  "kernelspec": {
   "display_name": "Python 3",
   "language": "python",
   "name": "python3"
  },
  "language_info": {
   "codemirror_mode": {
    "name": "ipython",
    "version": 3
   },
   "file_extension": ".py",
   "mimetype": "text/x-python",
   "name": "python",
   "nbconvert_exporter": "python",
   "pygments_lexer": "ipython3",
   "version": "3.10.12"
  },
  "papermill": {
   "default_parameters": {},
   "duration": 554.296667,
   "end_time": "2025-04-30T12:12:22.723521",
   "environment_variables": {},
   "exception": null,
   "input_path": "__notebook__.ipynb",
   "output_path": "__notebook__.ipynb",
   "parameters": {},
   "start_time": "2025-04-30T12:03:08.426854",
   "version": "2.6.0"
  }
 },
 "nbformat": 4,
 "nbformat_minor": 5
}
