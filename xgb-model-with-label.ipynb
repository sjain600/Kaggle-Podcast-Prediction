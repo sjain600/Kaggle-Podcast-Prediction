{
 "cells": [
  {
   "cell_type": "code",
   "execution_count": 1,
   "id": "05e0adbf",
   "metadata": {
    "execution": {
     "iopub.execute_input": "2025-04-14T05:17:17.848550Z",
     "iopub.status.busy": "2025-04-14T05:17:17.848035Z",
     "iopub.status.idle": "2025-04-14T05:17:29.455965Z",
     "shell.execute_reply": "2025-04-14T05:17:29.454856Z"
    },
    "papermill": {
     "duration": 11.615881,
     "end_time": "2025-04-14T05:17:29.457459",
     "exception": false,
     "start_time": "2025-04-14T05:17:17.841578",
     "status": "completed"
    },
    "tags": []
   },
   "outputs": [
    {
     "name": "stdout",
     "output_type": "stream",
     "text": [
      "/kaggle/input/playground-series-s5e4/sample_submission.csv\n",
      "/kaggle/input/playground-series-s5e4/train.csv\n",
      "/kaggle/input/playground-series-s5e4/test.csv\n"
     ]
    }
   ],
   "source": [
    "# This Python 3 environment comes with many helpful analytics libraries installed\n",
    "# It is defined by the kaggle/python Docker image: https://github.com/kaggle/docker-python\n",
    "# For example, here's several helpful packages to load\n",
    "%load_ext cudf.pandas\n",
    "import numpy as np # linear algebra\n",
    "import pandas as pd # data processing, CSV file I/O (e.g. pd.read_csv)\n",
    "import matplotlib.pyplot as plt\n",
    "\n",
    "# Input data files are available in the read-only \"../input/\" directory\n",
    "# For example, running this (by clicking run or pressing Shift+Enter) will list all files under the input directory\n",
    "\n",
    "import os\n",
    "for dirname, _, filenames in os.walk('/kaggle/input'):\n",
    "    for filename in filenames:\n",
    "        print(os.path.join(dirname, filename))\n",
    "        \n",
    "import warnings\n",
    "warnings.filterwarnings(\"ignore\")\n",
    "\n",
    "# You can write up to 20GB to the current directory (/kaggle/working/) that gets preserved as output when you create a version using \"Save & Run All\" \n",
    "# You can also write temporary files to /kaggle/temp/, but they won't be saved outside of the current session"
   ]
  },
  {
   "cell_type": "code",
   "execution_count": 2,
   "id": "d912641d",
   "metadata": {
    "execution": {
     "iopub.execute_input": "2025-04-14T05:17:29.467988Z",
     "iopub.status.busy": "2025-04-14T05:17:29.467541Z",
     "iopub.status.idle": "2025-04-14T05:17:30.267886Z",
     "shell.execute_reply": "2025-04-14T05:17:30.267165Z"
    },
    "papermill": {
     "duration": 0.807147,
     "end_time": "2025-04-14T05:17:30.269445",
     "exception": false,
     "start_time": "2025-04-14T05:17:29.462298",
     "status": "completed"
    },
    "tags": []
   },
   "outputs": [],
   "source": [
    "train = pd.read_csv('/kaggle/input/playground-series-s5e4/train.csv')\n",
    "test = pd.read_csv('/kaggle/input/playground-series-s5e4/test.csv')\n",
    "all_data = pd.concat([train, test], axis=0)"
   ]
  },
  {
   "cell_type": "code",
   "execution_count": 3,
   "id": "75cd0709",
   "metadata": {
    "execution": {
     "iopub.execute_input": "2025-04-14T05:17:30.279371Z",
     "iopub.status.busy": "2025-04-14T05:17:30.279122Z",
     "iopub.status.idle": "2025-04-14T05:17:30.459655Z",
     "shell.execute_reply": "2025-04-14T05:17:30.458760Z"
    },
    "papermill": {
     "duration": 0.187108,
     "end_time": "2025-04-14T05:17:30.461177",
     "exception": false,
     "start_time": "2025-04-14T05:17:30.274069",
     "status": "completed"
    },
    "tags": []
   },
   "outputs": [
    {
     "data": {
      "text/html": [
       "<div>\n",
       "<style scoped>\n",
       "    .dataframe tbody tr th:only-of-type {\n",
       "        vertical-align: middle;\n",
       "    }\n",
       "\n",
       "    .dataframe tbody tr th {\n",
       "        vertical-align: top;\n",
       "    }\n",
       "\n",
       "    .dataframe thead th {\n",
       "        text-align: right;\n",
       "    }\n",
       "</style>\n",
       "<table border=\"1\" class=\"dataframe\">\n",
       "  <thead>\n",
       "    <tr style=\"text-align: right;\">\n",
       "      <th></th>\n",
       "      <th>id</th>\n",
       "      <th>Podcast_Name</th>\n",
       "      <th>Episode_Title</th>\n",
       "      <th>Episode_Length_minutes</th>\n",
       "      <th>Genre</th>\n",
       "      <th>Host_Popularity_percentage</th>\n",
       "      <th>Publication_Day</th>\n",
       "      <th>Publication_Time</th>\n",
       "      <th>Guest_Popularity_percentage</th>\n",
       "      <th>Number_of_Ads</th>\n",
       "      <th>Episode_Sentiment</th>\n",
       "      <th>Listening_Time_minutes</th>\n",
       "    </tr>\n",
       "  </thead>\n",
       "  <tbody>\n",
       "    <tr>\n",
       "      <th>0</th>\n",
       "      <td>0</td>\n",
       "      <td>Mystery Matters</td>\n",
       "      <td>Episode 98</td>\n",
       "      <td>&lt;NA&gt;</td>\n",
       "      <td>True Crime</td>\n",
       "      <td>74.81</td>\n",
       "      <td>Thursday</td>\n",
       "      <td>Night</td>\n",
       "      <td>&lt;NA&gt;</td>\n",
       "      <td>0.0</td>\n",
       "      <td>Positive</td>\n",
       "      <td>31.41998</td>\n",
       "    </tr>\n",
       "    <tr>\n",
       "      <th>1</th>\n",
       "      <td>1</td>\n",
       "      <td>Joke Junction</td>\n",
       "      <td>Episode 26</td>\n",
       "      <td>119.8</td>\n",
       "      <td>Comedy</td>\n",
       "      <td>66.95</td>\n",
       "      <td>Saturday</td>\n",
       "      <td>Afternoon</td>\n",
       "      <td>75.95</td>\n",
       "      <td>2.0</td>\n",
       "      <td>Negative</td>\n",
       "      <td>88.01241</td>\n",
       "    </tr>\n",
       "    <tr>\n",
       "      <th>2</th>\n",
       "      <td>2</td>\n",
       "      <td>Study Sessions</td>\n",
       "      <td>Episode 16</td>\n",
       "      <td>73.9</td>\n",
       "      <td>Education</td>\n",
       "      <td>69.97</td>\n",
       "      <td>Tuesday</td>\n",
       "      <td>Evening</td>\n",
       "      <td>8.97</td>\n",
       "      <td>0.0</td>\n",
       "      <td>Negative</td>\n",
       "      <td>44.92531</td>\n",
       "    </tr>\n",
       "    <tr>\n",
       "      <th>3</th>\n",
       "      <td>3</td>\n",
       "      <td>Digital Digest</td>\n",
       "      <td>Episode 45</td>\n",
       "      <td>67.17</td>\n",
       "      <td>Technology</td>\n",
       "      <td>57.22</td>\n",
       "      <td>Monday</td>\n",
       "      <td>Morning</td>\n",
       "      <td>78.7</td>\n",
       "      <td>2.0</td>\n",
       "      <td>Positive</td>\n",
       "      <td>46.27824</td>\n",
       "    </tr>\n",
       "    <tr>\n",
       "      <th>4</th>\n",
       "      <td>4</td>\n",
       "      <td>Mind &amp; Body</td>\n",
       "      <td>Episode 86</td>\n",
       "      <td>110.51</td>\n",
       "      <td>Health</td>\n",
       "      <td>80.07</td>\n",
       "      <td>Monday</td>\n",
       "      <td>Afternoon</td>\n",
       "      <td>58.68</td>\n",
       "      <td>3.0</td>\n",
       "      <td>Neutral</td>\n",
       "      <td>75.61031</td>\n",
       "    </tr>\n",
       "  </tbody>\n",
       "</table>\n",
       "</div>"
      ],
      "text/plain": [
       "   id     Podcast_Name Episode_Title Episode_Length_minutes       Genre  \\\n",
       "0   0  Mystery Matters    Episode 98                   <NA>  True Crime   \n",
       "1   1    Joke Junction    Episode 26                  119.8      Comedy   \n",
       "2   2   Study Sessions    Episode 16                   73.9   Education   \n",
       "3   3   Digital Digest    Episode 45                  67.17  Technology   \n",
       "4   4      Mind & Body    Episode 86                 110.51      Health   \n",
       "\n",
       "   Host_Popularity_percentage Publication_Day Publication_Time  \\\n",
       "0                       74.81        Thursday            Night   \n",
       "1                       66.95        Saturday        Afternoon   \n",
       "2                       69.97         Tuesday          Evening   \n",
       "3                       57.22          Monday          Morning   \n",
       "4                       80.07          Monday        Afternoon   \n",
       "\n",
       "  Guest_Popularity_percentage  Number_of_Ads Episode_Sentiment  \\\n",
       "0                        <NA>            0.0          Positive   \n",
       "1                       75.95            2.0          Negative   \n",
       "2                        8.97            0.0          Negative   \n",
       "3                        78.7            2.0          Positive   \n",
       "4                       58.68            3.0           Neutral   \n",
       "\n",
       "   Listening_Time_minutes  \n",
       "0                31.41998  \n",
       "1                88.01241  \n",
       "2                44.92531  \n",
       "3                46.27824  \n",
       "4                75.61031  "
      ]
     },
     "execution_count": 3,
     "metadata": {},
     "output_type": "execute_result"
    }
   ],
   "source": [
    "all_data.head()"
   ]
  },
  {
   "cell_type": "markdown",
   "id": "7f2de668",
   "metadata": {
    "papermill": {
     "duration": 0.004228,
     "end_time": "2025-04-14T05:17:30.470059",
     "exception": false,
     "start_time": "2025-04-14T05:17:30.465831",
     "status": "completed"
    },
    "tags": []
   },
   "source": [
    "## Data Understanding"
   ]
  },
  {
   "cell_type": "code",
   "execution_count": 4,
   "id": "34031dbe",
   "metadata": {
    "execution": {
     "iopub.execute_input": "2025-04-14T05:17:30.480282Z",
     "iopub.status.busy": "2025-04-14T05:17:30.480050Z",
     "iopub.status.idle": "2025-04-14T05:17:31.918582Z",
     "shell.execute_reply": "2025-04-14T05:17:31.917746Z"
    },
    "papermill": {
     "duration": 1.445398,
     "end_time": "2025-04-14T05:17:31.919987",
     "exception": false,
     "start_time": "2025-04-14T05:17:30.474589",
     "status": "completed"
    },
    "tags": []
   },
   "outputs": [
    {
     "data": {
      "text/html": [
       "<div>\n",
       "<style scoped>\n",
       "    .dataframe tbody tr th:only-of-type {\n",
       "        vertical-align: middle;\n",
       "    }\n",
       "\n",
       "    .dataframe tbody tr th {\n",
       "        vertical-align: top;\n",
       "    }\n",
       "\n",
       "    .dataframe thead th {\n",
       "        text-align: right;\n",
       "    }\n",
       "</style>\n",
       "<table border=\"1\" class=\"dataframe\">\n",
       "  <thead>\n",
       "    <tr style=\"text-align: right;\">\n",
       "      <th></th>\n",
       "      <th>id</th>\n",
       "      <th>Podcast_Name</th>\n",
       "      <th>Episode_Title</th>\n",
       "      <th>Episode_Length_minutes</th>\n",
       "      <th>Genre</th>\n",
       "      <th>Host_Popularity_percentage</th>\n",
       "      <th>Publication_Day</th>\n",
       "      <th>Publication_Time</th>\n",
       "      <th>Guest_Popularity_percentage</th>\n",
       "      <th>Number_of_Ads</th>\n",
       "      <th>Episode_Sentiment</th>\n",
       "      <th>Listening_Time_minutes</th>\n",
       "    </tr>\n",
       "  </thead>\n",
       "  <tbody>\n",
       "    <tr>\n",
       "      <th>24940</th>\n",
       "      <td>24940</td>\n",
       "      <td>Sports Weekly</td>\n",
       "      <td>Episode 94</td>\n",
       "      <td>15.24</td>\n",
       "      <td>Sports</td>\n",
       "      <td>33.83</td>\n",
       "      <td>Sunday</td>\n",
       "      <td>Night</td>\n",
       "      <td>95.14</td>\n",
       "      <td>2.0</td>\n",
       "      <td>Negative</td>\n",
       "      <td>2.49232</td>\n",
       "    </tr>\n",
       "    <tr>\n",
       "      <th>283885</th>\n",
       "      <td>283885</td>\n",
       "      <td>Market Masters</td>\n",
       "      <td>Episode 80</td>\n",
       "      <td>101.57</td>\n",
       "      <td>Business</td>\n",
       "      <td>81.92</td>\n",
       "      <td>Tuesday</td>\n",
       "      <td>Morning</td>\n",
       "      <td>10.98</td>\n",
       "      <td>3.0</td>\n",
       "      <td>Negative</td>\n",
       "      <td>63.93965</td>\n",
       "    </tr>\n",
       "    <tr>\n",
       "      <th>365444</th>\n",
       "      <td>365444</td>\n",
       "      <td>Current Affairs</td>\n",
       "      <td>Episode 37</td>\n",
       "      <td>62.10</td>\n",
       "      <td>News</td>\n",
       "      <td>39.38</td>\n",
       "      <td>Sunday</td>\n",
       "      <td>Morning</td>\n",
       "      <td>69.3</td>\n",
       "      <td>2.0</td>\n",
       "      <td>Positive</td>\n",
       "      <td>47.35639</td>\n",
       "    </tr>\n",
       "    <tr>\n",
       "      <th>17572</th>\n",
       "      <td>17572</td>\n",
       "      <td>Learning Lab</td>\n",
       "      <td>Episode 8</td>\n",
       "      <td>70.05</td>\n",
       "      <td>Education</td>\n",
       "      <td>34.87</td>\n",
       "      <td>Wednesday</td>\n",
       "      <td>Afternoon</td>\n",
       "      <td>&lt;NA&gt;</td>\n",
       "      <td>2.0</td>\n",
       "      <td>Positive</td>\n",
       "      <td>56.69859</td>\n",
       "    </tr>\n",
       "    <tr>\n",
       "      <th>679834</th>\n",
       "      <td>679834</td>\n",
       "      <td>Style Guide</td>\n",
       "      <td>Episode 85</td>\n",
       "      <td>14.48</td>\n",
       "      <td>Lifestyle</td>\n",
       "      <td>39.14</td>\n",
       "      <td>Monday</td>\n",
       "      <td>Night</td>\n",
       "      <td>50.72</td>\n",
       "      <td>1.0</td>\n",
       "      <td>Negative</td>\n",
       "      <td>13.79000</td>\n",
       "    </tr>\n",
       "    <tr>\n",
       "      <th>472284</th>\n",
       "      <td>472284</td>\n",
       "      <td>Detective Diaries</td>\n",
       "      <td>Episode 58</td>\n",
       "      <td>36.61</td>\n",
       "      <td>True Crime</td>\n",
       "      <td>79.96</td>\n",
       "      <td>Thursday</td>\n",
       "      <td>Afternoon</td>\n",
       "      <td>38.85</td>\n",
       "      <td>3.0</td>\n",
       "      <td>Positive</td>\n",
       "      <td>15.90571</td>\n",
       "    </tr>\n",
       "    <tr>\n",
       "      <th>137477</th>\n",
       "      <td>137477</td>\n",
       "      <td>Fitness First</td>\n",
       "      <td>Episode 99</td>\n",
       "      <td>117.60</td>\n",
       "      <td>Health</td>\n",
       "      <td>49.66</td>\n",
       "      <td>Friday</td>\n",
       "      <td>Night</td>\n",
       "      <td>74.84</td>\n",
       "      <td>2.0</td>\n",
       "      <td>Neutral</td>\n",
       "      <td>86.12590</td>\n",
       "    </tr>\n",
       "    <tr>\n",
       "      <th>631822</th>\n",
       "      <td>631822</td>\n",
       "      <td>Humor Hub</td>\n",
       "      <td>Episode 91</td>\n",
       "      <td>41.09</td>\n",
       "      <td>Comedy</td>\n",
       "      <td>92.10</td>\n",
       "      <td>Wednesday</td>\n",
       "      <td>Morning</td>\n",
       "      <td>82.86</td>\n",
       "      <td>3.0</td>\n",
       "      <td>Negative</td>\n",
       "      <td>22.73159</td>\n",
       "    </tr>\n",
       "    <tr>\n",
       "      <th>410561</th>\n",
       "      <td>410561</td>\n",
       "      <td>Detective Diaries</td>\n",
       "      <td>Episode 80</td>\n",
       "      <td>34.14</td>\n",
       "      <td>True Crime</td>\n",
       "      <td>35.63</td>\n",
       "      <td>Monday</td>\n",
       "      <td>Afternoon</td>\n",
       "      <td>50.88</td>\n",
       "      <td>1.0</td>\n",
       "      <td>Positive</td>\n",
       "      <td>13.50000</td>\n",
       "    </tr>\n",
       "    <tr>\n",
       "      <th>474238</th>\n",
       "      <td>474238</td>\n",
       "      <td>Finance Focus</td>\n",
       "      <td>Episode 16</td>\n",
       "      <td>97.78</td>\n",
       "      <td>Business</td>\n",
       "      <td>34.50</td>\n",
       "      <td>Saturday</td>\n",
       "      <td>Afternoon</td>\n",
       "      <td>15.84</td>\n",
       "      <td>2.0</td>\n",
       "      <td>Positive</td>\n",
       "      <td>64.03376</td>\n",
       "    </tr>\n",
       "  </tbody>\n",
       "</table>\n",
       "</div>"
      ],
      "text/plain": [
       "            id       Podcast_Name Episode_Title  Episode_Length_minutes  \\\n",
       "24940    24940      Sports Weekly    Episode 94                   15.24   \n",
       "283885  283885     Market Masters    Episode 80                  101.57   \n",
       "365444  365444    Current Affairs    Episode 37                   62.10   \n",
       "17572    17572       Learning Lab     Episode 8                   70.05   \n",
       "679834  679834        Style Guide    Episode 85                   14.48   \n",
       "472284  472284  Detective Diaries    Episode 58                   36.61   \n",
       "137477  137477      Fitness First    Episode 99                  117.60   \n",
       "631822  631822          Humor Hub    Episode 91                   41.09   \n",
       "410561  410561  Detective Diaries    Episode 80                   34.14   \n",
       "474238  474238      Finance Focus    Episode 16                   97.78   \n",
       "\n",
       "             Genre  Host_Popularity_percentage Publication_Day  \\\n",
       "24940       Sports                       33.83          Sunday   \n",
       "283885    Business                       81.92         Tuesday   \n",
       "365444        News                       39.38          Sunday   \n",
       "17572    Education                       34.87       Wednesday   \n",
       "679834   Lifestyle                       39.14          Monday   \n",
       "472284  True Crime                       79.96        Thursday   \n",
       "137477      Health                       49.66          Friday   \n",
       "631822      Comedy                       92.10       Wednesday   \n",
       "410561  True Crime                       35.63          Monday   \n",
       "474238    Business                       34.50        Saturday   \n",
       "\n",
       "       Publication_Time Guest_Popularity_percentage  Number_of_Ads  \\\n",
       "24940             Night                       95.14            2.0   \n",
       "283885          Morning                       10.98            3.0   \n",
       "365444          Morning                        69.3            2.0   \n",
       "17572         Afternoon                        <NA>            2.0   \n",
       "679834            Night                       50.72            1.0   \n",
       "472284        Afternoon                       38.85            3.0   \n",
       "137477            Night                       74.84            2.0   \n",
       "631822          Morning                       82.86            3.0   \n",
       "410561        Afternoon                       50.88            1.0   \n",
       "474238        Afternoon                       15.84            2.0   \n",
       "\n",
       "       Episode_Sentiment  Listening_Time_minutes  \n",
       "24940           Negative                 2.49232  \n",
       "283885          Negative                63.93965  \n",
       "365444          Positive                47.35639  \n",
       "17572           Positive                56.69859  \n",
       "679834          Negative                13.79000  \n",
       "472284          Positive                15.90571  \n",
       "137477           Neutral                86.12590  \n",
       "631822          Negative                22.73159  \n",
       "410561          Positive                13.50000  \n",
       "474238          Positive                64.03376  "
      ]
     },
     "execution_count": 4,
     "metadata": {},
     "output_type": "execute_result"
    }
   ],
   "source": [
    "train.sample(10)"
   ]
  },
  {
   "cell_type": "code",
   "execution_count": 5,
   "id": "687b3b21",
   "metadata": {
    "execution": {
     "iopub.execute_input": "2025-04-14T05:17:31.930852Z",
     "iopub.status.busy": "2025-04-14T05:17:31.930589Z",
     "iopub.status.idle": "2025-04-14T05:17:33.006833Z",
     "shell.execute_reply": "2025-04-14T05:17:33.005935Z"
    },
    "papermill": {
     "duration": 1.083928,
     "end_time": "2025-04-14T05:17:33.008936",
     "exception": false,
     "start_time": "2025-04-14T05:17:31.925008",
     "status": "completed"
    },
    "tags": []
   },
   "outputs": [
    {
     "data": {
      "text/html": [
       "<div>\n",
       "<style scoped>\n",
       "    .dataframe tbody tr th:only-of-type {\n",
       "        vertical-align: middle;\n",
       "    }\n",
       "\n",
       "    .dataframe tbody tr th {\n",
       "        vertical-align: top;\n",
       "    }\n",
       "\n",
       "    .dataframe thead th {\n",
       "        text-align: right;\n",
       "    }\n",
       "</style>\n",
       "<table border=\"1\" class=\"dataframe\">\n",
       "  <thead>\n",
       "    <tr style=\"text-align: right;\">\n",
       "      <th></th>\n",
       "      <th>id</th>\n",
       "      <th>Episode_Length_minutes</th>\n",
       "      <th>Host_Popularity_percentage</th>\n",
       "      <th>Guest_Popularity_percentage</th>\n",
       "      <th>Number_of_Ads</th>\n",
       "      <th>Listening_Time_minutes</th>\n",
       "    </tr>\n",
       "  </thead>\n",
       "  <tbody>\n",
       "    <tr>\n",
       "      <th>count</th>\n",
       "      <td>750000.000000</td>\n",
       "      <td>662907.000000</td>\n",
       "      <td>750000.000000</td>\n",
       "      <td>603970.000000</td>\n",
       "      <td>749999.000000</td>\n",
       "      <td>750000.000000</td>\n",
       "    </tr>\n",
       "    <tr>\n",
       "      <th>mean</th>\n",
       "      <td>374999.500000</td>\n",
       "      <td>64.504738</td>\n",
       "      <td>59.859901</td>\n",
       "      <td>52.236449</td>\n",
       "      <td>1.348855</td>\n",
       "      <td>45.437406</td>\n",
       "    </tr>\n",
       "    <tr>\n",
       "      <th>std</th>\n",
       "      <td>216506.495284</td>\n",
       "      <td>32.969603</td>\n",
       "      <td>22.873098</td>\n",
       "      <td>28.451241</td>\n",
       "      <td>1.151130</td>\n",
       "      <td>27.138306</td>\n",
       "    </tr>\n",
       "    <tr>\n",
       "      <th>min</th>\n",
       "      <td>0.000000</td>\n",
       "      <td>0.000000</td>\n",
       "      <td>1.300000</td>\n",
       "      <td>0.000000</td>\n",
       "      <td>0.000000</td>\n",
       "      <td>0.000000</td>\n",
       "    </tr>\n",
       "    <tr>\n",
       "      <th>25%</th>\n",
       "      <td>187499.750000</td>\n",
       "      <td>35.730000</td>\n",
       "      <td>39.410000</td>\n",
       "      <td>28.380000</td>\n",
       "      <td>0.000000</td>\n",
       "      <td>23.178350</td>\n",
       "    </tr>\n",
       "    <tr>\n",
       "      <th>50%</th>\n",
       "      <td>374999.500000</td>\n",
       "      <td>63.840000</td>\n",
       "      <td>60.050000</td>\n",
       "      <td>53.580000</td>\n",
       "      <td>1.000000</td>\n",
       "      <td>43.379460</td>\n",
       "    </tr>\n",
       "    <tr>\n",
       "      <th>75%</th>\n",
       "      <td>562499.250000</td>\n",
       "      <td>94.070000</td>\n",
       "      <td>79.530000</td>\n",
       "      <td>76.600000</td>\n",
       "      <td>2.000000</td>\n",
       "      <td>64.811580</td>\n",
       "    </tr>\n",
       "    <tr>\n",
       "      <th>max</th>\n",
       "      <td>749999.000000</td>\n",
       "      <td>325.240000</td>\n",
       "      <td>119.460000</td>\n",
       "      <td>119.910000</td>\n",
       "      <td>103.910000</td>\n",
       "      <td>119.970000</td>\n",
       "    </tr>\n",
       "  </tbody>\n",
       "</table>\n",
       "</div>"
      ],
      "text/plain": [
       "                  id  Episode_Length_minutes  Host_Popularity_percentage  \\\n",
       "count  750000.000000           662907.000000               750000.000000   \n",
       "mean   374999.500000               64.504738                   59.859901   \n",
       "std    216506.495284               32.969603                   22.873098   \n",
       "min         0.000000                0.000000                    1.300000   \n",
       "25%    187499.750000               35.730000                   39.410000   \n",
       "50%    374999.500000               63.840000                   60.050000   \n",
       "75%    562499.250000               94.070000                   79.530000   \n",
       "max    749999.000000              325.240000                  119.460000   \n",
       "\n",
       "       Guest_Popularity_percentage  Number_of_Ads  Listening_Time_minutes  \n",
       "count                603970.000000  749999.000000           750000.000000  \n",
       "mean                     52.236449       1.348855               45.437406  \n",
       "std                      28.451241       1.151130               27.138306  \n",
       "min                       0.000000       0.000000                0.000000  \n",
       "25%                      28.380000       0.000000               23.178350  \n",
       "50%                      53.580000       1.000000               43.379460  \n",
       "75%                      76.600000       2.000000               64.811580  \n",
       "max                     119.910000     103.910000              119.970000  "
      ]
     },
     "execution_count": 5,
     "metadata": {},
     "output_type": "execute_result"
    }
   ],
   "source": [
    "train.describe()"
   ]
  },
  {
   "cell_type": "code",
   "execution_count": 6,
   "id": "ef57b18e",
   "metadata": {
    "execution": {
     "iopub.execute_input": "2025-04-14T05:17:33.026237Z",
     "iopub.status.busy": "2025-04-14T05:17:33.025966Z",
     "iopub.status.idle": "2025-04-14T05:17:33.031032Z",
     "shell.execute_reply": "2025-04-14T05:17:33.030317Z"
    },
    "papermill": {
     "duration": 0.012182,
     "end_time": "2025-04-14T05:17:33.032309",
     "exception": false,
     "start_time": "2025-04-14T05:17:33.020127",
     "status": "completed"
    },
    "tags": []
   },
   "outputs": [
    {
     "data": {
      "text/plain": [
       "(750000, 12)"
      ]
     },
     "execution_count": 6,
     "metadata": {},
     "output_type": "execute_result"
    }
   ],
   "source": [
    "train.shape"
   ]
  },
  {
   "cell_type": "code",
   "execution_count": 7,
   "id": "671b31c6",
   "metadata": {
    "execution": {
     "iopub.execute_input": "2025-04-14T05:17:33.044049Z",
     "iopub.status.busy": "2025-04-14T05:17:33.043790Z",
     "iopub.status.idle": "2025-04-14T05:17:33.048545Z",
     "shell.execute_reply": "2025-04-14T05:17:33.047741Z"
    },
    "papermill": {
     "duration": 0.012222,
     "end_time": "2025-04-14T05:17:33.049936",
     "exception": false,
     "start_time": "2025-04-14T05:17:33.037714",
     "status": "completed"
    },
    "tags": []
   },
   "outputs": [
    {
     "data": {
      "text/plain": [
       "(250000, 11)"
      ]
     },
     "execution_count": 7,
     "metadata": {},
     "output_type": "execute_result"
    }
   ],
   "source": [
    "test.shape"
   ]
  },
  {
   "cell_type": "code",
   "execution_count": 8,
   "id": "ec572f51",
   "metadata": {
    "execution": {
     "iopub.execute_input": "2025-04-14T05:17:33.061426Z",
     "iopub.status.busy": "2025-04-14T05:17:33.061200Z",
     "iopub.status.idle": "2025-04-14T05:17:33.083103Z",
     "shell.execute_reply": "2025-04-14T05:17:33.082154Z"
    },
    "papermill": {
     "duration": 0.029146,
     "end_time": "2025-04-14T05:17:33.084459",
     "exception": false,
     "start_time": "2025-04-14T05:17:33.055313",
     "status": "completed"
    },
    "tags": []
   },
   "outputs": [
    {
     "name": "stdout",
     "output_type": "stream",
     "text": [
      "<class 'cudf.core.dataframe.DataFrame'>\n",
      "RangeIndex: 750000 entries, 0 to 749999\n",
      "Data columns (total 12 columns):\n",
      " #   Column                       Non-Null Count   Dtype\n",
      "---  ------                       --------------   -----\n",
      " 0   id                           750000 non-null  int64\n",
      " 1   Podcast_Name                 750000 non-null  object\n",
      " 2   Episode_Title                750000 non-null  object\n",
      " 3   Episode_Length_minutes       662907 non-null  float64\n",
      " 4   Genre                        750000 non-null  object\n",
      " 5   Host_Popularity_percentage   750000 non-null  float64\n",
      " 6   Publication_Day              750000 non-null  object\n",
      " 7   Publication_Time             750000 non-null  object\n",
      " 8   Guest_Popularity_percentage  603970 non-null  float64\n",
      " 9   Number_of_Ads                749999 non-null  float64\n",
      " 10  Episode_Sentiment            750000 non-null  object\n",
      " 11  Listening_Time_minutes       750000 non-null  float64\n",
      "dtypes: float64(5), int64(1), object(6)\n",
      "memory usage: 88.8+ MB\n"
     ]
    }
   ],
   "source": [
    "train.info()"
   ]
  },
  {
   "cell_type": "code",
   "execution_count": 9,
   "id": "3186ecf6",
   "metadata": {
    "execution": {
     "iopub.execute_input": "2025-04-14T05:17:33.096349Z",
     "iopub.status.busy": "2025-04-14T05:17:33.096107Z",
     "iopub.status.idle": "2025-04-14T05:17:33.201581Z",
     "shell.execute_reply": "2025-04-14T05:17:33.200728Z"
    },
    "papermill": {
     "duration": 0.112899,
     "end_time": "2025-04-14T05:17:33.203136",
     "exception": false,
     "start_time": "2025-04-14T05:17:33.090237",
     "status": "completed"
    },
    "tags": []
   },
   "outputs": [
    {
     "data": {
      "text/plain": [
       "id                                  0\n",
       "Podcast_Name                        0\n",
       "Episode_Title                       0\n",
       "Episode_Length_minutes          87093\n",
       "Genre                               0\n",
       "Host_Popularity_percentage          0\n",
       "Publication_Day                     0\n",
       "Publication_Time                    0\n",
       "Guest_Popularity_percentage    146030\n",
       "Number_of_Ads                       1\n",
       "Episode_Sentiment                   0\n",
       "Listening_Time_minutes              0\n",
       "dtype: int64"
      ]
     },
     "execution_count": 9,
     "metadata": {},
     "output_type": "execute_result"
    }
   ],
   "source": [
    "train.isnull().sum()"
   ]
  },
  {
   "cell_type": "code",
   "execution_count": 10,
   "id": "214e3171",
   "metadata": {
    "execution": {
     "iopub.execute_input": "2025-04-14T05:17:33.217298Z",
     "iopub.status.busy": "2025-04-14T05:17:33.217041Z",
     "iopub.status.idle": "2025-04-14T05:17:33.305530Z",
     "shell.execute_reply": "2025-04-14T05:17:33.304609Z"
    },
    "papermill": {
     "duration": 0.097697,
     "end_time": "2025-04-14T05:17:33.307282",
     "exception": false,
     "start_time": "2025-04-14T05:17:33.209585",
     "status": "completed"
    },
    "tags": []
   },
   "outputs": [
    {
     "data": {
      "text/plain": [
       "id                                 0\n",
       "Podcast_Name                       0\n",
       "Episode_Title                      0\n",
       "Episode_Length_minutes         28736\n",
       "Genre                              0\n",
       "Host_Popularity_percentage         0\n",
       "Publication_Day                    0\n",
       "Publication_Time                   0\n",
       "Guest_Popularity_percentage    48832\n",
       "Number_of_Ads                      0\n",
       "Episode_Sentiment                  0\n",
       "dtype: int64"
      ]
     },
     "execution_count": 10,
     "metadata": {},
     "output_type": "execute_result"
    }
   ],
   "source": [
    "test.isnull().sum()"
   ]
  },
  {
   "cell_type": "markdown",
   "id": "065683c4",
   "metadata": {
    "papermill": {
     "duration": 0.006489,
     "end_time": "2025-04-14T05:17:33.320590",
     "exception": false,
     "start_time": "2025-04-14T05:17:33.314101",
     "status": "completed"
    },
    "tags": []
   },
   "source": [
    "## Data Preparation"
   ]
  },
  {
   "cell_type": "code",
   "execution_count": 11,
   "id": "d52d4388",
   "metadata": {
    "execution": {
     "iopub.execute_input": "2025-04-14T05:17:33.334837Z",
     "iopub.status.busy": "2025-04-14T05:17:33.334503Z",
     "iopub.status.idle": "2025-04-14T05:17:38.763598Z",
     "shell.execute_reply": "2025-04-14T05:17:38.762841Z"
    },
    "papermill": {
     "duration": 5.438128,
     "end_time": "2025-04-14T05:17:38.765389",
     "exception": false,
     "start_time": "2025-04-14T05:17:33.327261",
     "status": "completed"
    },
    "tags": []
   },
   "outputs": [],
   "source": [
    "from sklearn.impute import SimpleImputer\n",
    "\n",
    "impute = SimpleImputer(strategy='median')\n",
    "num_cols = test.select_dtypes(include=['float64']).columns\n",
    "train[num_cols] = impute.fit_transform(train[num_cols])\n",
    "test[num_cols] = impute.fit_transform(test[num_cols])"
   ]
  },
  {
   "cell_type": "markdown",
   "id": "25e19778",
   "metadata": {
    "papermill": {
     "duration": 0.006223,
     "end_time": "2025-04-14T05:17:38.778485",
     "exception": false,
     "start_time": "2025-04-14T05:17:38.772262",
     "status": "completed"
    },
    "tags": []
   },
   "source": [
    "## Feature engineering"
   ]
  },
  {
   "cell_type": "code",
   "execution_count": 12,
   "id": "a3ef0850",
   "metadata": {
    "execution": {
     "iopub.execute_input": "2025-04-14T05:17:38.790725Z",
     "iopub.status.busy": "2025-04-14T05:17:38.790270Z",
     "iopub.status.idle": "2025-04-14T05:17:38.795753Z",
     "shell.execute_reply": "2025-04-14T05:17:38.795030Z"
    },
    "papermill": {
     "duration": 0.013141,
     "end_time": "2025-04-14T05:17:38.797178",
     "exception": false,
     "start_time": "2025-04-14T05:17:38.784037",
     "status": "completed"
    },
    "tags": []
   },
   "outputs": [],
   "source": [
    "def add_features(df):\n",
    "    df['Guest_Popularity_percentage'] =  df['Guest_Popularity_percentage'].clip(upper=100)\n",
    "    df['Host_Popularity_percentage'] =  df['Host_Popularity_percentage'].clip(upper=100)\n",
    "    df['Number_of_Ads'] = df['Number_of_Ads'].astype(int)\n",
    "    df['title_number'] = df['Episode_Title'].str.split().str[1].astype(int)\n",
    "    \n",
    "    df['IsWeekend'] = df['Publication_Day'].isin(['Saturday', 'Sunday']).astype(int)\n",
    "    \n",
    "    sentiments = {'Positive': 1, 'Neutral': 0, 'Negative': -1}\n",
    "    df['Episode_Sentiment'] = df['Episode_Sentiment'].map(sentiments)\n",
    "    \n",
    "    df['Guest_Popularity_lengthmin'] =  df['Guest_Popularity_percentage'] * df['Episode_Length_minutes']\n",
    "    df['Title_Length'] =  df['title_number'] * df['Episode_Length_minutes']\n",
    "    df['Host_Popularity_lengthmin'] =  df['Host_Popularity_percentage'] * df['Episode_Length_minutes']\n",
    "    df['Average_popularity'] = (df['Host_Popularity_percentage'] + df['Guest_Popularity_percentage']) / 2\n",
    "    df['minutes_per_ads'] = df['Episode_Length_minutes'] / (df['Number_of_Ads'] + 1) \n",
    "    \n",
    "    return df "
   ]
  },
  {
   "cell_type": "markdown",
   "id": "3182e9fc",
   "metadata": {
    "papermill": {
     "duration": 0.006691,
     "end_time": "2025-04-14T05:17:38.809262",
     "exception": false,
     "start_time": "2025-04-14T05:17:38.802571",
     "status": "completed"
    },
    "tags": []
   },
   "source": [
    "## Identifying outlier and clipping them"
   ]
  },
  {
   "cell_type": "code",
   "execution_count": 13,
   "id": "625060fe",
   "metadata": {
    "execution": {
     "iopub.execute_input": "2025-04-14T05:17:38.825850Z",
     "iopub.status.busy": "2025-04-14T05:17:38.825556Z",
     "iopub.status.idle": "2025-04-14T05:17:39.037391Z",
     "shell.execute_reply": "2025-04-14T05:17:39.036276Z"
    },
    "papermill": {
     "duration": 0.222717,
     "end_time": "2025-04-14T05:17:39.039574",
     "exception": false,
     "start_time": "2025-04-14T05:17:38.816857",
     "status": "completed"
    },
    "tags": []
   },
   "outputs": [],
   "source": [
    "for colname in test.select_dtypes(exclude=['object', 'category']).columns:\n",
    "    Q1 = all_data[colname].quantile(0.25)\n",
    "    Q3 = all_data[colname].quantile(0.75)\n",
    "    IQR = Q3 - Q1\n",
    "    lower_bound = Q1 - 1.5 * IQR\n",
    "    upper_bound = Q3 + 1.5 * IQR\n",
    "    \n",
    "    outliers = (all_data[colname] < lower_bound) | (all_data[colname] > upper_bound)\n",
    "    \n",
    "    train[colname] = train[colname].clip(lower=lower_bound, upper=upper_bound)\n",
    "    test[colname] = test[colname].clip(lower=lower_bound, upper=upper_bound)"
   ]
  },
  {
   "cell_type": "code",
   "execution_count": 14,
   "id": "f5a14586",
   "metadata": {
    "execution": {
     "iopub.execute_input": "2025-04-14T05:17:39.060881Z",
     "iopub.status.busy": "2025-04-14T05:17:39.060568Z",
     "iopub.status.idle": "2025-04-14T05:17:39.215793Z",
     "shell.execute_reply": "2025-04-14T05:17:39.214873Z"
    },
    "papermill": {
     "duration": 0.167562,
     "end_time": "2025-04-14T05:17:39.217617",
     "exception": false,
     "start_time": "2025-04-14T05:17:39.050055",
     "status": "completed"
    },
    "tags": []
   },
   "outputs": [],
   "source": [
    "cat_cols = ['Podcast_Name','Genre', 'Publication_Day', 'Publication_Time']\n",
    "for colname in cat_cols:\n",
    "    train[colname] = train[colname].astype('category')\n",
    "    test[colname] = test[colname].astype('category')"
   ]
  },
  {
   "cell_type": "code",
   "execution_count": 15,
   "id": "36225fc7",
   "metadata": {
    "execution": {
     "iopub.execute_input": "2025-04-14T05:17:39.231268Z",
     "iopub.status.busy": "2025-04-14T05:17:39.230894Z",
     "iopub.status.idle": "2025-04-14T05:17:40.160586Z",
     "shell.execute_reply": "2025-04-14T05:17:40.159535Z"
    },
    "papermill": {
     "duration": 0.938695,
     "end_time": "2025-04-14T05:17:40.162306",
     "exception": false,
     "start_time": "2025-04-14T05:17:39.223611",
     "status": "completed"
    },
    "tags": []
   },
   "outputs": [],
   "source": [
    "from sklearn.preprocessing import LabelEncoder\n",
    "\n",
    "\n",
    "cat_cols = ['Podcast_Name','Genre', 'Publication_Day', 'Publication_Time']\n",
    "for colname in cat_cols:\n",
    "    le = LabelEncoder()\n",
    "    train[colname] = le.fit_transform(train[colname])\n",
    "    test[colname] = le.transform(test[colname])"
   ]
  },
  {
   "cell_type": "markdown",
   "id": "e32eedef",
   "metadata": {
    "papermill": {
     "duration": 0.008289,
     "end_time": "2025-04-14T05:17:40.181264",
     "exception": false,
     "start_time": "2025-04-14T05:17:40.172975",
     "status": "completed"
    },
    "tags": []
   },
   "source": [
    "## Splitting the train data by KFold"
   ]
  },
  {
   "cell_type": "code",
   "execution_count": 16,
   "id": "6bf6438b",
   "metadata": {
    "execution": {
     "iopub.execute_input": "2025-04-14T05:17:40.193568Z",
     "iopub.status.busy": "2025-04-14T05:17:40.193203Z",
     "iopub.status.idle": "2025-04-14T05:17:50.718588Z",
     "shell.execute_reply": "2025-04-14T05:17:50.717815Z"
    },
    "papermill": {
     "duration": 10.533664,
     "end_time": "2025-04-14T05:17:50.720439",
     "exception": false,
     "start_time": "2025-04-14T05:17:40.186775",
     "status": "completed"
    },
    "tags": []
   },
   "outputs": [],
   "source": [
    "from sklearn.model_selection import KFold\n",
    "\n",
    "X = train.copy()\n",
    "y = X.pop('Listening_Time_minutes')\n",
    "X = add_features(X)\n",
    "X.drop('Episode_Title', axis=1, inplace=True)\n",
    "\n",
    "X_test = test.copy()\n",
    "X_test = add_features(X_test)\n",
    "X_test.drop('Episode_Title', axis=1, inplace=True)\n",
    "\n",
    "kf = KFold(n_splits=10, shuffle=True, random_state=600)\n",
    "\n",
    "for train_index, valid_index in kf.split(X, y):\n",
    "    X_train, X_valid = X.iloc[train_index], X.iloc[valid_index]\n",
    "    y_train, y_valid = y.iloc[train_index], y.iloc[valid_index]  "
   ]
  },
  {
   "cell_type": "markdown",
   "id": "d9771bcc",
   "metadata": {
    "papermill": {
     "duration": 0.005585,
     "end_time": "2025-04-14T05:17:50.732380",
     "exception": false,
     "start_time": "2025-04-14T05:17:50.726795",
     "status": "completed"
    },
    "tags": []
   },
   "source": [
    "## Target encoding"
   ]
  },
  {
   "cell_type": "code",
   "execution_count": 17,
   "id": "47c49f12",
   "metadata": {
    "execution": {
     "iopub.execute_input": "2025-04-14T05:17:50.744628Z",
     "iopub.status.busy": "2025-04-14T05:17:50.744359Z",
     "iopub.status.idle": "2025-04-14T05:17:51.412988Z",
     "shell.execute_reply": "2025-04-14T05:17:51.412254Z"
    },
    "papermill": {
     "duration": 0.676549,
     "end_time": "2025-04-14T05:17:51.414596",
     "exception": false,
     "start_time": "2025-04-14T05:17:50.738047",
     "status": "completed"
    },
    "tags": []
   },
   "outputs": [],
   "source": [
    "stats = ['mean', 'median', 'std', 'skew']\n",
    "\n",
    "train_with_target = X_train.copy()\n",
    "train_with_target['Listening_Time_minutes'] = y_train\n",
    "\n",
    "grouped_stats = train_with_target.groupby(['Episode_Length_minutes'])['Listening_Time_minutes'].agg(stats).fillna(0.0)\n",
    "grouped_stats.columns = [f'TE1_WC_{stat}' for stat in stats]\n",
    "\n",
    "grouped_stats_full = train.groupby(['Episode_Length_minutes'])['Listening_Time_minutes'].agg(stats).fillna(0.0)\n",
    "grouped_stats_full.columns = [f'TE1_WC_{stat}' for stat in stats]\n",
    "\n",
    "X_train = X_train.merge(grouped_stats, on='Episode_Length_minutes', how='left')\n",
    "X_valid = X_valid.merge(grouped_stats, on='Episode_Length_minutes', how='left')\n",
    "X_test = X_test.merge(grouped_stats_full, on='Episode_Length_minutes', how='left')"
   ]
  },
  {
   "cell_type": "code",
   "execution_count": 18,
   "id": "20a39b9c",
   "metadata": {
    "execution": {
     "iopub.execute_input": "2025-04-14T05:17:51.427012Z",
     "iopub.status.busy": "2025-04-14T05:17:51.426772Z",
     "iopub.status.idle": "2025-04-14T05:18:08.837951Z",
     "shell.execute_reply": "2025-04-14T05:18:08.837033Z"
    },
    "papermill": {
     "duration": 17.418508,
     "end_time": "2025-04-14T05:18:08.839261",
     "exception": false,
     "start_time": "2025-04-14T05:17:51.420753",
     "status": "completed"
    },
    "tags": []
   },
   "outputs": [
    {
     "name": "stdout",
     "output_type": "stream",
     "text": [
      "RMSE: 12.87480376802654\n"
     ]
    }
   ],
   "source": [
    "from xgboost import XGBRegressor\n",
    "from sklearn.metrics import mean_squared_error\n",
    "\n",
    "xgb = XGBRegressor(\n",
    "    n_estimators=386, \n",
    "    learning_rate=0.0798,\n",
    "    verbose=0, \n",
    "    reg_lambda=8.2066, \n",
    "    reg_alpha= 9.2621, \n",
    "    max_depth=11,\n",
    "    eval_metric='rmse',\n",
    "    device='cuda'\n",
    ").fit(X_train, y_train)\n",
    "\n",
    "pred_xgb = xgb.predict(X_valid)\n",
    "print(f'RMSE: {np.sqrt(mean_squared_error(y_valid, pred_xgb))}')\n"
   ]
  },
  {
   "cell_type": "code",
   "execution_count": 19,
   "id": "b30e55f0",
   "metadata": {
    "execution": {
     "iopub.execute_input": "2025-04-14T05:18:08.851916Z",
     "iopub.status.busy": "2025-04-14T05:18:08.851614Z",
     "iopub.status.idle": "2025-04-14T05:18:09.077707Z",
     "shell.execute_reply": "2025-04-14T05:18:09.076793Z"
    },
    "papermill": {
     "duration": 0.234002,
     "end_time": "2025-04-14T05:18:09.079359",
     "exception": false,
     "start_time": "2025-04-14T05:18:08.845357",
     "status": "completed"
    },
    "tags": []
   },
   "outputs": [
    {
     "name": "stdout",
     "output_type": "stream",
     "text": [
      "Index(['Genre', 'Host_Popularity_percentage', 'Publication_Day',\n",
      "       'Publication_Time', 'Guest_Popularity_percentage', 'Episode_Sentiment',\n",
      "       'title_number', 'Guest_Popularity_lengthmin', 'Title_Length',\n",
      "       'Host_Popularity_lengthmin', 'Average_popularity', 'minutes_per_ads',\n",
      "       'TE1_WC_mean', 'TE1_WC_std'],\n",
      "      dtype='object')\n"
     ]
    }
   ],
   "source": [
    "importances = xgb.feature_importances_\n",
    "columns = X_train.columns\n",
    "\n",
    "threshold = np.quantile(importances, 0.3)\n",
    "selected_features = columns[importances > threshold]\n",
    "top_X_train = X_train[selected_features]\n",
    "\n",
    "print(selected_features)"
   ]
  },
  {
   "cell_type": "code",
   "execution_count": 20,
   "id": "294dbc71",
   "metadata": {
    "execution": {
     "iopub.execute_input": "2025-04-14T05:18:09.092929Z",
     "iopub.status.busy": "2025-04-14T05:18:09.092631Z",
     "iopub.status.idle": "2025-04-14T05:19:07.607255Z",
     "shell.execute_reply": "2025-04-14T05:19:07.606345Z"
    },
    "papermill": {
     "duration": 58.528485,
     "end_time": "2025-04-14T05:19:07.614597",
     "exception": false,
     "start_time": "2025-04-14T05:18:09.086112",
     "status": "completed"
    },
    "tags": []
   },
   "outputs": [
    {
     "data": {
      "text/plain": [
       "12.6655688668155"
      ]
     },
     "execution_count": 20,
     "metadata": {},
     "output_type": "execute_result"
    }
   ],
   "source": [
    "from sklearn.model_selection import cross_val_score\n",
    "\n",
    "reduced_model_score = -1 * cross_val_score(xgb, top_X_train, y_train, scoring='neg_root_mean_squared_error').mean()\n",
    "reduced_model_score"
   ]
  },
  {
   "cell_type": "markdown",
   "id": "91fad3b4",
   "metadata": {
    "papermill": {
     "duration": 0.00537,
     "end_time": "2025-04-14T05:19:07.625914",
     "exception": false,
     "start_time": "2025-04-14T05:19:07.620544",
     "status": "completed"
    },
    "tags": []
   },
   "source": [
    "## Final Submission"
   ]
  },
  {
   "cell_type": "code",
   "execution_count": 21,
   "id": "bb705bd4",
   "metadata": {
    "execution": {
     "iopub.execute_input": "2025-04-14T05:19:07.638533Z",
     "iopub.status.busy": "2025-04-14T05:19:07.638300Z",
     "iopub.status.idle": "2025-04-14T05:19:07.943779Z",
     "shell.execute_reply": "2025-04-14T05:19:07.942720Z"
    },
    "papermill": {
     "duration": 0.313553,
     "end_time": "2025-04-14T05:19:07.945255",
     "exception": false,
     "start_time": "2025-04-14T05:19:07.631702",
     "status": "completed"
    },
    "tags": []
   },
   "outputs": [
    {
     "name": "stdout",
     "output_type": "stream",
     "text": [
      "Your submission was successfully saved!\n"
     ]
    }
   ],
   "source": [
    "expected_features = xgb.get_booster().feature_names\n",
    "top_X_test_aligned = X_test[expected_features]\n",
    "test_preds = xgb.predict(top_X_test_aligned)\n",
    "\n",
    "output = pd.DataFrame({\n",
    "    'id': test['id'],\n",
    "    'Listening_Time_minutes': test_preds\n",
    "})\n",
    "output.to_csv('submission.csv', index=False)\n",
    "print(\"Your submission was successfully saved!\")"
   ]
  }
 ],
 "metadata": {
  "kaggle": {
   "accelerator": "nvidiaTeslaT4",
   "dataSources": [
    {
     "databundleVersionId": 11351736,
     "sourceId": 91715,
     "sourceType": "competition"
    }
   ],
   "dockerImageVersionId": 30918,
   "isGpuEnabled": true,
   "isInternetEnabled": true,
   "language": "python",
   "sourceType": "notebook"
  },
  "kernelspec": {
   "display_name": "Python 3",
   "language": "python",
   "name": "python3"
  },
  "language_info": {
   "codemirror_mode": {
    "name": "ipython",
    "version": 3
   },
   "file_extension": ".py",
   "mimetype": "text/x-python",
   "name": "python",
   "nbconvert_exporter": "python",
   "pygments_lexer": "ipython3",
   "version": "3.10.12"
  },
  "papermill": {
   "default_parameters": {},
   "duration": 116.394769,
   "end_time": "2025-04-14T05:19:10.481834",
   "environment_variables": {},
   "exception": null,
   "input_path": "__notebook__.ipynb",
   "output_path": "__notebook__.ipynb",
   "parameters": {},
   "start_time": "2025-04-14T05:17:14.087065",
   "version": "2.6.0"
  }
 },
 "nbformat": 4,
 "nbformat_minor": 5
}
