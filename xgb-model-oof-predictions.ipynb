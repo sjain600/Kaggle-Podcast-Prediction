{
 "cells": [
  {
   "cell_type": "code",
   "execution_count": 1,
   "id": "6497c4fd",
   "metadata": {
    "execution": {
     "iopub.execute_input": "2025-04-28T05:12:07.517776Z",
     "iopub.status.busy": "2025-04-28T05:12:07.517413Z",
     "iopub.status.idle": "2025-04-28T05:12:16.940765Z",
     "shell.execute_reply": "2025-04-28T05:12:16.939672Z"
    },
    "papermill": {
     "duration": 9.431345,
     "end_time": "2025-04-28T05:12:16.942232",
     "exception": false,
     "start_time": "2025-04-28T05:12:07.510887",
     "status": "completed"
    },
    "tags": []
   },
   "outputs": [
    {
     "name": "stdout",
     "output_type": "stream",
     "text": [
      "/kaggle/input/playground-series-s5e4/sample_submission.csv\n",
      "/kaggle/input/playground-series-s5e4/train.csv\n",
      "/kaggle/input/playground-series-s5e4/test.csv\n"
     ]
    }
   ],
   "source": [
    "# This Python 3 environment comes with many helpful analytics libraries installed\n",
    "# It is defined by the kaggle/python Docker image: https://github.com/kaggle/docker-python\n",
    "# For example, here's several helpful packages to load\n",
    "%load_ext cudf.pandas\n",
    "import cuml\n",
    "import numpy as np # linear algebra\n",
    "import pandas as pd # data processing, CSV file I/O (e.g. pd.read_csv)\n",
    "import matplotlib.pyplot as plt\n",
    "pd.set_option('display.max_columns', 500)\n",
    "\n",
    "# Input data files are available in the read-only \"../input/\" directory\n",
    "# For example, running this (by clicking run or pressing Shift+Enter) will list all files under the input directory\n",
    "\n",
    "import os\n",
    "for dirname, _, filenames in os.walk('/kaggle/input'):\n",
    "    for filename in filenames:\n",
    "        print(os.path.join(dirname, filename))\n",
    "        \n",
    "import warnings\n",
    "warnings.filterwarnings(\"ignore\")\n",
    "\n",
    "# You can write up to 20GB to the current directory (/kaggle/working/) that gets preserved as output when you create a version using \"Save & Run All\" \n",
    "# You can also write temporary files to /kaggle/temp/, but they won't be saved outside of the current session"
   ]
  },
  {
   "cell_type": "code",
   "execution_count": 2,
   "id": "36040bc0",
   "metadata": {
    "execution": {
     "iopub.execute_input": "2025-04-28T05:12:16.953530Z",
     "iopub.status.busy": "2025-04-28T05:12:16.953042Z",
     "iopub.status.idle": "2025-04-28T05:12:17.585077Z",
     "shell.execute_reply": "2025-04-28T05:12:17.584115Z"
    },
    "papermill": {
     "duration": 0.638917,
     "end_time": "2025-04-28T05:12:17.586615",
     "exception": false,
     "start_time": "2025-04-28T05:12:16.947698",
     "status": "completed"
    },
    "tags": []
   },
   "outputs": [],
   "source": [
    "train = pd.read_csv('/kaggle/input/playground-series-s5e4/train.csv', index_col='id')\n",
    "test = pd.read_csv('/kaggle/input/playground-series-s5e4/test.csv', index_col='id')"
   ]
  },
  {
   "cell_type": "code",
   "execution_count": 3,
   "id": "87b7eab5",
   "metadata": {
    "execution": {
     "iopub.execute_input": "2025-04-28T05:12:17.597707Z",
     "iopub.status.busy": "2025-04-28T05:12:17.597414Z",
     "iopub.status.idle": "2025-04-28T05:12:17.602680Z",
     "shell.execute_reply": "2025-04-28T05:12:17.601904Z"
    },
    "papermill": {
     "duration": 0.011901,
     "end_time": "2025-04-28T05:12:17.603851",
     "exception": false,
     "start_time": "2025-04-28T05:12:17.591950",
     "status": "completed"
    },
    "tags": []
   },
   "outputs": [
    {
     "data": {
      "text/plain": [
       "(750000, 11)"
      ]
     },
     "execution_count": 3,
     "metadata": {},
     "output_type": "execute_result"
    }
   ],
   "source": [
    "train.shape"
   ]
  },
  {
   "cell_type": "code",
   "execution_count": 4,
   "id": "57d7c5a2",
   "metadata": {
    "execution": {
     "iopub.execute_input": "2025-04-28T05:12:17.614400Z",
     "iopub.status.busy": "2025-04-28T05:12:17.614174Z",
     "iopub.status.idle": "2025-04-28T05:12:17.618488Z",
     "shell.execute_reply": "2025-04-28T05:12:17.617706Z"
    },
    "papermill": {
     "duration": 0.01085,
     "end_time": "2025-04-28T05:12:17.619710",
     "exception": false,
     "start_time": "2025-04-28T05:12:17.608860",
     "status": "completed"
    },
    "tags": []
   },
   "outputs": [
    {
     "data": {
      "text/plain": [
       "(250000, 10)"
      ]
     },
     "execution_count": 4,
     "metadata": {},
     "output_type": "execute_result"
    }
   ],
   "source": [
    "test.shape"
   ]
  },
  {
   "cell_type": "markdown",
   "id": "78dbe742",
   "metadata": {
    "papermill": {
     "duration": 0.004771,
     "end_time": "2025-04-28T05:12:17.629599",
     "exception": false,
     "start_time": "2025-04-28T05:12:17.624828",
     "status": "completed"
    },
    "tags": []
   },
   "source": [
    "## Data Understanding"
   ]
  },
  {
   "cell_type": "code",
   "execution_count": 5,
   "id": "da876348",
   "metadata": {
    "execution": {
     "iopub.execute_input": "2025-04-28T05:12:17.640163Z",
     "iopub.status.busy": "2025-04-28T05:12:17.639931Z",
     "iopub.status.idle": "2025-04-28T05:12:18.652256Z",
     "shell.execute_reply": "2025-04-28T05:12:18.651421Z"
    },
    "papermill": {
     "duration": 1.018954,
     "end_time": "2025-04-28T05:12:18.653594",
     "exception": false,
     "start_time": "2025-04-28T05:12:17.634640",
     "status": "completed"
    },
    "tags": []
   },
   "outputs": [
    {
     "data": {
      "text/html": [
       "<div>\n",
       "<style scoped>\n",
       "    .dataframe tbody tr th:only-of-type {\n",
       "        vertical-align: middle;\n",
       "    }\n",
       "\n",
       "    .dataframe tbody tr th {\n",
       "        vertical-align: top;\n",
       "    }\n",
       "\n",
       "    .dataframe thead th {\n",
       "        text-align: right;\n",
       "    }\n",
       "</style>\n",
       "<table border=\"1\" class=\"dataframe\">\n",
       "  <thead>\n",
       "    <tr style=\"text-align: right;\">\n",
       "      <th></th>\n",
       "      <th>Podcast_Name</th>\n",
       "      <th>Episode_Title</th>\n",
       "      <th>Episode_Length_minutes</th>\n",
       "      <th>Genre</th>\n",
       "      <th>Host_Popularity_percentage</th>\n",
       "      <th>Publication_Day</th>\n",
       "      <th>Publication_Time</th>\n",
       "      <th>Guest_Popularity_percentage</th>\n",
       "      <th>Number_of_Ads</th>\n",
       "      <th>Episode_Sentiment</th>\n",
       "      <th>Listening_Time_minutes</th>\n",
       "    </tr>\n",
       "    <tr>\n",
       "      <th>id</th>\n",
       "      <th></th>\n",
       "      <th></th>\n",
       "      <th></th>\n",
       "      <th></th>\n",
       "      <th></th>\n",
       "      <th></th>\n",
       "      <th></th>\n",
       "      <th></th>\n",
       "      <th></th>\n",
       "      <th></th>\n",
       "      <th></th>\n",
       "    </tr>\n",
       "  </thead>\n",
       "  <tbody>\n",
       "    <tr>\n",
       "      <th>227333</th>\n",
       "      <td>Game Day</td>\n",
       "      <td>Episode 59</td>\n",
       "      <td>&lt;NA&gt;</td>\n",
       "      <td>Sports</td>\n",
       "      <td>55.08</td>\n",
       "      <td>Saturday</td>\n",
       "      <td>Afternoon</td>\n",
       "      <td>&lt;NA&gt;</td>\n",
       "      <td>3.0</td>\n",
       "      <td>Neutral</td>\n",
       "      <td>57.89683</td>\n",
       "    </tr>\n",
       "    <tr>\n",
       "      <th>429070</th>\n",
       "      <td>Fashion Forward</td>\n",
       "      <td>Episode 52</td>\n",
       "      <td>&lt;NA&gt;</td>\n",
       "      <td>Lifestyle</td>\n",
       "      <td>47.28</td>\n",
       "      <td>Wednesday</td>\n",
       "      <td>Afternoon</td>\n",
       "      <td>18.29</td>\n",
       "      <td>2.0</td>\n",
       "      <td>Neutral</td>\n",
       "      <td>5.08000</td>\n",
       "    </tr>\n",
       "    <tr>\n",
       "      <th>405500</th>\n",
       "      <td>Melody Mix</td>\n",
       "      <td>Episode 22</td>\n",
       "      <td>62.46</td>\n",
       "      <td>Music</td>\n",
       "      <td>40.18</td>\n",
       "      <td>Wednesday</td>\n",
       "      <td>Afternoon</td>\n",
       "      <td>49.02</td>\n",
       "      <td>0.0</td>\n",
       "      <td>Neutral</td>\n",
       "      <td>45.83187</td>\n",
       "    </tr>\n",
       "    <tr>\n",
       "      <th>514510</th>\n",
       "      <td>Home &amp; Living</td>\n",
       "      <td>Episode 28</td>\n",
       "      <td>98.9</td>\n",
       "      <td>Lifestyle</td>\n",
       "      <td>45.19</td>\n",
       "      <td>Monday</td>\n",
       "      <td>Afternoon</td>\n",
       "      <td>70.23</td>\n",
       "      <td>0.0</td>\n",
       "      <td>Neutral</td>\n",
       "      <td>80.18570</td>\n",
       "    </tr>\n",
       "    <tr>\n",
       "      <th>604654</th>\n",
       "      <td>Gadget Geek</td>\n",
       "      <td>Episode 74</td>\n",
       "      <td>78.67</td>\n",
       "      <td>Technology</td>\n",
       "      <td>88.85</td>\n",
       "      <td>Saturday</td>\n",
       "      <td>Afternoon</td>\n",
       "      <td>82.23</td>\n",
       "      <td>0.0</td>\n",
       "      <td>Positive</td>\n",
       "      <td>57.40000</td>\n",
       "    </tr>\n",
       "    <tr>\n",
       "      <th>353552</th>\n",
       "      <td>Tech Talks</td>\n",
       "      <td>Episode 1</td>\n",
       "      <td>104.6</td>\n",
       "      <td>Technology</td>\n",
       "      <td>67.14</td>\n",
       "      <td>Tuesday</td>\n",
       "      <td>Afternoon</td>\n",
       "      <td>30.2</td>\n",
       "      <td>3.0</td>\n",
       "      <td>Neutral</td>\n",
       "      <td>65.33834</td>\n",
       "    </tr>\n",
       "    <tr>\n",
       "      <th>500057</th>\n",
       "      <td>Mind &amp; Body</td>\n",
       "      <td>Episode 4</td>\n",
       "      <td>&lt;NA&gt;</td>\n",
       "      <td>Health</td>\n",
       "      <td>98.99</td>\n",
       "      <td>Tuesday</td>\n",
       "      <td>Afternoon</td>\n",
       "      <td>&lt;NA&gt;</td>\n",
       "      <td>0.0</td>\n",
       "      <td>Positive</td>\n",
       "      <td>71.72373</td>\n",
       "    </tr>\n",
       "    <tr>\n",
       "      <th>455407</th>\n",
       "      <td>Crime Chronicles</td>\n",
       "      <td>Episode 19</td>\n",
       "      <td>114.52</td>\n",
       "      <td>True Crime</td>\n",
       "      <td>87.10</td>\n",
       "      <td>Wednesday</td>\n",
       "      <td>Morning</td>\n",
       "      <td>91.86</td>\n",
       "      <td>1.0</td>\n",
       "      <td>Negative</td>\n",
       "      <td>69.91642</td>\n",
       "    </tr>\n",
       "    <tr>\n",
       "      <th>55422</th>\n",
       "      <td>Finance Focus</td>\n",
       "      <td>Episode 34</td>\n",
       "      <td>35.29</td>\n",
       "      <td>Business</td>\n",
       "      <td>58.34</td>\n",
       "      <td>Tuesday</td>\n",
       "      <td>Morning</td>\n",
       "      <td>79.32</td>\n",
       "      <td>2.0</td>\n",
       "      <td>Neutral</td>\n",
       "      <td>12.95421</td>\n",
       "    </tr>\n",
       "    <tr>\n",
       "      <th>310507</th>\n",
       "      <td>Business Insights</td>\n",
       "      <td>Episode 29</td>\n",
       "      <td>94.04</td>\n",
       "      <td>Business</td>\n",
       "      <td>79.93</td>\n",
       "      <td>Monday</td>\n",
       "      <td>Evening</td>\n",
       "      <td>&lt;NA&gt;</td>\n",
       "      <td>3.0</td>\n",
       "      <td>Positive</td>\n",
       "      <td>50.39608</td>\n",
       "    </tr>\n",
       "  </tbody>\n",
       "</table>\n",
       "</div>"
      ],
      "text/plain": [
       "             Podcast_Name Episode_Title Episode_Length_minutes       Genre  \\\n",
       "id                                                                           \n",
       "227333           Game Day    Episode 59                   <NA>      Sports   \n",
       "429070    Fashion Forward    Episode 52                   <NA>   Lifestyle   \n",
       "405500         Melody Mix    Episode 22                  62.46       Music   \n",
       "514510      Home & Living    Episode 28                   98.9   Lifestyle   \n",
       "604654        Gadget Geek    Episode 74                  78.67  Technology   \n",
       "353552         Tech Talks     Episode 1                  104.6  Technology   \n",
       "500057        Mind & Body     Episode 4                   <NA>      Health   \n",
       "455407   Crime Chronicles    Episode 19                 114.52  True Crime   \n",
       "55422       Finance Focus    Episode 34                  35.29    Business   \n",
       "310507  Business Insights    Episode 29                  94.04    Business   \n",
       "\n",
       "        Host_Popularity_percentage Publication_Day Publication_Time  \\\n",
       "id                                                                    \n",
       "227333                       55.08        Saturday        Afternoon   \n",
       "429070                       47.28       Wednesday        Afternoon   \n",
       "405500                       40.18       Wednesday        Afternoon   \n",
       "514510                       45.19          Monday        Afternoon   \n",
       "604654                       88.85        Saturday        Afternoon   \n",
       "353552                       67.14         Tuesday        Afternoon   \n",
       "500057                       98.99         Tuesday        Afternoon   \n",
       "455407                       87.10       Wednesday          Morning   \n",
       "55422                        58.34         Tuesday          Morning   \n",
       "310507                       79.93          Monday          Evening   \n",
       "\n",
       "       Guest_Popularity_percentage  Number_of_Ads Episode_Sentiment  \\\n",
       "id                                                                    \n",
       "227333                        <NA>            3.0           Neutral   \n",
       "429070                       18.29            2.0           Neutral   \n",
       "405500                       49.02            0.0           Neutral   \n",
       "514510                       70.23            0.0           Neutral   \n",
       "604654                       82.23            0.0          Positive   \n",
       "353552                        30.2            3.0           Neutral   \n",
       "500057                        <NA>            0.0          Positive   \n",
       "455407                       91.86            1.0          Negative   \n",
       "55422                        79.32            2.0           Neutral   \n",
       "310507                        <NA>            3.0          Positive   \n",
       "\n",
       "        Listening_Time_minutes  \n",
       "id                              \n",
       "227333                57.89683  \n",
       "429070                 5.08000  \n",
       "405500                45.83187  \n",
       "514510                80.18570  \n",
       "604654                57.40000  \n",
       "353552                65.33834  \n",
       "500057                71.72373  \n",
       "455407                69.91642  \n",
       "55422                 12.95421  \n",
       "310507                50.39608  "
      ]
     },
     "execution_count": 5,
     "metadata": {},
     "output_type": "execute_result"
    }
   ],
   "source": [
    "train.sample(10)"
   ]
  },
  {
   "cell_type": "code",
   "execution_count": 6,
   "id": "eda6728f",
   "metadata": {
    "execution": {
     "iopub.execute_input": "2025-04-28T05:12:18.665367Z",
     "iopub.status.busy": "2025-04-28T05:12:18.665154Z",
     "iopub.status.idle": "2025-04-28T05:12:19.439500Z",
     "shell.execute_reply": "2025-04-28T05:12:19.438486Z"
    },
    "papermill": {
     "duration": 0.781795,
     "end_time": "2025-04-28T05:12:19.441103",
     "exception": false,
     "start_time": "2025-04-28T05:12:18.659308",
     "status": "completed"
    },
    "tags": []
   },
   "outputs": [
    {
     "data": {
      "text/html": [
       "<div>\n",
       "<style scoped>\n",
       "    .dataframe tbody tr th:only-of-type {\n",
       "        vertical-align: middle;\n",
       "    }\n",
       "\n",
       "    .dataframe tbody tr th {\n",
       "        vertical-align: top;\n",
       "    }\n",
       "\n",
       "    .dataframe thead th {\n",
       "        text-align: right;\n",
       "    }\n",
       "</style>\n",
       "<table border=\"1\" class=\"dataframe\">\n",
       "  <thead>\n",
       "    <tr style=\"text-align: right;\">\n",
       "      <th></th>\n",
       "      <th>Episode_Length_minutes</th>\n",
       "      <th>Host_Popularity_percentage</th>\n",
       "      <th>Guest_Popularity_percentage</th>\n",
       "      <th>Number_of_Ads</th>\n",
       "      <th>Listening_Time_minutes</th>\n",
       "    </tr>\n",
       "  </thead>\n",
       "  <tbody>\n",
       "    <tr>\n",
       "      <th>count</th>\n",
       "      <td>662907.000000</td>\n",
       "      <td>750000.000000</td>\n",
       "      <td>603970.000000</td>\n",
       "      <td>749999.000000</td>\n",
       "      <td>750000.000000</td>\n",
       "    </tr>\n",
       "    <tr>\n",
       "      <th>mean</th>\n",
       "      <td>64.504738</td>\n",
       "      <td>59.859901</td>\n",
       "      <td>52.236449</td>\n",
       "      <td>1.348855</td>\n",
       "      <td>45.437406</td>\n",
       "    </tr>\n",
       "    <tr>\n",
       "      <th>std</th>\n",
       "      <td>32.969603</td>\n",
       "      <td>22.873098</td>\n",
       "      <td>28.451241</td>\n",
       "      <td>1.151130</td>\n",
       "      <td>27.138306</td>\n",
       "    </tr>\n",
       "    <tr>\n",
       "      <th>min</th>\n",
       "      <td>0.000000</td>\n",
       "      <td>1.300000</td>\n",
       "      <td>0.000000</td>\n",
       "      <td>0.000000</td>\n",
       "      <td>0.000000</td>\n",
       "    </tr>\n",
       "    <tr>\n",
       "      <th>25%</th>\n",
       "      <td>35.730000</td>\n",
       "      <td>39.410000</td>\n",
       "      <td>28.380000</td>\n",
       "      <td>0.000000</td>\n",
       "      <td>23.178350</td>\n",
       "    </tr>\n",
       "    <tr>\n",
       "      <th>50%</th>\n",
       "      <td>63.840000</td>\n",
       "      <td>60.050000</td>\n",
       "      <td>53.580000</td>\n",
       "      <td>1.000000</td>\n",
       "      <td>43.379460</td>\n",
       "    </tr>\n",
       "    <tr>\n",
       "      <th>75%</th>\n",
       "      <td>94.070000</td>\n",
       "      <td>79.530000</td>\n",
       "      <td>76.600000</td>\n",
       "      <td>2.000000</td>\n",
       "      <td>64.811580</td>\n",
       "    </tr>\n",
       "    <tr>\n",
       "      <th>max</th>\n",
       "      <td>325.240000</td>\n",
       "      <td>119.460000</td>\n",
       "      <td>119.910000</td>\n",
       "      <td>103.910000</td>\n",
       "      <td>119.970000</td>\n",
       "    </tr>\n",
       "  </tbody>\n",
       "</table>\n",
       "</div>"
      ],
      "text/plain": [
       "       Episode_Length_minutes  Host_Popularity_percentage  \\\n",
       "count           662907.000000               750000.000000   \n",
       "mean                64.504738                   59.859901   \n",
       "std                 32.969603                   22.873098   \n",
       "min                  0.000000                    1.300000   \n",
       "25%                 35.730000                   39.410000   \n",
       "50%                 63.840000                   60.050000   \n",
       "75%                 94.070000                   79.530000   \n",
       "max                325.240000                  119.460000   \n",
       "\n",
       "       Guest_Popularity_percentage  Number_of_Ads  Listening_Time_minutes  \n",
       "count                603970.000000  749999.000000           750000.000000  \n",
       "mean                     52.236449       1.348855               45.437406  \n",
       "std                      28.451241       1.151130               27.138306  \n",
       "min                       0.000000       0.000000                0.000000  \n",
       "25%                      28.380000       0.000000               23.178350  \n",
       "50%                      53.580000       1.000000               43.379460  \n",
       "75%                      76.600000       2.000000               64.811580  \n",
       "max                     119.910000     103.910000              119.970000  "
      ]
     },
     "execution_count": 6,
     "metadata": {},
     "output_type": "execute_result"
    }
   ],
   "source": [
    "train.describe()"
   ]
  },
  {
   "cell_type": "code",
   "execution_count": 7,
   "id": "3bcbb484",
   "metadata": {
    "execution": {
     "iopub.execute_input": "2025-04-28T05:12:19.453691Z",
     "iopub.status.busy": "2025-04-28T05:12:19.453336Z",
     "iopub.status.idle": "2025-04-28T05:12:19.458770Z",
     "shell.execute_reply": "2025-04-28T05:12:19.457953Z"
    },
    "papermill": {
     "duration": 0.013183,
     "end_time": "2025-04-28T05:12:19.460167",
     "exception": false,
     "start_time": "2025-04-28T05:12:19.446984",
     "status": "completed"
    },
    "tags": []
   },
   "outputs": [
    {
     "data": {
      "text/plain": [
       "(750000, 11)"
      ]
     },
     "execution_count": 7,
     "metadata": {},
     "output_type": "execute_result"
    }
   ],
   "source": [
    "train.shape"
   ]
  },
  {
   "cell_type": "code",
   "execution_count": 8,
   "id": "f8834246",
   "metadata": {
    "execution": {
     "iopub.execute_input": "2025-04-28T05:12:19.472820Z",
     "iopub.status.busy": "2025-04-28T05:12:19.472498Z",
     "iopub.status.idle": "2025-04-28T05:12:19.477492Z",
     "shell.execute_reply": "2025-04-28T05:12:19.476785Z"
    },
    "papermill": {
     "duration": 0.012758,
     "end_time": "2025-04-28T05:12:19.478932",
     "exception": false,
     "start_time": "2025-04-28T05:12:19.466174",
     "status": "completed"
    },
    "tags": []
   },
   "outputs": [
    {
     "data": {
      "text/plain": [
       "(250000, 10)"
      ]
     },
     "execution_count": 8,
     "metadata": {},
     "output_type": "execute_result"
    }
   ],
   "source": [
    "test.shape"
   ]
  },
  {
   "cell_type": "code",
   "execution_count": 9,
   "id": "c15ced96",
   "metadata": {
    "execution": {
     "iopub.execute_input": "2025-04-28T05:12:19.491133Z",
     "iopub.status.busy": "2025-04-28T05:12:19.490827Z",
     "iopub.status.idle": "2025-04-28T05:12:19.516121Z",
     "shell.execute_reply": "2025-04-28T05:12:19.515156Z"
    },
    "papermill": {
     "duration": 0.032732,
     "end_time": "2025-04-28T05:12:19.517434",
     "exception": false,
     "start_time": "2025-04-28T05:12:19.484702",
     "status": "completed"
    },
    "tags": []
   },
   "outputs": [
    {
     "name": "stdout",
     "output_type": "stream",
     "text": [
      "<class 'cudf.core.dataframe.DataFrame'>\n",
      "Index: 750000 entries, 0 to 749999\n",
      "Data columns (total 11 columns):\n",
      " #   Column                       Non-Null Count   Dtype\n",
      "---  ------                       --------------   -----\n",
      " 0   Podcast_Name                 750000 non-null  object\n",
      " 1   Episode_Title                750000 non-null  object\n",
      " 2   Episode_Length_minutes       662907 non-null  float64\n",
      " 3   Genre                        750000 non-null  object\n",
      " 4   Host_Popularity_percentage   750000 non-null  float64\n",
      " 5   Publication_Day              750000 non-null  object\n",
      " 6   Publication_Time             750000 non-null  object\n",
      " 7   Guest_Popularity_percentage  603970 non-null  float64\n",
      " 8   Number_of_Ads                749999 non-null  float64\n",
      " 9   Episode_Sentiment            750000 non-null  object\n",
      " 10  Listening_Time_minutes       750000 non-null  float64\n",
      "dtypes: float64(5), object(6)\n",
      "memory usage: 88.8+ MB\n"
     ]
    }
   ],
   "source": [
    "train.info()"
   ]
  },
  {
   "cell_type": "code",
   "execution_count": 10,
   "id": "342befc4",
   "metadata": {
    "execution": {
     "iopub.execute_input": "2025-04-28T05:12:19.530086Z",
     "iopub.status.busy": "2025-04-28T05:12:19.529875Z",
     "iopub.status.idle": "2025-04-28T05:12:19.625068Z",
     "shell.execute_reply": "2025-04-28T05:12:19.624113Z"
    },
    "papermill": {
     "duration": 0.103391,
     "end_time": "2025-04-28T05:12:19.626825",
     "exception": false,
     "start_time": "2025-04-28T05:12:19.523434",
     "status": "completed"
    },
    "tags": []
   },
   "outputs": [
    {
     "data": {
      "text/plain": [
       "Podcast_Name                        0\n",
       "Episode_Title                       0\n",
       "Episode_Length_minutes          87093\n",
       "Genre                               0\n",
       "Host_Popularity_percentage          0\n",
       "Publication_Day                     0\n",
       "Publication_Time                    0\n",
       "Guest_Popularity_percentage    146030\n",
       "Number_of_Ads                       1\n",
       "Episode_Sentiment                   0\n",
       "Listening_Time_minutes              0\n",
       "dtype: int64"
      ]
     },
     "execution_count": 10,
     "metadata": {},
     "output_type": "execute_result"
    }
   ],
   "source": [
    "train.isnull().sum()"
   ]
  },
  {
   "cell_type": "code",
   "execution_count": 11,
   "id": "a2cd0952",
   "metadata": {
    "execution": {
     "iopub.execute_input": "2025-04-28T05:12:19.646593Z",
     "iopub.status.busy": "2025-04-28T05:12:19.646335Z",
     "iopub.status.idle": "2025-04-28T05:12:19.727326Z",
     "shell.execute_reply": "2025-04-28T05:12:19.726485Z"
    },
    "papermill": {
     "duration": 0.090805,
     "end_time": "2025-04-28T05:12:19.728723",
     "exception": false,
     "start_time": "2025-04-28T05:12:19.637918",
     "status": "completed"
    },
    "tags": []
   },
   "outputs": [
    {
     "data": {
      "text/plain": [
       "Podcast_Name                       0\n",
       "Episode_Title                      0\n",
       "Episode_Length_minutes         28736\n",
       "Genre                              0\n",
       "Host_Popularity_percentage         0\n",
       "Publication_Day                    0\n",
       "Publication_Time                   0\n",
       "Guest_Popularity_percentage    48832\n",
       "Number_of_Ads                      0\n",
       "Episode_Sentiment                  0\n",
       "dtype: int64"
      ]
     },
     "execution_count": 11,
     "metadata": {},
     "output_type": "execute_result"
    }
   ],
   "source": [
    "test.isnull().sum()"
   ]
  },
  {
   "cell_type": "markdown",
   "id": "253c8434",
   "metadata": {
    "papermill": {
     "duration": 0.009836,
     "end_time": "2025-04-28T05:12:19.746001",
     "exception": false,
     "start_time": "2025-04-28T05:12:19.736165",
     "status": "completed"
    },
    "tags": []
   },
   "source": [
    "## Data Preparation"
   ]
  },
  {
   "cell_type": "markdown",
   "id": "8fced2e4",
   "metadata": {
    "papermill": {
     "duration": 0.005766,
     "end_time": "2025-04-28T05:12:19.758729",
     "exception": false,
     "start_time": "2025-04-28T05:12:19.752963",
     "status": "completed"
    },
    "tags": []
   },
   "source": [
    "Reducing the memory space of the dataset by converting the num_cols into float32 and cat_cols into category"
   ]
  },
  {
   "cell_type": "code",
   "execution_count": 12,
   "id": "20fac1df",
   "metadata": {
    "execution": {
     "iopub.execute_input": "2025-04-28T05:12:19.771657Z",
     "iopub.status.busy": "2025-04-28T05:12:19.771339Z",
     "iopub.status.idle": "2025-04-28T05:12:19.788376Z",
     "shell.execute_reply": "2025-04-28T05:12:19.787505Z"
    },
    "papermill": {
     "duration": 0.025223,
     "end_time": "2025-04-28T05:12:19.789964",
     "exception": false,
     "start_time": "2025-04-28T05:12:19.764741",
     "status": "completed"
    },
    "tags": []
   },
   "outputs": [],
   "source": [
    "num_cols = test.select_dtypes(include=['float64']).columns\n",
    "for col in num_cols:\n",
    "    train[col] = train[col].astype('float32')\n",
    "    test[col] = test[col].astype('float32')"
   ]
  },
  {
   "cell_type": "code",
   "execution_count": 13,
   "id": "8716f3aa",
   "metadata": {
    "execution": {
     "iopub.execute_input": "2025-04-28T05:12:19.809357Z",
     "iopub.status.busy": "2025-04-28T05:12:19.809104Z",
     "iopub.status.idle": "2025-04-28T05:12:19.962860Z",
     "shell.execute_reply": "2025-04-28T05:12:19.961952Z"
    },
    "papermill": {
     "duration": 0.164341,
     "end_time": "2025-04-28T05:12:19.964774",
     "exception": false,
     "start_time": "2025-04-28T05:12:19.800433",
     "status": "completed"
    },
    "tags": []
   },
   "outputs": [],
   "source": [
    "cat_cols = train.select_dtypes(include=['object']).columns\n",
    "for col in cat_cols:\n",
    "    train[col] = train[col].astype('category')\n",
    "    test[col] = test[col].astype('category')"
   ]
  },
  {
   "cell_type": "code",
   "execution_count": 14,
   "id": "a98d6005",
   "metadata": {
    "execution": {
     "iopub.execute_input": "2025-04-28T05:12:19.985099Z",
     "iopub.status.busy": "2025-04-28T05:12:19.984775Z",
     "iopub.status.idle": "2025-04-28T05:12:20.328116Z",
     "shell.execute_reply": "2025-04-28T05:12:20.327236Z"
    },
    "papermill": {
     "duration": 0.353218,
     "end_time": "2025-04-28T05:12:20.329745",
     "exception": false,
     "start_time": "2025-04-28T05:12:19.976527",
     "status": "completed"
    },
    "tags": []
   },
   "outputs": [],
   "source": [
    "from scipy.stats.mstats import winsorize\n",
    "\n",
    "train['Listening_Time_minutes'] = winsorize(train['Listening_Time_minutes'], limits=(0.01, 0.01))"
   ]
  },
  {
   "cell_type": "code",
   "execution_count": 15,
   "id": "1859cb40",
   "metadata": {
    "execution": {
     "iopub.execute_input": "2025-04-28T05:12:20.343240Z",
     "iopub.status.busy": "2025-04-28T05:12:20.343004Z",
     "iopub.status.idle": "2025-04-28T05:12:20.367751Z",
     "shell.execute_reply": "2025-04-28T05:12:20.366742Z"
    },
    "papermill": {
     "duration": 0.032768,
     "end_time": "2025-04-28T05:12:20.369032",
     "exception": false,
     "start_time": "2025-04-28T05:12:20.336264",
     "status": "completed"
    },
    "tags": []
   },
   "outputs": [
    {
     "name": "stdout",
     "output_type": "stream",
     "text": [
      "<class 'cudf.core.dataframe.DataFrame'>\n",
      "Index: 750000 entries, 0 to 749999\n",
      "Data columns (total 11 columns):\n",
      " #   Column                       Non-Null Count   Dtype\n",
      "---  ------                       --------------   -----\n",
      " 0   Podcast_Name                 750000 non-null  category\n",
      " 1   Episode_Title                750000 non-null  category\n",
      " 2   Episode_Length_minutes       662907 non-null  float32\n",
      " 3   Genre                        750000 non-null  category\n",
      " 4   Host_Popularity_percentage   750000 non-null  float32\n",
      " 5   Publication_Day              750000 non-null  category\n",
      " 6   Publication_Time             750000 non-null  category\n",
      " 7   Guest_Popularity_percentage  603970 non-null  float32\n",
      " 8   Number_of_Ads                749999 non-null  float32\n",
      " 9   Episode_Sentiment            750000 non-null  category\n",
      " 10  Listening_Time_minutes       750000 non-null  float64\n",
      "dtypes: category(6), float32(4), float64(1)\n",
      "memory usage: 27.5 MB\n"
     ]
    }
   ],
   "source": [
    "train.info()"
   ]
  },
  {
   "cell_type": "code",
   "execution_count": 16,
   "id": "ca7aa49c",
   "metadata": {
    "execution": {
     "iopub.execute_input": "2025-04-28T05:12:20.382189Z",
     "iopub.status.busy": "2025-04-28T05:12:20.381974Z",
     "iopub.status.idle": "2025-04-28T05:12:21.310393Z",
     "shell.execute_reply": "2025-04-28T05:12:21.309695Z"
    },
    "papermill": {
     "duration": 0.936639,
     "end_time": "2025-04-28T05:12:21.311914",
     "exception": false,
     "start_time": "2025-04-28T05:12:20.375275",
     "status": "completed"
    },
    "tags": []
   },
   "outputs": [],
   "source": [
    "from sklearn.impute import SimpleImputer\n",
    "\n",
    "impute = SimpleImputer(strategy='mean')\n",
    "num_cols = test.select_dtypes(include=['float32']).columns\n",
    "train[num_cols] = impute.fit_transform(train[num_cols])\n",
    "test[num_cols] = impute.fit_transform(test[num_cols])"
   ]
  },
  {
   "cell_type": "code",
   "execution_count": 17,
   "id": "f36ff8fd",
   "metadata": {
    "execution": {
     "iopub.execute_input": "2025-04-28T05:12:21.325201Z",
     "iopub.status.busy": "2025-04-28T05:12:21.324975Z",
     "iopub.status.idle": "2025-04-28T05:12:21.376480Z",
     "shell.execute_reply": "2025-04-28T05:12:21.375668Z"
    },
    "papermill": {
     "duration": 0.059385,
     "end_time": "2025-04-28T05:12:21.377852",
     "exception": false,
     "start_time": "2025-04-28T05:12:21.318467",
     "status": "completed"
    },
    "tags": []
   },
   "outputs": [],
   "source": [
    "sentiments = {'Positive': 1, 'Neutral': 0, 'Negative': -1}\n",
    "train['Episode_Sentiment'] = train['Episode_Sentiment'].map(sentiments).astype('float32')\n",
    "test['Episode_Sentiment'] = test['Episode_Sentiment'].map(sentiments).astype('float32')"
   ]
  },
  {
   "cell_type": "markdown",
   "id": "a54f4990",
   "metadata": {
    "papermill": {
     "duration": 0.005893,
     "end_time": "2025-04-28T05:12:21.389867",
     "exception": false,
     "start_time": "2025-04-28T05:12:21.383974",
     "status": "completed"
    },
    "tags": []
   },
   "source": [
    "## Feature engineering"
   ]
  },
  {
   "cell_type": "markdown",
   "id": "1c7490f6",
   "metadata": {
    "papermill": {
     "duration": 0.005728,
     "end_time": "2025-04-28T05:12:21.401578",
     "exception": false,
     "start_time": "2025-04-28T05:12:21.395850",
     "status": "completed"
    },
    "tags": []
   },
   "source": [
    "## Count Encoding for high cardinality columns"
   ]
  },
  {
   "cell_type": "code",
   "execution_count": 18,
   "id": "5983d995",
   "metadata": {
    "execution": {
     "iopub.execute_input": "2025-04-28T05:12:21.414214Z",
     "iopub.status.busy": "2025-04-28T05:12:21.413997Z",
     "iopub.status.idle": "2025-04-28T05:12:37.386723Z",
     "shell.execute_reply": "2025-04-28T05:12:37.386020Z"
    },
    "papermill": {
     "duration": 15.980853,
     "end_time": "2025-04-28T05:12:37.388360",
     "exception": false,
     "start_time": "2025-04-28T05:12:21.407507",
     "status": "completed"
    },
    "tags": []
   },
   "outputs": [],
   "source": [
    "from category_encoders import CountEncoder\n",
    "\n",
    "ce = CountEncoder()\n",
    "count_category = ['Podcast_Name', 'Genre', 'Episode_Title']\n",
    "train[count_category] = ce.fit_transform(train[count_category])\n",
    "test[count_category] = ce.transform(test[count_category])"
   ]
  },
  {
   "cell_type": "code",
   "execution_count": 19,
   "id": "2ff7225e",
   "metadata": {
    "execution": {
     "iopub.execute_input": "2025-04-28T05:12:37.401941Z",
     "iopub.status.busy": "2025-04-28T05:12:37.401462Z",
     "iopub.status.idle": "2025-04-28T05:12:37.865829Z",
     "shell.execute_reply": "2025-04-28T05:12:37.865130Z"
    },
    "papermill": {
     "duration": 0.472541,
     "end_time": "2025-04-28T05:12:37.867405",
     "exception": false,
     "start_time": "2025-04-28T05:12:37.394864",
     "status": "completed"
    },
    "tags": []
   },
   "outputs": [],
   "source": [
    "from sklearn.preprocessing import LabelEncoder\n",
    "\n",
    "cat_cols = ['Publication_Day', 'Publication_Time']\n",
    "for colname in cat_cols:\n",
    "    le = LabelEncoder()\n",
    "    train[colname] = le.fit_transform(train[colname])\n",
    "    test[colname] = le.transform(test[colname])"
   ]
  },
  {
   "cell_type": "code",
   "execution_count": 20,
   "id": "38f0f070",
   "metadata": {
    "execution": {
     "iopub.execute_input": "2025-04-28T05:12:37.880892Z",
     "iopub.status.busy": "2025-04-28T05:12:37.880600Z",
     "iopub.status.idle": "2025-04-28T05:12:38.586361Z",
     "shell.execute_reply": "2025-04-28T05:12:38.585676Z"
    },
    "papermill": {
     "duration": 0.71396,
     "end_time": "2025-04-28T05:12:38.587990",
     "exception": false,
     "start_time": "2025-04-28T05:12:37.874030",
     "status": "completed"
    },
    "tags": []
   },
   "outputs": [],
   "source": [
    "from sklearn.preprocessing import KBinsDiscretizer\n",
    "\n",
    "kmeans = KBinsDiscretizer(n_bins=5, encode='ordinal', strategy='kmeans')\n",
    "train['Kmeans_bins'] = kmeans.fit_transform(train[['Episode_Length_minutes']])\n",
    "test['Kmeans_bins'] = kmeans.transform(test[['Episode_Length_minutes']])"
   ]
  },
  {
   "cell_type": "code",
   "execution_count": 21,
   "id": "fd9e9d99",
   "metadata": {
    "execution": {
     "iopub.execute_input": "2025-04-28T05:12:38.601431Z",
     "iopub.status.busy": "2025-04-28T05:12:38.601151Z",
     "iopub.status.idle": "2025-04-28T05:12:38.663325Z",
     "shell.execute_reply": "2025-04-28T05:12:38.662415Z"
    },
    "papermill": {
     "duration": 0.070514,
     "end_time": "2025-04-28T05:12:38.664970",
     "exception": false,
     "start_time": "2025-04-28T05:12:38.594456",
     "status": "completed"
    },
    "tags": []
   },
   "outputs": [],
   "source": [
    "for col in ['Host_Popularity_percentage', 'Guest_Popularity_percentage', 'Episode_Length_minutes']:\n",
    "    for k in range(0, 3):\n",
    "        new_round_col = f\"{col}_round{k}\"\n",
    "        train[new_round_col] = train[col].round(k)\n",
    "        test[new_round_col] = test[col].round(k)"
   ]
  },
  {
   "cell_type": "code",
   "execution_count": 22,
   "id": "dc2cf1b8",
   "metadata": {
    "execution": {
     "iopub.execute_input": "2025-04-28T05:12:38.678019Z",
     "iopub.status.busy": "2025-04-28T05:12:38.677785Z",
     "iopub.status.idle": "2025-04-28T05:12:38.695040Z",
     "shell.execute_reply": "2025-04-28T05:12:38.694134Z"
    },
    "papermill": {
     "duration": 0.025211,
     "end_time": "2025-04-28T05:12:38.696480",
     "exception": false,
     "start_time": "2025-04-28T05:12:38.671269",
     "status": "completed"
    },
    "tags": []
   },
   "outputs": [],
   "source": [
    "train['Guest_Popularity_percentage'] =  train['Guest_Popularity_percentage'].clip(upper=100)\n",
    "train['Host_Popularity_percentage'] =  train['Host_Popularity_percentage'].clip(upper=100)\n",
    "test['Guest_Popularity_percentage'] =  test['Guest_Popularity_percentage'].clip(upper=100)\n",
    "test['Host_Popularity_percentage'] =  test['Host_Popularity_percentage'].clip(upper=100)\n"
   ]
  },
  {
   "cell_type": "code",
   "execution_count": 23,
   "id": "fd7e1105",
   "metadata": {
    "execution": {
     "iopub.execute_input": "2025-04-28T05:12:38.709153Z",
     "iopub.status.busy": "2025-04-28T05:12:38.708946Z",
     "iopub.status.idle": "2025-04-28T05:12:38.753266Z",
     "shell.execute_reply": "2025-04-28T05:12:38.752693Z"
    },
    "papermill": {
     "duration": 0.051917,
     "end_time": "2025-04-28T05:12:38.754503",
     "exception": false,
     "start_time": "2025-04-28T05:12:38.702586",
     "status": "completed"
    },
    "tags": []
   },
   "outputs": [],
   "source": [
    "train['Average_popularity'] = (train['Host_Popularity_percentage'] + train['Guest_Popularity_percentage']) / 2\n",
    "test['Average_popularity'] = (test['Host_Popularity_percentage'] + test['Guest_Popularity_percentage']) / 2\n",
    "train['minutes_per_ads'] = train['Episode_Length_minutes'] / (train['Number_of_Ads'] + 1e-3) \n",
    "test['minutes_per_ads'] = test['Episode_Length_minutes'] / (test['Number_of_Ads'] + 1e-3)"
   ]
  },
  {
   "cell_type": "code",
   "execution_count": 24,
   "id": "2452127e",
   "metadata": {
    "execution": {
     "iopub.execute_input": "2025-04-28T05:12:38.767193Z",
     "iopub.status.busy": "2025-04-28T05:12:38.766959Z",
     "iopub.status.idle": "2025-04-28T05:12:38.773782Z",
     "shell.execute_reply": "2025-04-28T05:12:38.772999Z"
    },
    "papermill": {
     "duration": 0.014532,
     "end_time": "2025-04-28T05:12:38.775087",
     "exception": false,
     "start_time": "2025-04-28T05:12:38.760555",
     "status": "completed"
    },
    "tags": []
   },
   "outputs": [
    {
     "data": {
      "text/plain": [
       "Index(['Podcast_Name', 'Episode_Title', 'Episode_Length_minutes', 'Genre',\n",
       "       'Host_Popularity_percentage', 'Publication_Day', 'Publication_Time',\n",
       "       'Guest_Popularity_percentage', 'Number_of_Ads', 'Episode_Sentiment',\n",
       "       'Listening_Time_minutes', 'Kmeans_bins',\n",
       "       'Host_Popularity_percentage_round0',\n",
       "       'Host_Popularity_percentage_round1',\n",
       "       'Host_Popularity_percentage_round2',\n",
       "       'Guest_Popularity_percentage_round0',\n",
       "       'Guest_Popularity_percentage_round1',\n",
       "       'Guest_Popularity_percentage_round2', 'Episode_Length_minutes_round0',\n",
       "       'Episode_Length_minutes_round1', 'Episode_Length_minutes_round2',\n",
       "       'Average_popularity', 'minutes_per_ads'],\n",
       "      dtype='object')"
      ]
     },
     "execution_count": 24,
     "metadata": {},
     "output_type": "execute_result"
    }
   ],
   "source": [
    "train.columns"
   ]
  },
  {
   "cell_type": "code",
   "execution_count": 25,
   "id": "e3c035bf",
   "metadata": {
    "execution": {
     "iopub.execute_input": "2025-04-28T05:12:38.787792Z",
     "iopub.status.busy": "2025-04-28T05:12:38.787538Z",
     "iopub.status.idle": "2025-04-28T05:12:38.790688Z",
     "shell.execute_reply": "2025-04-28T05:12:38.790114Z"
    },
    "papermill": {
     "duration": 0.01071,
     "end_time": "2025-04-28T05:12:38.791763",
     "exception": false,
     "start_time": "2025-04-28T05:12:38.781053",
     "status": "completed"
    },
    "tags": []
   },
   "outputs": [],
   "source": [
    "features = ['Podcast_Name', 'Episode_Title', 'Episode_Length_minutes', 'Genre', 'Publication_Day', 'Publication_Time',\n",
    "       'Host_Popularity_percentage', 'Guest_Popularity_percentage', 'Number_of_Ads', 'Episode_Sentiment', 'Kmeans_bins', 'Host_Popularity_percentage_round0', 'Host_Popularity_percentage_round1',\n",
    "       'Host_Popularity_percentage_round2', 'Guest_Popularity_percentage_round0', 'Guest_Popularity_percentage_round1',\n",
    "       'Guest_Popularity_percentage_round2', 'Episode_Length_minutes_round0', 'Episode_Length_minutes_round1', 'Episode_Length_minutes_round2', 'Average_popularity']"
   ]
  },
  {
   "cell_type": "code",
   "execution_count": 26,
   "id": "fd38ca28",
   "metadata": {
    "execution": {
     "iopub.execute_input": "2025-04-28T05:12:38.804288Z",
     "iopub.status.busy": "2025-04-28T05:12:38.804092Z",
     "iopub.status.idle": "2025-04-28T05:12:39.353788Z",
     "shell.execute_reply": "2025-04-28T05:12:39.352807Z"
    },
    "papermill": {
     "duration": 0.55729,
     "end_time": "2025-04-28T05:12:39.355096",
     "exception": false,
     "start_time": "2025-04-28T05:12:38.797806",
     "status": "completed"
    },
    "tags": []
   },
   "outputs": [
    {
     "name": "stdout",
     "output_type": "stream",
     "text": [
      "There are 210 interaction features:\n"
     ]
    }
   ],
   "source": [
    "interact = []\n",
    "for i, c1 in enumerate(features):\n",
    "    for c2 in (features[i+1:]):\n",
    "        n = f'{c1}_{c2}'\n",
    "        train[n] = train[c1] * train[c2]\n",
    "        test[n] = test[c1] * test[c2]\n",
    "        interact.append(n)\n",
    "\n",
    "print(f\"There are {len(interact)} interaction features:\")"
   ]
  },
  {
   "cell_type": "code",
   "execution_count": 27,
   "id": "4df22190",
   "metadata": {
    "execution": {
     "iopub.execute_input": "2025-04-28T05:12:39.368308Z",
     "iopub.status.busy": "2025-04-28T05:12:39.368064Z",
     "iopub.status.idle": "2025-04-28T05:16:16.147543Z",
     "shell.execute_reply": "2025-04-28T05:16:16.146844Z"
    },
    "papermill": {
     "duration": 216.787801,
     "end_time": "2025-04-28T05:16:16.149263",
     "exception": false,
     "start_time": "2025-04-28T05:12:39.361462",
     "status": "completed"
    },
    "tags": []
   },
   "outputs": [
    {
     "name": "stdout",
     "output_type": "stream",
     "text": [
      "Fold 1 RMSE: 12.72\n",
      "Fold 2 RMSE: 12.62\n",
      "Fold 3 RMSE: 12.60\n",
      "Fold 4 RMSE: 12.52\n",
      "Fold 5 RMSE: 12.59\n",
      "Fold 6 RMSE: 12.59\n",
      "Fold 7 RMSE: 12.67\n"
     ]
    }
   ],
   "source": [
    "from sklearn.model_selection import KFold\n",
    "from cuml.metrics import mean_squared_error\n",
    "from xgboost import XGBRegressor\n",
    "\n",
    "\n",
    "y = train.Listening_Time_minutes\n",
    "n_folds = 7\n",
    "\n",
    "test_preds = np.zeros(len(test))\n",
    "oof_xgb = np.zeros(len(y))\n",
    "\n",
    "stats = ['mean', 'median', 'std', 'skew']\n",
    "quantiles = [5, 10, 25, 40, 50, 60, 75, 90, 95]\n",
    "\n",
    "\n",
    "kf = KFold(n_splits=n_folds, shuffle=True, random_state=34)\n",
    "\n",
    "for fold, (train_idx, valid_idx) in enumerate(kf.split(train)):\n",
    "    X_train, X_valid = train.iloc[train_idx][features], train.iloc[valid_idx][features]\n",
    "    y_train, y_valid = train.iloc[train_idx]['Listening_Time_minutes'], train.iloc[valid_idx]['Listening_Time_minutes']\n",
    "\n",
    "    X_test = test[features].copy()\n",
    "    \n",
    "    train_with_target = X_train.copy()\n",
    "    train_with_target['Listening_Time_minutes'] = y_train\n",
    "    \n",
    "    for q in quantiles:\n",
    "        result = train_with_target.groupby('Episode_Length_minutes')['Listening_Time_minutes'] \\\n",
    "            .quantile(q/100).reset_index()\n",
    "        result.rename(columns={'Listening_Time_minutes': f'quantile_{q}'}, inplace=True)\n",
    "        X_train = X_train.merge(result, on='Episode_Length_minutes', how='left')\n",
    "        X_train[f'quantile_{q}'] = X_train[f'quantile_{q}'].fillna(0.0).astype('float32').fillna(0.0)\n",
    "        X_valid = X_valid.merge(result, on='Episode_Length_minutes', how='left').astype('float32').fillna(0.0)\n",
    "        X_test = X_test.merge(result, on='Episode_Length_minutes', how='left').astype('float32').fillna(0.0)\n",
    "\n",
    "    grouped_stats = train_with_target.groupby(['Episode_Length_minutes'])['Listening_Time_minutes'].agg(stats).fillna(0.0)\n",
    "    grouped_stats.columns = [f'TE1_WC_{stat}' for stat in stats]\n",
    "\n",
    "    grouped_stats_full = train.groupby(['Episode_Length_minutes'])['Listening_Time_minutes'].agg(stats).fillna(0.0)\n",
    "    grouped_stats_full.columns = [f'TE1_WC_{stat}' for stat in stats]\n",
    "\n",
    "    X_train = X_train.merge(grouped_stats, on='Episode_Length_minutes', how='left').astype('float32')\n",
    "    X_valid = X_valid.merge(grouped_stats_full, on='Episode_Length_minutes', how='left').astype('float32')\n",
    "    X_test = X_test.merge(grouped_stats_full, on='Episode_Length_minutes', how='left').astype('float32')\n",
    "    \n",
    "    xgb = XGBRegressor(\n",
    "        n_estimators=500, \n",
    "        learning_rate=0.07, \n",
    "        reg_lambda=8.20664, \n",
    "        max_depth=11,\n",
    "        colsample_bytree=0.5,\n",
    "        subsample=0.8,\n",
    "        device='cuda',\n",
    "        tree_method='gpu_hist',\n",
    "        eval_metric='rmse',\n",
    "        verbosity=0,\n",
    "        random_state=34\n",
    "    )\n",
    "    xgb.fit(X_train, y_train)\n",
    "    \n",
    "    valid_pred = xgb.predict(X_valid)\n",
    "    fold_rmse = np.sqrt(mean_squared_error(y_valid, valid_pred))\n",
    "    print(f\"Fold {fold + 1} RMSE: {fold_rmse:.2f}\")\n",
    "    \n",
    "    test_preds += xgb.predict(X_test) / n_folds\n"
   ]
  },
  {
   "cell_type": "markdown",
   "id": "c8d52f59",
   "metadata": {
    "papermill": {
     "duration": 0.00647,
     "end_time": "2025-04-28T05:16:16.162859",
     "exception": false,
     "start_time": "2025-04-28T05:16:16.156389",
     "status": "completed"
    },
    "tags": []
   },
   "source": [
    "## Final Submission"
   ]
  },
  {
   "cell_type": "code",
   "execution_count": 28,
   "id": "2f096272",
   "metadata": {
    "execution": {
     "iopub.execute_input": "2025-04-28T05:16:16.177007Z",
     "iopub.status.busy": "2025-04-28T05:16:16.176750Z",
     "iopub.status.idle": "2025-04-28T05:16:16.240933Z",
     "shell.execute_reply": "2025-04-28T05:16:16.240103Z"
    },
    "papermill": {
     "duration": 0.073429,
     "end_time": "2025-04-28T05:16:16.242569",
     "exception": false,
     "start_time": "2025-04-28T05:16:16.169140",
     "status": "completed"
    },
    "tags": []
   },
   "outputs": [
    {
     "name": "stdout",
     "output_type": "stream",
     "text": [
      "Your submission was successfully saved!\n"
     ]
    }
   ],
   "source": [
    "sub = pd.read_csv('/kaggle/input/playground-series-s5e4/sample_submission.csv')\n",
    "sub['Listening_Time_minutes'] = test_preds\n",
    "sub.to_csv('submission.csv', index=False)\n",
    "print(\"Your submission was successfully saved!\")"
   ]
  }
 ],
 "metadata": {
  "kaggle": {
   "accelerator": "nvidiaTeslaT4",
   "dataSources": [
    {
     "databundleVersionId": 11351736,
     "sourceId": 91715,
     "sourceType": "competition"
    }
   ],
   "dockerImageVersionId": 30919,
   "isGpuEnabled": true,
   "isInternetEnabled": true,
   "language": "python",
   "sourceType": "notebook"
  },
  "kernelspec": {
   "display_name": "Python 3",
   "language": "python",
   "name": "python3"
  },
  "language_info": {
   "codemirror_mode": {
    "name": "ipython",
    "version": 3
   },
   "file_extension": ".py",
   "mimetype": "text/x-python",
   "name": "python",
   "nbconvert_exporter": "python",
   "pygments_lexer": "ipython3",
   "version": "3.10.12"
  },
  "papermill": {
   "default_parameters": {},
   "duration": 253.895463,
   "end_time": "2025-04-28T05:16:18.831552",
   "environment_variables": {},
   "exception": null,
   "input_path": "__notebook__.ipynb",
   "output_path": "__notebook__.ipynb",
   "parameters": {},
   "start_time": "2025-04-28T05:12:04.936089",
   "version": "2.6.0"
  }
 },
 "nbformat": 4,
 "nbformat_minor": 5
}
