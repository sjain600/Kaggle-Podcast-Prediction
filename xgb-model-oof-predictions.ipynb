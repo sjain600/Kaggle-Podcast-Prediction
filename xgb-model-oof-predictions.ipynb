{
 "cells": [
  {
   "cell_type": "code",
   "execution_count": 1,
   "id": "a1a0c873",
   "metadata": {
    "execution": {
     "iopub.execute_input": "2025-04-27T05:00:21.206223Z",
     "iopub.status.busy": "2025-04-27T05:00:21.205986Z",
     "iopub.status.idle": "2025-04-27T05:00:32.626688Z",
     "shell.execute_reply": "2025-04-27T05:00:32.625872Z"
    },
    "papermill": {
     "duration": 11.428618,
     "end_time": "2025-04-27T05:00:32.628035",
     "exception": false,
     "start_time": "2025-04-27T05:00:21.199417",
     "status": "completed"
    },
    "tags": []
   },
   "outputs": [
    {
     "name": "stdout",
     "output_type": "stream",
     "text": [
      "/kaggle/input/playground-series-s5e4/sample_submission.csv\n",
      "/kaggle/input/playground-series-s5e4/train.csv\n",
      "/kaggle/input/playground-series-s5e4/test.csv\n"
     ]
    }
   ],
   "source": [
    "# This Python 3 environment comes with many helpful analytics libraries installed\n",
    "# It is defined by the kaggle/python Docker image: https://github.com/kaggle/docker-python\n",
    "# For example, here's several helpful packages to load\n",
    "%load_ext cudf.pandas\n",
    "import cuml\n",
    "import numpy as np # linear algebra\n",
    "import pandas as pd # data processing, CSV file I/O (e.g. pd.read_csv)\n",
    "import matplotlib.pyplot as plt\n",
    "pd.set_option('display.max_columns', 500)\n",
    "\n",
    "# Input data files are available in the read-only \"../input/\" directory\n",
    "# For example, running this (by clicking run or pressing Shift+Enter) will list all files under the input directory\n",
    "\n",
    "import os\n",
    "for dirname, _, filenames in os.walk('/kaggle/input'):\n",
    "    for filename in filenames:\n",
    "        print(os.path.join(dirname, filename))\n",
    "        \n",
    "import warnings\n",
    "warnings.filterwarnings(\"ignore\")\n",
    "\n",
    "# You can write up to 20GB to the current directory (/kaggle/working/) that gets preserved as output when you create a version using \"Save & Run All\" \n",
    "# You can also write temporary files to /kaggle/temp/, but they won't be saved outside of the current session"
   ]
  },
  {
   "cell_type": "code",
   "execution_count": 2,
   "id": "0e1c9bcc",
   "metadata": {
    "execution": {
     "iopub.execute_input": "2025-04-27T05:00:32.639403Z",
     "iopub.status.busy": "2025-04-27T05:00:32.638894Z",
     "iopub.status.idle": "2025-04-27T05:00:33.287472Z",
     "shell.execute_reply": "2025-04-27T05:00:33.286539Z"
    },
    "papermill": {
     "duration": 0.65581,
     "end_time": "2025-04-27T05:00:33.289170",
     "exception": false,
     "start_time": "2025-04-27T05:00:32.633360",
     "status": "completed"
    },
    "tags": []
   },
   "outputs": [],
   "source": [
    "train = pd.read_csv('/kaggle/input/playground-series-s5e4/train.csv', index_col='id')\n",
    "test = pd.read_csv('/kaggle/input/playground-series-s5e4/test.csv', index_col='id')"
   ]
  },
  {
   "cell_type": "code",
   "execution_count": 3,
   "id": "9c567974",
   "metadata": {
    "execution": {
     "iopub.execute_input": "2025-04-27T05:00:33.300162Z",
     "iopub.status.busy": "2025-04-27T05:00:33.299931Z",
     "iopub.status.idle": "2025-04-27T05:00:33.305243Z",
     "shell.execute_reply": "2025-04-27T05:00:33.304475Z"
    },
    "papermill": {
     "duration": 0.012008,
     "end_time": "2025-04-27T05:00:33.306371",
     "exception": false,
     "start_time": "2025-04-27T05:00:33.294363",
     "status": "completed"
    },
    "tags": []
   },
   "outputs": [
    {
     "data": {
      "text/plain": [
       "(750000, 11)"
      ]
     },
     "execution_count": 3,
     "metadata": {},
     "output_type": "execute_result"
    }
   ],
   "source": [
    "train.shape"
   ]
  },
  {
   "cell_type": "code",
   "execution_count": 4,
   "id": "c3c6b178",
   "metadata": {
    "execution": {
     "iopub.execute_input": "2025-04-27T05:00:33.316675Z",
     "iopub.status.busy": "2025-04-27T05:00:33.316435Z",
     "iopub.status.idle": "2025-04-27T05:00:33.320674Z",
     "shell.execute_reply": "2025-04-27T05:00:33.319897Z"
    },
    "papermill": {
     "duration": 0.010799,
     "end_time": "2025-04-27T05:00:33.322021",
     "exception": false,
     "start_time": "2025-04-27T05:00:33.311222",
     "status": "completed"
    },
    "tags": []
   },
   "outputs": [
    {
     "data": {
      "text/plain": [
       "(250000, 10)"
      ]
     },
     "execution_count": 4,
     "metadata": {},
     "output_type": "execute_result"
    }
   ],
   "source": [
    "test.shape"
   ]
  },
  {
   "cell_type": "markdown",
   "id": "607de12a",
   "metadata": {
    "papermill": {
     "duration": 0.004775,
     "end_time": "2025-04-27T05:00:33.331898",
     "exception": false,
     "start_time": "2025-04-27T05:00:33.327123",
     "status": "completed"
    },
    "tags": []
   },
   "source": [
    "## Data Understanding"
   ]
  },
  {
   "cell_type": "code",
   "execution_count": 5,
   "id": "2434f162",
   "metadata": {
    "execution": {
     "iopub.execute_input": "2025-04-27T05:00:33.342245Z",
     "iopub.status.busy": "2025-04-27T05:00:33.342041Z",
     "iopub.status.idle": "2025-04-27T05:00:34.474066Z",
     "shell.execute_reply": "2025-04-27T05:00:34.473153Z"
    },
    "papermill": {
     "duration": 1.138679,
     "end_time": "2025-04-27T05:00:34.475497",
     "exception": false,
     "start_time": "2025-04-27T05:00:33.336818",
     "status": "completed"
    },
    "tags": []
   },
   "outputs": [
    {
     "data": {
      "text/html": [
       "<div>\n",
       "<style scoped>\n",
       "    .dataframe tbody tr th:only-of-type {\n",
       "        vertical-align: middle;\n",
       "    }\n",
       "\n",
       "    .dataframe tbody tr th {\n",
       "        vertical-align: top;\n",
       "    }\n",
       "\n",
       "    .dataframe thead th {\n",
       "        text-align: right;\n",
       "    }\n",
       "</style>\n",
       "<table border=\"1\" class=\"dataframe\">\n",
       "  <thead>\n",
       "    <tr style=\"text-align: right;\">\n",
       "      <th></th>\n",
       "      <th>Podcast_Name</th>\n",
       "      <th>Episode_Title</th>\n",
       "      <th>Episode_Length_minutes</th>\n",
       "      <th>Genre</th>\n",
       "      <th>Host_Popularity_percentage</th>\n",
       "      <th>Publication_Day</th>\n",
       "      <th>Publication_Time</th>\n",
       "      <th>Guest_Popularity_percentage</th>\n",
       "      <th>Number_of_Ads</th>\n",
       "      <th>Episode_Sentiment</th>\n",
       "      <th>Listening_Time_minutes</th>\n",
       "    </tr>\n",
       "    <tr>\n",
       "      <th>id</th>\n",
       "      <th></th>\n",
       "      <th></th>\n",
       "      <th></th>\n",
       "      <th></th>\n",
       "      <th></th>\n",
       "      <th></th>\n",
       "      <th></th>\n",
       "      <th></th>\n",
       "      <th></th>\n",
       "      <th></th>\n",
       "      <th></th>\n",
       "    </tr>\n",
       "  </thead>\n",
       "  <tbody>\n",
       "    <tr>\n",
       "      <th>276848</th>\n",
       "      <td>Mind &amp; Body</td>\n",
       "      <td>Episode 81</td>\n",
       "      <td>52.60</td>\n",
       "      <td>Health</td>\n",
       "      <td>41.39</td>\n",
       "      <td>Saturday</td>\n",
       "      <td>Morning</td>\n",
       "      <td>90.63</td>\n",
       "      <td>0.0</td>\n",
       "      <td>Positive</td>\n",
       "      <td>38.12368</td>\n",
       "    </tr>\n",
       "    <tr>\n",
       "      <th>568883</th>\n",
       "      <td>Melody Mix</td>\n",
       "      <td>Episode 26</td>\n",
       "      <td>15.51</td>\n",
       "      <td>Music</td>\n",
       "      <td>30.35</td>\n",
       "      <td>Saturday</td>\n",
       "      <td>Evening</td>\n",
       "      <td>79.07</td>\n",
       "      <td>3.0</td>\n",
       "      <td>Negative</td>\n",
       "      <td>15.14766</td>\n",
       "    </tr>\n",
       "    <tr>\n",
       "      <th>111278</th>\n",
       "      <td>Educational Nuggets</td>\n",
       "      <td>Episode 30</td>\n",
       "      <td>33.44</td>\n",
       "      <td>Education</td>\n",
       "      <td>35.25</td>\n",
       "      <td>Tuesday</td>\n",
       "      <td>Evening</td>\n",
       "      <td>33.97</td>\n",
       "      <td>3.0</td>\n",
       "      <td>Positive</td>\n",
       "      <td>24.34936</td>\n",
       "    </tr>\n",
       "    <tr>\n",
       "      <th>600863</th>\n",
       "      <td>Sports Weekly</td>\n",
       "      <td>Episode 9</td>\n",
       "      <td>47.46</td>\n",
       "      <td>Sports</td>\n",
       "      <td>91.41</td>\n",
       "      <td>Thursday</td>\n",
       "      <td>Morning</td>\n",
       "      <td>15.72</td>\n",
       "      <td>2.0</td>\n",
       "      <td>Negative</td>\n",
       "      <td>43.53480</td>\n",
       "    </tr>\n",
       "    <tr>\n",
       "      <th>189383</th>\n",
       "      <td>Healthy Living</td>\n",
       "      <td>Episode 6</td>\n",
       "      <td>17.95</td>\n",
       "      <td>Health</td>\n",
       "      <td>54.06</td>\n",
       "      <td>Monday</td>\n",
       "      <td>Evening</td>\n",
       "      <td>24.59</td>\n",
       "      <td>2.0</td>\n",
       "      <td>Neutral</td>\n",
       "      <td>16.45588</td>\n",
       "    </tr>\n",
       "    <tr>\n",
       "      <th>427417</th>\n",
       "      <td>Digital Digest</td>\n",
       "      <td>Episode 95</td>\n",
       "      <td>114.56</td>\n",
       "      <td>Technology</td>\n",
       "      <td>84.31</td>\n",
       "      <td>Friday</td>\n",
       "      <td>Night</td>\n",
       "      <td>17.33</td>\n",
       "      <td>1.0</td>\n",
       "      <td>Neutral</td>\n",
       "      <td>60.89547</td>\n",
       "    </tr>\n",
       "    <tr>\n",
       "      <th>471322</th>\n",
       "      <td>Mystery Matters</td>\n",
       "      <td>Episode 50</td>\n",
       "      <td>102.05</td>\n",
       "      <td>True Crime</td>\n",
       "      <td>64.48</td>\n",
       "      <td>Tuesday</td>\n",
       "      <td>Afternoon</td>\n",
       "      <td>15.00</td>\n",
       "      <td>3.0</td>\n",
       "      <td>Neutral</td>\n",
       "      <td>78.18086</td>\n",
       "    </tr>\n",
       "    <tr>\n",
       "      <th>644041</th>\n",
       "      <td>Life Lessons</td>\n",
       "      <td>Episode 78</td>\n",
       "      <td>34.37</td>\n",
       "      <td>Lifestyle</td>\n",
       "      <td>95.72</td>\n",
       "      <td>Friday</td>\n",
       "      <td>Afternoon</td>\n",
       "      <td>69.42</td>\n",
       "      <td>1.0</td>\n",
       "      <td>Neutral</td>\n",
       "      <td>26.88779</td>\n",
       "    </tr>\n",
       "    <tr>\n",
       "      <th>407415</th>\n",
       "      <td>Business Insights</td>\n",
       "      <td>Episode 68</td>\n",
       "      <td>118.68</td>\n",
       "      <td>Business</td>\n",
       "      <td>45.58</td>\n",
       "      <td>Tuesday</td>\n",
       "      <td>Night</td>\n",
       "      <td>4.88</td>\n",
       "      <td>3.0</td>\n",
       "      <td>Positive</td>\n",
       "      <td>62.37219</td>\n",
       "    </tr>\n",
       "    <tr>\n",
       "      <th>148803</th>\n",
       "      <td>World Watch</td>\n",
       "      <td>Episode 59</td>\n",
       "      <td>53.65</td>\n",
       "      <td>News</td>\n",
       "      <td>20.80</td>\n",
       "      <td>Saturday</td>\n",
       "      <td>Evening</td>\n",
       "      <td>20.57</td>\n",
       "      <td>1.0</td>\n",
       "      <td>Neutral</td>\n",
       "      <td>35.55376</td>\n",
       "    </tr>\n",
       "  </tbody>\n",
       "</table>\n",
       "</div>"
      ],
      "text/plain": [
       "               Podcast_Name Episode_Title  Episode_Length_minutes       Genre  \\\n",
       "id                                                                              \n",
       "276848          Mind & Body    Episode 81                   52.60      Health   \n",
       "568883           Melody Mix    Episode 26                   15.51       Music   \n",
       "111278  Educational Nuggets    Episode 30                   33.44   Education   \n",
       "600863        Sports Weekly     Episode 9                   47.46      Sports   \n",
       "189383       Healthy Living     Episode 6                   17.95      Health   \n",
       "427417       Digital Digest    Episode 95                  114.56  Technology   \n",
       "471322      Mystery Matters    Episode 50                  102.05  True Crime   \n",
       "644041         Life Lessons    Episode 78                   34.37   Lifestyle   \n",
       "407415    Business Insights    Episode 68                  118.68    Business   \n",
       "148803          World Watch    Episode 59                   53.65        News   \n",
       "\n",
       "        Host_Popularity_percentage Publication_Day Publication_Time  \\\n",
       "id                                                                    \n",
       "276848                       41.39        Saturday          Morning   \n",
       "568883                       30.35        Saturday          Evening   \n",
       "111278                       35.25         Tuesday          Evening   \n",
       "600863                       91.41        Thursday          Morning   \n",
       "189383                       54.06          Monday          Evening   \n",
       "427417                       84.31          Friday            Night   \n",
       "471322                       64.48         Tuesday        Afternoon   \n",
       "644041                       95.72          Friday        Afternoon   \n",
       "407415                       45.58         Tuesday            Night   \n",
       "148803                       20.80        Saturday          Evening   \n",
       "\n",
       "        Guest_Popularity_percentage  Number_of_Ads Episode_Sentiment  \\\n",
       "id                                                                     \n",
       "276848                        90.63            0.0          Positive   \n",
       "568883                        79.07            3.0          Negative   \n",
       "111278                        33.97            3.0          Positive   \n",
       "600863                        15.72            2.0          Negative   \n",
       "189383                        24.59            2.0           Neutral   \n",
       "427417                        17.33            1.0           Neutral   \n",
       "471322                        15.00            3.0           Neutral   \n",
       "644041                        69.42            1.0           Neutral   \n",
       "407415                         4.88            3.0          Positive   \n",
       "148803                        20.57            1.0           Neutral   \n",
       "\n",
       "        Listening_Time_minutes  \n",
       "id                              \n",
       "276848                38.12368  \n",
       "568883                15.14766  \n",
       "111278                24.34936  \n",
       "600863                43.53480  \n",
       "189383                16.45588  \n",
       "427417                60.89547  \n",
       "471322                78.18086  \n",
       "644041                26.88779  \n",
       "407415                62.37219  \n",
       "148803                35.55376  "
      ]
     },
     "execution_count": 5,
     "metadata": {},
     "output_type": "execute_result"
    }
   ],
   "source": [
    "train.sample(10)"
   ]
  },
  {
   "cell_type": "code",
   "execution_count": 6,
   "id": "89b4eac5",
   "metadata": {
    "execution": {
     "iopub.execute_input": "2025-04-27T05:00:34.487707Z",
     "iopub.status.busy": "2025-04-27T05:00:34.487448Z",
     "iopub.status.idle": "2025-04-27T05:00:35.250489Z",
     "shell.execute_reply": "2025-04-27T05:00:35.249615Z"
    },
    "papermill": {
     "duration": 0.770493,
     "end_time": "2025-04-27T05:00:35.251992",
     "exception": false,
     "start_time": "2025-04-27T05:00:34.481499",
     "status": "completed"
    },
    "tags": []
   },
   "outputs": [
    {
     "data": {
      "text/html": [
       "<div>\n",
       "<style scoped>\n",
       "    .dataframe tbody tr th:only-of-type {\n",
       "        vertical-align: middle;\n",
       "    }\n",
       "\n",
       "    .dataframe tbody tr th {\n",
       "        vertical-align: top;\n",
       "    }\n",
       "\n",
       "    .dataframe thead th {\n",
       "        text-align: right;\n",
       "    }\n",
       "</style>\n",
       "<table border=\"1\" class=\"dataframe\">\n",
       "  <thead>\n",
       "    <tr style=\"text-align: right;\">\n",
       "      <th></th>\n",
       "      <th>Episode_Length_minutes</th>\n",
       "      <th>Host_Popularity_percentage</th>\n",
       "      <th>Guest_Popularity_percentage</th>\n",
       "      <th>Number_of_Ads</th>\n",
       "      <th>Listening_Time_minutes</th>\n",
       "    </tr>\n",
       "  </thead>\n",
       "  <tbody>\n",
       "    <tr>\n",
       "      <th>count</th>\n",
       "      <td>662907.000000</td>\n",
       "      <td>750000.000000</td>\n",
       "      <td>603970.000000</td>\n",
       "      <td>749999.000000</td>\n",
       "      <td>750000.000000</td>\n",
       "    </tr>\n",
       "    <tr>\n",
       "      <th>mean</th>\n",
       "      <td>64.504738</td>\n",
       "      <td>59.859901</td>\n",
       "      <td>52.236449</td>\n",
       "      <td>1.348855</td>\n",
       "      <td>45.437406</td>\n",
       "    </tr>\n",
       "    <tr>\n",
       "      <th>std</th>\n",
       "      <td>32.969603</td>\n",
       "      <td>22.873098</td>\n",
       "      <td>28.451241</td>\n",
       "      <td>1.151130</td>\n",
       "      <td>27.138306</td>\n",
       "    </tr>\n",
       "    <tr>\n",
       "      <th>min</th>\n",
       "      <td>0.000000</td>\n",
       "      <td>1.300000</td>\n",
       "      <td>0.000000</td>\n",
       "      <td>0.000000</td>\n",
       "      <td>0.000000</td>\n",
       "    </tr>\n",
       "    <tr>\n",
       "      <th>25%</th>\n",
       "      <td>35.730000</td>\n",
       "      <td>39.410000</td>\n",
       "      <td>28.380000</td>\n",
       "      <td>0.000000</td>\n",
       "      <td>23.178350</td>\n",
       "    </tr>\n",
       "    <tr>\n",
       "      <th>50%</th>\n",
       "      <td>63.840000</td>\n",
       "      <td>60.050000</td>\n",
       "      <td>53.580000</td>\n",
       "      <td>1.000000</td>\n",
       "      <td>43.379460</td>\n",
       "    </tr>\n",
       "    <tr>\n",
       "      <th>75%</th>\n",
       "      <td>94.070000</td>\n",
       "      <td>79.530000</td>\n",
       "      <td>76.600000</td>\n",
       "      <td>2.000000</td>\n",
       "      <td>64.811580</td>\n",
       "    </tr>\n",
       "    <tr>\n",
       "      <th>max</th>\n",
       "      <td>325.240000</td>\n",
       "      <td>119.460000</td>\n",
       "      <td>119.910000</td>\n",
       "      <td>103.910000</td>\n",
       "      <td>119.970000</td>\n",
       "    </tr>\n",
       "  </tbody>\n",
       "</table>\n",
       "</div>"
      ],
      "text/plain": [
       "       Episode_Length_minutes  Host_Popularity_percentage  \\\n",
       "count           662907.000000               750000.000000   \n",
       "mean                64.504738                   59.859901   \n",
       "std                 32.969603                   22.873098   \n",
       "min                  0.000000                    1.300000   \n",
       "25%                 35.730000                   39.410000   \n",
       "50%                 63.840000                   60.050000   \n",
       "75%                 94.070000                   79.530000   \n",
       "max                325.240000                  119.460000   \n",
       "\n",
       "       Guest_Popularity_percentage  Number_of_Ads  Listening_Time_minutes  \n",
       "count                603970.000000  749999.000000           750000.000000  \n",
       "mean                     52.236449       1.348855               45.437406  \n",
       "std                      28.451241       1.151130               27.138306  \n",
       "min                       0.000000       0.000000                0.000000  \n",
       "25%                      28.380000       0.000000               23.178350  \n",
       "50%                      53.580000       1.000000               43.379460  \n",
       "75%                      76.600000       2.000000               64.811580  \n",
       "max                     119.910000     103.910000              119.970000  "
      ]
     },
     "execution_count": 6,
     "metadata": {},
     "output_type": "execute_result"
    }
   ],
   "source": [
    "train.describe()"
   ]
  },
  {
   "cell_type": "code",
   "execution_count": 7,
   "id": "03eb0f05",
   "metadata": {
    "execution": {
     "iopub.execute_input": "2025-04-27T05:00:35.265592Z",
     "iopub.status.busy": "2025-04-27T05:00:35.265359Z",
     "iopub.status.idle": "2025-04-27T05:00:35.270010Z",
     "shell.execute_reply": "2025-04-27T05:00:35.269348Z"
    },
    "papermill": {
     "duration": 0.012938,
     "end_time": "2025-04-27T05:00:35.271215",
     "exception": false,
     "start_time": "2025-04-27T05:00:35.258277",
     "status": "completed"
    },
    "tags": []
   },
   "outputs": [
    {
     "data": {
      "text/plain": [
       "(750000, 11)"
      ]
     },
     "execution_count": 7,
     "metadata": {},
     "output_type": "execute_result"
    }
   ],
   "source": [
    "train.shape"
   ]
  },
  {
   "cell_type": "code",
   "execution_count": 8,
   "id": "542ea50d",
   "metadata": {
    "execution": {
     "iopub.execute_input": "2025-04-27T05:00:35.282922Z",
     "iopub.status.busy": "2025-04-27T05:00:35.282712Z",
     "iopub.status.idle": "2025-04-27T05:00:35.286817Z",
     "shell.execute_reply": "2025-04-27T05:00:35.286094Z"
    },
    "papermill": {
     "duration": 0.011205,
     "end_time": "2025-04-27T05:00:35.287983",
     "exception": false,
     "start_time": "2025-04-27T05:00:35.276778",
     "status": "completed"
    },
    "tags": []
   },
   "outputs": [
    {
     "data": {
      "text/plain": [
       "(250000, 10)"
      ]
     },
     "execution_count": 8,
     "metadata": {},
     "output_type": "execute_result"
    }
   ],
   "source": [
    "test.shape"
   ]
  },
  {
   "cell_type": "code",
   "execution_count": 9,
   "id": "03eca2f0",
   "metadata": {
    "execution": {
     "iopub.execute_input": "2025-04-27T05:00:35.299611Z",
     "iopub.status.busy": "2025-04-27T05:00:35.299407Z",
     "iopub.status.idle": "2025-04-27T05:00:35.319174Z",
     "shell.execute_reply": "2025-04-27T05:00:35.318238Z"
    },
    "papermill": {
     "duration": 0.026934,
     "end_time": "2025-04-27T05:00:35.320414",
     "exception": false,
     "start_time": "2025-04-27T05:00:35.293480",
     "status": "completed"
    },
    "tags": []
   },
   "outputs": [
    {
     "name": "stdout",
     "output_type": "stream",
     "text": [
      "<class 'cudf.core.dataframe.DataFrame'>\n",
      "Index: 750000 entries, 0 to 749999\n",
      "Data columns (total 11 columns):\n",
      " #   Column                       Non-Null Count   Dtype\n",
      "---  ------                       --------------   -----\n",
      " 0   Podcast_Name                 750000 non-null  object\n",
      " 1   Episode_Title                750000 non-null  object\n",
      " 2   Episode_Length_minutes       662907 non-null  float64\n",
      " 3   Genre                        750000 non-null  object\n",
      " 4   Host_Popularity_percentage   750000 non-null  float64\n",
      " 5   Publication_Day              750000 non-null  object\n",
      " 6   Publication_Time             750000 non-null  object\n",
      " 7   Guest_Popularity_percentage  603970 non-null  float64\n",
      " 8   Number_of_Ads                749999 non-null  float64\n",
      " 9   Episode_Sentiment            750000 non-null  object\n",
      " 10  Listening_Time_minutes       750000 non-null  float64\n",
      "dtypes: float64(5), object(6)\n",
      "memory usage: 88.8+ MB\n"
     ]
    }
   ],
   "source": [
    "train.info()"
   ]
  },
  {
   "cell_type": "code",
   "execution_count": 10,
   "id": "f42a601d",
   "metadata": {
    "execution": {
     "iopub.execute_input": "2025-04-27T05:00:35.332185Z",
     "iopub.status.busy": "2025-04-27T05:00:35.331989Z",
     "iopub.status.idle": "2025-04-27T05:00:35.434195Z",
     "shell.execute_reply": "2025-04-27T05:00:35.433311Z"
    },
    "papermill": {
     "duration": 0.109661,
     "end_time": "2025-04-27T05:00:35.435779",
     "exception": false,
     "start_time": "2025-04-27T05:00:35.326118",
     "status": "completed"
    },
    "tags": []
   },
   "outputs": [
    {
     "data": {
      "text/plain": [
       "Podcast_Name                        0\n",
       "Episode_Title                       0\n",
       "Episode_Length_minutes          87093\n",
       "Genre                               0\n",
       "Host_Popularity_percentage          0\n",
       "Publication_Day                     0\n",
       "Publication_Time                    0\n",
       "Guest_Popularity_percentage    146030\n",
       "Number_of_Ads                       1\n",
       "Episode_Sentiment                   0\n",
       "Listening_Time_minutes              0\n",
       "dtype: int64"
      ]
     },
     "execution_count": 10,
     "metadata": {},
     "output_type": "execute_result"
    }
   ],
   "source": [
    "train.isnull().sum()"
   ]
  },
  {
   "cell_type": "code",
   "execution_count": 11,
   "id": "b78372b1",
   "metadata": {
    "execution": {
     "iopub.execute_input": "2025-04-27T05:00:35.449287Z",
     "iopub.status.busy": "2025-04-27T05:00:35.449055Z",
     "iopub.status.idle": "2025-04-27T05:00:35.531855Z",
     "shell.execute_reply": "2025-04-27T05:00:35.531076Z"
    },
    "papermill": {
     "duration": 0.091131,
     "end_time": "2025-04-27T05:00:35.533267",
     "exception": false,
     "start_time": "2025-04-27T05:00:35.442136",
     "status": "completed"
    },
    "tags": []
   },
   "outputs": [
    {
     "data": {
      "text/plain": [
       "Podcast_Name                       0\n",
       "Episode_Title                      0\n",
       "Episode_Length_minutes         28736\n",
       "Genre                              0\n",
       "Host_Popularity_percentage         0\n",
       "Publication_Day                    0\n",
       "Publication_Time                   0\n",
       "Guest_Popularity_percentage    48832\n",
       "Number_of_Ads                      0\n",
       "Episode_Sentiment                  0\n",
       "dtype: int64"
      ]
     },
     "execution_count": 11,
     "metadata": {},
     "output_type": "execute_result"
    }
   ],
   "source": [
    "test.isnull().sum()"
   ]
  },
  {
   "cell_type": "markdown",
   "id": "3b6f058d",
   "metadata": {
    "papermill": {
     "duration": 0.00676,
     "end_time": "2025-04-27T05:00:35.547072",
     "exception": false,
     "start_time": "2025-04-27T05:00:35.540312",
     "status": "completed"
    },
    "tags": []
   },
   "source": [
    "## Data Preparation"
   ]
  },
  {
   "cell_type": "markdown",
   "id": "361360c0",
   "metadata": {
    "papermill": {
     "duration": 0.006811,
     "end_time": "2025-04-27T05:00:35.561487",
     "exception": false,
     "start_time": "2025-04-27T05:00:35.554676",
     "status": "completed"
    },
    "tags": []
   },
   "source": [
    "Reducing the memory space of the dataset by converting the num_cols into float32 and cat_cols into category"
   ]
  },
  {
   "cell_type": "code",
   "execution_count": 12,
   "id": "590ae404",
   "metadata": {
    "execution": {
     "iopub.execute_input": "2025-04-27T05:00:35.576371Z",
     "iopub.status.busy": "2025-04-27T05:00:35.576118Z",
     "iopub.status.idle": "2025-04-27T05:00:35.595232Z",
     "shell.execute_reply": "2025-04-27T05:00:35.594576Z"
    },
    "papermill": {
     "duration": 0.027854,
     "end_time": "2025-04-27T05:00:35.596379",
     "exception": false,
     "start_time": "2025-04-27T05:00:35.568525",
     "status": "completed"
    },
    "tags": []
   },
   "outputs": [],
   "source": [
    "num_cols = test.select_dtypes(include=['float64']).columns\n",
    "for col in num_cols:\n",
    "    train[col] = train[col].astype('float32')\n",
    "    test[col] = test[col].astype('float32')"
   ]
  },
  {
   "cell_type": "code",
   "execution_count": 13,
   "id": "2064a596",
   "metadata": {
    "execution": {
     "iopub.execute_input": "2025-04-27T05:00:35.609729Z",
     "iopub.status.busy": "2025-04-27T05:00:35.609455Z",
     "iopub.status.idle": "2025-04-27T05:00:35.774296Z",
     "shell.execute_reply": "2025-04-27T05:00:35.773655Z"
    },
    "papermill": {
     "duration": 0.172943,
     "end_time": "2025-04-27T05:00:35.775690",
     "exception": false,
     "start_time": "2025-04-27T05:00:35.602747",
     "status": "completed"
    },
    "tags": []
   },
   "outputs": [],
   "source": [
    "cat_cols = train.select_dtypes(include=['object']).columns\n",
    "for col in cat_cols:\n",
    "    train[col] = train[col].astype('category')\n",
    "    test[col] = test[col].astype('category')"
   ]
  },
  {
   "cell_type": "code",
   "execution_count": 14,
   "id": "34826869",
   "metadata": {
    "execution": {
     "iopub.execute_input": "2025-04-27T05:00:35.788287Z",
     "iopub.status.busy": "2025-04-27T05:00:35.788077Z",
     "iopub.status.idle": "2025-04-27T05:00:36.487105Z",
     "shell.execute_reply": "2025-04-27T05:00:36.486126Z"
    },
    "papermill": {
     "duration": 0.707113,
     "end_time": "2025-04-27T05:00:36.488714",
     "exception": false,
     "start_time": "2025-04-27T05:00:35.781601",
     "status": "completed"
    },
    "tags": []
   },
   "outputs": [],
   "source": [
    "from scipy.stats.mstats import winsorize\n",
    "\n",
    "train['Number_of_Ads'] = winsorize(train['Number_of_Ads'], limits=(0.01, 0.01))\n",
    "test['Number_of_Ads'] = winsorize(test['Number_of_Ads'], limits=(0.01, 0.01))\n",
    "\n",
    "train['Listening_Time_minutes'] = winsorize(train['Listening_Time_minutes'], limits=(0.01, 0.01))"
   ]
  },
  {
   "cell_type": "code",
   "execution_count": 15,
   "id": "270268c0",
   "metadata": {
    "execution": {
     "iopub.execute_input": "2025-04-27T05:00:36.501938Z",
     "iopub.status.busy": "2025-04-27T05:00:36.501664Z",
     "iopub.status.idle": "2025-04-27T05:00:36.528407Z",
     "shell.execute_reply": "2025-04-27T05:00:36.527524Z"
    },
    "papermill": {
     "duration": 0.034724,
     "end_time": "2025-04-27T05:00:36.529533",
     "exception": false,
     "start_time": "2025-04-27T05:00:36.494809",
     "status": "completed"
    },
    "tags": []
   },
   "outputs": [
    {
     "name": "stdout",
     "output_type": "stream",
     "text": [
      "<class 'cudf.core.dataframe.DataFrame'>\n",
      "Index: 750000 entries, 0 to 749999\n",
      "Data columns (total 11 columns):\n",
      " #   Column                       Non-Null Count   Dtype\n",
      "---  ------                       --------------   -----\n",
      " 0   Podcast_Name                 750000 non-null  category\n",
      " 1   Episode_Title                750000 non-null  category\n",
      " 2   Episode_Length_minutes       662907 non-null  float32\n",
      " 3   Genre                        750000 non-null  category\n",
      " 4   Host_Popularity_percentage   750000 non-null  float32\n",
      " 5   Publication_Day              750000 non-null  category\n",
      " 6   Publication_Time             750000 non-null  category\n",
      " 7   Guest_Popularity_percentage  603970 non-null  float32\n",
      " 8   Number_of_Ads                750000 non-null  float32\n",
      " 9   Episode_Sentiment            750000 non-null  category\n",
      " 10  Listening_Time_minutes       750000 non-null  float64\n",
      "dtypes: category(6), float32(4), float64(1)\n",
      "memory usage: 27.4 MB\n"
     ]
    }
   ],
   "source": [
    "train.info()"
   ]
  },
  {
   "cell_type": "code",
   "execution_count": 16,
   "id": "0aa20884",
   "metadata": {
    "execution": {
     "iopub.execute_input": "2025-04-27T05:00:36.542195Z",
     "iopub.status.busy": "2025-04-27T05:00:36.541973Z",
     "iopub.status.idle": "2025-04-27T05:00:37.712772Z",
     "shell.execute_reply": "2025-04-27T05:00:37.712095Z"
    },
    "papermill": {
     "duration": 1.178785,
     "end_time": "2025-04-27T05:00:37.714313",
     "exception": false,
     "start_time": "2025-04-27T05:00:36.535528",
     "status": "completed"
    },
    "tags": []
   },
   "outputs": [],
   "source": [
    "from sklearn.impute import SimpleImputer\n",
    "\n",
    "impute = SimpleImputer(strategy='median')\n",
    "num_cols = test.select_dtypes(include=['float32']).columns\n",
    "train[num_cols] = impute.fit_transform(train[num_cols])\n",
    "test[num_cols] = impute.fit_transform(test[num_cols])"
   ]
  },
  {
   "cell_type": "code",
   "execution_count": 17,
   "id": "2a120992",
   "metadata": {
    "execution": {
     "iopub.execute_input": "2025-04-27T05:00:37.727851Z",
     "iopub.status.busy": "2025-04-27T05:00:37.727612Z",
     "iopub.status.idle": "2025-04-27T05:00:37.781669Z",
     "shell.execute_reply": "2025-04-27T05:00:37.781085Z"
    },
    "papermill": {
     "duration": 0.062079,
     "end_time": "2025-04-27T05:00:37.782770",
     "exception": false,
     "start_time": "2025-04-27T05:00:37.720691",
     "status": "completed"
    },
    "tags": []
   },
   "outputs": [],
   "source": [
    "sentiments = {'Positive': 1, 'Neutral': 0, 'Negative': -1}\n",
    "train['Episode_Sentiment'] = train['Episode_Sentiment'].map(sentiments).astype('float32')\n",
    "test['Episode_Sentiment'] = test['Episode_Sentiment'].map(sentiments).astype('float32')"
   ]
  },
  {
   "cell_type": "markdown",
   "id": "5e02b969",
   "metadata": {
    "papermill": {
     "duration": 0.005657,
     "end_time": "2025-04-27T05:00:37.794177",
     "exception": false,
     "start_time": "2025-04-27T05:00:37.788520",
     "status": "completed"
    },
    "tags": []
   },
   "source": [
    "## Feature engineering"
   ]
  },
  {
   "cell_type": "markdown",
   "id": "04dfea87",
   "metadata": {
    "papermill": {
     "duration": 0.005556,
     "end_time": "2025-04-27T05:00:37.805462",
     "exception": false,
     "start_time": "2025-04-27T05:00:37.799906",
     "status": "completed"
    },
    "tags": []
   },
   "source": [
    "## Count Encoding for high cardinality columns"
   ]
  },
  {
   "cell_type": "code",
   "execution_count": 18,
   "id": "15b1ac72",
   "metadata": {
    "execution": {
     "iopub.execute_input": "2025-04-27T05:00:37.817612Z",
     "iopub.status.busy": "2025-04-27T05:00:37.817406Z",
     "iopub.status.idle": "2025-04-27T05:00:54.218074Z",
     "shell.execute_reply": "2025-04-27T05:00:54.217330Z"
    },
    "papermill": {
     "duration": 16.408333,
     "end_time": "2025-04-27T05:00:54.219568",
     "exception": false,
     "start_time": "2025-04-27T05:00:37.811235",
     "status": "completed"
    },
    "tags": []
   },
   "outputs": [],
   "source": [
    "from category_encoders import CountEncoder\n",
    "\n",
    "ce = CountEncoder()\n",
    "count_category = ['Podcast_Name', 'Genre', 'Episode_Title']\n",
    "train[count_category] = ce.fit_transform(train[count_category])\n",
    "test[count_category] = ce.transform(test[count_category])"
   ]
  },
  {
   "cell_type": "code",
   "execution_count": 19,
   "id": "32df3a50",
   "metadata": {
    "execution": {
     "iopub.execute_input": "2025-04-27T05:00:54.234423Z",
     "iopub.status.busy": "2025-04-27T05:00:54.234003Z",
     "iopub.status.idle": "2025-04-27T05:00:54.687181Z",
     "shell.execute_reply": "2025-04-27T05:00:54.686481Z"
    },
    "papermill": {
     "duration": 0.461734,
     "end_time": "2025-04-27T05:00:54.688669",
     "exception": false,
     "start_time": "2025-04-27T05:00:54.226935",
     "status": "completed"
    },
    "tags": []
   },
   "outputs": [],
   "source": [
    "from sklearn.preprocessing import LabelEncoder\n",
    "\n",
    "cat_cols = ['Publication_Day', 'Publication_Time']\n",
    "for colname in cat_cols:\n",
    "    le = LabelEncoder()\n",
    "    train[colname] = le.fit_transform(train[colname])\n",
    "    test[colname] = le.transform(test[colname])"
   ]
  },
  {
   "cell_type": "code",
   "execution_count": 20,
   "id": "b3ed3fea",
   "metadata": {
    "execution": {
     "iopub.execute_input": "2025-04-27T05:00:54.702198Z",
     "iopub.status.busy": "2025-04-27T05:00:54.701976Z",
     "iopub.status.idle": "2025-04-27T05:00:55.447499Z",
     "shell.execute_reply": "2025-04-27T05:00:55.446475Z"
    },
    "papermill": {
     "duration": 0.754157,
     "end_time": "2025-04-27T05:00:55.449282",
     "exception": false,
     "start_time": "2025-04-27T05:00:54.695125",
     "status": "completed"
    },
    "tags": []
   },
   "outputs": [],
   "source": [
    "from sklearn.preprocessing import KBinsDiscretizer\n",
    "\n",
    "kmeans = KBinsDiscretizer(n_bins=5, encode='ordinal', strategy='kmeans')\n",
    "train['Kmeans_bins'] = kmeans.fit_transform(train[['Episode_Length_minutes']])\n",
    "test['Kmeans_bins'] = kmeans.transform(test[['Episode_Length_minutes']])"
   ]
  },
  {
   "cell_type": "code",
   "execution_count": 21,
   "id": "81b3db0d",
   "metadata": {
    "execution": {
     "iopub.execute_input": "2025-04-27T05:00:55.462403Z",
     "iopub.status.busy": "2025-04-27T05:00:55.462118Z",
     "iopub.status.idle": "2025-04-27T05:00:55.531537Z",
     "shell.execute_reply": "2025-04-27T05:00:55.530559Z"
    },
    "papermill": {
     "duration": 0.077616,
     "end_time": "2025-04-27T05:00:55.533201",
     "exception": false,
     "start_time": "2025-04-27T05:00:55.455585",
     "status": "completed"
    },
    "tags": []
   },
   "outputs": [],
   "source": [
    "for col in ['Host_Popularity_percentage', 'Guest_Popularity_percentage', 'Episode_Length_minutes']:\n",
    "    for k in range(0, 3):\n",
    "        new_round_col = f\"{col}_round{k}\"\n",
    "        train[new_round_col] = train[col].round(k)\n",
    "        test[new_round_col] = test[col].round(k)"
   ]
  },
  {
   "cell_type": "code",
   "execution_count": 22,
   "id": "4906a163",
   "metadata": {
    "execution": {
     "iopub.execute_input": "2025-04-27T05:00:55.546049Z",
     "iopub.status.busy": "2025-04-27T05:00:55.545823Z",
     "iopub.status.idle": "2025-04-27T05:00:55.563708Z",
     "shell.execute_reply": "2025-04-27T05:00:55.563126Z"
    },
    "papermill": {
     "duration": 0.025451,
     "end_time": "2025-04-27T05:00:55.564881",
     "exception": false,
     "start_time": "2025-04-27T05:00:55.539430",
     "status": "completed"
    },
    "tags": []
   },
   "outputs": [],
   "source": [
    "train['Guest_Popularity_percentage'] =  train['Guest_Popularity_percentage'].clip(upper=100)\n",
    "train['Host_Popularity_percentage'] =  train['Host_Popularity_percentage'].clip(upper=100)\n",
    "test['Guest_Popularity_percentage'] =  test['Guest_Popularity_percentage'].clip(upper=100)\n",
    "test['Host_Popularity_percentage'] =  test['Host_Popularity_percentage'].clip(upper=100)\n"
   ]
  },
  {
   "cell_type": "code",
   "execution_count": 23,
   "id": "ca901b24",
   "metadata": {
    "execution": {
     "iopub.execute_input": "2025-04-27T05:00:55.577935Z",
     "iopub.status.busy": "2025-04-27T05:00:55.577719Z",
     "iopub.status.idle": "2025-04-27T05:00:55.584144Z",
     "shell.execute_reply": "2025-04-27T05:00:55.583453Z"
    },
    "papermill": {
     "duration": 0.014178,
     "end_time": "2025-04-27T05:00:55.585359",
     "exception": false,
     "start_time": "2025-04-27T05:00:55.571181",
     "status": "completed"
    },
    "tags": []
   },
   "outputs": [
    {
     "data": {
      "text/plain": [
       "Index(['Podcast_Name', 'Episode_Title', 'Episode_Length_minutes', 'Genre',\n",
       "       'Host_Popularity_percentage', 'Publication_Day', 'Publication_Time',\n",
       "       'Guest_Popularity_percentage', 'Number_of_Ads', 'Episode_Sentiment',\n",
       "       'Listening_Time_minutes', 'Kmeans_bins',\n",
       "       'Host_Popularity_percentage_round0',\n",
       "       'Host_Popularity_percentage_round1',\n",
       "       'Host_Popularity_percentage_round2',\n",
       "       'Guest_Popularity_percentage_round0',\n",
       "       'Guest_Popularity_percentage_round1',\n",
       "       'Guest_Popularity_percentage_round2', 'Episode_Length_minutes_round0',\n",
       "       'Episode_Length_minutes_round1', 'Episode_Length_minutes_round2'],\n",
       "      dtype='object')"
      ]
     },
     "execution_count": 23,
     "metadata": {},
     "output_type": "execute_result"
    }
   ],
   "source": [
    "train.columns"
   ]
  },
  {
   "cell_type": "code",
   "execution_count": 24,
   "id": "606847f7",
   "metadata": {
    "execution": {
     "iopub.execute_input": "2025-04-27T05:00:55.598149Z",
     "iopub.status.busy": "2025-04-27T05:00:55.597953Z",
     "iopub.status.idle": "2025-04-27T05:00:55.601121Z",
     "shell.execute_reply": "2025-04-27T05:00:55.600487Z"
    },
    "papermill": {
     "duration": 0.010851,
     "end_time": "2025-04-27T05:00:55.602260",
     "exception": false,
     "start_time": "2025-04-27T05:00:55.591409",
     "status": "completed"
    },
    "tags": []
   },
   "outputs": [],
   "source": [
    "features = ['Podcast_Name', 'Episode_Title', 'Episode_Length_minutes', 'Genre', 'Publication_Day', 'Publication_Time',\n",
    "       'Host_Popularity_percentage', 'Guest_Popularity_percentage', 'Number_of_Ads', 'Episode_Sentiment', 'Kmeans_bins', 'Host_Popularity_percentage_round0', 'Host_Popularity_percentage_round1',\n",
    "       'Host_Popularity_percentage_round2', 'Guest_Popularity_percentage_round0', 'Guest_Popularity_percentage_round1',\n",
    "       'Guest_Popularity_percentage_round2', 'Episode_Length_minutes_round0', 'Episode_Length_minutes_round1', 'Episode_Length_minutes_round2']"
   ]
  },
  {
   "cell_type": "code",
   "execution_count": 25,
   "id": "54922e33",
   "metadata": {
    "execution": {
     "iopub.execute_input": "2025-04-27T05:00:55.614866Z",
     "iopub.status.busy": "2025-04-27T05:00:55.614622Z",
     "iopub.status.idle": "2025-04-27T05:00:56.132035Z",
     "shell.execute_reply": "2025-04-27T05:00:56.130836Z"
    },
    "papermill": {
     "duration": 0.525114,
     "end_time": "2025-04-27T05:00:56.133389",
     "exception": false,
     "start_time": "2025-04-27T05:00:55.608275",
     "status": "completed"
    },
    "tags": []
   },
   "outputs": [
    {
     "name": "stdout",
     "output_type": "stream",
     "text": [
      "There are 190 interaction features:\n",
      "['Podcast_Name_Episode_Title', 'Podcast_Name_Episode_Length_minutes', 'Podcast_Name_Genre', 'Podcast_Name_Publication_Day', 'Podcast_Name_Publication_Time', 'Podcast_Name_Host_Popularity_percentage', 'Podcast_Name_Guest_Popularity_percentage', 'Podcast_Name_Number_of_Ads', 'Podcast_Name_Episode_Sentiment', 'Podcast_Name_Kmeans_bins', 'Podcast_Name_Host_Popularity_percentage_round0', 'Podcast_Name_Host_Popularity_percentage_round1', 'Podcast_Name_Host_Popularity_percentage_round2', 'Podcast_Name_Guest_Popularity_percentage_round0', 'Podcast_Name_Guest_Popularity_percentage_round1', 'Podcast_Name_Guest_Popularity_percentage_round2', 'Podcast_Name_Episode_Length_minutes_round0', 'Podcast_Name_Episode_Length_minutes_round1', 'Podcast_Name_Episode_Length_minutes_round2', 'Episode_Title_Episode_Length_minutes', 'Episode_Title_Genre', 'Episode_Title_Publication_Day', 'Episode_Title_Publication_Time', 'Episode_Title_Host_Popularity_percentage', 'Episode_Title_Guest_Popularity_percentage', 'Episode_Title_Number_of_Ads', 'Episode_Title_Episode_Sentiment', 'Episode_Title_Kmeans_bins', 'Episode_Title_Host_Popularity_percentage_round0', 'Episode_Title_Host_Popularity_percentage_round1', 'Episode_Title_Host_Popularity_percentage_round2', 'Episode_Title_Guest_Popularity_percentage_round0', 'Episode_Title_Guest_Popularity_percentage_round1', 'Episode_Title_Guest_Popularity_percentage_round2', 'Episode_Title_Episode_Length_minutes_round0', 'Episode_Title_Episode_Length_minutes_round1', 'Episode_Title_Episode_Length_minutes_round2', 'Episode_Length_minutes_Genre', 'Episode_Length_minutes_Publication_Day', 'Episode_Length_minutes_Publication_Time', 'Episode_Length_minutes_Host_Popularity_percentage', 'Episode_Length_minutes_Guest_Popularity_percentage', 'Episode_Length_minutes_Number_of_Ads', 'Episode_Length_minutes_Episode_Sentiment', 'Episode_Length_minutes_Kmeans_bins', 'Episode_Length_minutes_Host_Popularity_percentage_round0', 'Episode_Length_minutes_Host_Popularity_percentage_round1', 'Episode_Length_minutes_Host_Popularity_percentage_round2', 'Episode_Length_minutes_Guest_Popularity_percentage_round0', 'Episode_Length_minutes_Guest_Popularity_percentage_round1', 'Episode_Length_minutes_Guest_Popularity_percentage_round2', 'Episode_Length_minutes_Episode_Length_minutes_round0', 'Episode_Length_minutes_Episode_Length_minutes_round1', 'Episode_Length_minutes_Episode_Length_minutes_round2', 'Genre_Publication_Day', 'Genre_Publication_Time', 'Genre_Host_Popularity_percentage', 'Genre_Guest_Popularity_percentage', 'Genre_Number_of_Ads', 'Genre_Episode_Sentiment', 'Genre_Kmeans_bins', 'Genre_Host_Popularity_percentage_round0', 'Genre_Host_Popularity_percentage_round1', 'Genre_Host_Popularity_percentage_round2', 'Genre_Guest_Popularity_percentage_round0', 'Genre_Guest_Popularity_percentage_round1', 'Genre_Guest_Popularity_percentage_round2', 'Genre_Episode_Length_minutes_round0', 'Genre_Episode_Length_minutes_round1', 'Genre_Episode_Length_minutes_round2', 'Publication_Day_Publication_Time', 'Publication_Day_Host_Popularity_percentage', 'Publication_Day_Guest_Popularity_percentage', 'Publication_Day_Number_of_Ads', 'Publication_Day_Episode_Sentiment', 'Publication_Day_Kmeans_bins', 'Publication_Day_Host_Popularity_percentage_round0', 'Publication_Day_Host_Popularity_percentage_round1', 'Publication_Day_Host_Popularity_percentage_round2', 'Publication_Day_Guest_Popularity_percentage_round0', 'Publication_Day_Guest_Popularity_percentage_round1', 'Publication_Day_Guest_Popularity_percentage_round2', 'Publication_Day_Episode_Length_minutes_round0', 'Publication_Day_Episode_Length_minutes_round1', 'Publication_Day_Episode_Length_minutes_round2', 'Publication_Time_Host_Popularity_percentage', 'Publication_Time_Guest_Popularity_percentage', 'Publication_Time_Number_of_Ads', 'Publication_Time_Episode_Sentiment', 'Publication_Time_Kmeans_bins', 'Publication_Time_Host_Popularity_percentage_round0', 'Publication_Time_Host_Popularity_percentage_round1', 'Publication_Time_Host_Popularity_percentage_round2', 'Publication_Time_Guest_Popularity_percentage_round0', 'Publication_Time_Guest_Popularity_percentage_round1', 'Publication_Time_Guest_Popularity_percentage_round2', 'Publication_Time_Episode_Length_minutes_round0', 'Publication_Time_Episode_Length_minutes_round1', 'Publication_Time_Episode_Length_minutes_round2', 'Host_Popularity_percentage_Guest_Popularity_percentage', 'Host_Popularity_percentage_Number_of_Ads', 'Host_Popularity_percentage_Episode_Sentiment', 'Host_Popularity_percentage_Kmeans_bins', 'Host_Popularity_percentage_Host_Popularity_percentage_round0', 'Host_Popularity_percentage_Host_Popularity_percentage_round1', 'Host_Popularity_percentage_Host_Popularity_percentage_round2', 'Host_Popularity_percentage_Guest_Popularity_percentage_round0', 'Host_Popularity_percentage_Guest_Popularity_percentage_round1', 'Host_Popularity_percentage_Guest_Popularity_percentage_round2', 'Host_Popularity_percentage_Episode_Length_minutes_round0', 'Host_Popularity_percentage_Episode_Length_minutes_round1', 'Host_Popularity_percentage_Episode_Length_minutes_round2', 'Guest_Popularity_percentage_Number_of_Ads', 'Guest_Popularity_percentage_Episode_Sentiment', 'Guest_Popularity_percentage_Kmeans_bins', 'Guest_Popularity_percentage_Host_Popularity_percentage_round0', 'Guest_Popularity_percentage_Host_Popularity_percentage_round1', 'Guest_Popularity_percentage_Host_Popularity_percentage_round2', 'Guest_Popularity_percentage_Guest_Popularity_percentage_round0', 'Guest_Popularity_percentage_Guest_Popularity_percentage_round1', 'Guest_Popularity_percentage_Guest_Popularity_percentage_round2', 'Guest_Popularity_percentage_Episode_Length_minutes_round0', 'Guest_Popularity_percentage_Episode_Length_minutes_round1', 'Guest_Popularity_percentage_Episode_Length_minutes_round2', 'Number_of_Ads_Episode_Sentiment', 'Number_of_Ads_Kmeans_bins', 'Number_of_Ads_Host_Popularity_percentage_round0', 'Number_of_Ads_Host_Popularity_percentage_round1', 'Number_of_Ads_Host_Popularity_percentage_round2', 'Number_of_Ads_Guest_Popularity_percentage_round0', 'Number_of_Ads_Guest_Popularity_percentage_round1', 'Number_of_Ads_Guest_Popularity_percentage_round2', 'Number_of_Ads_Episode_Length_minutes_round0', 'Number_of_Ads_Episode_Length_minutes_round1', 'Number_of_Ads_Episode_Length_minutes_round2', 'Episode_Sentiment_Kmeans_bins', 'Episode_Sentiment_Host_Popularity_percentage_round0', 'Episode_Sentiment_Host_Popularity_percentage_round1', 'Episode_Sentiment_Host_Popularity_percentage_round2', 'Episode_Sentiment_Guest_Popularity_percentage_round0', 'Episode_Sentiment_Guest_Popularity_percentage_round1', 'Episode_Sentiment_Guest_Popularity_percentage_round2', 'Episode_Sentiment_Episode_Length_minutes_round0', 'Episode_Sentiment_Episode_Length_minutes_round1', 'Episode_Sentiment_Episode_Length_minutes_round2', 'Kmeans_bins_Host_Popularity_percentage_round0', 'Kmeans_bins_Host_Popularity_percentage_round1', 'Kmeans_bins_Host_Popularity_percentage_round2', 'Kmeans_bins_Guest_Popularity_percentage_round0', 'Kmeans_bins_Guest_Popularity_percentage_round1', 'Kmeans_bins_Guest_Popularity_percentage_round2', 'Kmeans_bins_Episode_Length_minutes_round0', 'Kmeans_bins_Episode_Length_minutes_round1', 'Kmeans_bins_Episode_Length_minutes_round2', 'Host_Popularity_percentage_round0_Host_Popularity_percentage_round1', 'Host_Popularity_percentage_round0_Host_Popularity_percentage_round2', 'Host_Popularity_percentage_round0_Guest_Popularity_percentage_round0', 'Host_Popularity_percentage_round0_Guest_Popularity_percentage_round1', 'Host_Popularity_percentage_round0_Guest_Popularity_percentage_round2', 'Host_Popularity_percentage_round0_Episode_Length_minutes_round0', 'Host_Popularity_percentage_round0_Episode_Length_minutes_round1', 'Host_Popularity_percentage_round0_Episode_Length_minutes_round2', 'Host_Popularity_percentage_round1_Host_Popularity_percentage_round2', 'Host_Popularity_percentage_round1_Guest_Popularity_percentage_round0', 'Host_Popularity_percentage_round1_Guest_Popularity_percentage_round1', 'Host_Popularity_percentage_round1_Guest_Popularity_percentage_round2', 'Host_Popularity_percentage_round1_Episode_Length_minutes_round0', 'Host_Popularity_percentage_round1_Episode_Length_minutes_round1', 'Host_Popularity_percentage_round1_Episode_Length_minutes_round2', 'Host_Popularity_percentage_round2_Guest_Popularity_percentage_round0', 'Host_Popularity_percentage_round2_Guest_Popularity_percentage_round1', 'Host_Popularity_percentage_round2_Guest_Popularity_percentage_round2', 'Host_Popularity_percentage_round2_Episode_Length_minutes_round0', 'Host_Popularity_percentage_round2_Episode_Length_minutes_round1', 'Host_Popularity_percentage_round2_Episode_Length_minutes_round2', 'Guest_Popularity_percentage_round0_Guest_Popularity_percentage_round1', 'Guest_Popularity_percentage_round0_Guest_Popularity_percentage_round2', 'Guest_Popularity_percentage_round0_Episode_Length_minutes_round0', 'Guest_Popularity_percentage_round0_Episode_Length_minutes_round1', 'Guest_Popularity_percentage_round0_Episode_Length_minutes_round2', 'Guest_Popularity_percentage_round1_Guest_Popularity_percentage_round2', 'Guest_Popularity_percentage_round1_Episode_Length_minutes_round0', 'Guest_Popularity_percentage_round1_Episode_Length_minutes_round1', 'Guest_Popularity_percentage_round1_Episode_Length_minutes_round2', 'Guest_Popularity_percentage_round2_Episode_Length_minutes_round0', 'Guest_Popularity_percentage_round2_Episode_Length_minutes_round1', 'Guest_Popularity_percentage_round2_Episode_Length_minutes_round2', 'Episode_Length_minutes_round0_Episode_Length_minutes_round1', 'Episode_Length_minutes_round0_Episode_Length_minutes_round2', 'Episode_Length_minutes_round1_Episode_Length_minutes_round2']\n"
     ]
    }
   ],
   "source": [
    "interact = []\n",
    "for i, c1 in enumerate(features):\n",
    "    for c2 in (features[i+1:]):\n",
    "        n = f'{c1}_{c2}'\n",
    "        train[n] = train[c1] * train[c2]\n",
    "        test[n] = test[c1] * test[c2]\n",
    "        interact.append(n)\n",
    "\n",
    "print(f\"There are {len(interact)} interaction features:\")\n",
    "print( interact )"
   ]
  },
  {
   "cell_type": "code",
   "execution_count": 26,
   "id": "033864f9",
   "metadata": {
    "execution": {
     "iopub.execute_input": "2025-04-27T05:00:56.146975Z",
     "iopub.status.busy": "2025-04-27T05:00:56.146719Z",
     "iopub.status.idle": "2025-04-27T05:05:05.252982Z",
     "shell.execute_reply": "2025-04-27T05:05:05.252240Z"
    },
    "papermill": {
     "duration": 249.114653,
     "end_time": "2025-04-27T05:05:05.254558",
     "exception": false,
     "start_time": "2025-04-27T05:00:56.139905",
     "status": "completed"
    },
    "tags": []
   },
   "outputs": [
    {
     "name": "stdout",
     "output_type": "stream",
     "text": [
      "Fold 1 RMSE: 12.73\n",
      "Fold 2 RMSE: 12.75\n",
      "Fold 3 RMSE: 12.66\n",
      "Fold 4 RMSE: 12.61\n",
      "Fold 5 RMSE: 12.58\n",
      "Fold 6 RMSE: 12.59\n",
      "Fold 7 RMSE: 12.63\n",
      "Fold 8 RMSE: 12.66\n",
      "Fold 9 RMSE: 12.70\n",
      "Fold 10 RMSE: 12.68\n"
     ]
    }
   ],
   "source": [
    "from sklearn.model_selection import KFold\n",
    "from cuml.metrics import mean_squared_error\n",
    "from xgboost import XGBRegressor\n",
    "\n",
    "n_folds = 10\n",
    "test_preds = np.zeros(len(test))\n",
    "\n",
    "kf = KFold(n_splits=n_folds, shuffle=True, random_state=34)\n",
    "\n",
    "for fold, (train_idx, valid_idx) in enumerate(kf.split(train)):\n",
    "    X_train, X_valid = train.iloc[train_idx][features], train.iloc[valid_idx][features]\n",
    "    y_train, y_valid = train.iloc[train_idx]['Listening_Time_minutes'], train.iloc[valid_idx]['Listening_Time_minutes']\n",
    "\n",
    "    xgb = XGBRegressor(\n",
    "        n_estimators=600, \n",
    "        learning_rate=0.07, \n",
    "        reg_lambda=8.20664, \n",
    "        max_depth=11,\n",
    "        colsample_bytree=0.5,\n",
    "        subsample=0.8,\n",
    "        device='cuda',\n",
    "        tree_method='gpu_hist',\n",
    "        eval_metric='rmse',\n",
    "        verbosity=0,\n",
    "        random_state=34\n",
    "    )\n",
    "    xgb.fit(X_train, y_train)\n",
    "    \n",
    "    valid_pred = xgb.predict(X_valid)\n",
    "    fold_rmse = np.sqrt(mean_squared_error(y_valid, valid_pred))\n",
    "    print(f\"Fold {fold + 1} RMSE: {fold_rmse:.2f}\")\n",
    "    \n",
    "    test_preds += xgb.predict(test[features]) / n_folds\n"
   ]
  },
  {
   "cell_type": "markdown",
   "id": "4f052480",
   "metadata": {
    "papermill": {
     "duration": 0.006408,
     "end_time": "2025-04-27T05:05:05.267883",
     "exception": false,
     "start_time": "2025-04-27T05:05:05.261475",
     "status": "completed"
    },
    "tags": []
   },
   "source": [
    "## Final Submission"
   ]
  },
  {
   "cell_type": "code",
   "execution_count": 27,
   "id": "263f4d08",
   "metadata": {
    "execution": {
     "iopub.execute_input": "2025-04-27T05:05:05.281535Z",
     "iopub.status.busy": "2025-04-27T05:05:05.281281Z",
     "iopub.status.idle": "2025-04-27T05:05:05.351542Z",
     "shell.execute_reply": "2025-04-27T05:05:05.350495Z"
    },
    "papermill": {
     "duration": 0.078989,
     "end_time": "2025-04-27T05:05:05.353232",
     "exception": false,
     "start_time": "2025-04-27T05:05:05.274243",
     "status": "completed"
    },
    "tags": []
   },
   "outputs": [
    {
     "name": "stdout",
     "output_type": "stream",
     "text": [
      "Your submission was successfully saved!\n"
     ]
    }
   ],
   "source": [
    "sub = pd.read_csv('/kaggle/input/playground-series-s5e4/sample_submission.csv')\n",
    "sub['Listening_Time_minutes'] = test_preds\n",
    "sub.to_csv('submission.csv', index=False)\n",
    "print(\"Your submission was successfully saved!\")"
   ]
  }
 ],
 "metadata": {
  "kaggle": {
   "accelerator": "nvidiaTeslaT4",
   "dataSources": [
    {
     "databundleVersionId": 11351736,
     "sourceId": 91715,
     "sourceType": "competition"
    }
   ],
   "dockerImageVersionId": 30919,
   "isGpuEnabled": true,
   "isInternetEnabled": true,
   "language": "python",
   "sourceType": "notebook"
  },
  "kernelspec": {
   "display_name": "Python 3",
   "language": "python",
   "name": "python3"
  },
  "language_info": {
   "codemirror_mode": {
    "name": "ipython",
    "version": 3
   },
   "file_extension": ".py",
   "mimetype": "text/x-python",
   "name": "python",
   "nbconvert_exporter": "python",
   "pygments_lexer": "ipython3",
   "version": "3.10.12"
  },
  "papermill": {
   "default_parameters": {},
   "duration": 288.991203,
   "end_time": "2025-04-27T05:05:07.382954",
   "environment_variables": {},
   "exception": null,
   "input_path": "__notebook__.ipynb",
   "output_path": "__notebook__.ipynb",
   "parameters": {},
   "start_time": "2025-04-27T05:00:18.391751",
   "version": "2.6.0"
  }
 },
 "nbformat": 4,
 "nbformat_minor": 5
}
