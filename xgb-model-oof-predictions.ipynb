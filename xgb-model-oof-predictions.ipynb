{
 "cells": [
  {
   "cell_type": "code",
   "execution_count": 1,
   "id": "4ce1ed8f",
   "metadata": {
    "execution": {
     "iopub.execute_input": "2025-04-26T09:28:27.763782Z",
     "iopub.status.busy": "2025-04-26T09:28:27.763466Z",
     "iopub.status.idle": "2025-04-26T09:28:40.434891Z",
     "shell.execute_reply": "2025-04-26T09:28:40.434005Z"
    },
    "papermill": {
     "duration": 12.678893,
     "end_time": "2025-04-26T09:28:40.436189",
     "exception": false,
     "start_time": "2025-04-26T09:28:27.757296",
     "status": "completed"
    },
    "tags": []
   },
   "outputs": [
    {
     "name": "stdout",
     "output_type": "stream",
     "text": [
      "/kaggle/input/playground-series-s5e4/sample_submission.csv\n",
      "/kaggle/input/playground-series-s5e4/train.csv\n",
      "/kaggle/input/playground-series-s5e4/test.csv\n"
     ]
    }
   ],
   "source": [
    "# This Python 3 environment comes with many helpful analytics libraries installed\n",
    "# It is defined by the kaggle/python Docker image: https://github.com/kaggle/docker-python\n",
    "# For example, here's several helpful packages to load\n",
    "%load_ext cudf.pandas\n",
    "import cuml\n",
    "import numpy as np # linear algebra\n",
    "import pandas as pd # data processing, CSV file I/O (e.g. pd.read_csv)\n",
    "import matplotlib.pyplot as plt\n",
    "pd.set_option('display.max_columns', 500)\n",
    "\n",
    "# Input data files are available in the read-only \"../input/\" directory\n",
    "# For example, running this (by clicking run or pressing Shift+Enter) will list all files under the input directory\n",
    "\n",
    "import os\n",
    "for dirname, _, filenames in os.walk('/kaggle/input'):\n",
    "    for filename in filenames:\n",
    "        print(os.path.join(dirname, filename))\n",
    "        \n",
    "import warnings\n",
    "warnings.filterwarnings(\"ignore\")\n",
    "\n",
    "# You can write up to 20GB to the current directory (/kaggle/working/) that gets preserved as output when you create a version using \"Save & Run All\" \n",
    "# You can also write temporary files to /kaggle/temp/, but they won't be saved outside of the current session"
   ]
  },
  {
   "cell_type": "code",
   "execution_count": 2,
   "id": "9bda3d9d",
   "metadata": {
    "execution": {
     "iopub.execute_input": "2025-04-26T09:28:40.447086Z",
     "iopub.status.busy": "2025-04-26T09:28:40.446572Z",
     "iopub.status.idle": "2025-04-26T09:28:41.686374Z",
     "shell.execute_reply": "2025-04-26T09:28:41.685483Z"
    },
    "papermill": {
     "duration": 1.246576,
     "end_time": "2025-04-26T09:28:41.687975",
     "exception": false,
     "start_time": "2025-04-26T09:28:40.441399",
     "status": "completed"
    },
    "tags": []
   },
   "outputs": [],
   "source": [
    "train = pd.read_csv('/kaggle/input/playground-series-s5e4/train.csv', index_col='id')\n",
    "test = pd.read_csv('/kaggle/input/playground-series-s5e4/test.csv', index_col='id')"
   ]
  },
  {
   "cell_type": "code",
   "execution_count": 3,
   "id": "c133d200",
   "metadata": {
    "execution": {
     "iopub.execute_input": "2025-04-26T09:28:41.698834Z",
     "iopub.status.busy": "2025-04-26T09:28:41.698560Z",
     "iopub.status.idle": "2025-04-26T09:28:41.703681Z",
     "shell.execute_reply": "2025-04-26T09:28:41.703083Z"
    },
    "papermill": {
     "duration": 0.011658,
     "end_time": "2025-04-26T09:28:41.704913",
     "exception": false,
     "start_time": "2025-04-26T09:28:41.693255",
     "status": "completed"
    },
    "tags": []
   },
   "outputs": [
    {
     "data": {
      "text/plain": [
       "(750000, 11)"
      ]
     },
     "execution_count": 3,
     "metadata": {},
     "output_type": "execute_result"
    }
   ],
   "source": [
    "train.shape"
   ]
  },
  {
   "cell_type": "code",
   "execution_count": 4,
   "id": "648f57fc",
   "metadata": {
    "execution": {
     "iopub.execute_input": "2025-04-26T09:28:41.715186Z",
     "iopub.status.busy": "2025-04-26T09:28:41.714987Z",
     "iopub.status.idle": "2025-04-26T09:28:41.719081Z",
     "shell.execute_reply": "2025-04-26T09:28:41.718319Z"
    },
    "papermill": {
     "duration": 0.010444,
     "end_time": "2025-04-26T09:28:41.720256",
     "exception": false,
     "start_time": "2025-04-26T09:28:41.709812",
     "status": "completed"
    },
    "tags": []
   },
   "outputs": [
    {
     "data": {
      "text/plain": [
       "(250000, 10)"
      ]
     },
     "execution_count": 4,
     "metadata": {},
     "output_type": "execute_result"
    }
   ],
   "source": [
    "test.shape"
   ]
  },
  {
   "cell_type": "markdown",
   "id": "a64fd77d",
   "metadata": {
    "papermill": {
     "duration": 0.004682,
     "end_time": "2025-04-26T09:28:41.729708",
     "exception": false,
     "start_time": "2025-04-26T09:28:41.725026",
     "status": "completed"
    },
    "tags": []
   },
   "source": [
    "## Data Understanding"
   ]
  },
  {
   "cell_type": "code",
   "execution_count": 5,
   "id": "374761e2",
   "metadata": {
    "execution": {
     "iopub.execute_input": "2025-04-26T09:28:41.739851Z",
     "iopub.status.busy": "2025-04-26T09:28:41.739619Z",
     "iopub.status.idle": "2025-04-26T09:28:42.989185Z",
     "shell.execute_reply": "2025-04-26T09:28:42.988350Z"
    },
    "papermill": {
     "duration": 1.256082,
     "end_time": "2025-04-26T09:28:42.990555",
     "exception": false,
     "start_time": "2025-04-26T09:28:41.734473",
     "status": "completed"
    },
    "tags": []
   },
   "outputs": [
    {
     "data": {
      "text/html": [
       "<div>\n",
       "<style scoped>\n",
       "    .dataframe tbody tr th:only-of-type {\n",
       "        vertical-align: middle;\n",
       "    }\n",
       "\n",
       "    .dataframe tbody tr th {\n",
       "        vertical-align: top;\n",
       "    }\n",
       "\n",
       "    .dataframe thead th {\n",
       "        text-align: right;\n",
       "    }\n",
       "</style>\n",
       "<table border=\"1\" class=\"dataframe\">\n",
       "  <thead>\n",
       "    <tr style=\"text-align: right;\">\n",
       "      <th></th>\n",
       "      <th>Podcast_Name</th>\n",
       "      <th>Episode_Title</th>\n",
       "      <th>Episode_Length_minutes</th>\n",
       "      <th>Genre</th>\n",
       "      <th>Host_Popularity_percentage</th>\n",
       "      <th>Publication_Day</th>\n",
       "      <th>Publication_Time</th>\n",
       "      <th>Guest_Popularity_percentage</th>\n",
       "      <th>Number_of_Ads</th>\n",
       "      <th>Episode_Sentiment</th>\n",
       "      <th>Listening_Time_minutes</th>\n",
       "    </tr>\n",
       "    <tr>\n",
       "      <th>id</th>\n",
       "      <th></th>\n",
       "      <th></th>\n",
       "      <th></th>\n",
       "      <th></th>\n",
       "      <th></th>\n",
       "      <th></th>\n",
       "      <th></th>\n",
       "      <th></th>\n",
       "      <th></th>\n",
       "      <th></th>\n",
       "      <th></th>\n",
       "    </tr>\n",
       "  </thead>\n",
       "  <tbody>\n",
       "    <tr>\n",
       "      <th>92728</th>\n",
       "      <td>Comedy Corner</td>\n",
       "      <td>Episode 18</td>\n",
       "      <td>64.57</td>\n",
       "      <td>Comedy</td>\n",
       "      <td>84.10</td>\n",
       "      <td>Wednesday</td>\n",
       "      <td>Afternoon</td>\n",
       "      <td>90.38</td>\n",
       "      <td>2.0</td>\n",
       "      <td>Neutral</td>\n",
       "      <td>46.93636</td>\n",
       "    </tr>\n",
       "    <tr>\n",
       "      <th>189441</th>\n",
       "      <td>Criminal Minds</td>\n",
       "      <td>Episode 66</td>\n",
       "      <td>&lt;NA&gt;</td>\n",
       "      <td>True Crime</td>\n",
       "      <td>93.94</td>\n",
       "      <td>Monday</td>\n",
       "      <td>Afternoon</td>\n",
       "      <td>&lt;NA&gt;</td>\n",
       "      <td>3.0</td>\n",
       "      <td>Negative</td>\n",
       "      <td>52.94834</td>\n",
       "    </tr>\n",
       "    <tr>\n",
       "      <th>559777</th>\n",
       "      <td>Mind &amp; Body</td>\n",
       "      <td>Episode 92</td>\n",
       "      <td>12.39</td>\n",
       "      <td>Health</td>\n",
       "      <td>60.50</td>\n",
       "      <td>Sunday</td>\n",
       "      <td>Evening</td>\n",
       "      <td>84.2</td>\n",
       "      <td>3.0</td>\n",
       "      <td>Positive</td>\n",
       "      <td>8.05935</td>\n",
       "    </tr>\n",
       "    <tr>\n",
       "      <th>555138</th>\n",
       "      <td>Learning Lab</td>\n",
       "      <td>Episode 86</td>\n",
       "      <td>92.29</td>\n",
       "      <td>Education</td>\n",
       "      <td>52.26</td>\n",
       "      <td>Sunday</td>\n",
       "      <td>Afternoon</td>\n",
       "      <td>32.65</td>\n",
       "      <td>1.0</td>\n",
       "      <td>Positive</td>\n",
       "      <td>67.46362</td>\n",
       "    </tr>\n",
       "    <tr>\n",
       "      <th>103829</th>\n",
       "      <td>Sound Waves</td>\n",
       "      <td>Episode 75</td>\n",
       "      <td>62.51</td>\n",
       "      <td>Music</td>\n",
       "      <td>90.58</td>\n",
       "      <td>Monday</td>\n",
       "      <td>Evening</td>\n",
       "      <td>8.31</td>\n",
       "      <td>0.0</td>\n",
       "      <td>Negative</td>\n",
       "      <td>34.99625</td>\n",
       "    </tr>\n",
       "    <tr>\n",
       "      <th>708865</th>\n",
       "      <td>World Watch</td>\n",
       "      <td>Episode 86</td>\n",
       "      <td>66.96</td>\n",
       "      <td>News</td>\n",
       "      <td>58.17</td>\n",
       "      <td>Saturday</td>\n",
       "      <td>Afternoon</td>\n",
       "      <td>82.09</td>\n",
       "      <td>1.0</td>\n",
       "      <td>Positive</td>\n",
       "      <td>37.29073</td>\n",
       "    </tr>\n",
       "    <tr>\n",
       "      <th>179711</th>\n",
       "      <td>Funny Folks</td>\n",
       "      <td>Episode 60</td>\n",
       "      <td>60.19</td>\n",
       "      <td>Comedy</td>\n",
       "      <td>22.63</td>\n",
       "      <td>Thursday</td>\n",
       "      <td>Evening</td>\n",
       "      <td>35.62</td>\n",
       "      <td>3.0</td>\n",
       "      <td>Negative</td>\n",
       "      <td>58.79097</td>\n",
       "    </tr>\n",
       "    <tr>\n",
       "      <th>592900</th>\n",
       "      <td>Crime Chronicles</td>\n",
       "      <td>Episode 71</td>\n",
       "      <td>79.04</td>\n",
       "      <td>True Crime</td>\n",
       "      <td>84.36</td>\n",
       "      <td>Friday</td>\n",
       "      <td>Night</td>\n",
       "      <td>82.12</td>\n",
       "      <td>1.0</td>\n",
       "      <td>Positive</td>\n",
       "      <td>72.58319</td>\n",
       "    </tr>\n",
       "    <tr>\n",
       "      <th>684676</th>\n",
       "      <td>Life Lessons</td>\n",
       "      <td>Episode 20</td>\n",
       "      <td>23.29</td>\n",
       "      <td>Lifestyle</td>\n",
       "      <td>21.18</td>\n",
       "      <td>Monday</td>\n",
       "      <td>Afternoon</td>\n",
       "      <td>30.53</td>\n",
       "      <td>3.0</td>\n",
       "      <td>Positive</td>\n",
       "      <td>18.53835</td>\n",
       "    </tr>\n",
       "    <tr>\n",
       "      <th>336191</th>\n",
       "      <td>Tech Trends</td>\n",
       "      <td>Episode 88</td>\n",
       "      <td>32.75</td>\n",
       "      <td>Technology</td>\n",
       "      <td>47.93</td>\n",
       "      <td>Wednesday</td>\n",
       "      <td>Afternoon</td>\n",
       "      <td>78.84</td>\n",
       "      <td>1.0</td>\n",
       "      <td>Negative</td>\n",
       "      <td>30.88699</td>\n",
       "    </tr>\n",
       "  </tbody>\n",
       "</table>\n",
       "</div>"
      ],
      "text/plain": [
       "            Podcast_Name Episode_Title Episode_Length_minutes       Genre  \\\n",
       "id                                                                          \n",
       "92728      Comedy Corner    Episode 18                  64.57      Comedy   \n",
       "189441    Criminal Minds    Episode 66                   <NA>  True Crime   \n",
       "559777       Mind & Body    Episode 92                  12.39      Health   \n",
       "555138      Learning Lab    Episode 86                  92.29   Education   \n",
       "103829       Sound Waves    Episode 75                  62.51       Music   \n",
       "708865       World Watch    Episode 86                  66.96        News   \n",
       "179711       Funny Folks    Episode 60                  60.19      Comedy   \n",
       "592900  Crime Chronicles    Episode 71                  79.04  True Crime   \n",
       "684676      Life Lessons    Episode 20                  23.29   Lifestyle   \n",
       "336191       Tech Trends    Episode 88                  32.75  Technology   \n",
       "\n",
       "        Host_Popularity_percentage Publication_Day Publication_Time  \\\n",
       "id                                                                    \n",
       "92728                        84.10       Wednesday        Afternoon   \n",
       "189441                       93.94          Monday        Afternoon   \n",
       "559777                       60.50          Sunday          Evening   \n",
       "555138                       52.26          Sunday        Afternoon   \n",
       "103829                       90.58          Monday          Evening   \n",
       "708865                       58.17        Saturday        Afternoon   \n",
       "179711                       22.63        Thursday          Evening   \n",
       "592900                       84.36          Friday            Night   \n",
       "684676                       21.18          Monday        Afternoon   \n",
       "336191                       47.93       Wednesday        Afternoon   \n",
       "\n",
       "       Guest_Popularity_percentage  Number_of_Ads Episode_Sentiment  \\\n",
       "id                                                                    \n",
       "92728                        90.38            2.0           Neutral   \n",
       "189441                        <NA>            3.0          Negative   \n",
       "559777                        84.2            3.0          Positive   \n",
       "555138                       32.65            1.0          Positive   \n",
       "103829                        8.31            0.0          Negative   \n",
       "708865                       82.09            1.0          Positive   \n",
       "179711                       35.62            3.0          Negative   \n",
       "592900                       82.12            1.0          Positive   \n",
       "684676                       30.53            3.0          Positive   \n",
       "336191                       78.84            1.0          Negative   \n",
       "\n",
       "        Listening_Time_minutes  \n",
       "id                              \n",
       "92728                 46.93636  \n",
       "189441                52.94834  \n",
       "559777                 8.05935  \n",
       "555138                67.46362  \n",
       "103829                34.99625  \n",
       "708865                37.29073  \n",
       "179711                58.79097  \n",
       "592900                72.58319  \n",
       "684676                18.53835  \n",
       "336191                30.88699  "
      ]
     },
     "execution_count": 5,
     "metadata": {},
     "output_type": "execute_result"
    }
   ],
   "source": [
    "train.sample(10)"
   ]
  },
  {
   "cell_type": "code",
   "execution_count": 6,
   "id": "7ea88104",
   "metadata": {
    "execution": {
     "iopub.execute_input": "2025-04-26T09:28:43.001857Z",
     "iopub.status.busy": "2025-04-26T09:28:43.001569Z",
     "iopub.status.idle": "2025-04-26T09:28:43.951121Z",
     "shell.execute_reply": "2025-04-26T09:28:43.950181Z"
    },
    "papermill": {
     "duration": 0.956617,
     "end_time": "2025-04-26T09:28:43.952650",
     "exception": false,
     "start_time": "2025-04-26T09:28:42.996033",
     "status": "completed"
    },
    "tags": []
   },
   "outputs": [
    {
     "data": {
      "text/html": [
       "<div>\n",
       "<style scoped>\n",
       "    .dataframe tbody tr th:only-of-type {\n",
       "        vertical-align: middle;\n",
       "    }\n",
       "\n",
       "    .dataframe tbody tr th {\n",
       "        vertical-align: top;\n",
       "    }\n",
       "\n",
       "    .dataframe thead th {\n",
       "        text-align: right;\n",
       "    }\n",
       "</style>\n",
       "<table border=\"1\" class=\"dataframe\">\n",
       "  <thead>\n",
       "    <tr style=\"text-align: right;\">\n",
       "      <th></th>\n",
       "      <th>Episode_Length_minutes</th>\n",
       "      <th>Host_Popularity_percentage</th>\n",
       "      <th>Guest_Popularity_percentage</th>\n",
       "      <th>Number_of_Ads</th>\n",
       "      <th>Listening_Time_minutes</th>\n",
       "    </tr>\n",
       "  </thead>\n",
       "  <tbody>\n",
       "    <tr>\n",
       "      <th>count</th>\n",
       "      <td>662907.000000</td>\n",
       "      <td>750000.000000</td>\n",
       "      <td>603970.000000</td>\n",
       "      <td>749999.000000</td>\n",
       "      <td>750000.000000</td>\n",
       "    </tr>\n",
       "    <tr>\n",
       "      <th>mean</th>\n",
       "      <td>64.504738</td>\n",
       "      <td>59.859901</td>\n",
       "      <td>52.236449</td>\n",
       "      <td>1.348855</td>\n",
       "      <td>45.437406</td>\n",
       "    </tr>\n",
       "    <tr>\n",
       "      <th>std</th>\n",
       "      <td>32.969603</td>\n",
       "      <td>22.873098</td>\n",
       "      <td>28.451241</td>\n",
       "      <td>1.151130</td>\n",
       "      <td>27.138306</td>\n",
       "    </tr>\n",
       "    <tr>\n",
       "      <th>min</th>\n",
       "      <td>0.000000</td>\n",
       "      <td>1.300000</td>\n",
       "      <td>0.000000</td>\n",
       "      <td>0.000000</td>\n",
       "      <td>0.000000</td>\n",
       "    </tr>\n",
       "    <tr>\n",
       "      <th>25%</th>\n",
       "      <td>35.730000</td>\n",
       "      <td>39.410000</td>\n",
       "      <td>28.380000</td>\n",
       "      <td>0.000000</td>\n",
       "      <td>23.178350</td>\n",
       "    </tr>\n",
       "    <tr>\n",
       "      <th>50%</th>\n",
       "      <td>63.840000</td>\n",
       "      <td>60.050000</td>\n",
       "      <td>53.580000</td>\n",
       "      <td>1.000000</td>\n",
       "      <td>43.379460</td>\n",
       "    </tr>\n",
       "    <tr>\n",
       "      <th>75%</th>\n",
       "      <td>94.070000</td>\n",
       "      <td>79.530000</td>\n",
       "      <td>76.600000</td>\n",
       "      <td>2.000000</td>\n",
       "      <td>64.811580</td>\n",
       "    </tr>\n",
       "    <tr>\n",
       "      <th>max</th>\n",
       "      <td>325.240000</td>\n",
       "      <td>119.460000</td>\n",
       "      <td>119.910000</td>\n",
       "      <td>103.910000</td>\n",
       "      <td>119.970000</td>\n",
       "    </tr>\n",
       "  </tbody>\n",
       "</table>\n",
       "</div>"
      ],
      "text/plain": [
       "       Episode_Length_minutes  Host_Popularity_percentage  \\\n",
       "count           662907.000000               750000.000000   \n",
       "mean                64.504738                   59.859901   \n",
       "std                 32.969603                   22.873098   \n",
       "min                  0.000000                    1.300000   \n",
       "25%                 35.730000                   39.410000   \n",
       "50%                 63.840000                   60.050000   \n",
       "75%                 94.070000                   79.530000   \n",
       "max                325.240000                  119.460000   \n",
       "\n",
       "       Guest_Popularity_percentage  Number_of_Ads  Listening_Time_minutes  \n",
       "count                603970.000000  749999.000000           750000.000000  \n",
       "mean                     52.236449       1.348855               45.437406  \n",
       "std                      28.451241       1.151130               27.138306  \n",
       "min                       0.000000       0.000000                0.000000  \n",
       "25%                      28.380000       0.000000               23.178350  \n",
       "50%                      53.580000       1.000000               43.379460  \n",
       "75%                      76.600000       2.000000               64.811580  \n",
       "max                     119.910000     103.910000              119.970000  "
      ]
     },
     "execution_count": 6,
     "metadata": {},
     "output_type": "execute_result"
    }
   ],
   "source": [
    "train.describe()"
   ]
  },
  {
   "cell_type": "code",
   "execution_count": 7,
   "id": "5a3c7d7b",
   "metadata": {
    "execution": {
     "iopub.execute_input": "2025-04-26T09:28:43.965897Z",
     "iopub.status.busy": "2025-04-26T09:28:43.965601Z",
     "iopub.status.idle": "2025-04-26T09:28:43.970089Z",
     "shell.execute_reply": "2025-04-26T09:28:43.969446Z"
    },
    "papermill": {
     "duration": 0.012987,
     "end_time": "2025-04-26T09:28:43.971246",
     "exception": false,
     "start_time": "2025-04-26T09:28:43.958259",
     "status": "completed"
    },
    "tags": []
   },
   "outputs": [
    {
     "data": {
      "text/plain": [
       "(750000, 11)"
      ]
     },
     "execution_count": 7,
     "metadata": {},
     "output_type": "execute_result"
    }
   ],
   "source": [
    "train.shape"
   ]
  },
  {
   "cell_type": "code",
   "execution_count": 8,
   "id": "739f7dc8",
   "metadata": {
    "execution": {
     "iopub.execute_input": "2025-04-26T09:28:43.982651Z",
     "iopub.status.busy": "2025-04-26T09:28:43.982455Z",
     "iopub.status.idle": "2025-04-26T09:28:43.986834Z",
     "shell.execute_reply": "2025-04-26T09:28:43.986005Z"
    },
    "papermill": {
     "duration": 0.011642,
     "end_time": "2025-04-26T09:28:43.988173",
     "exception": false,
     "start_time": "2025-04-26T09:28:43.976531",
     "status": "completed"
    },
    "tags": []
   },
   "outputs": [
    {
     "data": {
      "text/plain": [
       "(250000, 10)"
      ]
     },
     "execution_count": 8,
     "metadata": {},
     "output_type": "execute_result"
    }
   ],
   "source": [
    "test.shape"
   ]
  },
  {
   "cell_type": "code",
   "execution_count": 9,
   "id": "8feb6189",
   "metadata": {
    "execution": {
     "iopub.execute_input": "2025-04-26T09:28:43.999770Z",
     "iopub.status.busy": "2025-04-26T09:28:43.999521Z",
     "iopub.status.idle": "2025-04-26T09:28:44.019173Z",
     "shell.execute_reply": "2025-04-26T09:28:44.018236Z"
    },
    "papermill": {
     "duration": 0.02678,
     "end_time": "2025-04-26T09:28:44.020369",
     "exception": false,
     "start_time": "2025-04-26T09:28:43.993589",
     "status": "completed"
    },
    "tags": []
   },
   "outputs": [
    {
     "name": "stdout",
     "output_type": "stream",
     "text": [
      "<class 'cudf.core.dataframe.DataFrame'>\n",
      "Index: 750000 entries, 0 to 749999\n",
      "Data columns (total 11 columns):\n",
      " #   Column                       Non-Null Count   Dtype\n",
      "---  ------                       --------------   -----\n",
      " 0   Podcast_Name                 750000 non-null  object\n",
      " 1   Episode_Title                750000 non-null  object\n",
      " 2   Episode_Length_minutes       662907 non-null  float64\n",
      " 3   Genre                        750000 non-null  object\n",
      " 4   Host_Popularity_percentage   750000 non-null  float64\n",
      " 5   Publication_Day              750000 non-null  object\n",
      " 6   Publication_Time             750000 non-null  object\n",
      " 7   Guest_Popularity_percentage  603970 non-null  float64\n",
      " 8   Number_of_Ads                749999 non-null  float64\n",
      " 9   Episode_Sentiment            750000 non-null  object\n",
      " 10  Listening_Time_minutes       750000 non-null  float64\n",
      "dtypes: float64(5), object(6)\n",
      "memory usage: 88.8+ MB\n"
     ]
    }
   ],
   "source": [
    "train.info()"
   ]
  },
  {
   "cell_type": "code",
   "execution_count": 10,
   "id": "02cf1474",
   "metadata": {
    "execution": {
     "iopub.execute_input": "2025-04-26T09:28:44.032302Z",
     "iopub.status.busy": "2025-04-26T09:28:44.032101Z",
     "iopub.status.idle": "2025-04-26T09:28:44.133964Z",
     "shell.execute_reply": "2025-04-26T09:28:44.133091Z"
    },
    "papermill": {
     "duration": 0.109183,
     "end_time": "2025-04-26T09:28:44.135323",
     "exception": false,
     "start_time": "2025-04-26T09:28:44.026140",
     "status": "completed"
    },
    "tags": []
   },
   "outputs": [
    {
     "data": {
      "text/plain": [
       "Podcast_Name                        0\n",
       "Episode_Title                       0\n",
       "Episode_Length_minutes          87093\n",
       "Genre                               0\n",
       "Host_Popularity_percentage          0\n",
       "Publication_Day                     0\n",
       "Publication_Time                    0\n",
       "Guest_Popularity_percentage    146030\n",
       "Number_of_Ads                       1\n",
       "Episode_Sentiment                   0\n",
       "Listening_Time_minutes              0\n",
       "dtype: int64"
      ]
     },
     "execution_count": 10,
     "metadata": {},
     "output_type": "execute_result"
    }
   ],
   "source": [
    "train.isnull().sum()"
   ]
  },
  {
   "cell_type": "code",
   "execution_count": 11,
   "id": "a25cac3d",
   "metadata": {
    "execution": {
     "iopub.execute_input": "2025-04-26T09:28:44.147851Z",
     "iopub.status.busy": "2025-04-26T09:28:44.147595Z",
     "iopub.status.idle": "2025-04-26T09:28:44.223231Z",
     "shell.execute_reply": "2025-04-26T09:28:44.222423Z"
    },
    "papermill": {
     "duration": 0.082964,
     "end_time": "2025-04-26T09:28:44.224483",
     "exception": false,
     "start_time": "2025-04-26T09:28:44.141519",
     "status": "completed"
    },
    "tags": []
   },
   "outputs": [
    {
     "data": {
      "text/plain": [
       "Podcast_Name                       0\n",
       "Episode_Title                      0\n",
       "Episode_Length_minutes         28736\n",
       "Genre                              0\n",
       "Host_Popularity_percentage         0\n",
       "Publication_Day                    0\n",
       "Publication_Time                   0\n",
       "Guest_Popularity_percentage    48832\n",
       "Number_of_Ads                      0\n",
       "Episode_Sentiment                  0\n",
       "dtype: int64"
      ]
     },
     "execution_count": 11,
     "metadata": {},
     "output_type": "execute_result"
    }
   ],
   "source": [
    "test.isnull().sum()"
   ]
  },
  {
   "cell_type": "markdown",
   "id": "fd7b62f1",
   "metadata": {
    "papermill": {
     "duration": 0.005426,
     "end_time": "2025-04-26T09:28:44.235698",
     "exception": false,
     "start_time": "2025-04-26T09:28:44.230272",
     "status": "completed"
    },
    "tags": []
   },
   "source": [
    "## Data Preparation"
   ]
  },
  {
   "cell_type": "markdown",
   "id": "456c0f02",
   "metadata": {
    "papermill": {
     "duration": 0.005579,
     "end_time": "2025-04-26T09:28:44.247073",
     "exception": false,
     "start_time": "2025-04-26T09:28:44.241494",
     "status": "completed"
    },
    "tags": []
   },
   "source": [
    "Reducing the memory space of the dataset by converting the num_cols into float32 and cat_cols into category"
   ]
  },
  {
   "cell_type": "code",
   "execution_count": 12,
   "id": "f11261ff",
   "metadata": {
    "execution": {
     "iopub.execute_input": "2025-04-26T09:28:44.259136Z",
     "iopub.status.busy": "2025-04-26T09:28:44.258922Z",
     "iopub.status.idle": "2025-04-26T09:28:44.277801Z",
     "shell.execute_reply": "2025-04-26T09:28:44.277240Z"
    },
    "papermill": {
     "duration": 0.026403,
     "end_time": "2025-04-26T09:28:44.279081",
     "exception": false,
     "start_time": "2025-04-26T09:28:44.252678",
     "status": "completed"
    },
    "tags": []
   },
   "outputs": [],
   "source": [
    "num_cols = test.select_dtypes(include=['float64']).columns\n",
    "for col in num_cols:\n",
    "    train[col] = train[col].astype('float32')\n",
    "    test[col] = test[col].astype('float32')"
   ]
  },
  {
   "cell_type": "code",
   "execution_count": 13,
   "id": "badb5acc",
   "metadata": {
    "execution": {
     "iopub.execute_input": "2025-04-26T09:28:44.291132Z",
     "iopub.status.busy": "2025-04-26T09:28:44.290919Z",
     "iopub.status.idle": "2025-04-26T09:28:44.453626Z",
     "shell.execute_reply": "2025-04-26T09:28:44.452990Z"
    },
    "papermill": {
     "duration": 0.170458,
     "end_time": "2025-04-26T09:28:44.455153",
     "exception": false,
     "start_time": "2025-04-26T09:28:44.284695",
     "status": "completed"
    },
    "tags": []
   },
   "outputs": [],
   "source": [
    "cat_cols = train.select_dtypes(include=['object']).columns\n",
    "for col in cat_cols:\n",
    "    train[col] = train[col].astype('category')\n",
    "    test[col] = test[col].astype('category')"
   ]
  },
  {
   "cell_type": "code",
   "execution_count": 14,
   "id": "733f568a",
   "metadata": {
    "execution": {
     "iopub.execute_input": "2025-04-26T09:28:44.468065Z",
     "iopub.status.busy": "2025-04-26T09:28:44.467819Z",
     "iopub.status.idle": "2025-04-26T09:28:44.487439Z",
     "shell.execute_reply": "2025-04-26T09:28:44.486576Z"
    },
    "papermill": {
     "duration": 0.027221,
     "end_time": "2025-04-26T09:28:44.488688",
     "exception": false,
     "start_time": "2025-04-26T09:28:44.461467",
     "status": "completed"
    },
    "tags": []
   },
   "outputs": [
    {
     "name": "stdout",
     "output_type": "stream",
     "text": [
      "<class 'cudf.core.dataframe.DataFrame'>\n",
      "Index: 750000 entries, 0 to 749999\n",
      "Data columns (total 11 columns):\n",
      " #   Column                       Non-Null Count   Dtype\n",
      "---  ------                       --------------   -----\n",
      " 0   Podcast_Name                 750000 non-null  category\n",
      " 1   Episode_Title                750000 non-null  category\n",
      " 2   Episode_Length_minutes       662907 non-null  float32\n",
      " 3   Genre                        750000 non-null  category\n",
      " 4   Host_Popularity_percentage   750000 non-null  float32\n",
      " 5   Publication_Day              750000 non-null  category\n",
      " 6   Publication_Time             750000 non-null  category\n",
      " 7   Guest_Popularity_percentage  603970 non-null  float32\n",
      " 8   Number_of_Ads                749999 non-null  float32\n",
      " 9   Episode_Sentiment            750000 non-null  category\n",
      " 10  Listening_Time_minutes       750000 non-null  float64\n",
      "dtypes: category(6), float32(4), float64(1)\n",
      "memory usage: 27.5 MB\n"
     ]
    }
   ],
   "source": [
    "train.info()"
   ]
  },
  {
   "cell_type": "code",
   "execution_count": 15,
   "id": "23585ca7",
   "metadata": {
    "execution": {
     "iopub.execute_input": "2025-04-26T09:28:44.501107Z",
     "iopub.status.busy": "2025-04-26T09:28:44.500886Z",
     "iopub.status.idle": "2025-04-26T09:28:45.853190Z",
     "shell.execute_reply": "2025-04-26T09:28:45.852479Z"
    },
    "papermill": {
     "duration": 1.360143,
     "end_time": "2025-04-26T09:28:45.854690",
     "exception": false,
     "start_time": "2025-04-26T09:28:44.494547",
     "status": "completed"
    },
    "tags": []
   },
   "outputs": [],
   "source": [
    "from sklearn.impute import SimpleImputer\n",
    "\n",
    "impute = SimpleImputer(strategy='median')\n",
    "num_cols = test.select_dtypes(include=['float32']).columns\n",
    "train[num_cols] = impute.fit_transform(train[num_cols])\n",
    "test[num_cols] = impute.fit_transform(test[num_cols])"
   ]
  },
  {
   "cell_type": "code",
   "execution_count": 16,
   "id": "de0094cb",
   "metadata": {
    "execution": {
     "iopub.execute_input": "2025-04-26T09:28:45.868621Z",
     "iopub.status.busy": "2025-04-26T09:28:45.868402Z",
     "iopub.status.idle": "2025-04-26T09:28:45.921627Z",
     "shell.execute_reply": "2025-04-26T09:28:45.921063Z"
    },
    "papermill": {
     "duration": 0.061635,
     "end_time": "2025-04-26T09:28:45.922761",
     "exception": false,
     "start_time": "2025-04-26T09:28:45.861126",
     "status": "completed"
    },
    "tags": []
   },
   "outputs": [],
   "source": [
    "sentiments = {'Positive': 1, 'Neutral': 0, 'Negative': -1}\n",
    "train['Episode_Sentiment'] = train['Episode_Sentiment'].map(sentiments).astype('float32')\n",
    "test['Episode_Sentiment'] = test['Episode_Sentiment'].map(sentiments).astype('float32')"
   ]
  },
  {
   "cell_type": "markdown",
   "id": "f892aedc",
   "metadata": {
    "papermill": {
     "duration": 0.00548,
     "end_time": "2025-04-26T09:28:45.934027",
     "exception": false,
     "start_time": "2025-04-26T09:28:45.928547",
     "status": "completed"
    },
    "tags": []
   },
   "source": [
    "## Feature engineering"
   ]
  },
  {
   "cell_type": "markdown",
   "id": "3c2e0101",
   "metadata": {
    "papermill": {
     "duration": 0.005593,
     "end_time": "2025-04-26T09:28:45.945212",
     "exception": false,
     "start_time": "2025-04-26T09:28:45.939619",
     "status": "completed"
    },
    "tags": []
   },
   "source": [
    "## Count Encoding for high cardinality columns"
   ]
  },
  {
   "cell_type": "code",
   "execution_count": 17,
   "id": "9e26f81a",
   "metadata": {
    "execution": {
     "iopub.execute_input": "2025-04-26T09:28:45.957215Z",
     "iopub.status.busy": "2025-04-26T09:28:45.957003Z",
     "iopub.status.idle": "2025-04-26T09:29:02.341878Z",
     "shell.execute_reply": "2025-04-26T09:29:02.341162Z"
    },
    "papermill": {
     "duration": 16.392668,
     "end_time": "2025-04-26T09:29:02.343502",
     "exception": false,
     "start_time": "2025-04-26T09:28:45.950834",
     "status": "completed"
    },
    "tags": []
   },
   "outputs": [],
   "source": [
    "from category_encoders import CountEncoder\n",
    "\n",
    "ce = CountEncoder()\n",
    "count_category = ['Podcast_Name', 'Genre', 'Episode_Title']\n",
    "train[count_category] = ce.fit_transform(train[count_category])\n",
    "test[count_category] = ce.transform(test[count_category])"
   ]
  },
  {
   "cell_type": "code",
   "execution_count": 18,
   "id": "ab9e1944",
   "metadata": {
    "execution": {
     "iopub.execute_input": "2025-04-26T09:29:02.356634Z",
     "iopub.status.busy": "2025-04-26T09:29:02.356202Z",
     "iopub.status.idle": "2025-04-26T09:29:02.800668Z",
     "shell.execute_reply": "2025-04-26T09:29:02.800029Z"
    },
    "papermill": {
     "duration": 0.452425,
     "end_time": "2025-04-26T09:29:02.802218",
     "exception": false,
     "start_time": "2025-04-26T09:29:02.349793",
     "status": "completed"
    },
    "tags": []
   },
   "outputs": [],
   "source": [
    "from sklearn.preprocessing import LabelEncoder\n",
    "\n",
    "cat_cols = ['Publication_Day', 'Publication_Time']\n",
    "for colname in cat_cols:\n",
    "    le = LabelEncoder()\n",
    "    train[colname] = le.fit_transform(train[colname])\n",
    "    test[colname] = le.transform(test[colname])"
   ]
  },
  {
   "cell_type": "code",
   "execution_count": 19,
   "id": "d6ef3046",
   "metadata": {
    "execution": {
     "iopub.execute_input": "2025-04-26T09:29:02.815049Z",
     "iopub.status.busy": "2025-04-26T09:29:02.814772Z",
     "iopub.status.idle": "2025-04-26T09:29:03.531055Z",
     "shell.execute_reply": "2025-04-26T09:29:03.530030Z"
    },
    "papermill": {
     "duration": 0.724333,
     "end_time": "2025-04-26T09:29:03.532709",
     "exception": false,
     "start_time": "2025-04-26T09:29:02.808376",
     "status": "completed"
    },
    "tags": []
   },
   "outputs": [],
   "source": [
    "from sklearn.preprocessing import KBinsDiscretizer\n",
    "\n",
    "kmeans = KBinsDiscretizer(n_bins=5, encode='ordinal', strategy='kmeans')\n",
    "train['Kmeans_bins'] = kmeans.fit_transform(train[['Episode_Length_minutes']])\n",
    "test['Kmeans_bins'] = kmeans.transform(test[['Episode_Length_minutes']])"
   ]
  },
  {
   "cell_type": "code",
   "execution_count": 20,
   "id": "6075c69b",
   "metadata": {
    "execution": {
     "iopub.execute_input": "2025-04-26T09:29:03.545470Z",
     "iopub.status.busy": "2025-04-26T09:29:03.545219Z",
     "iopub.status.idle": "2025-04-26T09:29:03.610821Z",
     "shell.execute_reply": "2025-04-26T09:29:03.609937Z"
    },
    "papermill": {
     "duration": 0.073546,
     "end_time": "2025-04-26T09:29:03.612384",
     "exception": false,
     "start_time": "2025-04-26T09:29:03.538838",
     "status": "completed"
    },
    "tags": []
   },
   "outputs": [],
   "source": [
    "for col in ['Host_Popularity_percentage', 'Guest_Popularity_percentage', 'Episode_Length_minutes']:\n",
    "    for k in range(0, 3):\n",
    "        new_round_col = f\"{col}_round{k}\"\n",
    "        train[new_round_col] = train[col].round(k)\n",
    "        test[new_round_col] = test[col].round(k)"
   ]
  },
  {
   "cell_type": "code",
   "execution_count": 21,
   "id": "896f55b3",
   "metadata": {
    "execution": {
     "iopub.execute_input": "2025-04-26T09:29:03.625096Z",
     "iopub.status.busy": "2025-04-26T09:29:03.624836Z",
     "iopub.status.idle": "2025-04-26T09:29:03.647821Z",
     "shell.execute_reply": "2025-04-26T09:29:03.647247Z"
    },
    "papermill": {
     "duration": 0.030597,
     "end_time": "2025-04-26T09:29:03.649066",
     "exception": false,
     "start_time": "2025-04-26T09:29:03.618469",
     "status": "completed"
    },
    "tags": []
   },
   "outputs": [],
   "source": [
    "train['Guest_Popularity_percentage'] =  train['Guest_Popularity_percentage'].clip(upper=100)\n",
    "train['Host_Popularity_percentage'] =  train['Host_Popularity_percentage'].clip(upper=100)\n",
    "test['Guest_Popularity_percentage'] =  test['Guest_Popularity_percentage'].clip(upper=100)\n",
    "test['Host_Popularity_percentage'] =  test['Host_Popularity_percentage'].clip(upper=100)\n"
   ]
  },
  {
   "cell_type": "code",
   "execution_count": 22,
   "id": "8df68151",
   "metadata": {
    "execution": {
     "iopub.execute_input": "2025-04-26T09:29:03.661314Z",
     "iopub.status.busy": "2025-04-26T09:29:03.661071Z",
     "iopub.status.idle": "2025-04-26T09:29:03.667914Z",
     "shell.execute_reply": "2025-04-26T09:29:03.667132Z"
    },
    "papermill": {
     "duration": 0.014302,
     "end_time": "2025-04-26T09:29:03.669140",
     "exception": false,
     "start_time": "2025-04-26T09:29:03.654838",
     "status": "completed"
    },
    "tags": []
   },
   "outputs": [
    {
     "data": {
      "text/plain": [
       "Index(['Podcast_Name', 'Episode_Title', 'Episode_Length_minutes', 'Genre',\n",
       "       'Host_Popularity_percentage', 'Publication_Day', 'Publication_Time',\n",
       "       'Guest_Popularity_percentage', 'Number_of_Ads', 'Episode_Sentiment',\n",
       "       'Listening_Time_minutes', 'Kmeans_bins',\n",
       "       'Host_Popularity_percentage_round0',\n",
       "       'Host_Popularity_percentage_round1',\n",
       "       'Host_Popularity_percentage_round2',\n",
       "       'Guest_Popularity_percentage_round0',\n",
       "       'Guest_Popularity_percentage_round1',\n",
       "       'Guest_Popularity_percentage_round2', 'Episode_Length_minutes_round0',\n",
       "       'Episode_Length_minutes_round1', 'Episode_Length_minutes_round2'],\n",
       "      dtype='object')"
      ]
     },
     "execution_count": 22,
     "metadata": {},
     "output_type": "execute_result"
    }
   ],
   "source": [
    "train.columns"
   ]
  },
  {
   "cell_type": "code",
   "execution_count": 23,
   "id": "3a18c4e4",
   "metadata": {
    "execution": {
     "iopub.execute_input": "2025-04-26T09:29:03.681339Z",
     "iopub.status.busy": "2025-04-26T09:29:03.680992Z",
     "iopub.status.idle": "2025-04-26T09:29:03.684228Z",
     "shell.execute_reply": "2025-04-26T09:29:03.683646Z"
    },
    "papermill": {
     "duration": 0.010521,
     "end_time": "2025-04-26T09:29:03.685431",
     "exception": false,
     "start_time": "2025-04-26T09:29:03.674910",
     "status": "completed"
    },
    "tags": []
   },
   "outputs": [],
   "source": [
    "features = ['Podcast_Name', 'Episode_Title', 'Episode_Length_minutes', 'Genre', 'Publication_Day', 'Publication_Time',\n",
    "       'Host_Popularity_percentage', 'Guest_Popularity_percentage', 'Number_of_Ads', 'Episode_Sentiment', 'Kmeans_bins', 'Host_Popularity_percentage_round0', 'Host_Popularity_percentage_round1',\n",
    "       'Host_Popularity_percentage_round2', 'Guest_Popularity_percentage_round0', 'Guest_Popularity_percentage_round1',\n",
    "       'Guest_Popularity_percentage_round2', 'Episode_Length_minutes_round0', 'Episode_Length_minutes_round1', 'Episode_Length_minutes_round2']"
   ]
  },
  {
   "cell_type": "code",
   "execution_count": 24,
   "id": "25fdae9a",
   "metadata": {
    "execution": {
     "iopub.execute_input": "2025-04-26T09:29:03.697821Z",
     "iopub.status.busy": "2025-04-26T09:29:03.697568Z",
     "iopub.status.idle": "2025-04-26T09:29:04.212844Z",
     "shell.execute_reply": "2025-04-26T09:29:04.211642Z"
    },
    "papermill": {
     "duration": 0.522749,
     "end_time": "2025-04-26T09:29:04.214158",
     "exception": false,
     "start_time": "2025-04-26T09:29:03.691409",
     "status": "completed"
    },
    "tags": []
   },
   "outputs": [
    {
     "name": "stdout",
     "output_type": "stream",
     "text": [
      "There are 190 interaction features:\n",
      "['Podcast_Name_Episode_Title', 'Podcast_Name_Episode_Length_minutes', 'Podcast_Name_Genre', 'Podcast_Name_Publication_Day', 'Podcast_Name_Publication_Time', 'Podcast_Name_Host_Popularity_percentage', 'Podcast_Name_Guest_Popularity_percentage', 'Podcast_Name_Number_of_Ads', 'Podcast_Name_Episode_Sentiment', 'Podcast_Name_Kmeans_bins', 'Podcast_Name_Host_Popularity_percentage_round0', 'Podcast_Name_Host_Popularity_percentage_round1', 'Podcast_Name_Host_Popularity_percentage_round2', 'Podcast_Name_Guest_Popularity_percentage_round0', 'Podcast_Name_Guest_Popularity_percentage_round1', 'Podcast_Name_Guest_Popularity_percentage_round2', 'Podcast_Name_Episode_Length_minutes_round0', 'Podcast_Name_Episode_Length_minutes_round1', 'Podcast_Name_Episode_Length_minutes_round2', 'Episode_Title_Episode_Length_minutes', 'Episode_Title_Genre', 'Episode_Title_Publication_Day', 'Episode_Title_Publication_Time', 'Episode_Title_Host_Popularity_percentage', 'Episode_Title_Guest_Popularity_percentage', 'Episode_Title_Number_of_Ads', 'Episode_Title_Episode_Sentiment', 'Episode_Title_Kmeans_bins', 'Episode_Title_Host_Popularity_percentage_round0', 'Episode_Title_Host_Popularity_percentage_round1', 'Episode_Title_Host_Popularity_percentage_round2', 'Episode_Title_Guest_Popularity_percentage_round0', 'Episode_Title_Guest_Popularity_percentage_round1', 'Episode_Title_Guest_Popularity_percentage_round2', 'Episode_Title_Episode_Length_minutes_round0', 'Episode_Title_Episode_Length_minutes_round1', 'Episode_Title_Episode_Length_minutes_round2', 'Episode_Length_minutes_Genre', 'Episode_Length_minutes_Publication_Day', 'Episode_Length_minutes_Publication_Time', 'Episode_Length_minutes_Host_Popularity_percentage', 'Episode_Length_minutes_Guest_Popularity_percentage', 'Episode_Length_minutes_Number_of_Ads', 'Episode_Length_minutes_Episode_Sentiment', 'Episode_Length_minutes_Kmeans_bins', 'Episode_Length_minutes_Host_Popularity_percentage_round0', 'Episode_Length_minutes_Host_Popularity_percentage_round1', 'Episode_Length_minutes_Host_Popularity_percentage_round2', 'Episode_Length_minutes_Guest_Popularity_percentage_round0', 'Episode_Length_minutes_Guest_Popularity_percentage_round1', 'Episode_Length_minutes_Guest_Popularity_percentage_round2', 'Episode_Length_minutes_Episode_Length_minutes_round0', 'Episode_Length_minutes_Episode_Length_minutes_round1', 'Episode_Length_minutes_Episode_Length_minutes_round2', 'Genre_Publication_Day', 'Genre_Publication_Time', 'Genre_Host_Popularity_percentage', 'Genre_Guest_Popularity_percentage', 'Genre_Number_of_Ads', 'Genre_Episode_Sentiment', 'Genre_Kmeans_bins', 'Genre_Host_Popularity_percentage_round0', 'Genre_Host_Popularity_percentage_round1', 'Genre_Host_Popularity_percentage_round2', 'Genre_Guest_Popularity_percentage_round0', 'Genre_Guest_Popularity_percentage_round1', 'Genre_Guest_Popularity_percentage_round2', 'Genre_Episode_Length_minutes_round0', 'Genre_Episode_Length_minutes_round1', 'Genre_Episode_Length_minutes_round2', 'Publication_Day_Publication_Time', 'Publication_Day_Host_Popularity_percentage', 'Publication_Day_Guest_Popularity_percentage', 'Publication_Day_Number_of_Ads', 'Publication_Day_Episode_Sentiment', 'Publication_Day_Kmeans_bins', 'Publication_Day_Host_Popularity_percentage_round0', 'Publication_Day_Host_Popularity_percentage_round1', 'Publication_Day_Host_Popularity_percentage_round2', 'Publication_Day_Guest_Popularity_percentage_round0', 'Publication_Day_Guest_Popularity_percentage_round1', 'Publication_Day_Guest_Popularity_percentage_round2', 'Publication_Day_Episode_Length_minutes_round0', 'Publication_Day_Episode_Length_minutes_round1', 'Publication_Day_Episode_Length_minutes_round2', 'Publication_Time_Host_Popularity_percentage', 'Publication_Time_Guest_Popularity_percentage', 'Publication_Time_Number_of_Ads', 'Publication_Time_Episode_Sentiment', 'Publication_Time_Kmeans_bins', 'Publication_Time_Host_Popularity_percentage_round0', 'Publication_Time_Host_Popularity_percentage_round1', 'Publication_Time_Host_Popularity_percentage_round2', 'Publication_Time_Guest_Popularity_percentage_round0', 'Publication_Time_Guest_Popularity_percentage_round1', 'Publication_Time_Guest_Popularity_percentage_round2', 'Publication_Time_Episode_Length_minutes_round0', 'Publication_Time_Episode_Length_minutes_round1', 'Publication_Time_Episode_Length_minutes_round2', 'Host_Popularity_percentage_Guest_Popularity_percentage', 'Host_Popularity_percentage_Number_of_Ads', 'Host_Popularity_percentage_Episode_Sentiment', 'Host_Popularity_percentage_Kmeans_bins', 'Host_Popularity_percentage_Host_Popularity_percentage_round0', 'Host_Popularity_percentage_Host_Popularity_percentage_round1', 'Host_Popularity_percentage_Host_Popularity_percentage_round2', 'Host_Popularity_percentage_Guest_Popularity_percentage_round0', 'Host_Popularity_percentage_Guest_Popularity_percentage_round1', 'Host_Popularity_percentage_Guest_Popularity_percentage_round2', 'Host_Popularity_percentage_Episode_Length_minutes_round0', 'Host_Popularity_percentage_Episode_Length_minutes_round1', 'Host_Popularity_percentage_Episode_Length_minutes_round2', 'Guest_Popularity_percentage_Number_of_Ads', 'Guest_Popularity_percentage_Episode_Sentiment', 'Guest_Popularity_percentage_Kmeans_bins', 'Guest_Popularity_percentage_Host_Popularity_percentage_round0', 'Guest_Popularity_percentage_Host_Popularity_percentage_round1', 'Guest_Popularity_percentage_Host_Popularity_percentage_round2', 'Guest_Popularity_percentage_Guest_Popularity_percentage_round0', 'Guest_Popularity_percentage_Guest_Popularity_percentage_round1', 'Guest_Popularity_percentage_Guest_Popularity_percentage_round2', 'Guest_Popularity_percentage_Episode_Length_minutes_round0', 'Guest_Popularity_percentage_Episode_Length_minutes_round1', 'Guest_Popularity_percentage_Episode_Length_minutes_round2', 'Number_of_Ads_Episode_Sentiment', 'Number_of_Ads_Kmeans_bins', 'Number_of_Ads_Host_Popularity_percentage_round0', 'Number_of_Ads_Host_Popularity_percentage_round1', 'Number_of_Ads_Host_Popularity_percentage_round2', 'Number_of_Ads_Guest_Popularity_percentage_round0', 'Number_of_Ads_Guest_Popularity_percentage_round1', 'Number_of_Ads_Guest_Popularity_percentage_round2', 'Number_of_Ads_Episode_Length_minutes_round0', 'Number_of_Ads_Episode_Length_minutes_round1', 'Number_of_Ads_Episode_Length_minutes_round2', 'Episode_Sentiment_Kmeans_bins', 'Episode_Sentiment_Host_Popularity_percentage_round0', 'Episode_Sentiment_Host_Popularity_percentage_round1', 'Episode_Sentiment_Host_Popularity_percentage_round2', 'Episode_Sentiment_Guest_Popularity_percentage_round0', 'Episode_Sentiment_Guest_Popularity_percentage_round1', 'Episode_Sentiment_Guest_Popularity_percentage_round2', 'Episode_Sentiment_Episode_Length_minutes_round0', 'Episode_Sentiment_Episode_Length_minutes_round1', 'Episode_Sentiment_Episode_Length_minutes_round2', 'Kmeans_bins_Host_Popularity_percentage_round0', 'Kmeans_bins_Host_Popularity_percentage_round1', 'Kmeans_bins_Host_Popularity_percentage_round2', 'Kmeans_bins_Guest_Popularity_percentage_round0', 'Kmeans_bins_Guest_Popularity_percentage_round1', 'Kmeans_bins_Guest_Popularity_percentage_round2', 'Kmeans_bins_Episode_Length_minutes_round0', 'Kmeans_bins_Episode_Length_minutes_round1', 'Kmeans_bins_Episode_Length_minutes_round2', 'Host_Popularity_percentage_round0_Host_Popularity_percentage_round1', 'Host_Popularity_percentage_round0_Host_Popularity_percentage_round2', 'Host_Popularity_percentage_round0_Guest_Popularity_percentage_round0', 'Host_Popularity_percentage_round0_Guest_Popularity_percentage_round1', 'Host_Popularity_percentage_round0_Guest_Popularity_percentage_round2', 'Host_Popularity_percentage_round0_Episode_Length_minutes_round0', 'Host_Popularity_percentage_round0_Episode_Length_minutes_round1', 'Host_Popularity_percentage_round0_Episode_Length_minutes_round2', 'Host_Popularity_percentage_round1_Host_Popularity_percentage_round2', 'Host_Popularity_percentage_round1_Guest_Popularity_percentage_round0', 'Host_Popularity_percentage_round1_Guest_Popularity_percentage_round1', 'Host_Popularity_percentage_round1_Guest_Popularity_percentage_round2', 'Host_Popularity_percentage_round1_Episode_Length_minutes_round0', 'Host_Popularity_percentage_round1_Episode_Length_minutes_round1', 'Host_Popularity_percentage_round1_Episode_Length_minutes_round2', 'Host_Popularity_percentage_round2_Guest_Popularity_percentage_round0', 'Host_Popularity_percentage_round2_Guest_Popularity_percentage_round1', 'Host_Popularity_percentage_round2_Guest_Popularity_percentage_round2', 'Host_Popularity_percentage_round2_Episode_Length_minutes_round0', 'Host_Popularity_percentage_round2_Episode_Length_minutes_round1', 'Host_Popularity_percentage_round2_Episode_Length_minutes_round2', 'Guest_Popularity_percentage_round0_Guest_Popularity_percentage_round1', 'Guest_Popularity_percentage_round0_Guest_Popularity_percentage_round2', 'Guest_Popularity_percentage_round0_Episode_Length_minutes_round0', 'Guest_Popularity_percentage_round0_Episode_Length_minutes_round1', 'Guest_Popularity_percentage_round0_Episode_Length_minutes_round2', 'Guest_Popularity_percentage_round1_Guest_Popularity_percentage_round2', 'Guest_Popularity_percentage_round1_Episode_Length_minutes_round0', 'Guest_Popularity_percentage_round1_Episode_Length_minutes_round1', 'Guest_Popularity_percentage_round1_Episode_Length_minutes_round2', 'Guest_Popularity_percentage_round2_Episode_Length_minutes_round0', 'Guest_Popularity_percentage_round2_Episode_Length_minutes_round1', 'Guest_Popularity_percentage_round2_Episode_Length_minutes_round2', 'Episode_Length_minutes_round0_Episode_Length_minutes_round1', 'Episode_Length_minutes_round0_Episode_Length_minutes_round2', 'Episode_Length_minutes_round1_Episode_Length_minutes_round2']\n"
     ]
    }
   ],
   "source": [
    "interact = []\n",
    "for i, c1 in enumerate(features):\n",
    "    for c2 in (features[i+1:]):\n",
    "        n = f'{c1}_{c2}'\n",
    "        train[n] = train[c1] * train[c2]\n",
    "        test[n] = test[c1] * test[c2]\n",
    "        interact.append(n)\n",
    "\n",
    "print(f\"There are {len(interact)} interaction features:\")\n",
    "print( interact )"
   ]
  },
  {
   "cell_type": "code",
   "execution_count": 25,
   "id": "f7423487",
   "metadata": {
    "execution": {
     "iopub.execute_input": "2025-04-26T09:29:04.227229Z",
     "iopub.status.busy": "2025-04-26T09:29:04.226996Z",
     "iopub.status.idle": "2025-04-26T09:33:06.700506Z",
     "shell.execute_reply": "2025-04-26T09:33:06.699813Z"
    },
    "papermill": {
     "duration": 242.481666,
     "end_time": "2025-04-26T09:33:06.702140",
     "exception": false,
     "start_time": "2025-04-26T09:29:04.220474",
     "status": "completed"
    },
    "tags": []
   },
   "outputs": [
    {
     "name": "stdout",
     "output_type": "stream",
     "text": [
      "Fold 1 RMSE: 12.82\n",
      "Fold 2 RMSE: 12.81\n",
      "Fold 3 RMSE: 12.75\n",
      "Fold 4 RMSE: 12.69\n",
      "Fold 5 RMSE: 12.66\n",
      "Fold 6 RMSE: 12.65\n",
      "Fold 7 RMSE: 12.70\n",
      "Fold 8 RMSE: 12.74\n",
      "Fold 9 RMSE: 12.78\n",
      "Fold 10 RMSE: 12.74\n"
     ]
    }
   ],
   "source": [
    "from sklearn.model_selection import KFold\n",
    "from cuml.metrics import mean_squared_error\n",
    "from xgboost import XGBRegressor\n",
    "\n",
    "n_folds = 10\n",
    "test_preds = np.zeros(len(test))\n",
    "\n",
    "kf = KFold(n_splits=n_folds, shuffle=True, random_state=34)\n",
    "\n",
    "for fold, (train_idx, valid_idx) in enumerate(kf.split(train)):\n",
    "    X_train, X_valid = train.iloc[train_idx][features], train.iloc[valid_idx][features]\n",
    "    y_train, y_valid = train.iloc[train_idx]['Listening_Time_minutes'], train.iloc[valid_idx]['Listening_Time_minutes']\n",
    "\n",
    "    xgb = XGBRegressor(\n",
    "        n_estimators=600, \n",
    "        learning_rate=0.07, \n",
    "        reg_lambda=8.20664, \n",
    "        max_depth=11,\n",
    "        colsample_bytree=0.5,\n",
    "        subsample=0.8,\n",
    "        device='cuda',\n",
    "        tree_method='gpu_hist',\n",
    "        eval_metric='rmse',\n",
    "        verbosity=0,\n",
    "        random_state=34\n",
    "    )\n",
    "    xgb.fit(X_train, y_train)\n",
    "    \n",
    "    valid_pred = xgb.predict(X_valid)\n",
    "    fold_rmse = np.sqrt(mean_squared_error(y_valid, valid_pred))\n",
    "    print(f\"Fold {fold + 1} RMSE: {fold_rmse:.2f}\")\n",
    "    \n",
    "    test_preds += xgb.predict(test[features]) / n_folds\n"
   ]
  },
  {
   "cell_type": "markdown",
   "id": "2c7de5ba",
   "metadata": {
    "papermill": {
     "duration": 0.006446,
     "end_time": "2025-04-26T09:33:06.715562",
     "exception": false,
     "start_time": "2025-04-26T09:33:06.709116",
     "status": "completed"
    },
    "tags": []
   },
   "source": [
    "## Final Submission"
   ]
  },
  {
   "cell_type": "code",
   "execution_count": 26,
   "id": "38b0fc31",
   "metadata": {
    "execution": {
     "iopub.execute_input": "2025-04-26T09:33:06.729102Z",
     "iopub.status.busy": "2025-04-26T09:33:06.728807Z",
     "iopub.status.idle": "2025-04-26T09:33:06.801569Z",
     "shell.execute_reply": "2025-04-26T09:33:06.800810Z"
    },
    "papermill": {
     "duration": 0.080981,
     "end_time": "2025-04-26T09:33:06.802858",
     "exception": false,
     "start_time": "2025-04-26T09:33:06.721877",
     "status": "completed"
    },
    "tags": []
   },
   "outputs": [
    {
     "name": "stdout",
     "output_type": "stream",
     "text": [
      "Your submission was successfully saved!\n"
     ]
    }
   ],
   "source": [
    "sub = pd.read_csv('/kaggle/input/playground-series-s5e4/sample_submission.csv')\n",
    "sub['Listening_Time_minutes'] = test_preds\n",
    "sub.to_csv('submission.csv', index=False)\n",
    "print(\"Your submission was successfully saved!\")"
   ]
  }
 ],
 "metadata": {
  "kaggle": {
   "accelerator": "nvidiaTeslaT4",
   "dataSources": [
    {
     "databundleVersionId": 11351736,
     "sourceId": 91715,
     "sourceType": "competition"
    }
   ],
   "dockerImageVersionId": 30919,
   "isGpuEnabled": true,
   "isInternetEnabled": true,
   "language": "python",
   "sourceType": "notebook"
  },
  "kernelspec": {
   "display_name": "Python 3",
   "language": "python",
   "name": "python3"
  },
  "language_info": {
   "codemirror_mode": {
    "name": "ipython",
    "version": 3
   },
   "file_extension": ".py",
   "mimetype": "text/x-python",
   "name": "python",
   "nbconvert_exporter": "python",
   "pygments_lexer": "ipython3",
   "version": "3.10.12"
  },
  "papermill": {
   "default_parameters": {},
   "duration": 285.120078,
   "end_time": "2025-04-26T09:33:09.882345",
   "environment_variables": {},
   "exception": null,
   "input_path": "__notebook__.ipynb",
   "output_path": "__notebook__.ipynb",
   "parameters": {},
   "start_time": "2025-04-26T09:28:24.762267",
   "version": "2.6.0"
  }
 },
 "nbformat": 4,
 "nbformat_minor": 5
}
