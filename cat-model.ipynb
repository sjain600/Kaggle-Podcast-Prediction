{
 "cells": [
  {
   "cell_type": "code",
   "execution_count": 1,
   "id": "a3942683",
   "metadata": {
    "execution": {
     "iopub.execute_input": "2025-04-21T09:54:41.168751Z",
     "iopub.status.busy": "2025-04-21T09:54:41.168269Z",
     "iopub.status.idle": "2025-04-21T09:54:54.487629Z",
     "shell.execute_reply": "2025-04-21T09:54:54.486473Z"
    },
    "papermill": {
     "duration": 13.327484,
     "end_time": "2025-04-21T09:54:54.489148",
     "exception": false,
     "start_time": "2025-04-21T09:54:41.161664",
     "status": "completed"
    },
    "tags": []
   },
   "outputs": [
    {
     "name": "stdout",
     "output_type": "stream",
     "text": [
      "/kaggle/input/playground-series-s5e4/sample_submission.csv\n",
      "/kaggle/input/playground-series-s5e4/train.csv\n",
      "/kaggle/input/playground-series-s5e4/test.csv\n"
     ]
    }
   ],
   "source": [
    "# This Python 3 environment comes with many helpful analytics libraries installed\n",
    "# It is defined by the kaggle/python Docker image: https://github.com/kaggle/docker-python\n",
    "# For example, here's several helpful packages to load\n",
    "%load_ext cudf.pandas\n",
    "import numpy as np # linear algebra\n",
    "import pandas as pd # data processing, CSV file I/O (e.g. pd.read_csv)\n",
    "import matplotlib.pyplot as plt\n",
    "pd.set_option('display.max_columns', 500)\n",
    "\n",
    "# Input data files are available in the read-only \"../input/\" directory\n",
    "# For example, running this (by clicking run or pressing Shift+Enter) will list all files under the input directory\n",
    "\n",
    "import os\n",
    "for dirname, _, filenames in os.walk('/kaggle/input'):\n",
    "    for filename in filenames:\n",
    "        print(os.path.join(dirname, filename))\n",
    "        \n",
    "import warnings\n",
    "warnings.filterwarnings(\"ignore\")\n",
    "\n",
    "# You can write up to 20GB to the current directory (/kaggle/working/) that gets preserved as output when you create a version using \"Save & Run All\" \n",
    "# You can also write temporary files to /kaggle/temp/, but they won't be saved outside of the current session"
   ]
  },
  {
   "cell_type": "code",
   "execution_count": 2,
   "id": "a23765a6",
   "metadata": {
    "execution": {
     "iopub.execute_input": "2025-04-21T09:54:54.500463Z",
     "iopub.status.busy": "2025-04-21T09:54:54.499851Z",
     "iopub.status.idle": "2025-04-21T09:54:55.385843Z",
     "shell.execute_reply": "2025-04-21T09:54:55.385044Z"
    },
    "papermill": {
     "duration": 0.893362,
     "end_time": "2025-04-21T09:54:55.387738",
     "exception": false,
     "start_time": "2025-04-21T09:54:54.494376",
     "status": "completed"
    },
    "tags": []
   },
   "outputs": [],
   "source": [
    "train = pd.read_csv('/kaggle/input/playground-series-s5e4/train.csv')\n",
    "test = pd.read_csv('/kaggle/input/playground-series-s5e4/test.csv')\n",
    "all_data = pd.concat([train, test], axis=0)"
   ]
  },
  {
   "cell_type": "code",
   "execution_count": 3,
   "id": "4772090e",
   "metadata": {
    "execution": {
     "iopub.execute_input": "2025-04-21T09:54:55.399550Z",
     "iopub.status.busy": "2025-04-21T09:54:55.399240Z",
     "iopub.status.idle": "2025-04-21T09:54:55.584898Z",
     "shell.execute_reply": "2025-04-21T09:54:55.584129Z"
    },
    "papermill": {
     "duration": 0.192811,
     "end_time": "2025-04-21T09:54:55.586185",
     "exception": false,
     "start_time": "2025-04-21T09:54:55.393374",
     "status": "completed"
    },
    "tags": []
   },
   "outputs": [
    {
     "data": {
      "text/html": [
       "<div>\n",
       "<style scoped>\n",
       "    .dataframe tbody tr th:only-of-type {\n",
       "        vertical-align: middle;\n",
       "    }\n",
       "\n",
       "    .dataframe tbody tr th {\n",
       "        vertical-align: top;\n",
       "    }\n",
       "\n",
       "    .dataframe thead th {\n",
       "        text-align: right;\n",
       "    }\n",
       "</style>\n",
       "<table border=\"1\" class=\"dataframe\">\n",
       "  <thead>\n",
       "    <tr style=\"text-align: right;\">\n",
       "      <th></th>\n",
       "      <th>id</th>\n",
       "      <th>Podcast_Name</th>\n",
       "      <th>Episode_Title</th>\n",
       "      <th>Episode_Length_minutes</th>\n",
       "      <th>Genre</th>\n",
       "      <th>Host_Popularity_percentage</th>\n",
       "      <th>Publication_Day</th>\n",
       "      <th>Publication_Time</th>\n",
       "      <th>Guest_Popularity_percentage</th>\n",
       "      <th>Number_of_Ads</th>\n",
       "      <th>Episode_Sentiment</th>\n",
       "      <th>Listening_Time_minutes</th>\n",
       "    </tr>\n",
       "  </thead>\n",
       "  <tbody>\n",
       "    <tr>\n",
       "      <th>0</th>\n",
       "      <td>0</td>\n",
       "      <td>Mystery Matters</td>\n",
       "      <td>Episode 98</td>\n",
       "      <td>&lt;NA&gt;</td>\n",
       "      <td>True Crime</td>\n",
       "      <td>74.81</td>\n",
       "      <td>Thursday</td>\n",
       "      <td>Night</td>\n",
       "      <td>&lt;NA&gt;</td>\n",
       "      <td>0.0</td>\n",
       "      <td>Positive</td>\n",
       "      <td>31.41998</td>\n",
       "    </tr>\n",
       "    <tr>\n",
       "      <th>1</th>\n",
       "      <td>1</td>\n",
       "      <td>Joke Junction</td>\n",
       "      <td>Episode 26</td>\n",
       "      <td>119.8</td>\n",
       "      <td>Comedy</td>\n",
       "      <td>66.95</td>\n",
       "      <td>Saturday</td>\n",
       "      <td>Afternoon</td>\n",
       "      <td>75.95</td>\n",
       "      <td>2.0</td>\n",
       "      <td>Negative</td>\n",
       "      <td>88.01241</td>\n",
       "    </tr>\n",
       "    <tr>\n",
       "      <th>2</th>\n",
       "      <td>2</td>\n",
       "      <td>Study Sessions</td>\n",
       "      <td>Episode 16</td>\n",
       "      <td>73.9</td>\n",
       "      <td>Education</td>\n",
       "      <td>69.97</td>\n",
       "      <td>Tuesday</td>\n",
       "      <td>Evening</td>\n",
       "      <td>8.97</td>\n",
       "      <td>0.0</td>\n",
       "      <td>Negative</td>\n",
       "      <td>44.92531</td>\n",
       "    </tr>\n",
       "    <tr>\n",
       "      <th>3</th>\n",
       "      <td>3</td>\n",
       "      <td>Digital Digest</td>\n",
       "      <td>Episode 45</td>\n",
       "      <td>67.17</td>\n",
       "      <td>Technology</td>\n",
       "      <td>57.22</td>\n",
       "      <td>Monday</td>\n",
       "      <td>Morning</td>\n",
       "      <td>78.7</td>\n",
       "      <td>2.0</td>\n",
       "      <td>Positive</td>\n",
       "      <td>46.27824</td>\n",
       "    </tr>\n",
       "    <tr>\n",
       "      <th>4</th>\n",
       "      <td>4</td>\n",
       "      <td>Mind &amp; Body</td>\n",
       "      <td>Episode 86</td>\n",
       "      <td>110.51</td>\n",
       "      <td>Health</td>\n",
       "      <td>80.07</td>\n",
       "      <td>Monday</td>\n",
       "      <td>Afternoon</td>\n",
       "      <td>58.68</td>\n",
       "      <td>3.0</td>\n",
       "      <td>Neutral</td>\n",
       "      <td>75.61031</td>\n",
       "    </tr>\n",
       "  </tbody>\n",
       "</table>\n",
       "</div>"
      ],
      "text/plain": [
       "   id     Podcast_Name Episode_Title Episode_Length_minutes       Genre  \\\n",
       "0   0  Mystery Matters    Episode 98                   <NA>  True Crime   \n",
       "1   1    Joke Junction    Episode 26                  119.8      Comedy   \n",
       "2   2   Study Sessions    Episode 16                   73.9   Education   \n",
       "3   3   Digital Digest    Episode 45                  67.17  Technology   \n",
       "4   4      Mind & Body    Episode 86                 110.51      Health   \n",
       "\n",
       "   Host_Popularity_percentage Publication_Day Publication_Time  \\\n",
       "0                       74.81        Thursday            Night   \n",
       "1                       66.95        Saturday        Afternoon   \n",
       "2                       69.97         Tuesday          Evening   \n",
       "3                       57.22          Monday          Morning   \n",
       "4                       80.07          Monday        Afternoon   \n",
       "\n",
       "  Guest_Popularity_percentage  Number_of_Ads Episode_Sentiment  \\\n",
       "0                        <NA>            0.0          Positive   \n",
       "1                       75.95            2.0          Negative   \n",
       "2                        8.97            0.0          Negative   \n",
       "3                        78.7            2.0          Positive   \n",
       "4                       58.68            3.0           Neutral   \n",
       "\n",
       "   Listening_Time_minutes  \n",
       "0                31.41998  \n",
       "1                88.01241  \n",
       "2                44.92531  \n",
       "3                46.27824  \n",
       "4                75.61031  "
      ]
     },
     "execution_count": 3,
     "metadata": {},
     "output_type": "execute_result"
    }
   ],
   "source": [
    "all_data.head()"
   ]
  },
  {
   "cell_type": "markdown",
   "id": "4b0cb17b",
   "metadata": {
    "papermill": {
     "duration": 0.004409,
     "end_time": "2025-04-21T09:54:55.595522",
     "exception": false,
     "start_time": "2025-04-21T09:54:55.591113",
     "status": "completed"
    },
    "tags": []
   },
   "source": [
    "## Data Understanding"
   ]
  },
  {
   "cell_type": "code",
   "execution_count": 4,
   "id": "cba66fcf",
   "metadata": {
    "execution": {
     "iopub.execute_input": "2025-04-21T09:54:55.605400Z",
     "iopub.status.busy": "2025-04-21T09:54:55.605145Z",
     "iopub.status.idle": "2025-04-21T09:54:57.100238Z",
     "shell.execute_reply": "2025-04-21T09:54:57.099342Z"
    },
    "papermill": {
     "duration": 1.501711,
     "end_time": "2025-04-21T09:54:57.101828",
     "exception": false,
     "start_time": "2025-04-21T09:54:55.600117",
     "status": "completed"
    },
    "tags": []
   },
   "outputs": [
    {
     "data": {
      "text/html": [
       "<div>\n",
       "<style scoped>\n",
       "    .dataframe tbody tr th:only-of-type {\n",
       "        vertical-align: middle;\n",
       "    }\n",
       "\n",
       "    .dataframe tbody tr th {\n",
       "        vertical-align: top;\n",
       "    }\n",
       "\n",
       "    .dataframe thead th {\n",
       "        text-align: right;\n",
       "    }\n",
       "</style>\n",
       "<table border=\"1\" class=\"dataframe\">\n",
       "  <thead>\n",
       "    <tr style=\"text-align: right;\">\n",
       "      <th></th>\n",
       "      <th>id</th>\n",
       "      <th>Podcast_Name</th>\n",
       "      <th>Episode_Title</th>\n",
       "      <th>Episode_Length_minutes</th>\n",
       "      <th>Genre</th>\n",
       "      <th>Host_Popularity_percentage</th>\n",
       "      <th>Publication_Day</th>\n",
       "      <th>Publication_Time</th>\n",
       "      <th>Guest_Popularity_percentage</th>\n",
       "      <th>Number_of_Ads</th>\n",
       "      <th>Episode_Sentiment</th>\n",
       "      <th>Listening_Time_minutes</th>\n",
       "    </tr>\n",
       "  </thead>\n",
       "  <tbody>\n",
       "    <tr>\n",
       "      <th>683181</th>\n",
       "      <td>683181</td>\n",
       "      <td>Health Hour</td>\n",
       "      <td>Episode 31</td>\n",
       "      <td>&lt;NA&gt;</td>\n",
       "      <td>Health</td>\n",
       "      <td>49.74</td>\n",
       "      <td>Tuesday</td>\n",
       "      <td>Evening</td>\n",
       "      <td>31.41</td>\n",
       "      <td>1.0</td>\n",
       "      <td>Negative</td>\n",
       "      <td>69.90000</td>\n",
       "    </tr>\n",
       "    <tr>\n",
       "      <th>139245</th>\n",
       "      <td>139245</td>\n",
       "      <td>Home &amp; Living</td>\n",
       "      <td>Episode 11</td>\n",
       "      <td>&lt;NA&gt;</td>\n",
       "      <td>Lifestyle</td>\n",
       "      <td>36.61</td>\n",
       "      <td>Wednesday</td>\n",
       "      <td>Night</td>\n",
       "      <td>58.26</td>\n",
       "      <td>1.0</td>\n",
       "      <td>Neutral</td>\n",
       "      <td>51.01460</td>\n",
       "    </tr>\n",
       "    <tr>\n",
       "      <th>636474</th>\n",
       "      <td>636474</td>\n",
       "      <td>Business Briefs</td>\n",
       "      <td>Episode 8</td>\n",
       "      <td>92.5</td>\n",
       "      <td>Business</td>\n",
       "      <td>95.62</td>\n",
       "      <td>Tuesday</td>\n",
       "      <td>Night</td>\n",
       "      <td>29.94</td>\n",
       "      <td>2.0</td>\n",
       "      <td>Neutral</td>\n",
       "      <td>74.67672</td>\n",
       "    </tr>\n",
       "    <tr>\n",
       "      <th>105745</th>\n",
       "      <td>105745</td>\n",
       "      <td>Detective Diaries</td>\n",
       "      <td>Episode 6</td>\n",
       "      <td>116.42</td>\n",
       "      <td>True Crime</td>\n",
       "      <td>61.98</td>\n",
       "      <td>Sunday</td>\n",
       "      <td>Morning</td>\n",
       "      <td>93.03</td>\n",
       "      <td>2.0</td>\n",
       "      <td>Neutral</td>\n",
       "      <td>114.29767</td>\n",
       "    </tr>\n",
       "    <tr>\n",
       "      <th>470738</th>\n",
       "      <td>470738</td>\n",
       "      <td>Business Insights</td>\n",
       "      <td>Episode 56</td>\n",
       "      <td>84.53</td>\n",
       "      <td>Business</td>\n",
       "      <td>56.07</td>\n",
       "      <td>Tuesday</td>\n",
       "      <td>Morning</td>\n",
       "      <td>15.4</td>\n",
       "      <td>1.0</td>\n",
       "      <td>Negative</td>\n",
       "      <td>68.47737</td>\n",
       "    </tr>\n",
       "    <tr>\n",
       "      <th>30697</th>\n",
       "      <td>30697</td>\n",
       "      <td>Tune Time</td>\n",
       "      <td>Episode 33</td>\n",
       "      <td>64.69</td>\n",
       "      <td>Music</td>\n",
       "      <td>33.45</td>\n",
       "      <td>Friday</td>\n",
       "      <td>Morning</td>\n",
       "      <td>&lt;NA&gt;</td>\n",
       "      <td>3.0</td>\n",
       "      <td>Positive</td>\n",
       "      <td>51.95993</td>\n",
       "    </tr>\n",
       "    <tr>\n",
       "      <th>664297</th>\n",
       "      <td>664297</td>\n",
       "      <td>Health Hour</td>\n",
       "      <td>Episode 31</td>\n",
       "      <td>55.88</td>\n",
       "      <td>Health</td>\n",
       "      <td>80.28</td>\n",
       "      <td>Saturday</td>\n",
       "      <td>Morning</td>\n",
       "      <td>1.48</td>\n",
       "      <td>2.0</td>\n",
       "      <td>Positive</td>\n",
       "      <td>43.53348</td>\n",
       "    </tr>\n",
       "    <tr>\n",
       "      <th>464806</th>\n",
       "      <td>464806</td>\n",
       "      <td>True Crime Stories</td>\n",
       "      <td>Episode 63</td>\n",
       "      <td>40.78</td>\n",
       "      <td>True Crime</td>\n",
       "      <td>33.50</td>\n",
       "      <td>Tuesday</td>\n",
       "      <td>Morning</td>\n",
       "      <td>99.29</td>\n",
       "      <td>3.0</td>\n",
       "      <td>Negative</td>\n",
       "      <td>17.99380</td>\n",
       "    </tr>\n",
       "    <tr>\n",
       "      <th>523686</th>\n",
       "      <td>523686</td>\n",
       "      <td>Market Masters</td>\n",
       "      <td>Episode 78</td>\n",
       "      <td>47.02</td>\n",
       "      <td>Business</td>\n",
       "      <td>38.07</td>\n",
       "      <td>Friday</td>\n",
       "      <td>Morning</td>\n",
       "      <td>40.86</td>\n",
       "      <td>2.0</td>\n",
       "      <td>Negative</td>\n",
       "      <td>37.54843</td>\n",
       "    </tr>\n",
       "    <tr>\n",
       "      <th>106055</th>\n",
       "      <td>106055</td>\n",
       "      <td>Detective Diaries</td>\n",
       "      <td>Episode 48</td>\n",
       "      <td>33.11</td>\n",
       "      <td>True Crime</td>\n",
       "      <td>32.45</td>\n",
       "      <td>Wednesday</td>\n",
       "      <td>Evening</td>\n",
       "      <td>91.22</td>\n",
       "      <td>1.0</td>\n",
       "      <td>Positive</td>\n",
       "      <td>28.88385</td>\n",
       "    </tr>\n",
       "  </tbody>\n",
       "</table>\n",
       "</div>"
      ],
      "text/plain": [
       "            id        Podcast_Name Episode_Title Episode_Length_minutes  \\\n",
       "683181  683181         Health Hour    Episode 31                   <NA>   \n",
       "139245  139245       Home & Living    Episode 11                   <NA>   \n",
       "636474  636474     Business Briefs     Episode 8                   92.5   \n",
       "105745  105745   Detective Diaries     Episode 6                 116.42   \n",
       "470738  470738   Business Insights    Episode 56                  84.53   \n",
       "30697    30697           Tune Time    Episode 33                  64.69   \n",
       "664297  664297         Health Hour    Episode 31                  55.88   \n",
       "464806  464806  True Crime Stories    Episode 63                  40.78   \n",
       "523686  523686      Market Masters    Episode 78                  47.02   \n",
       "106055  106055   Detective Diaries    Episode 48                  33.11   \n",
       "\n",
       "             Genre  Host_Popularity_percentage Publication_Day  \\\n",
       "683181      Health                       49.74         Tuesday   \n",
       "139245   Lifestyle                       36.61       Wednesday   \n",
       "636474    Business                       95.62         Tuesday   \n",
       "105745  True Crime                       61.98          Sunday   \n",
       "470738    Business                       56.07         Tuesday   \n",
       "30697        Music                       33.45          Friday   \n",
       "664297      Health                       80.28        Saturday   \n",
       "464806  True Crime                       33.50         Tuesday   \n",
       "523686    Business                       38.07          Friday   \n",
       "106055  True Crime                       32.45       Wednesday   \n",
       "\n",
       "       Publication_Time Guest_Popularity_percentage  Number_of_Ads  \\\n",
       "683181          Evening                       31.41            1.0   \n",
       "139245            Night                       58.26            1.0   \n",
       "636474            Night                       29.94            2.0   \n",
       "105745          Morning                       93.03            2.0   \n",
       "470738          Morning                        15.4            1.0   \n",
       "30697           Morning                        <NA>            3.0   \n",
       "664297          Morning                        1.48            2.0   \n",
       "464806          Morning                       99.29            3.0   \n",
       "523686          Morning                       40.86            2.0   \n",
       "106055          Evening                       91.22            1.0   \n",
       "\n",
       "       Episode_Sentiment  Listening_Time_minutes  \n",
       "683181          Negative                69.90000  \n",
       "139245           Neutral                51.01460  \n",
       "636474           Neutral                74.67672  \n",
       "105745           Neutral               114.29767  \n",
       "470738          Negative                68.47737  \n",
       "30697           Positive                51.95993  \n",
       "664297          Positive                43.53348  \n",
       "464806          Negative                17.99380  \n",
       "523686          Negative                37.54843  \n",
       "106055          Positive                28.88385  "
      ]
     },
     "execution_count": 4,
     "metadata": {},
     "output_type": "execute_result"
    }
   ],
   "source": [
    "train.sample(10)"
   ]
  },
  {
   "cell_type": "code",
   "execution_count": 5,
   "id": "af21b9c9",
   "metadata": {
    "execution": {
     "iopub.execute_input": "2025-04-21T09:54:57.114172Z",
     "iopub.status.busy": "2025-04-21T09:54:57.113943Z",
     "iopub.status.idle": "2025-04-21T09:54:58.379577Z",
     "shell.execute_reply": "2025-04-21T09:54:58.378706Z"
    },
    "papermill": {
     "duration": 1.272541,
     "end_time": "2025-04-21T09:54:58.380945",
     "exception": false,
     "start_time": "2025-04-21T09:54:57.108404",
     "status": "completed"
    },
    "tags": []
   },
   "outputs": [
    {
     "data": {
      "text/html": [
       "<div>\n",
       "<style scoped>\n",
       "    .dataframe tbody tr th:only-of-type {\n",
       "        vertical-align: middle;\n",
       "    }\n",
       "\n",
       "    .dataframe tbody tr th {\n",
       "        vertical-align: top;\n",
       "    }\n",
       "\n",
       "    .dataframe thead th {\n",
       "        text-align: right;\n",
       "    }\n",
       "</style>\n",
       "<table border=\"1\" class=\"dataframe\">\n",
       "  <thead>\n",
       "    <tr style=\"text-align: right;\">\n",
       "      <th></th>\n",
       "      <th>id</th>\n",
       "      <th>Episode_Length_minutes</th>\n",
       "      <th>Host_Popularity_percentage</th>\n",
       "      <th>Guest_Popularity_percentage</th>\n",
       "      <th>Number_of_Ads</th>\n",
       "      <th>Listening_Time_minutes</th>\n",
       "    </tr>\n",
       "  </thead>\n",
       "  <tbody>\n",
       "    <tr>\n",
       "      <th>count</th>\n",
       "      <td>750000.000000</td>\n",
       "      <td>662907.000000</td>\n",
       "      <td>750000.000000</td>\n",
       "      <td>603970.000000</td>\n",
       "      <td>749999.000000</td>\n",
       "      <td>750000.000000</td>\n",
       "    </tr>\n",
       "    <tr>\n",
       "      <th>mean</th>\n",
       "      <td>374999.500000</td>\n",
       "      <td>64.504738</td>\n",
       "      <td>59.859901</td>\n",
       "      <td>52.236449</td>\n",
       "      <td>1.348855</td>\n",
       "      <td>45.437406</td>\n",
       "    </tr>\n",
       "    <tr>\n",
       "      <th>std</th>\n",
       "      <td>216506.495284</td>\n",
       "      <td>32.969603</td>\n",
       "      <td>22.873098</td>\n",
       "      <td>28.451241</td>\n",
       "      <td>1.151130</td>\n",
       "      <td>27.138306</td>\n",
       "    </tr>\n",
       "    <tr>\n",
       "      <th>min</th>\n",
       "      <td>0.000000</td>\n",
       "      <td>0.000000</td>\n",
       "      <td>1.300000</td>\n",
       "      <td>0.000000</td>\n",
       "      <td>0.000000</td>\n",
       "      <td>0.000000</td>\n",
       "    </tr>\n",
       "    <tr>\n",
       "      <th>25%</th>\n",
       "      <td>187499.750000</td>\n",
       "      <td>35.730000</td>\n",
       "      <td>39.410000</td>\n",
       "      <td>28.380000</td>\n",
       "      <td>0.000000</td>\n",
       "      <td>23.178350</td>\n",
       "    </tr>\n",
       "    <tr>\n",
       "      <th>50%</th>\n",
       "      <td>374999.500000</td>\n",
       "      <td>63.840000</td>\n",
       "      <td>60.050000</td>\n",
       "      <td>53.580000</td>\n",
       "      <td>1.000000</td>\n",
       "      <td>43.379460</td>\n",
       "    </tr>\n",
       "    <tr>\n",
       "      <th>75%</th>\n",
       "      <td>562499.250000</td>\n",
       "      <td>94.070000</td>\n",
       "      <td>79.530000</td>\n",
       "      <td>76.600000</td>\n",
       "      <td>2.000000</td>\n",
       "      <td>64.811580</td>\n",
       "    </tr>\n",
       "    <tr>\n",
       "      <th>max</th>\n",
       "      <td>749999.000000</td>\n",
       "      <td>325.240000</td>\n",
       "      <td>119.460000</td>\n",
       "      <td>119.910000</td>\n",
       "      <td>103.910000</td>\n",
       "      <td>119.970000</td>\n",
       "    </tr>\n",
       "  </tbody>\n",
       "</table>\n",
       "</div>"
      ],
      "text/plain": [
       "                  id  Episode_Length_minutes  Host_Popularity_percentage  \\\n",
       "count  750000.000000           662907.000000               750000.000000   \n",
       "mean   374999.500000               64.504738                   59.859901   \n",
       "std    216506.495284               32.969603                   22.873098   \n",
       "min         0.000000                0.000000                    1.300000   \n",
       "25%    187499.750000               35.730000                   39.410000   \n",
       "50%    374999.500000               63.840000                   60.050000   \n",
       "75%    562499.250000               94.070000                   79.530000   \n",
       "max    749999.000000              325.240000                  119.460000   \n",
       "\n",
       "       Guest_Popularity_percentage  Number_of_Ads  Listening_Time_minutes  \n",
       "count                603970.000000  749999.000000           750000.000000  \n",
       "mean                     52.236449       1.348855               45.437406  \n",
       "std                      28.451241       1.151130               27.138306  \n",
       "min                       0.000000       0.000000                0.000000  \n",
       "25%                      28.380000       0.000000               23.178350  \n",
       "50%                      53.580000       1.000000               43.379460  \n",
       "75%                      76.600000       2.000000               64.811580  \n",
       "max                     119.910000     103.910000              119.970000  "
      ]
     },
     "execution_count": 5,
     "metadata": {},
     "output_type": "execute_result"
    }
   ],
   "source": [
    "train.describe()"
   ]
  },
  {
   "cell_type": "code",
   "execution_count": 6,
   "id": "6969444d",
   "metadata": {
    "execution": {
     "iopub.execute_input": "2025-04-21T09:54:58.392150Z",
     "iopub.status.busy": "2025-04-21T09:54:58.391930Z",
     "iopub.status.idle": "2025-04-21T09:54:58.396675Z",
     "shell.execute_reply": "2025-04-21T09:54:58.395897Z"
    },
    "papermill": {
     "duration": 0.011745,
     "end_time": "2025-04-21T09:54:58.397919",
     "exception": false,
     "start_time": "2025-04-21T09:54:58.386174",
     "status": "completed"
    },
    "tags": []
   },
   "outputs": [
    {
     "data": {
      "text/plain": [
       "(750000, 12)"
      ]
     },
     "execution_count": 6,
     "metadata": {},
     "output_type": "execute_result"
    }
   ],
   "source": [
    "train.shape"
   ]
  },
  {
   "cell_type": "code",
   "execution_count": 7,
   "id": "81e49f29",
   "metadata": {
    "execution": {
     "iopub.execute_input": "2025-04-21T09:54:58.408795Z",
     "iopub.status.busy": "2025-04-21T09:54:58.408592Z",
     "iopub.status.idle": "2025-04-21T09:54:58.412780Z",
     "shell.execute_reply": "2025-04-21T09:54:58.412005Z"
    },
    "papermill": {
     "duration": 0.011106,
     "end_time": "2025-04-21T09:54:58.414036",
     "exception": false,
     "start_time": "2025-04-21T09:54:58.402930",
     "status": "completed"
    },
    "tags": []
   },
   "outputs": [
    {
     "data": {
      "text/plain": [
       "(250000, 11)"
      ]
     },
     "execution_count": 7,
     "metadata": {},
     "output_type": "execute_result"
    }
   ],
   "source": [
    "test.shape"
   ]
  },
  {
   "cell_type": "code",
   "execution_count": 8,
   "id": "ff96f9e9",
   "metadata": {
    "execution": {
     "iopub.execute_input": "2025-04-21T09:54:58.425381Z",
     "iopub.status.busy": "2025-04-21T09:54:58.425130Z",
     "iopub.status.idle": "2025-04-21T09:54:58.444632Z",
     "shell.execute_reply": "2025-04-21T09:54:58.443806Z"
    },
    "papermill": {
     "duration": 0.026438,
     "end_time": "2025-04-21T09:54:58.445939",
     "exception": false,
     "start_time": "2025-04-21T09:54:58.419501",
     "status": "completed"
    },
    "tags": []
   },
   "outputs": [
    {
     "name": "stdout",
     "output_type": "stream",
     "text": [
      "<class 'cudf.core.dataframe.DataFrame'>\n",
      "RangeIndex: 750000 entries, 0 to 749999\n",
      "Data columns (total 12 columns):\n",
      " #   Column                       Non-Null Count   Dtype\n",
      "---  ------                       --------------   -----\n",
      " 0   id                           750000 non-null  int64\n",
      " 1   Podcast_Name                 750000 non-null  object\n",
      " 2   Episode_Title                750000 non-null  object\n",
      " 3   Episode_Length_minutes       662907 non-null  float64\n",
      " 4   Genre                        750000 non-null  object\n",
      " 5   Host_Popularity_percentage   750000 non-null  float64\n",
      " 6   Publication_Day              750000 non-null  object\n",
      " 7   Publication_Time             750000 non-null  object\n",
      " 8   Guest_Popularity_percentage  603970 non-null  float64\n",
      " 9   Number_of_Ads                749999 non-null  float64\n",
      " 10  Episode_Sentiment            750000 non-null  object\n",
      " 11  Listening_Time_minutes       750000 non-null  float64\n",
      "dtypes: float64(5), int64(1), object(6)\n",
      "memory usage: 88.8+ MB\n"
     ]
    }
   ],
   "source": [
    "train.info()"
   ]
  },
  {
   "cell_type": "code",
   "execution_count": 9,
   "id": "81fb8673",
   "metadata": {
    "execution": {
     "iopub.execute_input": "2025-04-21T09:54:58.457194Z",
     "iopub.status.busy": "2025-04-21T09:54:58.456936Z",
     "iopub.status.idle": "2025-04-21T09:54:58.581530Z",
     "shell.execute_reply": "2025-04-21T09:54:58.580631Z"
    },
    "papermill": {
     "duration": 0.131546,
     "end_time": "2025-04-21T09:54:58.582821",
     "exception": false,
     "start_time": "2025-04-21T09:54:58.451275",
     "status": "completed"
    },
    "tags": []
   },
   "outputs": [
    {
     "data": {
      "text/plain": [
       "id                                  0\n",
       "Podcast_Name                        0\n",
       "Episode_Title                       0\n",
       "Episode_Length_minutes          87093\n",
       "Genre                               0\n",
       "Host_Popularity_percentage          0\n",
       "Publication_Day                     0\n",
       "Publication_Time                    0\n",
       "Guest_Popularity_percentage    146030\n",
       "Number_of_Ads                       1\n",
       "Episode_Sentiment                   0\n",
       "Listening_Time_minutes              0\n",
       "dtype: int64"
      ]
     },
     "execution_count": 9,
     "metadata": {},
     "output_type": "execute_result"
    }
   ],
   "source": [
    "train.isnull().sum()"
   ]
  },
  {
   "cell_type": "code",
   "execution_count": 10,
   "id": "0ef1125c",
   "metadata": {
    "execution": {
     "iopub.execute_input": "2025-04-21T09:54:58.596760Z",
     "iopub.status.busy": "2025-04-21T09:54:58.596532Z",
     "iopub.status.idle": "2025-04-21T09:54:58.682471Z",
     "shell.execute_reply": "2025-04-21T09:54:58.681514Z"
    },
    "papermill": {
     "duration": 0.094175,
     "end_time": "2025-04-21T09:54:58.684184",
     "exception": false,
     "start_time": "2025-04-21T09:54:58.590009",
     "status": "completed"
    },
    "tags": []
   },
   "outputs": [
    {
     "data": {
      "text/plain": [
       "id                                 0\n",
       "Podcast_Name                       0\n",
       "Episode_Title                      0\n",
       "Episode_Length_minutes         28736\n",
       "Genre                              0\n",
       "Host_Popularity_percentage         0\n",
       "Publication_Day                    0\n",
       "Publication_Time                   0\n",
       "Guest_Popularity_percentage    48832\n",
       "Number_of_Ads                      0\n",
       "Episode_Sentiment                  0\n",
       "dtype: int64"
      ]
     },
     "execution_count": 10,
     "metadata": {},
     "output_type": "execute_result"
    }
   ],
   "source": [
    "test.isnull().sum()"
   ]
  },
  {
   "cell_type": "markdown",
   "id": "94687434",
   "metadata": {
    "papermill": {
     "duration": 0.006306,
     "end_time": "2025-04-21T09:54:58.697646",
     "exception": false,
     "start_time": "2025-04-21T09:54:58.691340",
     "status": "completed"
    },
    "tags": []
   },
   "source": [
    "## Data Preparation"
   ]
  },
  {
   "cell_type": "code",
   "execution_count": 11,
   "id": "76b21da2",
   "metadata": {
    "execution": {
     "iopub.execute_input": "2025-04-21T09:54:58.711266Z",
     "iopub.status.busy": "2025-04-21T09:54:58.710926Z",
     "iopub.status.idle": "2025-04-21T09:55:04.049968Z",
     "shell.execute_reply": "2025-04-21T09:55:04.049254Z"
    },
    "papermill": {
     "duration": 5.34773,
     "end_time": "2025-04-21T09:55:04.051548",
     "exception": false,
     "start_time": "2025-04-21T09:54:58.703818",
     "status": "completed"
    },
    "tags": []
   },
   "outputs": [],
   "source": [
    "from sklearn.impute import SimpleImputer\n",
    "\n",
    "impute = SimpleImputer(strategy='median')\n",
    "num_cols = test.select_dtypes(include=['float64']).columns\n",
    "train[num_cols] = impute.fit_transform(train[num_cols])\n",
    "test[num_cols] = impute.fit_transform(test[num_cols])"
   ]
  },
  {
   "cell_type": "code",
   "execution_count": 12,
   "id": "96b3fde0",
   "metadata": {
    "execution": {
     "iopub.execute_input": "2025-04-21T09:55:04.064917Z",
     "iopub.status.busy": "2025-04-21T09:55:04.064533Z",
     "iopub.status.idle": "2025-04-21T09:55:04.071244Z",
     "shell.execute_reply": "2025-04-21T09:55:04.070553Z"
    },
    "papermill": {
     "duration": 0.014327,
     "end_time": "2025-04-21T09:55:04.072403",
     "exception": false,
     "start_time": "2025-04-21T09:55:04.058076",
     "status": "completed"
    },
    "tags": []
   },
   "outputs": [
    {
     "data": {
      "text/plain": [
       "Index(['id', 'Podcast_Name', 'Episode_Title', 'Episode_Length_minutes',\n",
       "       'Genre', 'Host_Popularity_percentage', 'Publication_Day',\n",
       "       'Publication_Time', 'Guest_Popularity_percentage', 'Number_of_Ads',\n",
       "       'Episode_Sentiment', 'Listening_Time_minutes'],\n",
       "      dtype='object')"
      ]
     },
     "execution_count": 12,
     "metadata": {},
     "output_type": "execute_result"
    }
   ],
   "source": [
    "train.columns"
   ]
  },
  {
   "cell_type": "markdown",
   "id": "9010c847",
   "metadata": {
    "papermill": {
     "duration": 0.00514,
     "end_time": "2025-04-21T09:55:04.083143",
     "exception": false,
     "start_time": "2025-04-21T09:55:04.078003",
     "status": "completed"
    },
    "tags": []
   },
   "source": [
    "## Feature engineering"
   ]
  },
  {
   "cell_type": "code",
   "execution_count": 13,
   "id": "a48003ac",
   "metadata": {
    "execution": {
     "iopub.execute_input": "2025-04-21T09:55:04.094670Z",
     "iopub.status.busy": "2025-04-21T09:55:04.094451Z",
     "iopub.status.idle": "2025-04-21T09:55:04.099594Z",
     "shell.execute_reply": "2025-04-21T09:55:04.098952Z"
    },
    "papermill": {
     "duration": 0.012248,
     "end_time": "2025-04-21T09:55:04.100818",
     "exception": false,
     "start_time": "2025-04-21T09:55:04.088570",
     "status": "completed"
    },
    "tags": []
   },
   "outputs": [],
   "source": [
    "def add_features(df):\n",
    "    df['Guest_Popularity_percentage'] =  df['Guest_Popularity_percentage'].clip(upper=100)\n",
    "    df['Host_Popularity_percentage'] =  df['Host_Popularity_percentage'].clip(upper=100)\n",
    "    df['Number_of_Ads'] = df['Number_of_Ads'].astype(int)\n",
    "    df['title_number'] = df['Episode_Title'].str.split().str[1].astype(int)\n",
    "    \n",
    "    df['IsWeekend'] = df['Publication_Day'].isin(['Saturday', 'Sunday']).astype(int)\n",
    "    \n",
    "    sentiments = {'Positive': 1, 'Neutral': 0, 'Negative': -1}\n",
    "    df['Episode_Sentiment'] = df['Episode_Sentiment'].map(sentiments)\n",
    "    \n",
    "    df['Guest_Popularity_lengthmin'] =  df['Guest_Popularity_percentage'] * df['Episode_Length_minutes']\n",
    "    df['Title_Length'] =  df['title_number'] * df['Episode_Length_minutes']\n",
    "    df['Host_Popularity_lengthmin'] =  df['Host_Popularity_percentage'] * df['Episode_Length_minutes']\n",
    "    df['Average_popularity'] = (df['Host_Popularity_percentage'] + df['Guest_Popularity_percentage']) / 2\n",
    "    df['minutes_per_ads'] = df['Episode_Length_minutes'] / (df['Number_of_Ads'] + 1) \n",
    "    df['genre_sentiment'] = df['Genre'] * df['Episode_Sentiment']\n",
    "    \n",
    "    return df "
   ]
  },
  {
   "cell_type": "markdown",
   "id": "1a7c5719",
   "metadata": {
    "papermill": {
     "duration": 0.005245,
     "end_time": "2025-04-21T09:55:04.111404",
     "exception": false,
     "start_time": "2025-04-21T09:55:04.106159",
     "status": "completed"
    },
    "tags": []
   },
   "source": [
    "## Identifying outlier and clipping them"
   ]
  },
  {
   "cell_type": "code",
   "execution_count": 14,
   "id": "d795c0df",
   "metadata": {
    "execution": {
     "iopub.execute_input": "2025-04-21T09:55:04.124332Z",
     "iopub.status.busy": "2025-04-21T09:55:04.124107Z",
     "iopub.status.idle": "2025-04-21T09:55:04.328504Z",
     "shell.execute_reply": "2025-04-21T09:55:04.327736Z"
    },
    "papermill": {
     "duration": 0.213216,
     "end_time": "2025-04-21T09:55:04.330041",
     "exception": false,
     "start_time": "2025-04-21T09:55:04.116825",
     "status": "completed"
    },
    "tags": []
   },
   "outputs": [],
   "source": [
    "for colname in test.select_dtypes(exclude=['object', 'category']).columns:\n",
    "    Q1 = all_data[colname].quantile(0.25)\n",
    "    Q3 = all_data[colname].quantile(0.75)\n",
    "    IQR = Q3 - Q1\n",
    "    lower_bound = Q1 - 1.5 * IQR\n",
    "    upper_bound = Q3 + 1.5 * IQR\n",
    "    \n",
    "    outliers = (all_data[colname] < lower_bound) | (all_data[colname] > upper_bound)\n",
    "    \n",
    "    train[colname] = train[colname].clip(lower=lower_bound, upper=upper_bound)\n",
    "    test[colname] = test[colname].clip(lower=lower_bound, upper=upper_bound)"
   ]
  },
  {
   "cell_type": "code",
   "execution_count": 15,
   "id": "c16053d9",
   "metadata": {
    "execution": {
     "iopub.execute_input": "2025-04-21T09:55:04.343182Z",
     "iopub.status.busy": "2025-04-21T09:55:04.342925Z",
     "iopub.status.idle": "2025-04-21T09:55:04.475236Z",
     "shell.execute_reply": "2025-04-21T09:55:04.474580Z"
    },
    "papermill": {
     "duration": 0.140706,
     "end_time": "2025-04-21T09:55:04.476947",
     "exception": false,
     "start_time": "2025-04-21T09:55:04.336241",
     "status": "completed"
    },
    "tags": []
   },
   "outputs": [],
   "source": [
    "cat_cols = ['Podcast_Name', 'Genre', 'Publication_Day', 'Publication_Time']\n",
    "for colname in cat_cols:\n",
    "    train[colname] = train[colname].astype('category')\n",
    "    test[colname] = test[colname].astype('category')"
   ]
  },
  {
   "cell_type": "markdown",
   "id": "520a1908",
   "metadata": {
    "papermill": {
     "duration": 0.00551,
     "end_time": "2025-04-21T09:55:04.488479",
     "exception": false,
     "start_time": "2025-04-21T09:55:04.482969",
     "status": "completed"
    },
    "tags": []
   },
   "source": [
    "## Count Encoding for high cardinality columns"
   ]
  },
  {
   "cell_type": "code",
   "execution_count": 16,
   "id": "2f95a4e0",
   "metadata": {
    "execution": {
     "iopub.execute_input": "2025-04-21T09:55:04.500149Z",
     "iopub.status.busy": "2025-04-21T09:55:04.499925Z",
     "iopub.status.idle": "2025-04-21T09:55:18.147592Z",
     "shell.execute_reply": "2025-04-21T09:55:18.146570Z"
    },
    "papermill": {
     "duration": 13.655545,
     "end_time": "2025-04-21T09:55:18.149422",
     "exception": false,
     "start_time": "2025-04-21T09:55:04.493877",
     "status": "completed"
    },
    "tags": []
   },
   "outputs": [],
   "source": [
    "from category_encoders import CountEncoder\n",
    "\n",
    "ce = CountEncoder()\n",
    "count_category = ['Podcast_Name', 'Genre']\n",
    "train[count_category] = ce.fit_transform(train[count_category])\n",
    "test[count_category] = ce.transform(test[count_category])"
   ]
  },
  {
   "cell_type": "code",
   "execution_count": 17,
   "id": "5c8ea472",
   "metadata": {
    "execution": {
     "iopub.execute_input": "2025-04-21T09:55:18.163526Z",
     "iopub.status.busy": "2025-04-21T09:55:18.163055Z",
     "iopub.status.idle": "2025-04-21T09:55:18.600256Z",
     "shell.execute_reply": "2025-04-21T09:55:18.599519Z"
    },
    "papermill": {
     "duration": 0.446567,
     "end_time": "2025-04-21T09:55:18.601994",
     "exception": false,
     "start_time": "2025-04-21T09:55:18.155427",
     "status": "completed"
    },
    "tags": []
   },
   "outputs": [],
   "source": [
    "from sklearn.preprocessing import LabelEncoder\n",
    "\n",
    "cat_cols = ['Publication_Day', 'Publication_Time']\n",
    "for colname in cat_cols:\n",
    "    le = LabelEncoder()\n",
    "    train[colname] = le.fit_transform(train[colname])\n",
    "    test[colname] = le.transform(test[colname])"
   ]
  },
  {
   "cell_type": "code",
   "execution_count": 18,
   "id": "f6ec6f3f",
   "metadata": {
    "execution": {
     "iopub.execute_input": "2025-04-21T09:55:18.615388Z",
     "iopub.status.busy": "2025-04-21T09:55:18.615107Z",
     "iopub.status.idle": "2025-04-21T09:55:18.619070Z",
     "shell.execute_reply": "2025-04-21T09:55:18.618401Z"
    },
    "papermill": {
     "duration": 0.011766,
     "end_time": "2025-04-21T09:55:18.620345",
     "exception": false,
     "start_time": "2025-04-21T09:55:18.608579",
     "status": "completed"
    },
    "tags": []
   },
   "outputs": [],
   "source": [
    "cat_features = ['Publication_Day', 'Publication_Time', 'Podcast_Name', 'Genre', 'Episode_Sentiment']\n",
    "def combo_1(df):\n",
    "    for i, col1 in enumerate(cat_features):\n",
    "        for col2 in (cat_features[i+1:]):\n",
    "            new_col = f'{col1}_{col2}'\n",
    "            df[new_col] = df[col1] * df[col2]\n",
    "    return df"
   ]
  },
  {
   "cell_type": "markdown",
   "id": "47245fb9",
   "metadata": {
    "papermill": {
     "duration": 0.005575,
     "end_time": "2025-04-21T09:55:18.631719",
     "exception": false,
     "start_time": "2025-04-21T09:55:18.626144",
     "status": "completed"
    },
    "tags": []
   },
   "source": [
    "## Splitting the train data by KFold"
   ]
  },
  {
   "cell_type": "code",
   "execution_count": 19,
   "id": "8c75103c",
   "metadata": {
    "execution": {
     "iopub.execute_input": "2025-04-21T09:55:18.643479Z",
     "iopub.status.busy": "2025-04-21T09:55:18.643217Z",
     "iopub.status.idle": "2025-04-21T09:55:31.426523Z",
     "shell.execute_reply": "2025-04-21T09:55:31.425561Z"
    },
    "papermill": {
     "duration": 12.790999,
     "end_time": "2025-04-21T09:55:31.428163",
     "exception": false,
     "start_time": "2025-04-21T09:55:18.637164",
     "status": "completed"
    },
    "tags": []
   },
   "outputs": [],
   "source": [
    "from sklearn.model_selection import KFold\n",
    "\n",
    "X = train.copy()\n",
    "y = X.pop('Listening_Time_minutes')\n",
    "X = add_features(X)\n",
    "X = combo_1(X)\n",
    "X.drop('Episode_Title', axis=1, inplace=True)\n",
    "\n",
    "X_test = test.copy()\n",
    "X_test = add_features(X_test)\n",
    "X_test = combo_1(X_test)\n",
    "X_test.drop('Episode_Title', axis=1, inplace=True)\n",
    "\n",
    "kf = KFold(n_splits=10, shuffle=True, random_state=600)\n",
    "\n",
    "for train_index, valid_index in kf.split(X, y):\n",
    "    X_train, X_valid = X.iloc[train_index], X.iloc[valid_index]\n",
    "    y_train, y_valid = y.iloc[train_index], y.iloc[valid_index]  "
   ]
  },
  {
   "cell_type": "markdown",
   "id": "2007b6e9",
   "metadata": {
    "papermill": {
     "duration": 0.00541,
     "end_time": "2025-04-21T09:55:31.440079",
     "exception": false,
     "start_time": "2025-04-21T09:55:31.434669",
     "status": "completed"
    },
    "tags": []
   },
   "source": [
    "## Target encoding"
   ]
  },
  {
   "cell_type": "code",
   "execution_count": 20,
   "id": "ebfac71f",
   "metadata": {
    "execution": {
     "iopub.execute_input": "2025-04-21T09:55:31.451884Z",
     "iopub.status.busy": "2025-04-21T09:55:31.451624Z",
     "iopub.status.idle": "2025-04-21T09:55:32.297253Z",
     "shell.execute_reply": "2025-04-21T09:55:32.296558Z"
    },
    "papermill": {
     "duration": 0.853322,
     "end_time": "2025-04-21T09:55:32.298818",
     "exception": false,
     "start_time": "2025-04-21T09:55:31.445496",
     "status": "completed"
    },
    "tags": []
   },
   "outputs": [],
   "source": [
    "stats = ['mean', 'median', 'std', 'skew', 'count', 'max', 'min', 'nunique']\n",
    "\n",
    "train_with_target = X_train.copy()\n",
    "train_with_target['Listening_Time_minutes'] = y_train\n",
    "\n",
    "grouped_stats = train_with_target.groupby(['Episode_Length_minutes'])['Listening_Time_minutes'].agg(stats).fillna(0.0)\n",
    "grouped_stats.columns = [f'TE1_WC_{stat}' for stat in stats]\n",
    "\n",
    "grouped_stats_full = train.groupby(['Episode_Length_minutes'])['Listening_Time_minutes'].agg(stats).fillna(0.0)\n",
    "grouped_stats_full.columns = [f'TE1_WC_{stat}' for stat in stats]\n",
    "\n",
    "X_train = X_train.merge(grouped_stats, on='Episode_Length_minutes', how='left')\n",
    "X_valid = X_valid.merge(grouped_stats, on='Episode_Length_minutes', how='left')\n",
    "X_test = X_test.merge(grouped_stats_full, on='Episode_Length_minutes', how='left')"
   ]
  },
  {
   "cell_type": "code",
   "execution_count": 21,
   "id": "39631cc6",
   "metadata": {
    "execution": {
     "iopub.execute_input": "2025-04-21T09:55:32.312618Z",
     "iopub.status.busy": "2025-04-21T09:55:32.312372Z",
     "iopub.status.idle": "2025-04-21T10:00:15.846863Z",
     "shell.execute_reply": "2025-04-21T10:00:15.845995Z"
    },
    "papermill": {
     "duration": 283.543488,
     "end_time": "2025-04-21T10:00:15.848289",
     "exception": false,
     "start_time": "2025-04-21T09:55:32.304801",
     "status": "completed"
    },
    "tags": []
   },
   "outputs": [
    {
     "name": "stderr",
     "output_type": "stream",
     "text": [
      "[I 2025-04-21 09:55:33,292] A new study created in memory with name: CAT-RMSE-Optimization\n",
      "[I 2025-04-21 09:55:48,217] Trial 0 finished with value: 12.996473195147837 and parameters: {'iterations': 217, 'learning_rate': 0.032122302015097866, 'depth': 4, 'l2_leaf_reg': 0.10097576089050814, 'bagging_temperature': 0.4554161350573563, 'random_strength': 2}. Best is trial 0 with value: 12.996473195147837.\n",
      "[I 2025-04-21 09:56:24,619] Trial 1 finished with value: 12.863843014299999 and parameters: {'iterations': 498, 'learning_rate': 0.07891379283594997, 'depth': 9, 'l2_leaf_reg': 0.397737398190906, 'bagging_temperature': 0.4448952112675206, 'random_strength': 0}. Best is trial 1 with value: 12.863843014299999.\n",
      "[I 2025-04-21 09:56:37,740] Trial 2 finished with value: 12.953203888152373 and parameters: {'iterations': 109, 'learning_rate': 0.07450123182779965, 'depth': 7, 'l2_leaf_reg': 1.5259989993963985, 'bagging_temperature': 0.5536949638080068, 'random_strength': 5}. Best is trial 1 with value: 12.863843014299999.\n",
      "[I 2025-04-21 09:56:56,035] Trial 3 finished with value: 12.94715351722254 and parameters: {'iterations': 345, 'learning_rate': 0.03963377776187551, 'depth': 5, 'l2_leaf_reg': 2.843283029299865, 'bagging_temperature': 0.20914405825935317, 'random_strength': 5}. Best is trial 1 with value: 12.863843014299999.\n",
      "[I 2025-04-21 09:57:11,825] Trial 4 finished with value: 13.01152040738113 and parameters: {'iterations': 341, 'learning_rate': 0.021616202056595105, 'depth': 3, 'l2_leaf_reg': 1.1423573581634217, 'bagging_temperature': 0.46806674741888404, 'random_strength': 4}. Best is trial 1 with value: 12.863843014299999.\n",
      "[I 2025-04-21 09:57:32,625] Trial 5 finished with value: 12.90944062238674 and parameters: {'iterations': 216, 'learning_rate': 0.057394866783354107, 'depth': 9, 'l2_leaf_reg': 0.2665293591738691, 'bagging_temperature': 0.5843649026622658, 'random_strength': 2}. Best is trial 1 with value: 12.863843014299999.\n",
      "[I 2025-04-21 09:57:52,367] Trial 6 finished with value: 12.936405633056893 and parameters: {'iterations': 330, 'learning_rate': 0.04012967833670678, 'depth': 6, 'l2_leaf_reg': 7.339163077656057, 'bagging_temperature': 0.12821444141772956, 'random_strength': 2}. Best is trial 1 with value: 12.863843014299999.\n",
      "[I 2025-04-21 09:58:10,590] Trial 7 finished with value: 12.933418146046757 and parameters: {'iterations': 167, 'learning_rate': 0.04797876721431264, 'depth': 9, 'l2_leaf_reg': 0.3265982450574684, 'bagging_temperature': 0.3113636596533985, 'random_strength': 2}. Best is trial 1 with value: 12.863843014299999.\n",
      "[I 2025-04-21 09:58:26,789] Trial 8 finished with value: 13.05309892942709 and parameters: {'iterations': 376, 'learning_rate': 0.01330861161039952, 'depth': 3, 'l2_leaf_reg': 0.8524801030679895, 'bagging_temperature': 0.7551320488425834, 'random_strength': 5}. Best is trial 1 with value: 12.863843014299999.\n",
      "[I 2025-04-21 09:58:38,512] Trial 9 finished with value: 13.580205138236732 and parameters: {'iterations': 138, 'learning_rate': 0.016602745493341748, 'depth': 3, 'l2_leaf_reg': 0.17045107427213077, 'bagging_temperature': 0.4297697228501663, 'random_strength': 1}. Best is trial 1 with value: 12.863843014299999.\n",
      "[I 2025-04-21 09:59:52,980] Trial 10 finished with value: 12.911503924033966 and parameters: {'iterations': 454, 'learning_rate': 0.09202949301601071, 'depth': 12, 'l2_leaf_reg': 0.5353014972622112, 'bagging_temperature': 0.23458543503563142, 'random_strength': 0}. Best is trial 1 with value: 12.863843014299999.\n",
      "[I 2025-04-21 10:00:15,841] Trial 11 finished with value: 12.900671666982783 and parameters: {'iterations': 241, 'learning_rate': 0.060642104327102764, 'depth': 9, 'l2_leaf_reg': 0.29111415259386436, 'bagging_temperature': 0.8667379474799847, 'random_strength': 0}. Best is trial 1 with value: 12.863843014299999.\n"
     ]
    },
    {
     "name": "stdout",
     "output_type": "stream",
     "text": [
      "Best cross-validation RMSE: 12.8638\n",
      "Best parameters: {'iterations': 498, 'learning_rate': 0.07891379283594997, 'depth': 9, 'l2_leaf_reg': 0.397737398190906, 'bagging_temperature': 0.4448952112675206, 'random_strength': 0}\n"
     ]
    }
   ],
   "source": [
    "from catboost import CatBoostRegressor\n",
    "from sklearn.model_selection import cross_val_score\n",
    "import optuna\n",
    "\n",
    "def objective(trial):\n",
    "    iterations = trial.suggest_int(\"iterations\", 100, 500)\n",
    "    learning_rate = trial.suggest_float(\"learning_rate\", 0.01, 0.1, log=True)\n",
    "    depth = trial.suggest_int('depth', 3, 12)\n",
    "    l2_leaf_reg = trial.suggest_float('l2_leaf_reg', 0.1, 10, log=True)\n",
    "    bagging_temperature = trial.suggest_float('bagging_temperature', 0.1, 1, log=True)\n",
    "    random_strength = trial.suggest_int('random_strength', 0, 5)\n",
    "    \n",
    "    cat = CatBoostRegressor(\n",
    "        iterations=iterations, \n",
    "        learning_rate=learning_rate,\n",
    "        depth=depth,\n",
    "        l2_leaf_reg=l2_leaf_reg,\n",
    "        task_type='GPU',\n",
    "        devices='0',\n",
    "        verbose=False\n",
    "        )\n",
    "    \n",
    "    score = -1 * cross_val_score(cat, X_train, y_train, scoring='neg_root_mean_squared_error').mean()\n",
    "    return score\n",
    "\n",
    "study = optuna.create_study(direction='minimize', study_name='CAT-RMSE-Optimization')\n",
    "study.optimize(objective, n_trials=12)\n",
    "\n",
    "print(f'Best cross-validation RMSE: {study.best_value:,.4f}')\n",
    "print(f'Best parameters: {study.best_params}')"
   ]
  },
  {
   "cell_type": "markdown",
   "id": "f1643c90",
   "metadata": {
    "papermill": {
     "duration": 0.009467,
     "end_time": "2025-04-21T10:00:15.869888",
     "exception": false,
     "start_time": "2025-04-21T10:00:15.860421",
     "status": "completed"
    },
    "tags": []
   },
   "source": [
    "## Final Submission"
   ]
  },
  {
   "cell_type": "code",
   "execution_count": 22,
   "id": "79b97df8",
   "metadata": {
    "execution": {
     "iopub.execute_input": "2025-04-21T10:00:15.883371Z",
     "iopub.status.busy": "2025-04-21T10:00:15.883045Z",
     "iopub.status.idle": "2025-04-21T10:01:05.036567Z",
     "shell.execute_reply": "2025-04-21T10:01:05.035018Z"
    },
    "papermill": {
     "duration": 49.16723,
     "end_time": "2025-04-21T10:01:05.043244",
     "exception": false,
     "start_time": "2025-04-21T10:00:15.876014",
     "status": "completed"
    },
    "tags": []
   },
   "outputs": [
    {
     "name": "stdout",
     "output_type": "stream",
     "text": [
      "Your submission was successfully saved!\n"
     ]
    }
   ],
   "source": [
    "final_model = CatBoostRegressor(**study.best_params, verbose=False)\n",
    "final_model.fit(X_train, y_train)\n",
    "\n",
    "test_preds = final_model.predict(X_test)\n",
    "\n",
    "output = pd.DataFrame({\n",
    "    'id': test['id'],\n",
    "    'Listening_Time_minutes': test_preds\n",
    "})\n",
    "output.to_csv('submission.csv', index=False)\n",
    "print(\"Your submission was successfully saved!\")"
   ]
  }
 ],
 "metadata": {
  "kaggle": {
   "accelerator": "nvidiaTeslaT4",
   "dataSources": [
    {
     "databundleVersionId": 11351736,
     "sourceId": 91715,
     "sourceType": "competition"
    }
   ],
   "dockerImageVersionId": 30918,
   "isGpuEnabled": true,
   "isInternetEnabled": true,
   "language": "python",
   "sourceType": "notebook"
  },
  "kernelspec": {
   "display_name": "Python 3",
   "language": "python",
   "name": "python3"
  },
  "language_info": {
   "codemirror_mode": {
    "name": "ipython",
    "version": 3
   },
   "file_extension": ".py",
   "mimetype": "text/x-python",
   "name": "python",
   "nbconvert_exporter": "python",
   "pygments_lexer": "ipython3",
   "version": "3.10.12"
  },
  "papermill": {
   "default_parameters": {},
   "duration": 390.686541,
   "end_time": "2025-04-21T10:01:07.923221",
   "environment_variables": {},
   "exception": null,
   "input_path": "__notebook__.ipynb",
   "output_path": "__notebook__.ipynb",
   "parameters": {},
   "start_time": "2025-04-21T09:54:37.236680",
   "version": "2.6.0"
  }
 },
 "nbformat": 4,
 "nbformat_minor": 5
}
