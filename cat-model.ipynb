{
 "cells": [
  {
   "cell_type": "code",
   "execution_count": 1,
   "id": "1381c82e",
   "metadata": {
    "execution": {
     "iopub.execute_input": "2025-04-14T08:46:05.315038Z",
     "iopub.status.busy": "2025-04-14T08:46:05.314744Z",
     "iopub.status.idle": "2025-04-14T08:46:13.400274Z",
     "shell.execute_reply": "2025-04-14T08:46:13.399106Z"
    },
    "papermill": {
     "duration": 8.09275,
     "end_time": "2025-04-14T08:46:13.401633",
     "exception": false,
     "start_time": "2025-04-14T08:46:05.308883",
     "status": "completed"
    },
    "tags": []
   },
   "outputs": [
    {
     "name": "stdout",
     "output_type": "stream",
     "text": [
      "/kaggle/input/playground-series-s5e4/sample_submission.csv\n",
      "/kaggle/input/playground-series-s5e4/train.csv\n",
      "/kaggle/input/playground-series-s5e4/test.csv\n"
     ]
    }
   ],
   "source": [
    "# This Python 3 environment comes with many helpful analytics libraries installed\n",
    "# It is defined by the kaggle/python Docker image: https://github.com/kaggle/docker-python\n",
    "# For example, here's several helpful packages to load\n",
    "%load_ext cudf.pandas\n",
    "import numpy as np # linear algebra\n",
    "import pandas as pd # data processing, CSV file I/O (e.g. pd.read_csv)\n",
    "import matplotlib.pyplot as plt\n",
    "pd.set_option('display.max_columns', 500)\n",
    "\n",
    "# Input data files are available in the read-only \"../input/\" directory\n",
    "# For example, running this (by clicking run or pressing Shift+Enter) will list all files under the input directory\n",
    "\n",
    "import os\n",
    "for dirname, _, filenames in os.walk('/kaggle/input'):\n",
    "    for filename in filenames:\n",
    "        print(os.path.join(dirname, filename))\n",
    "        \n",
    "import warnings\n",
    "warnings.filterwarnings(\"ignore\")\n",
    "\n",
    "# You can write up to 20GB to the current directory (/kaggle/working/) that gets preserved as output when you create a version using \"Save & Run All\" \n",
    "# You can also write temporary files to /kaggle/temp/, but they won't be saved outside of the current session"
   ]
  },
  {
   "cell_type": "code",
   "execution_count": 2,
   "id": "f5766a4d",
   "metadata": {
    "execution": {
     "iopub.execute_input": "2025-04-14T08:46:13.411644Z",
     "iopub.status.busy": "2025-04-14T08:46:13.411086Z",
     "iopub.status.idle": "2025-04-14T08:46:14.253741Z",
     "shell.execute_reply": "2025-04-14T08:46:14.252830Z"
    },
    "papermill": {
     "duration": 0.84879,
     "end_time": "2025-04-14T08:46:14.255442",
     "exception": false,
     "start_time": "2025-04-14T08:46:13.406652",
     "status": "completed"
    },
    "tags": []
   },
   "outputs": [],
   "source": [
    "train = pd.read_csv('/kaggle/input/playground-series-s5e4/train.csv')\n",
    "test = pd.read_csv('/kaggle/input/playground-series-s5e4/test.csv')\n",
    "all_data = pd.concat([train, test], axis=0)"
   ]
  },
  {
   "cell_type": "code",
   "execution_count": 3,
   "id": "09fa84d2",
   "metadata": {
    "execution": {
     "iopub.execute_input": "2025-04-14T08:46:14.264934Z",
     "iopub.status.busy": "2025-04-14T08:46:14.264633Z",
     "iopub.status.idle": "2025-04-14T08:46:14.400795Z",
     "shell.execute_reply": "2025-04-14T08:46:14.399916Z"
    },
    "papermill": {
     "duration": 0.142426,
     "end_time": "2025-04-14T08:46:14.402306",
     "exception": false,
     "start_time": "2025-04-14T08:46:14.259880",
     "status": "completed"
    },
    "tags": []
   },
   "outputs": [
    {
     "data": {
      "text/html": [
       "<div>\n",
       "<style scoped>\n",
       "    .dataframe tbody tr th:only-of-type {\n",
       "        vertical-align: middle;\n",
       "    }\n",
       "\n",
       "    .dataframe tbody tr th {\n",
       "        vertical-align: top;\n",
       "    }\n",
       "\n",
       "    .dataframe thead th {\n",
       "        text-align: right;\n",
       "    }\n",
       "</style>\n",
       "<table border=\"1\" class=\"dataframe\">\n",
       "  <thead>\n",
       "    <tr style=\"text-align: right;\">\n",
       "      <th></th>\n",
       "      <th>id</th>\n",
       "      <th>Podcast_Name</th>\n",
       "      <th>Episode_Title</th>\n",
       "      <th>Episode_Length_minutes</th>\n",
       "      <th>Genre</th>\n",
       "      <th>Host_Popularity_percentage</th>\n",
       "      <th>Publication_Day</th>\n",
       "      <th>Publication_Time</th>\n",
       "      <th>Guest_Popularity_percentage</th>\n",
       "      <th>Number_of_Ads</th>\n",
       "      <th>Episode_Sentiment</th>\n",
       "      <th>Listening_Time_minutes</th>\n",
       "    </tr>\n",
       "  </thead>\n",
       "  <tbody>\n",
       "    <tr>\n",
       "      <th>0</th>\n",
       "      <td>0</td>\n",
       "      <td>Mystery Matters</td>\n",
       "      <td>Episode 98</td>\n",
       "      <td>&lt;NA&gt;</td>\n",
       "      <td>True Crime</td>\n",
       "      <td>74.81</td>\n",
       "      <td>Thursday</td>\n",
       "      <td>Night</td>\n",
       "      <td>&lt;NA&gt;</td>\n",
       "      <td>0.0</td>\n",
       "      <td>Positive</td>\n",
       "      <td>31.41998</td>\n",
       "    </tr>\n",
       "    <tr>\n",
       "      <th>1</th>\n",
       "      <td>1</td>\n",
       "      <td>Joke Junction</td>\n",
       "      <td>Episode 26</td>\n",
       "      <td>119.8</td>\n",
       "      <td>Comedy</td>\n",
       "      <td>66.95</td>\n",
       "      <td>Saturday</td>\n",
       "      <td>Afternoon</td>\n",
       "      <td>75.95</td>\n",
       "      <td>2.0</td>\n",
       "      <td>Negative</td>\n",
       "      <td>88.01241</td>\n",
       "    </tr>\n",
       "    <tr>\n",
       "      <th>2</th>\n",
       "      <td>2</td>\n",
       "      <td>Study Sessions</td>\n",
       "      <td>Episode 16</td>\n",
       "      <td>73.9</td>\n",
       "      <td>Education</td>\n",
       "      <td>69.97</td>\n",
       "      <td>Tuesday</td>\n",
       "      <td>Evening</td>\n",
       "      <td>8.97</td>\n",
       "      <td>0.0</td>\n",
       "      <td>Negative</td>\n",
       "      <td>44.92531</td>\n",
       "    </tr>\n",
       "    <tr>\n",
       "      <th>3</th>\n",
       "      <td>3</td>\n",
       "      <td>Digital Digest</td>\n",
       "      <td>Episode 45</td>\n",
       "      <td>67.17</td>\n",
       "      <td>Technology</td>\n",
       "      <td>57.22</td>\n",
       "      <td>Monday</td>\n",
       "      <td>Morning</td>\n",
       "      <td>78.7</td>\n",
       "      <td>2.0</td>\n",
       "      <td>Positive</td>\n",
       "      <td>46.27824</td>\n",
       "    </tr>\n",
       "    <tr>\n",
       "      <th>4</th>\n",
       "      <td>4</td>\n",
       "      <td>Mind &amp; Body</td>\n",
       "      <td>Episode 86</td>\n",
       "      <td>110.51</td>\n",
       "      <td>Health</td>\n",
       "      <td>80.07</td>\n",
       "      <td>Monday</td>\n",
       "      <td>Afternoon</td>\n",
       "      <td>58.68</td>\n",
       "      <td>3.0</td>\n",
       "      <td>Neutral</td>\n",
       "      <td>75.61031</td>\n",
       "    </tr>\n",
       "  </tbody>\n",
       "</table>\n",
       "</div>"
      ],
      "text/plain": [
       "   id     Podcast_Name Episode_Title Episode_Length_minutes       Genre  \\\n",
       "0   0  Mystery Matters    Episode 98                   <NA>  True Crime   \n",
       "1   1    Joke Junction    Episode 26                  119.8      Comedy   \n",
       "2   2   Study Sessions    Episode 16                   73.9   Education   \n",
       "3   3   Digital Digest    Episode 45                  67.17  Technology   \n",
       "4   4      Mind & Body    Episode 86                 110.51      Health   \n",
       "\n",
       "   Host_Popularity_percentage Publication_Day Publication_Time  \\\n",
       "0                       74.81        Thursday            Night   \n",
       "1                       66.95        Saturday        Afternoon   \n",
       "2                       69.97         Tuesday          Evening   \n",
       "3                       57.22          Monday          Morning   \n",
       "4                       80.07          Monday        Afternoon   \n",
       "\n",
       "  Guest_Popularity_percentage  Number_of_Ads Episode_Sentiment  \\\n",
       "0                        <NA>            0.0          Positive   \n",
       "1                       75.95            2.0          Negative   \n",
       "2                        8.97            0.0          Negative   \n",
       "3                        78.7            2.0          Positive   \n",
       "4                       58.68            3.0           Neutral   \n",
       "\n",
       "   Listening_Time_minutes  \n",
       "0                31.41998  \n",
       "1                88.01241  \n",
       "2                44.92531  \n",
       "3                46.27824  \n",
       "4                75.61031  "
      ]
     },
     "execution_count": 3,
     "metadata": {},
     "output_type": "execute_result"
    }
   ],
   "source": [
    "all_data.head()"
   ]
  },
  {
   "cell_type": "markdown",
   "id": "70105aa7",
   "metadata": {
    "papermill": {
     "duration": 0.004611,
     "end_time": "2025-04-14T08:46:14.412281",
     "exception": false,
     "start_time": "2025-04-14T08:46:14.407670",
     "status": "completed"
    },
    "tags": []
   },
   "source": [
    "## Data Understanding"
   ]
  },
  {
   "cell_type": "code",
   "execution_count": 4,
   "id": "726fa884",
   "metadata": {
    "execution": {
     "iopub.execute_input": "2025-04-14T08:46:14.421776Z",
     "iopub.status.busy": "2025-04-14T08:46:14.421517Z",
     "iopub.status.idle": "2025-04-14T08:46:15.454299Z",
     "shell.execute_reply": "2025-04-14T08:46:15.453435Z"
    },
    "papermill": {
     "duration": 1.039062,
     "end_time": "2025-04-14T08:46:15.455535",
     "exception": false,
     "start_time": "2025-04-14T08:46:14.416473",
     "status": "completed"
    },
    "tags": []
   },
   "outputs": [
    {
     "data": {
      "text/html": [
       "<div>\n",
       "<style scoped>\n",
       "    .dataframe tbody tr th:only-of-type {\n",
       "        vertical-align: middle;\n",
       "    }\n",
       "\n",
       "    .dataframe tbody tr th {\n",
       "        vertical-align: top;\n",
       "    }\n",
       "\n",
       "    .dataframe thead th {\n",
       "        text-align: right;\n",
       "    }\n",
       "</style>\n",
       "<table border=\"1\" class=\"dataframe\">\n",
       "  <thead>\n",
       "    <tr style=\"text-align: right;\">\n",
       "      <th></th>\n",
       "      <th>id</th>\n",
       "      <th>Podcast_Name</th>\n",
       "      <th>Episode_Title</th>\n",
       "      <th>Episode_Length_minutes</th>\n",
       "      <th>Genre</th>\n",
       "      <th>Host_Popularity_percentage</th>\n",
       "      <th>Publication_Day</th>\n",
       "      <th>Publication_Time</th>\n",
       "      <th>Guest_Popularity_percentage</th>\n",
       "      <th>Number_of_Ads</th>\n",
       "      <th>Episode_Sentiment</th>\n",
       "      <th>Listening_Time_minutes</th>\n",
       "    </tr>\n",
       "  </thead>\n",
       "  <tbody>\n",
       "    <tr>\n",
       "      <th>129778</th>\n",
       "      <td>129778</td>\n",
       "      <td>Style Guide</td>\n",
       "      <td>Episode 29</td>\n",
       "      <td>&lt;NA&gt;</td>\n",
       "      <td>Lifestyle</td>\n",
       "      <td>54.15</td>\n",
       "      <td>Sunday</td>\n",
       "      <td>Evening</td>\n",
       "      <td>&lt;NA&gt;</td>\n",
       "      <td>3.0</td>\n",
       "      <td>Neutral</td>\n",
       "      <td>15.80000</td>\n",
       "    </tr>\n",
       "    <tr>\n",
       "      <th>467437</th>\n",
       "      <td>467437</td>\n",
       "      <td>Innovators</td>\n",
       "      <td>Episode 21</td>\n",
       "      <td>11.75</td>\n",
       "      <td>Technology</td>\n",
       "      <td>51.48</td>\n",
       "      <td>Thursday</td>\n",
       "      <td>Night</td>\n",
       "      <td>53.75</td>\n",
       "      <td>0.0</td>\n",
       "      <td>Neutral</td>\n",
       "      <td>0.00000</td>\n",
       "    </tr>\n",
       "    <tr>\n",
       "      <th>9948</th>\n",
       "      <td>9948</td>\n",
       "      <td>Market Masters</td>\n",
       "      <td>Episode 78</td>\n",
       "      <td>&lt;NA&gt;</td>\n",
       "      <td>Business</td>\n",
       "      <td>67.87</td>\n",
       "      <td>Tuesday</td>\n",
       "      <td>Afternoon</td>\n",
       "      <td>83.0</td>\n",
       "      <td>1.0</td>\n",
       "      <td>Positive</td>\n",
       "      <td>5.09000</td>\n",
       "    </tr>\n",
       "    <tr>\n",
       "      <th>74141</th>\n",
       "      <td>74141</td>\n",
       "      <td>Tech Talks</td>\n",
       "      <td>Episode 72</td>\n",
       "      <td>52.47</td>\n",
       "      <td>Technology</td>\n",
       "      <td>23.11</td>\n",
       "      <td>Saturday</td>\n",
       "      <td>Afternoon</td>\n",
       "      <td>21.07</td>\n",
       "      <td>3.0</td>\n",
       "      <td>Positive</td>\n",
       "      <td>24.34420</td>\n",
       "    </tr>\n",
       "    <tr>\n",
       "      <th>404537</th>\n",
       "      <td>404537</td>\n",
       "      <td>True Crime Stories</td>\n",
       "      <td>Episode 61</td>\n",
       "      <td>116.88</td>\n",
       "      <td>True Crime</td>\n",
       "      <td>71.68</td>\n",
       "      <td>Sunday</td>\n",
       "      <td>Morning</td>\n",
       "      <td>75.88</td>\n",
       "      <td>1.0</td>\n",
       "      <td>Negative</td>\n",
       "      <td>103.98000</td>\n",
       "    </tr>\n",
       "    <tr>\n",
       "      <th>671106</th>\n",
       "      <td>671106</td>\n",
       "      <td>True Crime Stories</td>\n",
       "      <td>Episode 79</td>\n",
       "      <td>91.05</td>\n",
       "      <td>True Crime</td>\n",
       "      <td>82.39</td>\n",
       "      <td>Thursday</td>\n",
       "      <td>Evening</td>\n",
       "      <td>65.29</td>\n",
       "      <td>3.0</td>\n",
       "      <td>Neutral</td>\n",
       "      <td>65.10252</td>\n",
       "    </tr>\n",
       "    <tr>\n",
       "      <th>198543</th>\n",
       "      <td>198543</td>\n",
       "      <td>Humor Hub</td>\n",
       "      <td>Episode 49</td>\n",
       "      <td>30.25</td>\n",
       "      <td>Comedy</td>\n",
       "      <td>36.52</td>\n",
       "      <td>Wednesday</td>\n",
       "      <td>Night</td>\n",
       "      <td>45.15</td>\n",
       "      <td>2.0</td>\n",
       "      <td>Positive</td>\n",
       "      <td>18.19316</td>\n",
       "    </tr>\n",
       "    <tr>\n",
       "      <th>61986</th>\n",
       "      <td>61986</td>\n",
       "      <td>Sports Weekly</td>\n",
       "      <td>Episode 23</td>\n",
       "      <td>116.29</td>\n",
       "      <td>Sports</td>\n",
       "      <td>84.65</td>\n",
       "      <td>Thursday</td>\n",
       "      <td>Afternoon</td>\n",
       "      <td>70.95</td>\n",
       "      <td>3.0</td>\n",
       "      <td>Neutral</td>\n",
       "      <td>64.68244</td>\n",
       "    </tr>\n",
       "    <tr>\n",
       "      <th>151327</th>\n",
       "      <td>151327</td>\n",
       "      <td>Mind &amp; Body</td>\n",
       "      <td>Episode 59</td>\n",
       "      <td>&lt;NA&gt;</td>\n",
       "      <td>Health</td>\n",
       "      <td>50.17</td>\n",
       "      <td>Sunday</td>\n",
       "      <td>Evening</td>\n",
       "      <td>&lt;NA&gt;</td>\n",
       "      <td>0.0</td>\n",
       "      <td>Neutral</td>\n",
       "      <td>49.24068</td>\n",
       "    </tr>\n",
       "    <tr>\n",
       "      <th>551118</th>\n",
       "      <td>551118</td>\n",
       "      <td>Funny Folks</td>\n",
       "      <td>Episode 80</td>\n",
       "      <td>29.51</td>\n",
       "      <td>Comedy</td>\n",
       "      <td>83.27</td>\n",
       "      <td>Wednesday</td>\n",
       "      <td>Night</td>\n",
       "      <td>69.76</td>\n",
       "      <td>2.0</td>\n",
       "      <td>Negative</td>\n",
       "      <td>13.10261</td>\n",
       "    </tr>\n",
       "  </tbody>\n",
       "</table>\n",
       "</div>"
      ],
      "text/plain": [
       "            id        Podcast_Name Episode_Title Episode_Length_minutes  \\\n",
       "129778  129778         Style Guide    Episode 29                   <NA>   \n",
       "467437  467437          Innovators    Episode 21                  11.75   \n",
       "9948      9948      Market Masters    Episode 78                   <NA>   \n",
       "74141    74141          Tech Talks    Episode 72                  52.47   \n",
       "404537  404537  True Crime Stories    Episode 61                 116.88   \n",
       "671106  671106  True Crime Stories    Episode 79                  91.05   \n",
       "198543  198543           Humor Hub    Episode 49                  30.25   \n",
       "61986    61986       Sports Weekly    Episode 23                 116.29   \n",
       "151327  151327         Mind & Body    Episode 59                   <NA>   \n",
       "551118  551118         Funny Folks    Episode 80                  29.51   \n",
       "\n",
       "             Genre  Host_Popularity_percentage Publication_Day  \\\n",
       "129778   Lifestyle                       54.15          Sunday   \n",
       "467437  Technology                       51.48        Thursday   \n",
       "9948      Business                       67.87         Tuesday   \n",
       "74141   Technology                       23.11        Saturday   \n",
       "404537  True Crime                       71.68          Sunday   \n",
       "671106  True Crime                       82.39        Thursday   \n",
       "198543      Comedy                       36.52       Wednesday   \n",
       "61986       Sports                       84.65        Thursday   \n",
       "151327      Health                       50.17          Sunday   \n",
       "551118      Comedy                       83.27       Wednesday   \n",
       "\n",
       "       Publication_Time Guest_Popularity_percentage  Number_of_Ads  \\\n",
       "129778          Evening                        <NA>            3.0   \n",
       "467437            Night                       53.75            0.0   \n",
       "9948          Afternoon                        83.0            1.0   \n",
       "74141         Afternoon                       21.07            3.0   \n",
       "404537          Morning                       75.88            1.0   \n",
       "671106          Evening                       65.29            3.0   \n",
       "198543            Night                       45.15            2.0   \n",
       "61986         Afternoon                       70.95            3.0   \n",
       "151327          Evening                        <NA>            0.0   \n",
       "551118            Night                       69.76            2.0   \n",
       "\n",
       "       Episode_Sentiment  Listening_Time_minutes  \n",
       "129778           Neutral                15.80000  \n",
       "467437           Neutral                 0.00000  \n",
       "9948            Positive                 5.09000  \n",
       "74141           Positive                24.34420  \n",
       "404537          Negative               103.98000  \n",
       "671106           Neutral                65.10252  \n",
       "198543          Positive                18.19316  \n",
       "61986            Neutral                64.68244  \n",
       "151327           Neutral                49.24068  \n",
       "551118          Negative                13.10261  "
      ]
     },
     "execution_count": 4,
     "metadata": {},
     "output_type": "execute_result"
    }
   ],
   "source": [
    "train.sample(10)"
   ]
  },
  {
   "cell_type": "code",
   "execution_count": 5,
   "id": "462b7a1d",
   "metadata": {
    "execution": {
     "iopub.execute_input": "2025-04-14T08:46:15.465748Z",
     "iopub.status.busy": "2025-04-14T08:46:15.465475Z",
     "iopub.status.idle": "2025-04-14T08:46:16.192310Z",
     "shell.execute_reply": "2025-04-14T08:46:16.191503Z"
    },
    "papermill": {
     "duration": 0.733393,
     "end_time": "2025-04-14T08:46:16.193825",
     "exception": false,
     "start_time": "2025-04-14T08:46:15.460432",
     "status": "completed"
    },
    "tags": []
   },
   "outputs": [
    {
     "data": {
      "text/html": [
       "<div>\n",
       "<style scoped>\n",
       "    .dataframe tbody tr th:only-of-type {\n",
       "        vertical-align: middle;\n",
       "    }\n",
       "\n",
       "    .dataframe tbody tr th {\n",
       "        vertical-align: top;\n",
       "    }\n",
       "\n",
       "    .dataframe thead th {\n",
       "        text-align: right;\n",
       "    }\n",
       "</style>\n",
       "<table border=\"1\" class=\"dataframe\">\n",
       "  <thead>\n",
       "    <tr style=\"text-align: right;\">\n",
       "      <th></th>\n",
       "      <th>id</th>\n",
       "      <th>Episode_Length_minutes</th>\n",
       "      <th>Host_Popularity_percentage</th>\n",
       "      <th>Guest_Popularity_percentage</th>\n",
       "      <th>Number_of_Ads</th>\n",
       "      <th>Listening_Time_minutes</th>\n",
       "    </tr>\n",
       "  </thead>\n",
       "  <tbody>\n",
       "    <tr>\n",
       "      <th>count</th>\n",
       "      <td>750000.000000</td>\n",
       "      <td>662907.000000</td>\n",
       "      <td>750000.000000</td>\n",
       "      <td>603970.000000</td>\n",
       "      <td>749999.000000</td>\n",
       "      <td>750000.000000</td>\n",
       "    </tr>\n",
       "    <tr>\n",
       "      <th>mean</th>\n",
       "      <td>374999.500000</td>\n",
       "      <td>64.504738</td>\n",
       "      <td>59.859901</td>\n",
       "      <td>52.236449</td>\n",
       "      <td>1.348855</td>\n",
       "      <td>45.437406</td>\n",
       "    </tr>\n",
       "    <tr>\n",
       "      <th>std</th>\n",
       "      <td>216506.495284</td>\n",
       "      <td>32.969603</td>\n",
       "      <td>22.873098</td>\n",
       "      <td>28.451241</td>\n",
       "      <td>1.151130</td>\n",
       "      <td>27.138306</td>\n",
       "    </tr>\n",
       "    <tr>\n",
       "      <th>min</th>\n",
       "      <td>0.000000</td>\n",
       "      <td>0.000000</td>\n",
       "      <td>1.300000</td>\n",
       "      <td>0.000000</td>\n",
       "      <td>0.000000</td>\n",
       "      <td>0.000000</td>\n",
       "    </tr>\n",
       "    <tr>\n",
       "      <th>25%</th>\n",
       "      <td>187499.750000</td>\n",
       "      <td>35.730000</td>\n",
       "      <td>39.410000</td>\n",
       "      <td>28.380000</td>\n",
       "      <td>0.000000</td>\n",
       "      <td>23.178350</td>\n",
       "    </tr>\n",
       "    <tr>\n",
       "      <th>50%</th>\n",
       "      <td>374999.500000</td>\n",
       "      <td>63.840000</td>\n",
       "      <td>60.050000</td>\n",
       "      <td>53.580000</td>\n",
       "      <td>1.000000</td>\n",
       "      <td>43.379460</td>\n",
       "    </tr>\n",
       "    <tr>\n",
       "      <th>75%</th>\n",
       "      <td>562499.250000</td>\n",
       "      <td>94.070000</td>\n",
       "      <td>79.530000</td>\n",
       "      <td>76.600000</td>\n",
       "      <td>2.000000</td>\n",
       "      <td>64.811580</td>\n",
       "    </tr>\n",
       "    <tr>\n",
       "      <th>max</th>\n",
       "      <td>749999.000000</td>\n",
       "      <td>325.240000</td>\n",
       "      <td>119.460000</td>\n",
       "      <td>119.910000</td>\n",
       "      <td>103.910000</td>\n",
       "      <td>119.970000</td>\n",
       "    </tr>\n",
       "  </tbody>\n",
       "</table>\n",
       "</div>"
      ],
      "text/plain": [
       "                  id  Episode_Length_minutes  Host_Popularity_percentage  \\\n",
       "count  750000.000000           662907.000000               750000.000000   \n",
       "mean   374999.500000               64.504738                   59.859901   \n",
       "std    216506.495284               32.969603                   22.873098   \n",
       "min         0.000000                0.000000                    1.300000   \n",
       "25%    187499.750000               35.730000                   39.410000   \n",
       "50%    374999.500000               63.840000                   60.050000   \n",
       "75%    562499.250000               94.070000                   79.530000   \n",
       "max    749999.000000              325.240000                  119.460000   \n",
       "\n",
       "       Guest_Popularity_percentage  Number_of_Ads  Listening_Time_minutes  \n",
       "count                603970.000000  749999.000000           750000.000000  \n",
       "mean                     52.236449       1.348855               45.437406  \n",
       "std                      28.451241       1.151130               27.138306  \n",
       "min                       0.000000       0.000000                0.000000  \n",
       "25%                      28.380000       0.000000               23.178350  \n",
       "50%                      53.580000       1.000000               43.379460  \n",
       "75%                      76.600000       2.000000               64.811580  \n",
       "max                     119.910000     103.910000              119.970000  "
      ]
     },
     "execution_count": 5,
     "metadata": {},
     "output_type": "execute_result"
    }
   ],
   "source": [
    "train.describe()"
   ]
  },
  {
   "cell_type": "code",
   "execution_count": 6,
   "id": "545bc08e",
   "metadata": {
    "execution": {
     "iopub.execute_input": "2025-04-14T08:46:16.204747Z",
     "iopub.status.busy": "2025-04-14T08:46:16.204464Z",
     "iopub.status.idle": "2025-04-14T08:46:16.209394Z",
     "shell.execute_reply": "2025-04-14T08:46:16.208601Z"
    },
    "papermill": {
     "duration": 0.011459,
     "end_time": "2025-04-14T08:46:16.210575",
     "exception": false,
     "start_time": "2025-04-14T08:46:16.199116",
     "status": "completed"
    },
    "tags": []
   },
   "outputs": [
    {
     "data": {
      "text/plain": [
       "(750000, 12)"
      ]
     },
     "execution_count": 6,
     "metadata": {},
     "output_type": "execute_result"
    }
   ],
   "source": [
    "train.shape"
   ]
  },
  {
   "cell_type": "code",
   "execution_count": 7,
   "id": "37a7a90b",
   "metadata": {
    "execution": {
     "iopub.execute_input": "2025-04-14T08:46:16.220831Z",
     "iopub.status.busy": "2025-04-14T08:46:16.220588Z",
     "iopub.status.idle": "2025-04-14T08:46:16.225051Z",
     "shell.execute_reply": "2025-04-14T08:46:16.224257Z"
    },
    "papermill": {
     "duration": 0.01079,
     "end_time": "2025-04-14T08:46:16.226197",
     "exception": false,
     "start_time": "2025-04-14T08:46:16.215407",
     "status": "completed"
    },
    "tags": []
   },
   "outputs": [
    {
     "data": {
      "text/plain": [
       "(250000, 11)"
      ]
     },
     "execution_count": 7,
     "metadata": {},
     "output_type": "execute_result"
    }
   ],
   "source": [
    "test.shape"
   ]
  },
  {
   "cell_type": "code",
   "execution_count": 8,
   "id": "94b94978",
   "metadata": {
    "execution": {
     "iopub.execute_input": "2025-04-14T08:46:16.236426Z",
     "iopub.status.busy": "2025-04-14T08:46:16.236201Z",
     "iopub.status.idle": "2025-04-14T08:46:16.255220Z",
     "shell.execute_reply": "2025-04-14T08:46:16.254497Z"
    },
    "papermill": {
     "duration": 0.025501,
     "end_time": "2025-04-14T08:46:16.256455",
     "exception": false,
     "start_time": "2025-04-14T08:46:16.230954",
     "status": "completed"
    },
    "tags": []
   },
   "outputs": [
    {
     "name": "stdout",
     "output_type": "stream",
     "text": [
      "<class 'cudf.core.dataframe.DataFrame'>\n",
      "RangeIndex: 750000 entries, 0 to 749999\n",
      "Data columns (total 12 columns):\n",
      " #   Column                       Non-Null Count   Dtype\n",
      "---  ------                       --------------   -----\n",
      " 0   id                           750000 non-null  int64\n",
      " 1   Podcast_Name                 750000 non-null  object\n",
      " 2   Episode_Title                750000 non-null  object\n",
      " 3   Episode_Length_minutes       662907 non-null  float64\n",
      " 4   Genre                        750000 non-null  object\n",
      " 5   Host_Popularity_percentage   750000 non-null  float64\n",
      " 6   Publication_Day              750000 non-null  object\n",
      " 7   Publication_Time             750000 non-null  object\n",
      " 8   Guest_Popularity_percentage  603970 non-null  float64\n",
      " 9   Number_of_Ads                749999 non-null  float64\n",
      " 10  Episode_Sentiment            750000 non-null  object\n",
      " 11  Listening_Time_minutes       750000 non-null  float64\n",
      "dtypes: float64(5), int64(1), object(6)\n",
      "memory usage: 88.8+ MB\n"
     ]
    }
   ],
   "source": [
    "train.info()"
   ]
  },
  {
   "cell_type": "code",
   "execution_count": 9,
   "id": "a4622ecc",
   "metadata": {
    "execution": {
     "iopub.execute_input": "2025-04-14T08:46:16.267479Z",
     "iopub.status.busy": "2025-04-14T08:46:16.267264Z",
     "iopub.status.idle": "2025-04-14T08:46:16.363386Z",
     "shell.execute_reply": "2025-04-14T08:46:16.362549Z"
    },
    "papermill": {
     "duration": 0.10309,
     "end_time": "2025-04-14T08:46:16.364621",
     "exception": false,
     "start_time": "2025-04-14T08:46:16.261531",
     "status": "completed"
    },
    "tags": []
   },
   "outputs": [
    {
     "data": {
      "text/plain": [
       "id                                  0\n",
       "Podcast_Name                        0\n",
       "Episode_Title                       0\n",
       "Episode_Length_minutes          87093\n",
       "Genre                               0\n",
       "Host_Popularity_percentage          0\n",
       "Publication_Day                     0\n",
       "Publication_Time                    0\n",
       "Guest_Popularity_percentage    146030\n",
       "Number_of_Ads                       1\n",
       "Episode_Sentiment                   0\n",
       "Listening_Time_minutes              0\n",
       "dtype: int64"
      ]
     },
     "execution_count": 9,
     "metadata": {},
     "output_type": "execute_result"
    }
   ],
   "source": [
    "train.isnull().sum()"
   ]
  },
  {
   "cell_type": "code",
   "execution_count": 10,
   "id": "665c259f",
   "metadata": {
    "execution": {
     "iopub.execute_input": "2025-04-14T08:46:16.375394Z",
     "iopub.status.busy": "2025-04-14T08:46:16.375156Z",
     "iopub.status.idle": "2025-04-14T08:46:16.457839Z",
     "shell.execute_reply": "2025-04-14T08:46:16.456985Z"
    },
    "papermill": {
     "duration": 0.08947,
     "end_time": "2025-04-14T08:46:16.459188",
     "exception": false,
     "start_time": "2025-04-14T08:46:16.369718",
     "status": "completed"
    },
    "tags": []
   },
   "outputs": [
    {
     "data": {
      "text/plain": [
       "id                                 0\n",
       "Podcast_Name                       0\n",
       "Episode_Title                      0\n",
       "Episode_Length_minutes         28736\n",
       "Genre                              0\n",
       "Host_Popularity_percentage         0\n",
       "Publication_Day                    0\n",
       "Publication_Time                   0\n",
       "Guest_Popularity_percentage    48832\n",
       "Number_of_Ads                      0\n",
       "Episode_Sentiment                  0\n",
       "dtype: int64"
      ]
     },
     "execution_count": 10,
     "metadata": {},
     "output_type": "execute_result"
    }
   ],
   "source": [
    "test.isnull().sum()"
   ]
  },
  {
   "cell_type": "markdown",
   "id": "8dfd758a",
   "metadata": {
    "papermill": {
     "duration": 0.00501,
     "end_time": "2025-04-14T08:46:16.469402",
     "exception": false,
     "start_time": "2025-04-14T08:46:16.464392",
     "status": "completed"
    },
    "tags": []
   },
   "source": [
    "## Data Preparation"
   ]
  },
  {
   "cell_type": "code",
   "execution_count": 11,
   "id": "e4d1f8f1",
   "metadata": {
    "execution": {
     "iopub.execute_input": "2025-04-14T08:46:16.480262Z",
     "iopub.status.busy": "2025-04-14T08:46:16.480060Z",
     "iopub.status.idle": "2025-04-14T08:46:21.055468Z",
     "shell.execute_reply": "2025-04-14T08:46:21.054796Z"
    },
    "papermill": {
     "duration": 4.582603,
     "end_time": "2025-04-14T08:46:21.057049",
     "exception": false,
     "start_time": "2025-04-14T08:46:16.474446",
     "status": "completed"
    },
    "tags": []
   },
   "outputs": [],
   "source": [
    "from sklearn.impute import SimpleImputer\n",
    "\n",
    "impute = SimpleImputer(strategy='median')\n",
    "num_cols = test.select_dtypes(include=['float64']).columns\n",
    "train[num_cols] = impute.fit_transform(train[num_cols])\n",
    "test[num_cols] = impute.fit_transform(test[num_cols])"
   ]
  },
  {
   "cell_type": "code",
   "execution_count": 12,
   "id": "eeab0de3",
   "metadata": {
    "execution": {
     "iopub.execute_input": "2025-04-14T08:46:21.069024Z",
     "iopub.status.busy": "2025-04-14T08:46:21.068608Z",
     "iopub.status.idle": "2025-04-14T08:46:21.075490Z",
     "shell.execute_reply": "2025-04-14T08:46:21.074849Z"
    },
    "papermill": {
     "duration": 0.013936,
     "end_time": "2025-04-14T08:46:21.076558",
     "exception": false,
     "start_time": "2025-04-14T08:46:21.062622",
     "status": "completed"
    },
    "tags": []
   },
   "outputs": [
    {
     "data": {
      "text/plain": [
       "Index(['id', 'Podcast_Name', 'Episode_Title', 'Episode_Length_minutes',\n",
       "       'Genre', 'Host_Popularity_percentage', 'Publication_Day',\n",
       "       'Publication_Time', 'Guest_Popularity_percentage', 'Number_of_Ads',\n",
       "       'Episode_Sentiment', 'Listening_Time_minutes'],\n",
       "      dtype='object')"
      ]
     },
     "execution_count": 12,
     "metadata": {},
     "output_type": "execute_result"
    }
   ],
   "source": [
    "train.columns"
   ]
  },
  {
   "cell_type": "markdown",
   "id": "22aecd46",
   "metadata": {
    "papermill": {
     "duration": 0.005001,
     "end_time": "2025-04-14T08:46:21.086741",
     "exception": false,
     "start_time": "2025-04-14T08:46:21.081740",
     "status": "completed"
    },
    "tags": []
   },
   "source": [
    "## Feature engineering"
   ]
  },
  {
   "cell_type": "code",
   "execution_count": 13,
   "id": "638e9e6a",
   "metadata": {
    "execution": {
     "iopub.execute_input": "2025-04-14T08:46:21.098191Z",
     "iopub.status.busy": "2025-04-14T08:46:21.097977Z",
     "iopub.status.idle": "2025-04-14T08:46:21.103135Z",
     "shell.execute_reply": "2025-04-14T08:46:21.102535Z"
    },
    "papermill": {
     "duration": 0.012115,
     "end_time": "2025-04-14T08:46:21.104347",
     "exception": false,
     "start_time": "2025-04-14T08:46:21.092232",
     "status": "completed"
    },
    "tags": []
   },
   "outputs": [],
   "source": [
    "def add_features(df):\n",
    "    df['Guest_Popularity_percentage'] =  df['Guest_Popularity_percentage'].clip(upper=100)\n",
    "    df['Host_Popularity_percentage'] =  df['Host_Popularity_percentage'].clip(upper=100)\n",
    "    df['Number_of_Ads'] = df['Number_of_Ads'].astype(int)\n",
    "    df['title_number'] = df['Episode_Title'].str.split().str[1].astype(int)\n",
    "    \n",
    "    df['IsWeekend'] = df['Publication_Day'].isin(['Saturday', 'Sunday']).astype(int)\n",
    "    \n",
    "    sentiments = {'Positive': 1, 'Neutral': 0, 'Negative': -1}\n",
    "    df['Episode_Sentiment'] = df['Episode_Sentiment'].map(sentiments)\n",
    "    \n",
    "    df['Guest_Popularity_lengthmin'] =  df['Guest_Popularity_percentage'] * df['Episode_Length_minutes']\n",
    "    df['Title_Length'] =  df['title_number'] * df['Episode_Length_minutes']\n",
    "    df['Host_Popularity_lengthmin'] =  df['Host_Popularity_percentage'] * df['Episode_Length_minutes']\n",
    "    df['Average_popularity'] = (df['Host_Popularity_percentage'] + df['Guest_Popularity_percentage']) / 2\n",
    "    df['minutes_per_ads'] = df['Episode_Length_minutes'] / (df['Number_of_Ads'] + 1) \n",
    "    df['genre_sentiment'] = df['Genre'] * df['Episode_Sentiment']\n",
    "    \n",
    "    return df "
   ]
  },
  {
   "cell_type": "markdown",
   "id": "64149a09",
   "metadata": {
    "papermill": {
     "duration": 0.004968,
     "end_time": "2025-04-14T08:46:21.114391",
     "exception": false,
     "start_time": "2025-04-14T08:46:21.109423",
     "status": "completed"
    },
    "tags": []
   },
   "source": [
    "## Identifying outlier and clipping them"
   ]
  },
  {
   "cell_type": "code",
   "execution_count": 14,
   "id": "74c24ec6",
   "metadata": {
    "execution": {
     "iopub.execute_input": "2025-04-14T08:46:21.125555Z",
     "iopub.status.busy": "2025-04-14T08:46:21.125345Z",
     "iopub.status.idle": "2025-04-14T08:46:21.289273Z",
     "shell.execute_reply": "2025-04-14T08:46:21.288598Z"
    },
    "papermill": {
     "duration": 0.171007,
     "end_time": "2025-04-14T08:46:21.290680",
     "exception": false,
     "start_time": "2025-04-14T08:46:21.119673",
     "status": "completed"
    },
    "tags": []
   },
   "outputs": [],
   "source": [
    "for colname in test.select_dtypes(exclude=['object', 'category']).columns:\n",
    "    Q1 = all_data[colname].quantile(0.25)\n",
    "    Q3 = all_data[colname].quantile(0.75)\n",
    "    IQR = Q3 - Q1\n",
    "    lower_bound = Q1 - 1.5 * IQR\n",
    "    upper_bound = Q3 + 1.5 * IQR\n",
    "    \n",
    "    outliers = (all_data[colname] < lower_bound) | (all_data[colname] > upper_bound)\n",
    "    \n",
    "    train[colname] = train[colname].clip(lower=lower_bound, upper=upper_bound)\n",
    "    test[colname] = test[colname].clip(lower=lower_bound, upper=upper_bound)"
   ]
  },
  {
   "cell_type": "code",
   "execution_count": 15,
   "id": "2cc74626",
   "metadata": {
    "execution": {
     "iopub.execute_input": "2025-04-14T08:46:21.302303Z",
     "iopub.status.busy": "2025-04-14T08:46:21.302066Z",
     "iopub.status.idle": "2025-04-14T08:46:21.415031Z",
     "shell.execute_reply": "2025-04-14T08:46:21.414377Z"
    },
    "papermill": {
     "duration": 0.120242,
     "end_time": "2025-04-14T08:46:21.416413",
     "exception": false,
     "start_time": "2025-04-14T08:46:21.296171",
     "status": "completed"
    },
    "tags": []
   },
   "outputs": [],
   "source": [
    "cat_cols = ['Podcast_Name','Genre', 'Publication_Day', 'Publication_Time']\n",
    "for colname in cat_cols:\n",
    "    train[colname] = train[colname].astype('category')\n",
    "    test[colname] = test[colname].astype('category')"
   ]
  },
  {
   "cell_type": "code",
   "execution_count": 16,
   "id": "c10108fe",
   "metadata": {
    "execution": {
     "iopub.execute_input": "2025-04-14T08:46:21.428121Z",
     "iopub.status.busy": "2025-04-14T08:46:21.427906Z",
     "iopub.status.idle": "2025-04-14T08:46:22.286772Z",
     "shell.execute_reply": "2025-04-14T08:46:22.285740Z"
    },
    "papermill": {
     "duration": 0.86643,
     "end_time": "2025-04-14T08:46:22.288489",
     "exception": false,
     "start_time": "2025-04-14T08:46:21.422059",
     "status": "completed"
    },
    "tags": []
   },
   "outputs": [],
   "source": [
    "from sklearn.preprocessing import LabelEncoder\n",
    "\n",
    "for colname in cat_cols:\n",
    "    le = LabelEncoder()\n",
    "    train[colname] = le.fit_transform(train[colname])\n",
    "    test[colname] = le.transform(test[colname])"
   ]
  },
  {
   "cell_type": "markdown",
   "id": "7265694b",
   "metadata": {
    "papermill": {
     "duration": 0.005016,
     "end_time": "2025-04-14T08:46:22.299081",
     "exception": false,
     "start_time": "2025-04-14T08:46:22.294065",
     "status": "completed"
    },
    "tags": []
   },
   "source": [
    "## Splitting the train data by KFold"
   ]
  },
  {
   "cell_type": "code",
   "execution_count": 17,
   "id": "6fdca551",
   "metadata": {
    "execution": {
     "iopub.execute_input": "2025-04-14T08:46:22.310339Z",
     "iopub.status.busy": "2025-04-14T08:46:22.310083Z",
     "iopub.status.idle": "2025-04-14T08:46:32.406744Z",
     "shell.execute_reply": "2025-04-14T08:46:32.405772Z"
    },
    "papermill": {
     "duration": 10.104198,
     "end_time": "2025-04-14T08:46:32.408558",
     "exception": false,
     "start_time": "2025-04-14T08:46:22.304360",
     "status": "completed"
    },
    "tags": []
   },
   "outputs": [],
   "source": [
    "from sklearn.model_selection import KFold\n",
    "\n",
    "X = train.copy()\n",
    "y = X.pop('Listening_Time_minutes')\n",
    "X = add_features(X)\n",
    "X.drop('Episode_Title', axis=1, inplace=True)\n",
    "\n",
    "X_test = test.copy()\n",
    "X_test = add_features(X_test)\n",
    "X_test.drop('Episode_Title', axis=1, inplace=True)\n",
    "\n",
    "kf = KFold(n_splits=10, shuffle=True, random_state=600)\n",
    "\n",
    "for train_index, valid_index in kf.split(X, y):\n",
    "    X_train, X_valid = X.iloc[train_index], X.iloc[valid_index]\n",
    "    y_train, y_valid = y.iloc[train_index], y.iloc[valid_index]  "
   ]
  },
  {
   "cell_type": "markdown",
   "id": "838c31a8",
   "metadata": {
    "papermill": {
     "duration": 0.005448,
     "end_time": "2025-04-14T08:46:32.420216",
     "exception": false,
     "start_time": "2025-04-14T08:46:32.414768",
     "status": "completed"
    },
    "tags": []
   },
   "source": [
    "## Target encoding"
   ]
  },
  {
   "cell_type": "code",
   "execution_count": 18,
   "id": "92ecfea0",
   "metadata": {
    "execution": {
     "iopub.execute_input": "2025-04-14T08:46:32.431820Z",
     "iopub.status.busy": "2025-04-14T08:46:32.431511Z",
     "iopub.status.idle": "2025-04-14T08:46:33.190429Z",
     "shell.execute_reply": "2025-04-14T08:46:33.189469Z"
    },
    "papermill": {
     "duration": 0.766305,
     "end_time": "2025-04-14T08:46:33.192034",
     "exception": false,
     "start_time": "2025-04-14T08:46:32.425729",
     "status": "completed"
    },
    "tags": []
   },
   "outputs": [],
   "source": [
    "stats = ['mean', 'median', 'std', 'skew', 'count', 'max', 'min', 'nunique']\n",
    "\n",
    "train_with_target = X_train.copy()\n",
    "train_with_target['Listening_Time_minutes'] = y_train\n",
    "\n",
    "grouped_stats = train_with_target.groupby(['Episode_Length_minutes'])['Listening_Time_minutes'].agg(stats).fillna(0.0)\n",
    "grouped_stats.columns = [f'TE1_WC_{stat}' for stat in stats]\n",
    "\n",
    "grouped_stats_full = train.groupby(['Episode_Length_minutes'])['Listening_Time_minutes'].agg(stats).fillna(0.0)\n",
    "grouped_stats_full.columns = [f'TE1_WC_{stat}' for stat in stats]\n",
    "\n",
    "X_train = X_train.merge(grouped_stats, on='Episode_Length_minutes', how='left')\n",
    "X_valid = X_valid.merge(grouped_stats, on='Episode_Length_minutes', how='left')\n",
    "X_test = X_test.merge(grouped_stats_full, on='Episode_Length_minutes', how='left')"
   ]
  },
  {
   "cell_type": "code",
   "execution_count": 19,
   "id": "8c2a13be",
   "metadata": {
    "execution": {
     "iopub.execute_input": "2025-04-14T08:46:33.203667Z",
     "iopub.status.busy": "2025-04-14T08:46:33.203442Z",
     "iopub.status.idle": "2025-04-14T08:50:44.164456Z",
     "shell.execute_reply": "2025-04-14T08:50:44.163594Z"
    },
    "papermill": {
     "duration": 250.976428,
     "end_time": "2025-04-14T08:50:44.174066",
     "exception": false,
     "start_time": "2025-04-14T08:46:33.197638",
     "status": "completed"
    },
    "tags": []
   },
   "outputs": [
    {
     "name": "stderr",
     "output_type": "stream",
     "text": [
      "[I 2025-04-14 08:46:33,871] A new study created in memory with name: CAT-RMSE-Optimization\n",
      "[I 2025-04-14 08:46:57,068] Trial 0 finished with value: 12.968316475164368 and parameters: {'iterations': 325, 'learning_rate': 0.01399653471784479, 'depth': 9, 'l2_leaf_reg': 5.554074690143155, 'bagging_temperature': 0.14529350591337936, 'random_strength': 5}. Best is trial 0 with value: 12.968316475164368.\n",
      "[I 2025-04-14 08:47:23,127] Trial 1 finished with value: 12.928599542952387 and parameters: {'iterations': 382, 'learning_rate': 0.022225486082768482, 'depth': 9, 'l2_leaf_reg': 4.386334537936906, 'bagging_temperature': 0.3166810542717123, 'random_strength': 2}. Best is trial 1 with value: 12.928599542952387.\n",
      "[I 2025-04-14 08:47:39,964] Trial 2 finished with value: 12.96981171313782 and parameters: {'iterations': 462, 'learning_rate': 0.024027069556882795, 'depth': 4, 'l2_leaf_reg': 0.5273019368702603, 'bagging_temperature': 0.6571733844395294, 'random_strength': 1}. Best is trial 1 with value: 12.928599542952387.\n",
      "[I 2025-04-14 08:47:50,479] Trial 3 finished with value: 12.988904423354905 and parameters: {'iterations': 214, 'learning_rate': 0.055076344402668606, 'depth': 3, 'l2_leaf_reg': 1.6479167162011175, 'bagging_temperature': 0.12107691477244915, 'random_strength': 4}. Best is trial 1 with value: 12.928599542952387.\n",
      "[I 2025-04-14 08:48:15,891] Trial 4 finished with value: 12.872317277242757 and parameters: {'iterations': 358, 'learning_rate': 0.09476201889619193, 'depth': 9, 'l2_leaf_reg': 2.7574259139956236, 'bagging_temperature': 0.6984602184259825, 'random_strength': 5}. Best is trial 4 with value: 12.872317277242757.\n",
      "[I 2025-04-14 08:48:41,763] Trial 5 finished with value: 12.882812057925051 and parameters: {'iterations': 214, 'learning_rate': 0.07903875672672378, 'depth': 11, 'l2_leaf_reg': 0.3939929836056035, 'bagging_temperature': 0.5148876982242857, 'random_strength': 2}. Best is trial 4 with value: 12.872317277242757.\n",
      "[I 2025-04-14 08:48:55,535] Trial 6 finished with value: 13.032354592693206 and parameters: {'iterations': 394, 'learning_rate': 0.014762554470543974, 'depth': 3, 'l2_leaf_reg': 1.0053672351750649, 'bagging_temperature': 0.11798288690741181, 'random_strength': 5}. Best is trial 4 with value: 12.872317277242757.\n",
      "[I 2025-04-14 08:49:09,934] Trial 7 finished with value: 12.913470158025973 and parameters: {'iterations': 249, 'learning_rate': 0.09377913879994808, 'depth': 6, 'l2_leaf_reg': 0.371647363281609, 'bagging_temperature': 0.1892754732078075, 'random_strength': 2}. Best is trial 4 with value: 12.872317277242757.\n",
      "[I 2025-04-14 08:49:37,281] Trial 8 finished with value: 12.919638697466997 and parameters: {'iterations': 164, 'learning_rate': 0.03857702697557494, 'depth': 12, 'l2_leaf_reg': 0.7313679667544765, 'bagging_temperature': 0.13922448403376325, 'random_strength': 0}. Best is trial 4 with value: 12.872317277242757.\n",
      "[I 2025-04-14 08:50:08,356] Trial 9 finished with value: 12.894948867924674 and parameters: {'iterations': 462, 'learning_rate': 0.03350358415847989, 'depth': 9, 'l2_leaf_reg': 1.2634095551932878, 'bagging_temperature': 0.3827678077932156, 'random_strength': 4}. Best is trial 4 with value: 12.872317277242757.\n",
      "[I 2025-04-14 08:50:24,487] Trial 10 finished with value: 12.925544148465704 and parameters: {'iterations': 305, 'learning_rate': 0.05316714355391925, 'depth': 6, 'l2_leaf_reg': 0.10189786069451631, 'bagging_temperature': 0.9176081613026074, 'random_strength': 4}. Best is trial 4 with value: 12.872317277242757.\n",
      "[I 2025-04-14 08:50:44,159] Trial 11 finished with value: 12.912467137503828 and parameters: {'iterations': 101, 'learning_rate': 0.080808912221379, 'depth': 12, 'l2_leaf_reg': 0.19794775816618726, 'bagging_temperature': 0.5734248131529126, 'random_strength': 3}. Best is trial 4 with value: 12.872317277242757.\n"
     ]
    },
    {
     "name": "stdout",
     "output_type": "stream",
     "text": [
      "Best cross-validation RMSE: 12.8723\n",
      "Best parameters: {'iterations': 358, 'learning_rate': 0.09476201889619193, 'depth': 9, 'l2_leaf_reg': 2.7574259139956236, 'bagging_temperature': 0.6984602184259825, 'random_strength': 5}\n"
     ]
    }
   ],
   "source": [
    "from catboost import CatBoostRegressor\n",
    "from sklearn.model_selection import cross_val_score\n",
    "import optuna\n",
    "\n",
    "def objective(trial):\n",
    "    iterations = trial.suggest_int(\"iterations\", 100, 500)\n",
    "    learning_rate = trial.suggest_float(\"learning_rate\", 0.01, 0.1, log=True)\n",
    "    depth = trial.suggest_int('depth', 3, 12)\n",
    "    l2_leaf_reg = trial.suggest_float('l2_leaf_reg', 0.1, 10, log=True)\n",
    "    bagging_temperature = trial.suggest_float('bagging_temperature', 0.1, 1, log=True)\n",
    "    random_strength = trial.suggest_int('random_strength', 0, 5)\n",
    "    \n",
    "    cat = CatBoostRegressor(\n",
    "        iterations=iterations, \n",
    "        learning_rate=learning_rate,\n",
    "        depth=depth,\n",
    "        l2_leaf_reg=l2_leaf_reg,\n",
    "        task_type='GPU',\n",
    "        devices='0',\n",
    "        verbose=False\n",
    "        )\n",
    "    \n",
    "    score = -1 * cross_val_score(cat, X_train, y_train, scoring='neg_root_mean_squared_error').mean()\n",
    "    return score\n",
    "\n",
    "study = optuna.create_study(direction='minimize', study_name='CAT-RMSE-Optimization')\n",
    "study.optimize(objective, n_trials=12)\n",
    "\n",
    "print(f'Best cross-validation RMSE: {study.best_value:,.4f}')\n",
    "print(f'Best parameters: {study.best_params}')"
   ]
  },
  {
   "cell_type": "markdown",
   "id": "9d5f7530",
   "metadata": {
    "papermill": {
     "duration": 0.006583,
     "end_time": "2025-04-14T08:50:44.190947",
     "exception": false,
     "start_time": "2025-04-14T08:50:44.184364",
     "status": "completed"
    },
    "tags": []
   },
   "source": [
    "## Final Submission"
   ]
  },
  {
   "cell_type": "code",
   "execution_count": 20,
   "id": "8fd9bc6d",
   "metadata": {
    "execution": {
     "iopub.execute_input": "2025-04-14T08:50:44.203387Z",
     "iopub.status.busy": "2025-04-14T08:50:44.203084Z",
     "iopub.status.idle": "2025-04-14T08:51:14.189309Z",
     "shell.execute_reply": "2025-04-14T08:51:14.188352Z"
    },
    "papermill": {
     "duration": 29.994186,
     "end_time": "2025-04-14T08:51:14.190845",
     "exception": false,
     "start_time": "2025-04-14T08:50:44.196659",
     "status": "completed"
    },
    "tags": []
   },
   "outputs": [
    {
     "name": "stdout",
     "output_type": "stream",
     "text": [
      "Your submission was successfully saved!\n"
     ]
    }
   ],
   "source": [
    "final_model = CatBoostRegressor(**study.best_params, verbose=False)\n",
    "final_model.fit(X_train, y_train)\n",
    "\n",
    "test_preds = final_model.predict(X_test)\n",
    "\n",
    "output = pd.DataFrame({\n",
    "    'id': test['id'],\n",
    "    'Listening_Time_minutes': test_preds\n",
    "})\n",
    "output.to_csv('submission.csv', index=False)\n",
    "print(\"Your submission was successfully saved!\")"
   ]
  }
 ],
 "metadata": {
  "kaggle": {
   "accelerator": "nvidiaTeslaT4",
   "dataSources": [
    {
     "databundleVersionId": 11351736,
     "sourceId": 91715,
     "sourceType": "competition"
    }
   ],
   "dockerImageVersionId": 30918,
   "isGpuEnabled": true,
   "isInternetEnabled": true,
   "language": "python",
   "sourceType": "notebook"
  },
  "kernelspec": {
   "display_name": "Python 3",
   "language": "python",
   "name": "python3"
  },
  "language_info": {
   "codemirror_mode": {
    "name": "ipython",
    "version": 3
   },
   "file_extension": ".py",
   "mimetype": "text/x-python",
   "name": "python",
   "nbconvert_exporter": "python",
   "pygments_lexer": "ipython3",
   "version": "3.10.12"
  },
  "papermill": {
   "default_parameters": {},
   "duration": 314.134271,
   "end_time": "2025-04-14T08:51:16.614627",
   "environment_variables": {},
   "exception": null,
   "input_path": "__notebook__.ipynb",
   "output_path": "__notebook__.ipynb",
   "parameters": {},
   "start_time": "2025-04-14T08:46:02.480356",
   "version": "2.6.0"
  }
 },
 "nbformat": 4,
 "nbformat_minor": 5
}
