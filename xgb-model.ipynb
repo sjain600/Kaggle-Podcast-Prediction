{
 "cells": [
  {
   "cell_type": "code",
   "execution_count": 1,
   "id": "4f8f00b9",
   "metadata": {
    "execution": {
     "iopub.execute_input": "2025-04-23T05:59:09.286908Z",
     "iopub.status.busy": "2025-04-23T05:59:09.286594Z",
     "iopub.status.idle": "2025-04-23T05:59:17.032721Z",
     "shell.execute_reply": "2025-04-23T05:59:17.031617Z"
    },
    "papermill": {
     "duration": 7.754232,
     "end_time": "2025-04-23T05:59:17.034270",
     "exception": false,
     "start_time": "2025-04-23T05:59:09.280038",
     "status": "completed"
    },
    "tags": []
   },
   "outputs": [
    {
     "name": "stdout",
     "output_type": "stream",
     "text": [
      "/kaggle/input/playground-series-s5e4/sample_submission.csv\n",
      "/kaggle/input/playground-series-s5e4/train.csv\n",
      "/kaggle/input/playground-series-s5e4/test.csv\n"
     ]
    }
   ],
   "source": [
    "# This Python 3 environment comes with many helpful analytics libraries installed\n",
    "# It is defined by the kaggle/python Docker image: https://github.com/kaggle/docker-python\n",
    "# For example, here's several helpful packages to load\n",
    "%load_ext cudf.pandas\n",
    "import numpy as np # linear algebra\n",
    "import pandas as pd # data processing, CSV file I/O (e.g. pd.read_csv)\n",
    "import matplotlib.pyplot as plt\n",
    "pd.set_option('display.max_columns', 500)\n",
    "\n",
    "# Input data files are available in the read-only \"../input/\" directory\n",
    "# For example, running this (by clicking run or pressing Shift+Enter) will list all files under the input directory\n",
    "\n",
    "import os\n",
    "for dirname, _, filenames in os.walk('/kaggle/input'):\n",
    "    for filename in filenames:\n",
    "        print(os.path.join(dirname, filename))\n",
    "        \n",
    "import warnings\n",
    "warnings.filterwarnings(\"ignore\")\n",
    "\n",
    "# You can write up to 20GB to the current directory (/kaggle/working/) that gets preserved as output when you create a version using \"Save & Run All\" \n",
    "# You can also write temporary files to /kaggle/temp/, but they won't be saved outside of the current session"
   ]
  },
  {
   "cell_type": "code",
   "execution_count": 2,
   "id": "3162c72c",
   "metadata": {
    "execution": {
     "iopub.execute_input": "2025-04-23T05:59:17.046356Z",
     "iopub.status.busy": "2025-04-23T05:59:17.045754Z",
     "iopub.status.idle": "2025-04-23T05:59:17.585629Z",
     "shell.execute_reply": "2025-04-23T05:59:17.584989Z"
    },
    "papermill": {
     "duration": 0.547143,
     "end_time": "2025-04-23T05:59:17.587102",
     "exception": false,
     "start_time": "2025-04-23T05:59:17.039959",
     "status": "completed"
    },
    "tags": []
   },
   "outputs": [],
   "source": [
    "train = pd.read_csv('/kaggle/input/playground-series-s5e4/train.csv', index_col='id')\n",
    "test = pd.read_csv('/kaggle/input/playground-series-s5e4/test.csv', index_col='id')"
   ]
  },
  {
   "cell_type": "markdown",
   "id": "cb523069",
   "metadata": {
    "papermill": {
     "duration": 0.004785,
     "end_time": "2025-04-23T05:59:17.597206",
     "exception": false,
     "start_time": "2025-04-23T05:59:17.592421",
     "status": "completed"
    },
    "tags": []
   },
   "source": [
    "## Data Understanding"
   ]
  },
  {
   "cell_type": "code",
   "execution_count": 3,
   "id": "38c2beb4",
   "metadata": {
    "execution": {
     "iopub.execute_input": "2025-04-23T05:59:17.607700Z",
     "iopub.status.busy": "2025-04-23T05:59:17.607457Z",
     "iopub.status.idle": "2025-04-23T05:59:18.720630Z",
     "shell.execute_reply": "2025-04-23T05:59:18.719747Z"
    },
    "papermill": {
     "duration": 1.119874,
     "end_time": "2025-04-23T05:59:18.721985",
     "exception": false,
     "start_time": "2025-04-23T05:59:17.602111",
     "status": "completed"
    },
    "tags": []
   },
   "outputs": [
    {
     "data": {
      "text/html": [
       "<div>\n",
       "<style scoped>\n",
       "    .dataframe tbody tr th:only-of-type {\n",
       "        vertical-align: middle;\n",
       "    }\n",
       "\n",
       "    .dataframe tbody tr th {\n",
       "        vertical-align: top;\n",
       "    }\n",
       "\n",
       "    .dataframe thead th {\n",
       "        text-align: right;\n",
       "    }\n",
       "</style>\n",
       "<table border=\"1\" class=\"dataframe\">\n",
       "  <thead>\n",
       "    <tr style=\"text-align: right;\">\n",
       "      <th></th>\n",
       "      <th>Podcast_Name</th>\n",
       "      <th>Episode_Title</th>\n",
       "      <th>Episode_Length_minutes</th>\n",
       "      <th>Genre</th>\n",
       "      <th>Host_Popularity_percentage</th>\n",
       "      <th>Publication_Day</th>\n",
       "      <th>Publication_Time</th>\n",
       "      <th>Guest_Popularity_percentage</th>\n",
       "      <th>Number_of_Ads</th>\n",
       "      <th>Episode_Sentiment</th>\n",
       "      <th>Listening_Time_minutes</th>\n",
       "    </tr>\n",
       "    <tr>\n",
       "      <th>id</th>\n",
       "      <th></th>\n",
       "      <th></th>\n",
       "      <th></th>\n",
       "      <th></th>\n",
       "      <th></th>\n",
       "      <th></th>\n",
       "      <th></th>\n",
       "      <th></th>\n",
       "      <th></th>\n",
       "      <th></th>\n",
       "      <th></th>\n",
       "    </tr>\n",
       "  </thead>\n",
       "  <tbody>\n",
       "    <tr>\n",
       "      <th>24828</th>\n",
       "      <td>Sports Central</td>\n",
       "      <td>Episode 8</td>\n",
       "      <td>115.52</td>\n",
       "      <td>Sports</td>\n",
       "      <td>75.32</td>\n",
       "      <td>Monday</td>\n",
       "      <td>Morning</td>\n",
       "      <td>&lt;NA&gt;</td>\n",
       "      <td>3.0</td>\n",
       "      <td>Positive</td>\n",
       "      <td>70.51893</td>\n",
       "    </tr>\n",
       "    <tr>\n",
       "      <th>14286</th>\n",
       "      <td>Health Hour</td>\n",
       "      <td>Episode 93</td>\n",
       "      <td>75.06</td>\n",
       "      <td>Health</td>\n",
       "      <td>68.90</td>\n",
       "      <td>Wednesday</td>\n",
       "      <td>Evening</td>\n",
       "      <td>&lt;NA&gt;</td>\n",
       "      <td>0.0</td>\n",
       "      <td>Positive</td>\n",
       "      <td>53.88455</td>\n",
       "    </tr>\n",
       "    <tr>\n",
       "      <th>257492</th>\n",
       "      <td>Tech Trends</td>\n",
       "      <td>Episode 58</td>\n",
       "      <td>86.90</td>\n",
       "      <td>Technology</td>\n",
       "      <td>79.11</td>\n",
       "      <td>Sunday</td>\n",
       "      <td>Night</td>\n",
       "      <td>8.79</td>\n",
       "      <td>3.0</td>\n",
       "      <td>Neutral</td>\n",
       "      <td>62.79904</td>\n",
       "    </tr>\n",
       "    <tr>\n",
       "      <th>748209</th>\n",
       "      <td>News Roundup</td>\n",
       "      <td>Episode 52</td>\n",
       "      <td>114.13</td>\n",
       "      <td>News</td>\n",
       "      <td>80.31</td>\n",
       "      <td>Tuesday</td>\n",
       "      <td>Afternoon</td>\n",
       "      <td>24.5</td>\n",
       "      <td>1.0</td>\n",
       "      <td>Negative</td>\n",
       "      <td>68.50424</td>\n",
       "    </tr>\n",
       "    <tr>\n",
       "      <th>303003</th>\n",
       "      <td>Sports Central</td>\n",
       "      <td>Episode 86</td>\n",
       "      <td>102.34</td>\n",
       "      <td>Sports</td>\n",
       "      <td>34.85</td>\n",
       "      <td>Saturday</td>\n",
       "      <td>Morning</td>\n",
       "      <td>29.85</td>\n",
       "      <td>1.0</td>\n",
       "      <td>Neutral</td>\n",
       "      <td>50.36846</td>\n",
       "    </tr>\n",
       "    <tr>\n",
       "      <th>218662</th>\n",
       "      <td>Tune Time</td>\n",
       "      <td>Episode 75</td>\n",
       "      <td>118.71</td>\n",
       "      <td>Music</td>\n",
       "      <td>78.61</td>\n",
       "      <td>Friday</td>\n",
       "      <td>Night</td>\n",
       "      <td>39.3</td>\n",
       "      <td>0.0</td>\n",
       "      <td>Negative</td>\n",
       "      <td>117.88000</td>\n",
       "    </tr>\n",
       "    <tr>\n",
       "      <th>411624</th>\n",
       "      <td>Brain Boost</td>\n",
       "      <td>Episode 38</td>\n",
       "      <td>61.99</td>\n",
       "      <td>Education</td>\n",
       "      <td>47.69</td>\n",
       "      <td>Wednesday</td>\n",
       "      <td>Evening</td>\n",
       "      <td>45.8</td>\n",
       "      <td>3.0</td>\n",
       "      <td>Positive</td>\n",
       "      <td>30.59515</td>\n",
       "    </tr>\n",
       "    <tr>\n",
       "      <th>324169</th>\n",
       "      <td>Health Hour</td>\n",
       "      <td>Episode 100</td>\n",
       "      <td>55.91</td>\n",
       "      <td>Health</td>\n",
       "      <td>78.57</td>\n",
       "      <td>Saturday</td>\n",
       "      <td>Evening</td>\n",
       "      <td>58.78</td>\n",
       "      <td>0.0</td>\n",
       "      <td>Neutral</td>\n",
       "      <td>34.55593</td>\n",
       "    </tr>\n",
       "    <tr>\n",
       "      <th>18689</th>\n",
       "      <td>Sports Central</td>\n",
       "      <td>Episode 69</td>\n",
       "      <td>106.39</td>\n",
       "      <td>Sports</td>\n",
       "      <td>87.02</td>\n",
       "      <td>Sunday</td>\n",
       "      <td>Afternoon</td>\n",
       "      <td>62.45</td>\n",
       "      <td>1.0</td>\n",
       "      <td>Negative</td>\n",
       "      <td>57.12341</td>\n",
       "    </tr>\n",
       "    <tr>\n",
       "      <th>478213</th>\n",
       "      <td>Tech Trends</td>\n",
       "      <td>Episode 48</td>\n",
       "      <td>47.54</td>\n",
       "      <td>Technology</td>\n",
       "      <td>59.45</td>\n",
       "      <td>Tuesday</td>\n",
       "      <td>Evening</td>\n",
       "      <td>&lt;NA&gt;</td>\n",
       "      <td>0.0</td>\n",
       "      <td>Neutral</td>\n",
       "      <td>19.11088</td>\n",
       "    </tr>\n",
       "  </tbody>\n",
       "</table>\n",
       "</div>"
      ],
      "text/plain": [
       "          Podcast_Name Episode_Title  Episode_Length_minutes       Genre  \\\n",
       "id                                                                         \n",
       "24828   Sports Central     Episode 8                  115.52      Sports   \n",
       "14286      Health Hour    Episode 93                   75.06      Health   \n",
       "257492     Tech Trends    Episode 58                   86.90  Technology   \n",
       "748209    News Roundup    Episode 52                  114.13        News   \n",
       "303003  Sports Central    Episode 86                  102.34      Sports   \n",
       "218662       Tune Time    Episode 75                  118.71       Music   \n",
       "411624     Brain Boost    Episode 38                   61.99   Education   \n",
       "324169     Health Hour   Episode 100                   55.91      Health   \n",
       "18689   Sports Central    Episode 69                  106.39      Sports   \n",
       "478213     Tech Trends    Episode 48                   47.54  Technology   \n",
       "\n",
       "        Host_Popularity_percentage Publication_Day Publication_Time  \\\n",
       "id                                                                    \n",
       "24828                        75.32          Monday          Morning   \n",
       "14286                        68.90       Wednesday          Evening   \n",
       "257492                       79.11          Sunday            Night   \n",
       "748209                       80.31         Tuesday        Afternoon   \n",
       "303003                       34.85        Saturday          Morning   \n",
       "218662                       78.61          Friday            Night   \n",
       "411624                       47.69       Wednesday          Evening   \n",
       "324169                       78.57        Saturday          Evening   \n",
       "18689                        87.02          Sunday        Afternoon   \n",
       "478213                       59.45         Tuesday          Evening   \n",
       "\n",
       "       Guest_Popularity_percentage  Number_of_Ads Episode_Sentiment  \\\n",
       "id                                                                    \n",
       "24828                         <NA>            3.0          Positive   \n",
       "14286                         <NA>            0.0          Positive   \n",
       "257492                        8.79            3.0           Neutral   \n",
       "748209                        24.5            1.0          Negative   \n",
       "303003                       29.85            1.0           Neutral   \n",
       "218662                        39.3            0.0          Negative   \n",
       "411624                        45.8            3.0          Positive   \n",
       "324169                       58.78            0.0           Neutral   \n",
       "18689                        62.45            1.0          Negative   \n",
       "478213                        <NA>            0.0           Neutral   \n",
       "\n",
       "        Listening_Time_minutes  \n",
       "id                              \n",
       "24828                 70.51893  \n",
       "14286                 53.88455  \n",
       "257492                62.79904  \n",
       "748209                68.50424  \n",
       "303003                50.36846  \n",
       "218662               117.88000  \n",
       "411624                30.59515  \n",
       "324169                34.55593  \n",
       "18689                 57.12341  \n",
       "478213                19.11088  "
      ]
     },
     "execution_count": 3,
     "metadata": {},
     "output_type": "execute_result"
    }
   ],
   "source": [
    "train.sample(10)"
   ]
  },
  {
   "cell_type": "code",
   "execution_count": 4,
   "id": "9eb8a50e",
   "metadata": {
    "execution": {
     "iopub.execute_input": "2025-04-23T05:59:18.734040Z",
     "iopub.status.busy": "2025-04-23T05:59:18.733780Z",
     "iopub.status.idle": "2025-04-23T05:59:19.445121Z",
     "shell.execute_reply": "2025-04-23T05:59:19.444323Z"
    },
    "papermill": {
     "duration": 0.718504,
     "end_time": "2025-04-23T05:59:19.446285",
     "exception": false,
     "start_time": "2025-04-23T05:59:18.727781",
     "status": "completed"
    },
    "tags": []
   },
   "outputs": [
    {
     "data": {
      "text/html": [
       "<div>\n",
       "<style scoped>\n",
       "    .dataframe tbody tr th:only-of-type {\n",
       "        vertical-align: middle;\n",
       "    }\n",
       "\n",
       "    .dataframe tbody tr th {\n",
       "        vertical-align: top;\n",
       "    }\n",
       "\n",
       "    .dataframe thead th {\n",
       "        text-align: right;\n",
       "    }\n",
       "</style>\n",
       "<table border=\"1\" class=\"dataframe\">\n",
       "  <thead>\n",
       "    <tr style=\"text-align: right;\">\n",
       "      <th></th>\n",
       "      <th>Episode_Length_minutes</th>\n",
       "      <th>Host_Popularity_percentage</th>\n",
       "      <th>Guest_Popularity_percentage</th>\n",
       "      <th>Number_of_Ads</th>\n",
       "      <th>Listening_Time_minutes</th>\n",
       "    </tr>\n",
       "  </thead>\n",
       "  <tbody>\n",
       "    <tr>\n",
       "      <th>count</th>\n",
       "      <td>662907.000000</td>\n",
       "      <td>750000.000000</td>\n",
       "      <td>603970.000000</td>\n",
       "      <td>749999.000000</td>\n",
       "      <td>750000.000000</td>\n",
       "    </tr>\n",
       "    <tr>\n",
       "      <th>mean</th>\n",
       "      <td>64.504738</td>\n",
       "      <td>59.859901</td>\n",
       "      <td>52.236449</td>\n",
       "      <td>1.348855</td>\n",
       "      <td>45.437406</td>\n",
       "    </tr>\n",
       "    <tr>\n",
       "      <th>std</th>\n",
       "      <td>32.969603</td>\n",
       "      <td>22.873098</td>\n",
       "      <td>28.451241</td>\n",
       "      <td>1.151130</td>\n",
       "      <td>27.138306</td>\n",
       "    </tr>\n",
       "    <tr>\n",
       "      <th>min</th>\n",
       "      <td>0.000000</td>\n",
       "      <td>1.300000</td>\n",
       "      <td>0.000000</td>\n",
       "      <td>0.000000</td>\n",
       "      <td>0.000000</td>\n",
       "    </tr>\n",
       "    <tr>\n",
       "      <th>25%</th>\n",
       "      <td>35.730000</td>\n",
       "      <td>39.410000</td>\n",
       "      <td>28.380000</td>\n",
       "      <td>0.000000</td>\n",
       "      <td>23.178350</td>\n",
       "    </tr>\n",
       "    <tr>\n",
       "      <th>50%</th>\n",
       "      <td>63.840000</td>\n",
       "      <td>60.050000</td>\n",
       "      <td>53.580000</td>\n",
       "      <td>1.000000</td>\n",
       "      <td>43.379460</td>\n",
       "    </tr>\n",
       "    <tr>\n",
       "      <th>75%</th>\n",
       "      <td>94.070000</td>\n",
       "      <td>79.530000</td>\n",
       "      <td>76.600000</td>\n",
       "      <td>2.000000</td>\n",
       "      <td>64.811580</td>\n",
       "    </tr>\n",
       "    <tr>\n",
       "      <th>max</th>\n",
       "      <td>325.240000</td>\n",
       "      <td>119.460000</td>\n",
       "      <td>119.910000</td>\n",
       "      <td>103.910000</td>\n",
       "      <td>119.970000</td>\n",
       "    </tr>\n",
       "  </tbody>\n",
       "</table>\n",
       "</div>"
      ],
      "text/plain": [
       "       Episode_Length_minutes  Host_Popularity_percentage  \\\n",
       "count           662907.000000               750000.000000   \n",
       "mean                64.504738                   59.859901   \n",
       "std                 32.969603                   22.873098   \n",
       "min                  0.000000                    1.300000   \n",
       "25%                 35.730000                   39.410000   \n",
       "50%                 63.840000                   60.050000   \n",
       "75%                 94.070000                   79.530000   \n",
       "max                325.240000                  119.460000   \n",
       "\n",
       "       Guest_Popularity_percentage  Number_of_Ads  Listening_Time_minutes  \n",
       "count                603970.000000  749999.000000           750000.000000  \n",
       "mean                     52.236449       1.348855               45.437406  \n",
       "std                      28.451241       1.151130               27.138306  \n",
       "min                       0.000000       0.000000                0.000000  \n",
       "25%                      28.380000       0.000000               23.178350  \n",
       "50%                      53.580000       1.000000               43.379460  \n",
       "75%                      76.600000       2.000000               64.811580  \n",
       "max                     119.910000     103.910000              119.970000  "
      ]
     },
     "execution_count": 4,
     "metadata": {},
     "output_type": "execute_result"
    }
   ],
   "source": [
    "train.describe()"
   ]
  },
  {
   "cell_type": "code",
   "execution_count": 5,
   "id": "de32bcd0",
   "metadata": {
    "execution": {
     "iopub.execute_input": "2025-04-23T05:59:19.458529Z",
     "iopub.status.busy": "2025-04-23T05:59:19.458314Z",
     "iopub.status.idle": "2025-04-23T05:59:19.462494Z",
     "shell.execute_reply": "2025-04-23T05:59:19.461879Z"
    },
    "papermill": {
     "duration": 0.011344,
     "end_time": "2025-04-23T05:59:19.463523",
     "exception": false,
     "start_time": "2025-04-23T05:59:19.452179",
     "status": "completed"
    },
    "tags": []
   },
   "outputs": [
    {
     "data": {
      "text/plain": [
       "(750000, 11)"
      ]
     },
     "execution_count": 5,
     "metadata": {},
     "output_type": "execute_result"
    }
   ],
   "source": [
    "train.shape"
   ]
  },
  {
   "cell_type": "code",
   "execution_count": 6,
   "id": "bfc97251",
   "metadata": {
    "execution": {
     "iopub.execute_input": "2025-04-23T05:59:19.475176Z",
     "iopub.status.busy": "2025-04-23T05:59:19.474969Z",
     "iopub.status.idle": "2025-04-23T05:59:19.479065Z",
     "shell.execute_reply": "2025-04-23T05:59:19.478306Z"
    },
    "papermill": {
     "duration": 0.011212,
     "end_time": "2025-04-23T05:59:19.480343",
     "exception": false,
     "start_time": "2025-04-23T05:59:19.469131",
     "status": "completed"
    },
    "tags": []
   },
   "outputs": [
    {
     "data": {
      "text/plain": [
       "(250000, 10)"
      ]
     },
     "execution_count": 6,
     "metadata": {},
     "output_type": "execute_result"
    }
   ],
   "source": [
    "test.shape"
   ]
  },
  {
   "cell_type": "code",
   "execution_count": 7,
   "id": "e26af075",
   "metadata": {
    "execution": {
     "iopub.execute_input": "2025-04-23T05:59:19.492203Z",
     "iopub.status.busy": "2025-04-23T05:59:19.492008Z",
     "iopub.status.idle": "2025-04-23T05:59:19.510305Z",
     "shell.execute_reply": "2025-04-23T05:59:19.509386Z"
    },
    "papermill": {
     "duration": 0.025414,
     "end_time": "2025-04-23T05:59:19.511375",
     "exception": false,
     "start_time": "2025-04-23T05:59:19.485961",
     "status": "completed"
    },
    "tags": []
   },
   "outputs": [
    {
     "name": "stdout",
     "output_type": "stream",
     "text": [
      "<class 'cudf.core.dataframe.DataFrame'>\n",
      "Index: 750000 entries, 0 to 749999\n",
      "Data columns (total 11 columns):\n",
      " #   Column                       Non-Null Count   Dtype\n",
      "---  ------                       --------------   -----\n",
      " 0   Podcast_Name                 750000 non-null  object\n",
      " 1   Episode_Title                750000 non-null  object\n",
      " 2   Episode_Length_minutes       662907 non-null  float64\n",
      " 3   Genre                        750000 non-null  object\n",
      " 4   Host_Popularity_percentage   750000 non-null  float64\n",
      " 5   Publication_Day              750000 non-null  object\n",
      " 6   Publication_Time             750000 non-null  object\n",
      " 7   Guest_Popularity_percentage  603970 non-null  float64\n",
      " 8   Number_of_Ads                749999 non-null  float64\n",
      " 9   Episode_Sentiment            750000 non-null  object\n",
      " 10  Listening_Time_minutes       750000 non-null  float64\n",
      "dtypes: float64(5), object(6)\n",
      "memory usage: 88.8+ MB\n"
     ]
    }
   ],
   "source": [
    "train.info()"
   ]
  },
  {
   "cell_type": "code",
   "execution_count": 8,
   "id": "15c5bc1e",
   "metadata": {
    "execution": {
     "iopub.execute_input": "2025-04-23T05:59:19.523211Z",
     "iopub.status.busy": "2025-04-23T05:59:19.523011Z",
     "iopub.status.idle": "2025-04-23T05:59:19.612506Z",
     "shell.execute_reply": "2025-04-23T05:59:19.611746Z"
    },
    "papermill": {
     "duration": 0.096801,
     "end_time": "2025-04-23T05:59:19.613705",
     "exception": false,
     "start_time": "2025-04-23T05:59:19.516904",
     "status": "completed"
    },
    "tags": []
   },
   "outputs": [
    {
     "data": {
      "text/plain": [
       "Podcast_Name                        0\n",
       "Episode_Title                       0\n",
       "Episode_Length_minutes          87093\n",
       "Genre                               0\n",
       "Host_Popularity_percentage          0\n",
       "Publication_Day                     0\n",
       "Publication_Time                    0\n",
       "Guest_Popularity_percentage    146030\n",
       "Number_of_Ads                       1\n",
       "Episode_Sentiment                   0\n",
       "Listening_Time_minutes              0\n",
       "dtype: int64"
      ]
     },
     "execution_count": 8,
     "metadata": {},
     "output_type": "execute_result"
    }
   ],
   "source": [
    "train.isnull().sum()"
   ]
  },
  {
   "cell_type": "code",
   "execution_count": 9,
   "id": "9cedf4c4",
   "metadata": {
    "execution": {
     "iopub.execute_input": "2025-04-23T05:59:19.626238Z",
     "iopub.status.busy": "2025-04-23T05:59:19.626042Z",
     "iopub.status.idle": "2025-04-23T05:59:19.705506Z",
     "shell.execute_reply": "2025-04-23T05:59:19.704850Z"
    },
    "papermill": {
     "duration": 0.086776,
     "end_time": "2025-04-23T05:59:19.706646",
     "exception": false,
     "start_time": "2025-04-23T05:59:19.619870",
     "status": "completed"
    },
    "tags": []
   },
   "outputs": [
    {
     "data": {
      "text/plain": [
       "Podcast_Name                       0\n",
       "Episode_Title                      0\n",
       "Episode_Length_minutes         28736\n",
       "Genre                              0\n",
       "Host_Popularity_percentage         0\n",
       "Publication_Day                    0\n",
       "Publication_Time                   0\n",
       "Guest_Popularity_percentage    48832\n",
       "Number_of_Ads                      0\n",
       "Episode_Sentiment                  0\n",
       "dtype: int64"
      ]
     },
     "execution_count": 9,
     "metadata": {},
     "output_type": "execute_result"
    }
   ],
   "source": [
    "test.isnull().sum()"
   ]
  },
  {
   "cell_type": "markdown",
   "id": "307f3e63",
   "metadata": {
    "papermill": {
     "duration": 0.006341,
     "end_time": "2025-04-23T05:59:19.718865",
     "exception": false,
     "start_time": "2025-04-23T05:59:19.712524",
     "status": "completed"
    },
    "tags": []
   },
   "source": [
    "## Data Preparation"
   ]
  },
  {
   "cell_type": "markdown",
   "id": "eb7e0a26",
   "metadata": {
    "papermill": {
     "duration": 0.005577,
     "end_time": "2025-04-23T05:59:19.730628",
     "exception": false,
     "start_time": "2025-04-23T05:59:19.725051",
     "status": "completed"
    },
    "tags": []
   },
   "source": [
    "Reducing the memory space of the dataset by converting the num_cols into float32 and cat_cols into category"
   ]
  },
  {
   "cell_type": "code",
   "execution_count": 10,
   "id": "bb122dd4",
   "metadata": {
    "execution": {
     "iopub.execute_input": "2025-04-23T05:59:19.742989Z",
     "iopub.status.busy": "2025-04-23T05:59:19.742717Z",
     "iopub.status.idle": "2025-04-23T05:59:19.761712Z",
     "shell.execute_reply": "2025-04-23T05:59:19.760845Z"
    },
    "papermill": {
     "duration": 0.026732,
     "end_time": "2025-04-23T05:59:19.763132",
     "exception": false,
     "start_time": "2025-04-23T05:59:19.736400",
     "status": "completed"
    },
    "tags": []
   },
   "outputs": [],
   "source": [
    "num_cols = test.select_dtypes(include=['float64']).columns\n",
    "for col in num_cols:\n",
    "    train[col] = train[col].astype('float32')\n",
    "    test[col] = test[col].astype('float32')"
   ]
  },
  {
   "cell_type": "code",
   "execution_count": 11,
   "id": "41c5fd03",
   "metadata": {
    "execution": {
     "iopub.execute_input": "2025-04-23T05:59:19.777673Z",
     "iopub.status.busy": "2025-04-23T05:59:19.777453Z",
     "iopub.status.idle": "2025-04-23T05:59:19.926370Z",
     "shell.execute_reply": "2025-04-23T05:59:19.925627Z"
    },
    "papermill": {
     "duration": 0.157706,
     "end_time": "2025-04-23T05:59:19.927864",
     "exception": false,
     "start_time": "2025-04-23T05:59:19.770158",
     "status": "completed"
    },
    "tags": []
   },
   "outputs": [],
   "source": [
    "cat_cols = train.select_dtypes(include=['object']).columns\n",
    "for col in cat_cols:\n",
    "    train[col] = train[col].astype('category')\n",
    "    test[col] = test[col].astype('category')"
   ]
  },
  {
   "cell_type": "code",
   "execution_count": 12,
   "id": "ed0aa28d",
   "metadata": {
    "execution": {
     "iopub.execute_input": "2025-04-23T05:59:19.943125Z",
     "iopub.status.busy": "2025-04-23T05:59:19.942859Z",
     "iopub.status.idle": "2025-04-23T05:59:19.962897Z",
     "shell.execute_reply": "2025-04-23T05:59:19.961963Z"
    },
    "papermill": {
     "duration": 0.029017,
     "end_time": "2025-04-23T05:59:19.964218",
     "exception": false,
     "start_time": "2025-04-23T05:59:19.935201",
     "status": "completed"
    },
    "tags": []
   },
   "outputs": [
    {
     "name": "stdout",
     "output_type": "stream",
     "text": [
      "<class 'cudf.core.dataframe.DataFrame'>\n",
      "Index: 750000 entries, 0 to 749999\n",
      "Data columns (total 11 columns):\n",
      " #   Column                       Non-Null Count   Dtype\n",
      "---  ------                       --------------   -----\n",
      " 0   Podcast_Name                 750000 non-null  category\n",
      " 1   Episode_Title                750000 non-null  category\n",
      " 2   Episode_Length_minutes       662907 non-null  float32\n",
      " 3   Genre                        750000 non-null  category\n",
      " 4   Host_Popularity_percentage   750000 non-null  float32\n",
      " 5   Publication_Day              750000 non-null  category\n",
      " 6   Publication_Time             750000 non-null  category\n",
      " 7   Guest_Popularity_percentage  603970 non-null  float32\n",
      " 8   Number_of_Ads                749999 non-null  float32\n",
      " 9   Episode_Sentiment            750000 non-null  category\n",
      " 10  Listening_Time_minutes       750000 non-null  float64\n",
      "dtypes: category(6), float32(4), float64(1)\n",
      "memory usage: 27.5 MB\n"
     ]
    }
   ],
   "source": [
    "train.info()"
   ]
  },
  {
   "cell_type": "code",
   "execution_count": 13,
   "id": "f5ff8d0a",
   "metadata": {
    "execution": {
     "iopub.execute_input": "2025-04-23T05:59:19.978600Z",
     "iopub.status.busy": "2025-04-23T05:59:19.978373Z",
     "iopub.status.idle": "2025-04-23T05:59:22.231765Z",
     "shell.execute_reply": "2025-04-23T05:59:22.230820Z"
    },
    "papermill": {
     "duration": 2.262346,
     "end_time": "2025-04-23T05:59:22.233431",
     "exception": false,
     "start_time": "2025-04-23T05:59:19.971085",
     "status": "completed"
    },
    "tags": []
   },
   "outputs": [],
   "source": [
    "from sklearn.impute import SimpleImputer\n",
    "\n",
    "impute = SimpleImputer(strategy='median')\n",
    "num_cols = test.select_dtypes(include=['float32']).columns\n",
    "train[num_cols] = impute.fit_transform(train[num_cols])\n",
    "test[num_cols] = impute.fit_transform(test[num_cols])"
   ]
  },
  {
   "cell_type": "code",
   "execution_count": 14,
   "id": "318b2a94",
   "metadata": {
    "execution": {
     "iopub.execute_input": "2025-04-23T05:59:22.249244Z",
     "iopub.status.busy": "2025-04-23T05:59:22.248788Z",
     "iopub.status.idle": "2025-04-23T05:59:22.329354Z",
     "shell.execute_reply": "2025-04-23T05:59:22.328466Z"
    },
    "papermill": {
     "duration": 0.089776,
     "end_time": "2025-04-23T05:59:22.330755",
     "exception": false,
     "start_time": "2025-04-23T05:59:22.240979",
     "status": "completed"
    },
    "tags": []
   },
   "outputs": [
    {
     "data": {
      "text/plain": [
       "Podcast_Name                   0\n",
       "Episode_Title                  0\n",
       "Episode_Length_minutes         0\n",
       "Genre                          0\n",
       "Host_Popularity_percentage     0\n",
       "Publication_Day                0\n",
       "Publication_Time               0\n",
       "Guest_Popularity_percentage    0\n",
       "Number_of_Ads                  0\n",
       "Episode_Sentiment              0\n",
       "dtype: int64"
      ]
     },
     "execution_count": 14,
     "metadata": {},
     "output_type": "execute_result"
    }
   ],
   "source": [
    "test.isnull().sum()"
   ]
  },
  {
   "cell_type": "code",
   "execution_count": 15,
   "id": "cad8ee04",
   "metadata": {
    "execution": {
     "iopub.execute_input": "2025-04-23T05:59:22.343888Z",
     "iopub.status.busy": "2025-04-23T05:59:22.343647Z",
     "iopub.status.idle": "2025-04-23T05:59:22.577576Z",
     "shell.execute_reply": "2025-04-23T05:59:22.576889Z"
    },
    "papermill": {
     "duration": 0.242007,
     "end_time": "2025-04-23T05:59:22.579149",
     "exception": false,
     "start_time": "2025-04-23T05:59:22.337142",
     "status": "completed"
    },
    "tags": []
   },
   "outputs": [],
   "source": [
    "from sklearn.preprocessing import KBinsDiscretizer\n",
    "\n",
    "ew = KBinsDiscretizer(n_bins=5, encode='ordinal', strategy='uniform')\n",
    "train['Host_bins'] = ew.fit_transform(train[['Episode_Length_minutes']])\n",
    "test['Host_bins'] = ew.transform(test[['Episode_Length_minutes']])"
   ]
  },
  {
   "cell_type": "code",
   "execution_count": 16,
   "id": "01110227",
   "metadata": {
    "execution": {
     "iopub.execute_input": "2025-04-23T05:59:22.592460Z",
     "iopub.status.busy": "2025-04-23T05:59:22.592209Z",
     "iopub.status.idle": "2025-04-23T05:59:23.258772Z",
     "shell.execute_reply": "2025-04-23T05:59:23.257809Z"
    },
    "papermill": {
     "duration": 0.674843,
     "end_time": "2025-04-23T05:59:23.260459",
     "exception": false,
     "start_time": "2025-04-23T05:59:22.585616",
     "status": "completed"
    },
    "tags": []
   },
   "outputs": [],
   "source": [
    "from sklearn.preprocessing import KBinsDiscretizer\n",
    "\n",
    "kmeans = KBinsDiscretizer(n_bins=5, encode='ordinal', strategy='kmeans')\n",
    "train['Kmeans_bins'] = kmeans.fit_transform(train[['Episode_Length_minutes']])\n",
    "test['Kmeans_bins'] = kmeans.transform(test[['Episode_Length_minutes']])"
   ]
  },
  {
   "cell_type": "markdown",
   "id": "375add5b",
   "metadata": {
    "papermill": {
     "duration": 0.006152,
     "end_time": "2025-04-23T05:59:23.273096",
     "exception": false,
     "start_time": "2025-04-23T05:59:23.266944",
     "status": "completed"
    },
    "tags": []
   },
   "source": [
    "## Feature engineering"
   ]
  },
  {
   "cell_type": "code",
   "execution_count": 17,
   "id": "e6cac08a",
   "metadata": {
    "execution": {
     "iopub.execute_input": "2025-04-23T05:59:23.285772Z",
     "iopub.status.busy": "2025-04-23T05:59:23.285504Z",
     "iopub.status.idle": "2025-04-23T05:59:23.290372Z",
     "shell.execute_reply": "2025-04-23T05:59:23.289553Z"
    },
    "papermill": {
     "duration": 0.012563,
     "end_time": "2025-04-23T05:59:23.291574",
     "exception": false,
     "start_time": "2025-04-23T05:59:23.279011",
     "status": "completed"
    },
    "tags": []
   },
   "outputs": [],
   "source": [
    "def add_features(df):\n",
    "    df['Guest_Popularity_percentage'] =  df['Guest_Popularity_percentage'].clip(upper=100)\n",
    "    df['Host_Popularity_percentage'] =  df['Host_Popularity_percentage'].clip(upper=100)\n",
    "    \n",
    "    df['IsWeekend'] = df['Publication_Day'].isin(['Saturday', 'Sunday']).astype(int)\n",
    "    \n",
    "    sentiments = {'Positive': 1, 'Neutral': 0, 'Negative': -1}\n",
    "    df['Episode_Sentiment'] = df['Episode_Sentiment'].map(sentiments)\n",
    "    \n",
    "    df['Guest_Popularity_lengthmin'] =  df['Guest_Popularity_percentage'] * df['Episode_Length_minutes']\n",
    "    df['Host_Popularity_lengthmin'] =  df['Host_Popularity_percentage'] * df['Episode_Length_minutes']\n",
    "    df['Average_popularity'] = (df['Host_Popularity_percentage'] + df['Guest_Popularity_percentage']) / 2\n",
    "    df['minutes_per_ads'] = df['Episode_Length_minutes'] / (df['Number_of_Ads'] + 1e-3) \n",
    "    \n",
    "    return df "
   ]
  },
  {
   "cell_type": "markdown",
   "id": "6b682b09",
   "metadata": {
    "papermill": {
     "duration": 0.005833,
     "end_time": "2025-04-23T05:59:23.303341",
     "exception": false,
     "start_time": "2025-04-23T05:59:23.297508",
     "status": "completed"
    },
    "tags": []
   },
   "source": [
    "## Count Encoding for high cardinality columns"
   ]
  },
  {
   "cell_type": "code",
   "execution_count": 18,
   "id": "96e770fe",
   "metadata": {
    "execution": {
     "iopub.execute_input": "2025-04-23T05:59:23.315857Z",
     "iopub.status.busy": "2025-04-23T05:59:23.315615Z",
     "iopub.status.idle": "2025-04-23T05:59:39.588547Z",
     "shell.execute_reply": "2025-04-23T05:59:39.587824Z"
    },
    "papermill": {
     "duration": 16.28102,
     "end_time": "2025-04-23T05:59:39.590281",
     "exception": false,
     "start_time": "2025-04-23T05:59:23.309261",
     "status": "completed"
    },
    "tags": []
   },
   "outputs": [],
   "source": [
    "from category_encoders import CountEncoder\n",
    "\n",
    "ce = CountEncoder()\n",
    "count_category = ['Podcast_Name', 'Genre', 'Episode_Title']\n",
    "train[count_category] = ce.fit_transform(train[count_category])\n",
    "test[count_category] = ce.transform(test[count_category])"
   ]
  },
  {
   "cell_type": "code",
   "execution_count": 19,
   "id": "e576ea50",
   "metadata": {
    "execution": {
     "iopub.execute_input": "2025-04-23T05:59:39.604108Z",
     "iopub.status.busy": "2025-04-23T05:59:39.603637Z",
     "iopub.status.idle": "2025-04-23T05:59:40.041152Z",
     "shell.execute_reply": "2025-04-23T05:59:40.040194Z"
    },
    "papermill": {
     "duration": 0.445779,
     "end_time": "2025-04-23T05:59:40.042746",
     "exception": false,
     "start_time": "2025-04-23T05:59:39.596967",
     "status": "completed"
    },
    "tags": []
   },
   "outputs": [],
   "source": [
    "from sklearn.preprocessing import LabelEncoder\n",
    "\n",
    "cat_cols = ['Publication_Day', 'Publication_Time']\n",
    "for colname in cat_cols:\n",
    "    le = LabelEncoder()\n",
    "    train[colname] = le.fit_transform(train[colname])\n",
    "    test[colname] = le.transform(test[colname])"
   ]
  },
  {
   "cell_type": "code",
   "execution_count": 20,
   "id": "e84bbb4f",
   "metadata": {
    "execution": {
     "iopub.execute_input": "2025-04-23T05:59:40.056182Z",
     "iopub.status.busy": "2025-04-23T05:59:40.055901Z",
     "iopub.status.idle": "2025-04-23T05:59:40.060193Z",
     "shell.execute_reply": "2025-04-23T05:59:40.059380Z"
    },
    "papermill": {
     "duration": 0.012277,
     "end_time": "2025-04-23T05:59:40.061540",
     "exception": false,
     "start_time": "2025-04-23T05:59:40.049263",
     "status": "completed"
    },
    "tags": []
   },
   "outputs": [],
   "source": [
    "cat_features = ['Publication_Day', 'Publication_Time', 'Podcast_Name', 'Genre', 'Episode_Sentiment', 'Episode_Title', 'Host_bins', 'Kmeans_bins']\n",
    "combo = []\n",
    "def combo_1(df):\n",
    "    for i, col1 in enumerate(cat_features):\n",
    "        for col2 in (cat_features[i+1:]):\n",
    "            new_col = f'{col1}_{col2}'\n",
    "            df[new_col] = df[col1] * df[col2]\n",
    "            combo.append(new_col)\n",
    "    return df"
   ]
  },
  {
   "cell_type": "markdown",
   "id": "ef370b7b",
   "metadata": {
    "papermill": {
     "duration": 0.005683,
     "end_time": "2025-04-23T05:59:40.073411",
     "exception": false,
     "start_time": "2025-04-23T05:59:40.067728",
     "status": "completed"
    },
    "tags": []
   },
   "source": [
    "## Splitting the train data by KFold"
   ]
  },
  {
   "cell_type": "code",
   "execution_count": 21,
   "id": "df78b307",
   "metadata": {
    "execution": {
     "iopub.execute_input": "2025-04-23T05:59:40.085975Z",
     "iopub.status.busy": "2025-04-23T05:59:40.085719Z",
     "iopub.status.idle": "2025-04-23T05:59:50.024823Z",
     "shell.execute_reply": "2025-04-23T05:59:50.023839Z"
    },
    "papermill": {
     "duration": 9.947247,
     "end_time": "2025-04-23T05:59:50.026553",
     "exception": false,
     "start_time": "2025-04-23T05:59:40.079306",
     "status": "completed"
    },
    "tags": []
   },
   "outputs": [],
   "source": [
    "from sklearn.model_selection import KFold\n",
    "\n",
    "X = train.copy()\n",
    "y = X.pop('Listening_Time_minutes')\n",
    "X = add_features(X)\n",
    "X = combo_1(X)\n",
    "\n",
    "X_test = test.copy()\n",
    "X_test = add_features(X_test)\n",
    "X_test = combo_1(X_test)\n",
    "\n",
    "kf = KFold(n_splits=10, shuffle=True, random_state=600)\n",
    "\n",
    "for train_index, valid_index in kf.split(X, y):\n",
    "    X_train, X_valid = X.iloc[train_index], X.iloc[valid_index]\n",
    "    y_train, y_valid = y.iloc[train_index], y.iloc[valid_index]  "
   ]
  },
  {
   "cell_type": "markdown",
   "id": "e8f10042",
   "metadata": {
    "papermill": {
     "duration": 0.00593,
     "end_time": "2025-04-23T05:59:50.039094",
     "exception": false,
     "start_time": "2025-04-23T05:59:50.033164",
     "status": "completed"
    },
    "tags": []
   },
   "source": [
    "## Target encoding"
   ]
  },
  {
   "cell_type": "code",
   "execution_count": 22,
   "id": "9234c1a5",
   "metadata": {
    "execution": {
     "iopub.execute_input": "2025-04-23T05:59:50.052212Z",
     "iopub.status.busy": "2025-04-23T05:59:50.051940Z",
     "iopub.status.idle": "2025-04-23T05:59:50.055414Z",
     "shell.execute_reply": "2025-04-23T05:59:50.054600Z"
    },
    "papermill": {
     "duration": 0.011188,
     "end_time": "2025-04-23T05:59:50.056541",
     "exception": false,
     "start_time": "2025-04-23T05:59:50.045353",
     "status": "completed"
    },
    "tags": []
   },
   "outputs": [],
   "source": [
    "stats = ['mean', 'median', 'std', 'skew', 'count', 'max', 'min', 'nunique']\n",
    "stats2 = ['mean', 'median', 'std']"
   ]
  },
  {
   "cell_type": "code",
   "execution_count": 23,
   "id": "843a1e2a",
   "metadata": {
    "execution": {
     "iopub.execute_input": "2025-04-23T05:59:50.069942Z",
     "iopub.status.busy": "2025-04-23T05:59:50.069666Z",
     "iopub.status.idle": "2025-04-23T05:59:50.952286Z",
     "shell.execute_reply": "2025-04-23T05:59:50.951345Z"
    },
    "papermill": {
     "duration": 0.890995,
     "end_time": "2025-04-23T05:59:50.953807",
     "exception": false,
     "start_time": "2025-04-23T05:59:50.062812",
     "status": "completed"
    },
    "tags": []
   },
   "outputs": [],
   "source": [
    "train_with_target = X_train.copy()\n",
    "train_with_target['Listening_Time_minutes'] = y_train\n",
    "\n",
    "grouped_stats = train_with_target.groupby(['Episode_Length_minutes'])['Listening_Time_minutes'].agg(stats).fillna(0.0)\n",
    "grouped_stats.columns = [f'TE1_WC_{stat}' for stat in stats]\n",
    "\n",
    "grouped_stats_full = train.groupby(['Episode_Length_minutes'])['Listening_Time_minutes'].agg(stats).fillna(0.0)\n",
    "grouped_stats_full.columns = [f'TE1_WC_{stat}' for stat in stats]\n",
    "\n",
    "X_train = X_train.merge(grouped_stats, on='Episode_Length_minutes', how='left').astype('float32')\n",
    "X_valid = X_valid.merge(grouped_stats_full, on='Episode_Length_minutes', how='left').astype('float32')\n",
    "X_test = X_test.merge(grouped_stats_full, on='Episode_Length_minutes', how='left').astype('float32')"
   ]
  },
  {
   "cell_type": "code",
   "execution_count": 24,
   "id": "f06fc960",
   "metadata": {
    "execution": {
     "iopub.execute_input": "2025-04-23T05:59:50.967303Z",
     "iopub.status.busy": "2025-04-23T05:59:50.967014Z",
     "iopub.status.idle": "2025-04-23T05:59:51.665663Z",
     "shell.execute_reply": "2025-04-23T05:59:51.665007Z"
    },
    "papermill": {
     "duration": 0.706969,
     "end_time": "2025-04-23T05:59:51.667267",
     "exception": false,
     "start_time": "2025-04-23T05:59:50.960298",
     "status": "completed"
    },
    "tags": []
   },
   "outputs": [],
   "source": [
    "quantiles = [5, 10, 25, 40, 75, 95, 99]\n",
    "\n",
    "for q in quantiles:\n",
    "    result = train_with_target.groupby('Episode_Length_minutes')['Listening_Time_minutes'] \\\n",
    "        .quantile(q/100).reset_index().fillna(0.0)\n",
    "    result.rename(columns={'Listening_Time_minutes': f'quantile_{q}'}, inplace=True)\n",
    "    X_train = X_train.merge(result, on='Episode_Length_minutes', how='left').astype('float32')\n",
    "    X_valid = X_valid.merge(result, on='Episode_Length_minutes', how='left').astype('float32')\n",
    "    X_test = X_test.merge(result, on='Episode_Length_minutes', how='left').astype('float32')"
   ]
  },
  {
   "cell_type": "code",
   "execution_count": 25,
   "id": "147efd53",
   "metadata": {
    "execution": {
     "iopub.execute_input": "2025-04-23T05:59:51.680358Z",
     "iopub.status.busy": "2025-04-23T05:59:51.680106Z",
     "iopub.status.idle": "2025-04-23T06:00:00.861799Z",
     "shell.execute_reply": "2025-04-23T06:00:00.860872Z"
    },
    "papermill": {
     "duration": 9.190279,
     "end_time": "2025-04-23T06:00:00.863984",
     "exception": false,
     "start_time": "2025-04-23T05:59:51.673705",
     "status": "completed"
    },
    "tags": []
   },
   "outputs": [],
   "source": [
    "for col in combo:\n",
    "    result = train_with_target.groupby(col)['Listening_Time_minutes'].agg(stats2).fillna(0.0)\n",
    "    # Include the column name in the generated statistic columns\n",
    "    result.columns = [f'TE2_WC_{col}_{stat}' for stat in stats2]\n",
    "    X_train = X_train.merge(result, on=col, how='left', suffixes=('', f'_{col}')).astype('float32')\n",
    "    X_valid = X_valid.merge(result, on=col, how='left', suffixes=('', f'_{col}')).astype('float32')\n",
    "    X_test = X_test.merge(result, on=col, how='left', suffixes=('', f'_{col}')).astype('float32')"
   ]
  },
  {
   "cell_type": "code",
   "execution_count": 26,
   "id": "f60723b8",
   "metadata": {
    "execution": {
     "iopub.execute_input": "2025-04-23T06:00:00.888455Z",
     "iopub.status.busy": "2025-04-23T06:00:00.888197Z",
     "iopub.status.idle": "2025-04-23T06:01:06.408865Z",
     "shell.execute_reply": "2025-04-23T06:01:06.407987Z"
    },
    "papermill": {
     "duration": 65.540375,
     "end_time": "2025-04-23T06:01:06.416691",
     "exception": false,
     "start_time": "2025-04-23T06:00:00.876316",
     "status": "completed"
    },
    "tags": []
   },
   "outputs": [
    {
     "name": "stdout",
     "output_type": "stream",
     "text": [
      "RMSE: 12.637752970130341\n"
     ]
    }
   ],
   "source": [
    "from xgboost import XGBRegressor\n",
    "from sklearn.metrics import mean_squared_error\n",
    "\n",
    "xgb = XGBRegressor(\n",
    "    n_estimators=386, \n",
    "    learning_rate=0.07, \n",
    "    max_depth=11, \n",
    "    random_state=600, \n",
    "    reg_lambda=8.206644301085248, \n",
    "    device='cuda',\n",
    "    tree_method='gpu_hist',\n",
    "    verbose=0, \n",
    "    eval_metric='rmse'\n",
    "    ).fit(X_train, y_train)\n",
    "pred_xgb = xgb.predict(X_valid)\n",
    "print(f'RMSE: {np.sqrt(mean_squared_error(y_valid, pred_xgb))}')"
   ]
  },
  {
   "cell_type": "markdown",
   "id": "e398412e",
   "metadata": {
    "papermill": {
     "duration": 0.006105,
     "end_time": "2025-04-23T06:01:06.429158",
     "exception": false,
     "start_time": "2025-04-23T06:01:06.423053",
     "status": "completed"
    },
    "tags": []
   },
   "source": [
    "## Final Submission"
   ]
  },
  {
   "cell_type": "code",
   "execution_count": 27,
   "id": "3fd63f1f",
   "metadata": {
    "execution": {
     "iopub.execute_input": "2025-04-23T06:01:06.441907Z",
     "iopub.status.busy": "2025-04-23T06:01:06.441675Z",
     "iopub.status.idle": "2025-04-23T06:01:11.070245Z",
     "shell.execute_reply": "2025-04-23T06:01:11.069048Z"
    },
    "papermill": {
     "duration": 4.636701,
     "end_time": "2025-04-23T06:01:11.071763",
     "exception": false,
     "start_time": "2025-04-23T06:01:06.435062",
     "status": "completed"
    },
    "tags": []
   },
   "outputs": [
    {
     "name": "stdout",
     "output_type": "stream",
     "text": [
      "Your submission was successfully saved!\n"
     ]
    }
   ],
   "source": [
    "test_preds = xgb.predict(X_test)\n",
    "\n",
    "sub = pd.read_csv('/kaggle/input/playground-series-s5e4/sample_submission.csv')\n",
    "sub['Listening_Time_minutes'] = test_preds\n",
    "sub.to_csv('submission.csv', index=False)\n",
    "print(\"Your submission was successfully saved!\")"
   ]
  }
 ],
 "metadata": {
  "kaggle": {
   "accelerator": "nvidiaTeslaT4",
   "dataSources": [
    {
     "databundleVersionId": 11351736,
     "sourceId": 91715,
     "sourceType": "competition"
    }
   ],
   "dockerImageVersionId": 30918,
   "isGpuEnabled": true,
   "isInternetEnabled": true,
   "language": "python",
   "sourceType": "notebook"
  },
  "kernelspec": {
   "display_name": "Python 3",
   "language": "python",
   "name": "python3"
  },
  "language_info": {
   "codemirror_mode": {
    "name": "ipython",
    "version": 3
   },
   "file_extension": ".py",
   "mimetype": "text/x-python",
   "name": "python",
   "nbconvert_exporter": "python",
   "pygments_lexer": "ipython3",
   "version": "3.10.12"
  },
  "papermill": {
   "default_parameters": {},
   "duration": 126.899142,
   "end_time": "2025-04-23T06:01:13.426480",
   "environment_variables": {},
   "exception": null,
   "input_path": "__notebook__.ipynb",
   "output_path": "__notebook__.ipynb",
   "parameters": {},
   "start_time": "2025-04-23T05:59:06.527338",
   "version": "2.6.0"
  }
 },
 "nbformat": 4,
 "nbformat_minor": 5
}
