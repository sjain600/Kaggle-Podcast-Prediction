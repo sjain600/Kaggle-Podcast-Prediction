{
 "cells": [
  {
   "cell_type": "code",
   "execution_count": 1,
   "id": "d1aada27",
   "metadata": {
    "execution": {
     "iopub.execute_input": "2025-04-22T05:26:26.444738Z",
     "iopub.status.busy": "2025-04-22T05:26:26.444512Z",
     "iopub.status.idle": "2025-04-22T05:26:35.273139Z",
     "shell.execute_reply": "2025-04-22T05:26:35.272106Z"
    },
    "papermill": {
     "duration": 8.83583,
     "end_time": "2025-04-22T05:26:35.274634",
     "exception": false,
     "start_time": "2025-04-22T05:26:26.438804",
     "status": "completed"
    },
    "tags": []
   },
   "outputs": [
    {
     "name": "stdout",
     "output_type": "stream",
     "text": [
      "/kaggle/input/playground-series-s5e4/sample_submission.csv\n",
      "/kaggle/input/playground-series-s5e4/train.csv\n",
      "/kaggle/input/playground-series-s5e4/test.csv\n"
     ]
    }
   ],
   "source": [
    "# This Python 3 environment comes with many helpful analytics libraries installed\n",
    "# It is defined by the kaggle/python Docker image: https://github.com/kaggle/docker-python\n",
    "# For example, here's several helpful packages to load\n",
    "%load_ext cudf.pandas\n",
    "import numpy as np # linear algebra\n",
    "import pandas as pd # data processing, CSV file I/O (e.g. pd.read_csv)\n",
    "import matplotlib.pyplot as plt\n",
    "pd.set_option('display.max_columns', 500)\n",
    "\n",
    "# Input data files are available in the read-only \"../input/\" directory\n",
    "# For example, running this (by clicking run or pressing Shift+Enter) will list all files under the input directory\n",
    "\n",
    "import os\n",
    "for dirname, _, filenames in os.walk('/kaggle/input'):\n",
    "    for filename in filenames:\n",
    "        print(os.path.join(dirname, filename))\n",
    "        \n",
    "import warnings\n",
    "warnings.filterwarnings(\"ignore\")\n",
    "\n",
    "# You can write up to 20GB to the current directory (/kaggle/working/) that gets preserved as output when you create a version using \"Save & Run All\" \n",
    "# You can also write temporary files to /kaggle/temp/, but they won't be saved outside of the current session"
   ]
  },
  {
   "cell_type": "code",
   "execution_count": 2,
   "id": "aa14d9b0",
   "metadata": {
    "execution": {
     "iopub.execute_input": "2025-04-22T05:26:35.284638Z",
     "iopub.status.busy": "2025-04-22T05:26:35.284064Z",
     "iopub.status.idle": "2025-04-22T05:26:36.058326Z",
     "shell.execute_reply": "2025-04-22T05:26:36.057424Z"
    },
    "papermill": {
     "duration": 0.780658,
     "end_time": "2025-04-22T05:26:36.059991",
     "exception": false,
     "start_time": "2025-04-22T05:26:35.279333",
     "status": "completed"
    },
    "tags": []
   },
   "outputs": [],
   "source": [
    "train = pd.read_csv('/kaggle/input/playground-series-s5e4/train.csv')\n",
    "test = pd.read_csv('/kaggle/input/playground-series-s5e4/test.csv')\n",
    "all_data = pd.concat([train, test], axis=0)"
   ]
  },
  {
   "cell_type": "markdown",
   "id": "be255f16",
   "metadata": {
    "papermill": {
     "duration": 0.004145,
     "end_time": "2025-04-22T05:26:36.068663",
     "exception": false,
     "start_time": "2025-04-22T05:26:36.064518",
     "status": "completed"
    },
    "tags": []
   },
   "source": [
    "## Data Understanding"
   ]
  },
  {
   "cell_type": "code",
   "execution_count": 3,
   "id": "ee102a71",
   "metadata": {
    "execution": {
     "iopub.execute_input": "2025-04-22T05:26:36.077822Z",
     "iopub.status.busy": "2025-04-22T05:26:36.077589Z",
     "iopub.status.idle": "2025-04-22T05:26:37.295584Z",
     "shell.execute_reply": "2025-04-22T05:26:37.294730Z"
    },
    "papermill": {
     "duration": 1.224102,
     "end_time": "2025-04-22T05:26:37.296911",
     "exception": false,
     "start_time": "2025-04-22T05:26:36.072809",
     "status": "completed"
    },
    "tags": []
   },
   "outputs": [
    {
     "data": {
      "text/html": [
       "<div>\n",
       "<style scoped>\n",
       "    .dataframe tbody tr th:only-of-type {\n",
       "        vertical-align: middle;\n",
       "    }\n",
       "\n",
       "    .dataframe tbody tr th {\n",
       "        vertical-align: top;\n",
       "    }\n",
       "\n",
       "    .dataframe thead th {\n",
       "        text-align: right;\n",
       "    }\n",
       "</style>\n",
       "<table border=\"1\" class=\"dataframe\">\n",
       "  <thead>\n",
       "    <tr style=\"text-align: right;\">\n",
       "      <th></th>\n",
       "      <th>id</th>\n",
       "      <th>Podcast_Name</th>\n",
       "      <th>Episode_Title</th>\n",
       "      <th>Episode_Length_minutes</th>\n",
       "      <th>Genre</th>\n",
       "      <th>Host_Popularity_percentage</th>\n",
       "      <th>Publication_Day</th>\n",
       "      <th>Publication_Time</th>\n",
       "      <th>Guest_Popularity_percentage</th>\n",
       "      <th>Number_of_Ads</th>\n",
       "      <th>Episode_Sentiment</th>\n",
       "      <th>Listening_Time_minutes</th>\n",
       "    </tr>\n",
       "  </thead>\n",
       "  <tbody>\n",
       "    <tr>\n",
       "      <th>747338</th>\n",
       "      <td>747338</td>\n",
       "      <td>Business Insights</td>\n",
       "      <td>Episode 59</td>\n",
       "      <td>76.24</td>\n",
       "      <td>Business</td>\n",
       "      <td>44.69</td>\n",
       "      <td>Thursday</td>\n",
       "      <td>Morning</td>\n",
       "      <td>&lt;NA&gt;</td>\n",
       "      <td>0.0</td>\n",
       "      <td>Neutral</td>\n",
       "      <td>72.46000</td>\n",
       "    </tr>\n",
       "    <tr>\n",
       "      <th>124266</th>\n",
       "      <td>124266</td>\n",
       "      <td>Business Briefs</td>\n",
       "      <td>Episode 84</td>\n",
       "      <td>119.14</td>\n",
       "      <td>Business</td>\n",
       "      <td>42.62</td>\n",
       "      <td>Monday</td>\n",
       "      <td>Night</td>\n",
       "      <td>18.21</td>\n",
       "      <td>1.0</td>\n",
       "      <td>Neutral</td>\n",
       "      <td>75.13915</td>\n",
       "    </tr>\n",
       "    <tr>\n",
       "      <th>130310</th>\n",
       "      <td>130310</td>\n",
       "      <td>Global News</td>\n",
       "      <td>Episode 77</td>\n",
       "      <td>47.02</td>\n",
       "      <td>News</td>\n",
       "      <td>22.20</td>\n",
       "      <td>Monday</td>\n",
       "      <td>Afternoon</td>\n",
       "      <td>&lt;NA&gt;</td>\n",
       "      <td>2.0</td>\n",
       "      <td>Negative</td>\n",
       "      <td>36.96629</td>\n",
       "    </tr>\n",
       "    <tr>\n",
       "      <th>677238</th>\n",
       "      <td>677238</td>\n",
       "      <td>Music Matters</td>\n",
       "      <td>Episode 69</td>\n",
       "      <td>65.76</td>\n",
       "      <td>Music</td>\n",
       "      <td>42.20</td>\n",
       "      <td>Thursday</td>\n",
       "      <td>Afternoon</td>\n",
       "      <td>17.34</td>\n",
       "      <td>1.0</td>\n",
       "      <td>Negative</td>\n",
       "      <td>46.99398</td>\n",
       "    </tr>\n",
       "    <tr>\n",
       "      <th>29268</th>\n",
       "      <td>29268</td>\n",
       "      <td>True Crime Stories</td>\n",
       "      <td>Episode 42</td>\n",
       "      <td>&lt;NA&gt;</td>\n",
       "      <td>True Crime</td>\n",
       "      <td>66.17</td>\n",
       "      <td>Wednesday</td>\n",
       "      <td>Afternoon</td>\n",
       "      <td>8.12</td>\n",
       "      <td>0.0</td>\n",
       "      <td>Neutral</td>\n",
       "      <td>40.72448</td>\n",
       "    </tr>\n",
       "    <tr>\n",
       "      <th>436533</th>\n",
       "      <td>436533</td>\n",
       "      <td>Tech Talks</td>\n",
       "      <td>Episode 99</td>\n",
       "      <td>30.36</td>\n",
       "      <td>Technology</td>\n",
       "      <td>26.70</td>\n",
       "      <td>Thursday</td>\n",
       "      <td>Afternoon</td>\n",
       "      <td>54.22</td>\n",
       "      <td>0.0</td>\n",
       "      <td>Positive</td>\n",
       "      <td>10.61403</td>\n",
       "    </tr>\n",
       "    <tr>\n",
       "      <th>574738</th>\n",
       "      <td>574738</td>\n",
       "      <td>Wellness Wave</td>\n",
       "      <td>Episode 71</td>\n",
       "      <td>33.47</td>\n",
       "      <td>Health</td>\n",
       "      <td>96.67</td>\n",
       "      <td>Wednesday</td>\n",
       "      <td>Night</td>\n",
       "      <td>94.98</td>\n",
       "      <td>0.0</td>\n",
       "      <td>Neutral</td>\n",
       "      <td>24.39751</td>\n",
       "    </tr>\n",
       "    <tr>\n",
       "      <th>536234</th>\n",
       "      <td>536234</td>\n",
       "      <td>Funny Folks</td>\n",
       "      <td>Episode 11</td>\n",
       "      <td>96.37</td>\n",
       "      <td>Comedy</td>\n",
       "      <td>61.56</td>\n",
       "      <td>Saturday</td>\n",
       "      <td>Afternoon</td>\n",
       "      <td>80.28</td>\n",
       "      <td>1.0</td>\n",
       "      <td>Positive</td>\n",
       "      <td>74.05417</td>\n",
       "    </tr>\n",
       "    <tr>\n",
       "      <th>362454</th>\n",
       "      <td>362454</td>\n",
       "      <td>Home &amp; Living</td>\n",
       "      <td>Episode 85</td>\n",
       "      <td>44.18</td>\n",
       "      <td>Lifestyle</td>\n",
       "      <td>31.50</td>\n",
       "      <td>Saturday</td>\n",
       "      <td>Night</td>\n",
       "      <td>34.67</td>\n",
       "      <td>0.0</td>\n",
       "      <td>Neutral</td>\n",
       "      <td>24.25950</td>\n",
       "    </tr>\n",
       "    <tr>\n",
       "      <th>279981</th>\n",
       "      <td>279981</td>\n",
       "      <td>Mind &amp; Body</td>\n",
       "      <td>Episode 81</td>\n",
       "      <td>74.81</td>\n",
       "      <td>Health</td>\n",
       "      <td>66.65</td>\n",
       "      <td>Sunday</td>\n",
       "      <td>Evening</td>\n",
       "      <td>30.72</td>\n",
       "      <td>3.0</td>\n",
       "      <td>Positive</td>\n",
       "      <td>45.38866</td>\n",
       "    </tr>\n",
       "  </tbody>\n",
       "</table>\n",
       "</div>"
      ],
      "text/plain": [
       "            id        Podcast_Name Episode_Title Episode_Length_minutes  \\\n",
       "747338  747338   Business Insights    Episode 59                  76.24   \n",
       "124266  124266     Business Briefs    Episode 84                 119.14   \n",
       "130310  130310         Global News    Episode 77                  47.02   \n",
       "677238  677238       Music Matters    Episode 69                  65.76   \n",
       "29268    29268  True Crime Stories    Episode 42                   <NA>   \n",
       "436533  436533          Tech Talks    Episode 99                  30.36   \n",
       "574738  574738       Wellness Wave    Episode 71                  33.47   \n",
       "536234  536234         Funny Folks    Episode 11                  96.37   \n",
       "362454  362454       Home & Living    Episode 85                  44.18   \n",
       "279981  279981         Mind & Body    Episode 81                  74.81   \n",
       "\n",
       "             Genre  Host_Popularity_percentage Publication_Day  \\\n",
       "747338    Business                       44.69        Thursday   \n",
       "124266    Business                       42.62          Monday   \n",
       "130310        News                       22.20          Monday   \n",
       "677238       Music                       42.20        Thursday   \n",
       "29268   True Crime                       66.17       Wednesday   \n",
       "436533  Technology                       26.70        Thursday   \n",
       "574738      Health                       96.67       Wednesday   \n",
       "536234      Comedy                       61.56        Saturday   \n",
       "362454   Lifestyle                       31.50        Saturday   \n",
       "279981      Health                       66.65          Sunday   \n",
       "\n",
       "       Publication_Time Guest_Popularity_percentage  Number_of_Ads  \\\n",
       "747338          Morning                        <NA>            0.0   \n",
       "124266            Night                       18.21            1.0   \n",
       "130310        Afternoon                        <NA>            2.0   \n",
       "677238        Afternoon                       17.34            1.0   \n",
       "29268         Afternoon                        8.12            0.0   \n",
       "436533        Afternoon                       54.22            0.0   \n",
       "574738            Night                       94.98            0.0   \n",
       "536234        Afternoon                       80.28            1.0   \n",
       "362454            Night                       34.67            0.0   \n",
       "279981          Evening                       30.72            3.0   \n",
       "\n",
       "       Episode_Sentiment  Listening_Time_minutes  \n",
       "747338           Neutral                72.46000  \n",
       "124266           Neutral                75.13915  \n",
       "130310          Negative                36.96629  \n",
       "677238          Negative                46.99398  \n",
       "29268            Neutral                40.72448  \n",
       "436533          Positive                10.61403  \n",
       "574738           Neutral                24.39751  \n",
       "536234          Positive                74.05417  \n",
       "362454           Neutral                24.25950  \n",
       "279981          Positive                45.38866  "
      ]
     },
     "execution_count": 3,
     "metadata": {},
     "output_type": "execute_result"
    }
   ],
   "source": [
    "train.sample(10)"
   ]
  },
  {
   "cell_type": "code",
   "execution_count": 4,
   "id": "cb26bc34",
   "metadata": {
    "execution": {
     "iopub.execute_input": "2025-04-22T05:26:37.306965Z",
     "iopub.status.busy": "2025-04-22T05:26:37.306743Z",
     "iopub.status.idle": "2025-04-22T05:26:38.208886Z",
     "shell.execute_reply": "2025-04-22T05:26:38.207955Z"
    },
    "papermill": {
     "duration": 0.90879,
     "end_time": "2025-04-22T05:26:38.210537",
     "exception": false,
     "start_time": "2025-04-22T05:26:37.301747",
     "status": "completed"
    },
    "tags": []
   },
   "outputs": [
    {
     "data": {
      "text/html": [
       "<div>\n",
       "<style scoped>\n",
       "    .dataframe tbody tr th:only-of-type {\n",
       "        vertical-align: middle;\n",
       "    }\n",
       "\n",
       "    .dataframe tbody tr th {\n",
       "        vertical-align: top;\n",
       "    }\n",
       "\n",
       "    .dataframe thead th {\n",
       "        text-align: right;\n",
       "    }\n",
       "</style>\n",
       "<table border=\"1\" class=\"dataframe\">\n",
       "  <thead>\n",
       "    <tr style=\"text-align: right;\">\n",
       "      <th></th>\n",
       "      <th>id</th>\n",
       "      <th>Episode_Length_minutes</th>\n",
       "      <th>Host_Popularity_percentage</th>\n",
       "      <th>Guest_Popularity_percentage</th>\n",
       "      <th>Number_of_Ads</th>\n",
       "      <th>Listening_Time_minutes</th>\n",
       "    </tr>\n",
       "  </thead>\n",
       "  <tbody>\n",
       "    <tr>\n",
       "      <th>count</th>\n",
       "      <td>750000.000000</td>\n",
       "      <td>662907.000000</td>\n",
       "      <td>750000.000000</td>\n",
       "      <td>603970.000000</td>\n",
       "      <td>749999.000000</td>\n",
       "      <td>750000.000000</td>\n",
       "    </tr>\n",
       "    <tr>\n",
       "      <th>mean</th>\n",
       "      <td>374999.500000</td>\n",
       "      <td>64.504738</td>\n",
       "      <td>59.859901</td>\n",
       "      <td>52.236449</td>\n",
       "      <td>1.348855</td>\n",
       "      <td>45.437406</td>\n",
       "    </tr>\n",
       "    <tr>\n",
       "      <th>std</th>\n",
       "      <td>216506.495284</td>\n",
       "      <td>32.969603</td>\n",
       "      <td>22.873098</td>\n",
       "      <td>28.451241</td>\n",
       "      <td>1.151130</td>\n",
       "      <td>27.138306</td>\n",
       "    </tr>\n",
       "    <tr>\n",
       "      <th>min</th>\n",
       "      <td>0.000000</td>\n",
       "      <td>0.000000</td>\n",
       "      <td>1.300000</td>\n",
       "      <td>0.000000</td>\n",
       "      <td>0.000000</td>\n",
       "      <td>0.000000</td>\n",
       "    </tr>\n",
       "    <tr>\n",
       "      <th>25%</th>\n",
       "      <td>187499.750000</td>\n",
       "      <td>35.730000</td>\n",
       "      <td>39.410000</td>\n",
       "      <td>28.380000</td>\n",
       "      <td>0.000000</td>\n",
       "      <td>23.178350</td>\n",
       "    </tr>\n",
       "    <tr>\n",
       "      <th>50%</th>\n",
       "      <td>374999.500000</td>\n",
       "      <td>63.840000</td>\n",
       "      <td>60.050000</td>\n",
       "      <td>53.580000</td>\n",
       "      <td>1.000000</td>\n",
       "      <td>43.379460</td>\n",
       "    </tr>\n",
       "    <tr>\n",
       "      <th>75%</th>\n",
       "      <td>562499.250000</td>\n",
       "      <td>94.070000</td>\n",
       "      <td>79.530000</td>\n",
       "      <td>76.600000</td>\n",
       "      <td>2.000000</td>\n",
       "      <td>64.811580</td>\n",
       "    </tr>\n",
       "    <tr>\n",
       "      <th>max</th>\n",
       "      <td>749999.000000</td>\n",
       "      <td>325.240000</td>\n",
       "      <td>119.460000</td>\n",
       "      <td>119.910000</td>\n",
       "      <td>103.910000</td>\n",
       "      <td>119.970000</td>\n",
       "    </tr>\n",
       "  </tbody>\n",
       "</table>\n",
       "</div>"
      ],
      "text/plain": [
       "                  id  Episode_Length_minutes  Host_Popularity_percentage  \\\n",
       "count  750000.000000           662907.000000               750000.000000   \n",
       "mean   374999.500000               64.504738                   59.859901   \n",
       "std    216506.495284               32.969603                   22.873098   \n",
       "min         0.000000                0.000000                    1.300000   \n",
       "25%    187499.750000               35.730000                   39.410000   \n",
       "50%    374999.500000               63.840000                   60.050000   \n",
       "75%    562499.250000               94.070000                   79.530000   \n",
       "max    749999.000000              325.240000                  119.460000   \n",
       "\n",
       "       Guest_Popularity_percentage  Number_of_Ads  Listening_Time_minutes  \n",
       "count                603970.000000  749999.000000           750000.000000  \n",
       "mean                     52.236449       1.348855               45.437406  \n",
       "std                      28.451241       1.151130               27.138306  \n",
       "min                       0.000000       0.000000                0.000000  \n",
       "25%                      28.380000       0.000000               23.178350  \n",
       "50%                      53.580000       1.000000               43.379460  \n",
       "75%                      76.600000       2.000000               64.811580  \n",
       "max                     119.910000     103.910000              119.970000  "
      ]
     },
     "execution_count": 4,
     "metadata": {},
     "output_type": "execute_result"
    }
   ],
   "source": [
    "train.describe()"
   ]
  },
  {
   "cell_type": "code",
   "execution_count": 5,
   "id": "d4dcc163",
   "metadata": {
    "execution": {
     "iopub.execute_input": "2025-04-22T05:26:38.222524Z",
     "iopub.status.busy": "2025-04-22T05:26:38.222263Z",
     "iopub.status.idle": "2025-04-22T05:26:38.226813Z",
     "shell.execute_reply": "2025-04-22T05:26:38.226179Z"
    },
    "papermill": {
     "duration": 0.011503,
     "end_time": "2025-04-22T05:26:38.227888",
     "exception": false,
     "start_time": "2025-04-22T05:26:38.216385",
     "status": "completed"
    },
    "tags": []
   },
   "outputs": [
    {
     "data": {
      "text/plain": [
       "(750000, 12)"
      ]
     },
     "execution_count": 5,
     "metadata": {},
     "output_type": "execute_result"
    }
   ],
   "source": [
    "train.shape"
   ]
  },
  {
   "cell_type": "code",
   "execution_count": 6,
   "id": "144375e4",
   "metadata": {
    "execution": {
     "iopub.execute_input": "2025-04-22T05:26:38.237895Z",
     "iopub.status.busy": "2025-04-22T05:26:38.237695Z",
     "iopub.status.idle": "2025-04-22T05:26:38.241906Z",
     "shell.execute_reply": "2025-04-22T05:26:38.241098Z"
    },
    "papermill": {
     "duration": 0.010523,
     "end_time": "2025-04-22T05:26:38.243198",
     "exception": false,
     "start_time": "2025-04-22T05:26:38.232675",
     "status": "completed"
    },
    "tags": []
   },
   "outputs": [
    {
     "data": {
      "text/plain": [
       "(250000, 11)"
      ]
     },
     "execution_count": 6,
     "metadata": {},
     "output_type": "execute_result"
    }
   ],
   "source": [
    "test.shape"
   ]
  },
  {
   "cell_type": "code",
   "execution_count": 7,
   "id": "5a446f37",
   "metadata": {
    "execution": {
     "iopub.execute_input": "2025-04-22T05:26:38.253810Z",
     "iopub.status.busy": "2025-04-22T05:26:38.253589Z",
     "iopub.status.idle": "2025-04-22T05:26:38.273171Z",
     "shell.execute_reply": "2025-04-22T05:26:38.272341Z"
    },
    "papermill": {
     "duration": 0.026231,
     "end_time": "2025-04-22T05:26:38.274296",
     "exception": false,
     "start_time": "2025-04-22T05:26:38.248065",
     "status": "completed"
    },
    "tags": []
   },
   "outputs": [
    {
     "name": "stdout",
     "output_type": "stream",
     "text": [
      "<class 'cudf.core.dataframe.DataFrame'>\n",
      "RangeIndex: 750000 entries, 0 to 749999\n",
      "Data columns (total 12 columns):\n",
      " #   Column                       Non-Null Count   Dtype\n",
      "---  ------                       --------------   -----\n",
      " 0   id                           750000 non-null  int64\n",
      " 1   Podcast_Name                 750000 non-null  object\n",
      " 2   Episode_Title                750000 non-null  object\n",
      " 3   Episode_Length_minutes       662907 non-null  float64\n",
      " 4   Genre                        750000 non-null  object\n",
      " 5   Host_Popularity_percentage   750000 non-null  float64\n",
      " 6   Publication_Day              750000 non-null  object\n",
      " 7   Publication_Time             750000 non-null  object\n",
      " 8   Guest_Popularity_percentage  603970 non-null  float64\n",
      " 9   Number_of_Ads                749999 non-null  float64\n",
      " 10  Episode_Sentiment            750000 non-null  object\n",
      " 11  Listening_Time_minutes       750000 non-null  float64\n",
      "dtypes: float64(5), int64(1), object(6)\n",
      "memory usage: 88.8+ MB\n"
     ]
    }
   ],
   "source": [
    "train.info()"
   ]
  },
  {
   "cell_type": "code",
   "execution_count": 8,
   "id": "cbe9ad92",
   "metadata": {
    "execution": {
     "iopub.execute_input": "2025-04-22T05:26:38.285277Z",
     "iopub.status.busy": "2025-04-22T05:26:38.285072Z",
     "iopub.status.idle": "2025-04-22T05:26:38.403544Z",
     "shell.execute_reply": "2025-04-22T05:26:38.402831Z"
    },
    "papermill": {
     "duration": 0.125359,
     "end_time": "2025-04-22T05:26:38.404974",
     "exception": false,
     "start_time": "2025-04-22T05:26:38.279615",
     "status": "completed"
    },
    "tags": []
   },
   "outputs": [
    {
     "data": {
      "text/plain": [
       "id                                  0\n",
       "Podcast_Name                        0\n",
       "Episode_Title                       0\n",
       "Episode_Length_minutes          87093\n",
       "Genre                               0\n",
       "Host_Popularity_percentage          0\n",
       "Publication_Day                     0\n",
       "Publication_Time                    0\n",
       "Guest_Popularity_percentage    146030\n",
       "Number_of_Ads                       1\n",
       "Episode_Sentiment                   0\n",
       "Listening_Time_minutes              0\n",
       "dtype: int64"
      ]
     },
     "execution_count": 8,
     "metadata": {},
     "output_type": "execute_result"
    }
   ],
   "source": [
    "train.isnull().sum()"
   ]
  },
  {
   "cell_type": "code",
   "execution_count": 9,
   "id": "4a9c6acb",
   "metadata": {
    "execution": {
     "iopub.execute_input": "2025-04-22T05:26:38.418146Z",
     "iopub.status.busy": "2025-04-22T05:26:38.417911Z",
     "iopub.status.idle": "2025-04-22T05:26:38.499262Z",
     "shell.execute_reply": "2025-04-22T05:26:38.498638Z"
    },
    "papermill": {
     "duration": 0.08938,
     "end_time": "2025-04-22T05:26:38.500493",
     "exception": false,
     "start_time": "2025-04-22T05:26:38.411113",
     "status": "completed"
    },
    "tags": []
   },
   "outputs": [
    {
     "data": {
      "text/plain": [
       "id                                 0\n",
       "Podcast_Name                       0\n",
       "Episode_Title                      0\n",
       "Episode_Length_minutes         28736\n",
       "Genre                              0\n",
       "Host_Popularity_percentage         0\n",
       "Publication_Day                    0\n",
       "Publication_Time                   0\n",
       "Guest_Popularity_percentage    48832\n",
       "Number_of_Ads                      0\n",
       "Episode_Sentiment                  0\n",
       "dtype: int64"
      ]
     },
     "execution_count": 9,
     "metadata": {},
     "output_type": "execute_result"
    }
   ],
   "source": [
    "test.isnull().sum()"
   ]
  },
  {
   "cell_type": "markdown",
   "id": "d7a11997",
   "metadata": {
    "papermill": {
     "duration": 0.005026,
     "end_time": "2025-04-22T05:26:38.510693",
     "exception": false,
     "start_time": "2025-04-22T05:26:38.505667",
     "status": "completed"
    },
    "tags": []
   },
   "source": [
    "## Data Preparation"
   ]
  },
  {
   "cell_type": "code",
   "execution_count": 10,
   "id": "ceb01b7d",
   "metadata": {
    "execution": {
     "iopub.execute_input": "2025-04-22T05:26:38.521574Z",
     "iopub.status.busy": "2025-04-22T05:26:38.521306Z",
     "iopub.status.idle": "2025-04-22T05:26:43.113458Z",
     "shell.execute_reply": "2025-04-22T05:26:43.112508Z"
    },
    "papermill": {
     "duration": 4.599374,
     "end_time": "2025-04-22T05:26:43.115211",
     "exception": false,
     "start_time": "2025-04-22T05:26:38.515837",
     "status": "completed"
    },
    "tags": []
   },
   "outputs": [],
   "source": [
    "from sklearn.impute import SimpleImputer\n",
    "\n",
    "impute = SimpleImputer(strategy='median')\n",
    "num_cols = test.select_dtypes(include=['float64']).columns\n",
    "train[num_cols] = impute.fit_transform(train[num_cols])\n",
    "test[num_cols] = impute.fit_transform(test[num_cols])"
   ]
  },
  {
   "cell_type": "code",
   "execution_count": 11,
   "id": "5945d9b6",
   "metadata": {
    "execution": {
     "iopub.execute_input": "2025-04-22T05:26:43.127000Z",
     "iopub.status.busy": "2025-04-22T05:26:43.126575Z",
     "iopub.status.idle": "2025-04-22T05:26:43.134099Z",
     "shell.execute_reply": "2025-04-22T05:26:43.133294Z"
    },
    "papermill": {
     "duration": 0.014632,
     "end_time": "2025-04-22T05:26:43.135388",
     "exception": false,
     "start_time": "2025-04-22T05:26:43.120756",
     "status": "completed"
    },
    "tags": []
   },
   "outputs": [
    {
     "data": {
      "text/plain": [
       "Index(['id', 'Podcast_Name', 'Episode_Title', 'Episode_Length_minutes',\n",
       "       'Genre', 'Host_Popularity_percentage', 'Publication_Day',\n",
       "       'Publication_Time', 'Guest_Popularity_percentage', 'Number_of_Ads',\n",
       "       'Episode_Sentiment', 'Listening_Time_minutes'],\n",
       "      dtype='object')"
      ]
     },
     "execution_count": 11,
     "metadata": {},
     "output_type": "execute_result"
    }
   ],
   "source": [
    "train.columns"
   ]
  },
  {
   "cell_type": "markdown",
   "id": "428df5b9",
   "metadata": {
    "papermill": {
     "duration": 0.00497,
     "end_time": "2025-04-22T05:26:43.145903",
     "exception": false,
     "start_time": "2025-04-22T05:26:43.140933",
     "status": "completed"
    },
    "tags": []
   },
   "source": [
    "## Feature engineering"
   ]
  },
  {
   "cell_type": "code",
   "execution_count": 12,
   "id": "14a05724",
   "metadata": {
    "execution": {
     "iopub.execute_input": "2025-04-22T05:26:43.156967Z",
     "iopub.status.busy": "2025-04-22T05:26:43.156766Z",
     "iopub.status.idle": "2025-04-22T05:26:43.192261Z",
     "shell.execute_reply": "2025-04-22T05:26:43.191687Z"
    },
    "papermill": {
     "duration": 0.042224,
     "end_time": "2025-04-22T05:26:43.193393",
     "exception": false,
     "start_time": "2025-04-22T05:26:43.151169",
     "status": "completed"
    },
    "tags": []
   },
   "outputs": [],
   "source": [
    "bins = [0, 81, 162, 243, 326]\n",
    "labels = ['short', 'medium', 'large', 'very large']\n",
    "train['length_binning'] = pd.cut(train['Episode_Length_minutes'], bins=bins, labels=labels, include_lowest=True)\n",
    "test['length_binning'] = pd.cut(test['Episode_Length_minutes'], bins=bins, labels=labels, include_lowest=True)"
   ]
  },
  {
   "cell_type": "code",
   "execution_count": 13,
   "id": "e1099eee",
   "metadata": {
    "execution": {
     "iopub.execute_input": "2025-04-22T05:26:43.204745Z",
     "iopub.status.busy": "2025-04-22T05:26:43.204538Z",
     "iopub.status.idle": "2025-04-22T05:26:43.209139Z",
     "shell.execute_reply": "2025-04-22T05:26:43.208528Z"
    },
    "papermill": {
     "duration": 0.0115,
     "end_time": "2025-04-22T05:26:43.210190",
     "exception": false,
     "start_time": "2025-04-22T05:26:43.198690",
     "status": "completed"
    },
    "tags": []
   },
   "outputs": [],
   "source": [
    "def add_features(df):\n",
    "    df['Guest_Popularity_percentage'] =  df['Guest_Popularity_percentage'].clip(upper=100)\n",
    "    df['Host_Popularity_percentage'] =  df['Host_Popularity_percentage'].clip(upper=100)\n",
    "    df['Number_of_Ads'] = df['Number_of_Ads'].astype(int)\n",
    "    \n",
    "    df['IsWeekend'] = df['Publication_Day'].isin(['Saturday', 'Sunday']).astype(int)\n",
    "    \n",
    "    sentiments = {'Positive': 1, 'Neutral': 0, 'Negative': -1}\n",
    "    df['Episode_Sentiment'] = df['Episode_Sentiment'].map(sentiments)\n",
    "    \n",
    "    df['Guest_Popularity_lengthmin'] =  df['Guest_Popularity_percentage'] * df['Episode_Length_minutes']\n",
    "    df['Host_Popularity_lengthmin'] =  df['Host_Popularity_percentage'] * df['Episode_Length_minutes']\n",
    "    df['Average_popularity'] = (df['Host_Popularity_percentage'] + df['Guest_Popularity_percentage']) / 2\n",
    "    df['minutes_per_ads'] = df['Episode_Length_minutes'] / (df['Number_of_Ads'] + 1) \n",
    "    \n",
    "    return df "
   ]
  },
  {
   "cell_type": "code",
   "execution_count": 14,
   "id": "f3687cbf",
   "metadata": {
    "execution": {
     "iopub.execute_input": "2025-04-22T05:26:43.221299Z",
     "iopub.status.busy": "2025-04-22T05:26:43.221104Z",
     "iopub.status.idle": "2025-04-22T05:26:43.344070Z",
     "shell.execute_reply": "2025-04-22T05:26:43.343439Z"
    },
    "papermill": {
     "duration": 0.130019,
     "end_time": "2025-04-22T05:26:43.345287",
     "exception": false,
     "start_time": "2025-04-22T05:26:43.215268",
     "status": "completed"
    },
    "tags": []
   },
   "outputs": [],
   "source": [
    "cat_cols = ['Podcast_Name', 'Genre', 'Publication_Day', 'Publication_Time']\n",
    "for colname in cat_cols:\n",
    "    train[colname] = train[colname].astype('category')\n",
    "    test[colname] = test[colname].astype('category')"
   ]
  },
  {
   "cell_type": "markdown",
   "id": "6f920a9f",
   "metadata": {
    "papermill": {
     "duration": 0.005091,
     "end_time": "2025-04-22T05:26:43.356036",
     "exception": false,
     "start_time": "2025-04-22T05:26:43.350945",
     "status": "completed"
    },
    "tags": []
   },
   "source": [
    "## Count Encoding for high cardinality columns"
   ]
  },
  {
   "cell_type": "code",
   "execution_count": 15,
   "id": "6ae633f1",
   "metadata": {
    "execution": {
     "iopub.execute_input": "2025-04-22T05:26:43.367394Z",
     "iopub.status.busy": "2025-04-22T05:26:43.367186Z",
     "iopub.status.idle": "2025-04-22T05:26:43.412834Z",
     "shell.execute_reply": "2025-04-22T05:26:43.412136Z"
    },
    "papermill": {
     "duration": 0.052711,
     "end_time": "2025-04-22T05:26:43.414209",
     "exception": false,
     "start_time": "2025-04-22T05:26:43.361498",
     "status": "completed"
    },
    "tags": []
   },
   "outputs": [
    {
     "data": {
      "text/html": [
       "<div>\n",
       "<style scoped>\n",
       "    .dataframe tbody tr th:only-of-type {\n",
       "        vertical-align: middle;\n",
       "    }\n",
       "\n",
       "    .dataframe tbody tr th {\n",
       "        vertical-align: top;\n",
       "    }\n",
       "\n",
       "    .dataframe thead th {\n",
       "        text-align: right;\n",
       "    }\n",
       "</style>\n",
       "<table border=\"1\" class=\"dataframe\">\n",
       "  <thead>\n",
       "    <tr style=\"text-align: right;\">\n",
       "      <th></th>\n",
       "      <th>id</th>\n",
       "      <th>Podcast_Name</th>\n",
       "      <th>Episode_Title</th>\n",
       "      <th>Episode_Length_minutes</th>\n",
       "      <th>Genre</th>\n",
       "      <th>Host_Popularity_percentage</th>\n",
       "      <th>Publication_Day</th>\n",
       "      <th>Publication_Time</th>\n",
       "      <th>Guest_Popularity_percentage</th>\n",
       "      <th>Number_of_Ads</th>\n",
       "      <th>Episode_Sentiment</th>\n",
       "      <th>Listening_Time_minutes</th>\n",
       "      <th>length_binning</th>\n",
       "    </tr>\n",
       "  </thead>\n",
       "  <tbody>\n",
       "    <tr>\n",
       "      <th>0</th>\n",
       "      <td>0</td>\n",
       "      <td>Mystery Matters</td>\n",
       "      <td>Episode 98</td>\n",
       "      <td>63.84</td>\n",
       "      <td>True Crime</td>\n",
       "      <td>74.81</td>\n",
       "      <td>Thursday</td>\n",
       "      <td>Night</td>\n",
       "      <td>53.58</td>\n",
       "      <td>0.0</td>\n",
       "      <td>Positive</td>\n",
       "      <td>31.41998</td>\n",
       "      <td>short</td>\n",
       "    </tr>\n",
       "    <tr>\n",
       "      <th>1</th>\n",
       "      <td>1</td>\n",
       "      <td>Joke Junction</td>\n",
       "      <td>Episode 26</td>\n",
       "      <td>119.80</td>\n",
       "      <td>Comedy</td>\n",
       "      <td>66.95</td>\n",
       "      <td>Saturday</td>\n",
       "      <td>Afternoon</td>\n",
       "      <td>75.95</td>\n",
       "      <td>2.0</td>\n",
       "      <td>Negative</td>\n",
       "      <td>88.01241</td>\n",
       "      <td>medium</td>\n",
       "    </tr>\n",
       "    <tr>\n",
       "      <th>2</th>\n",
       "      <td>2</td>\n",
       "      <td>Study Sessions</td>\n",
       "      <td>Episode 16</td>\n",
       "      <td>73.90</td>\n",
       "      <td>Education</td>\n",
       "      <td>69.97</td>\n",
       "      <td>Tuesday</td>\n",
       "      <td>Evening</td>\n",
       "      <td>8.97</td>\n",
       "      <td>0.0</td>\n",
       "      <td>Negative</td>\n",
       "      <td>44.92531</td>\n",
       "      <td>short</td>\n",
       "    </tr>\n",
       "    <tr>\n",
       "      <th>3</th>\n",
       "      <td>3</td>\n",
       "      <td>Digital Digest</td>\n",
       "      <td>Episode 45</td>\n",
       "      <td>67.17</td>\n",
       "      <td>Technology</td>\n",
       "      <td>57.22</td>\n",
       "      <td>Monday</td>\n",
       "      <td>Morning</td>\n",
       "      <td>78.70</td>\n",
       "      <td>2.0</td>\n",
       "      <td>Positive</td>\n",
       "      <td>46.27824</td>\n",
       "      <td>short</td>\n",
       "    </tr>\n",
       "    <tr>\n",
       "      <th>4</th>\n",
       "      <td>4</td>\n",
       "      <td>Mind &amp; Body</td>\n",
       "      <td>Episode 86</td>\n",
       "      <td>110.51</td>\n",
       "      <td>Health</td>\n",
       "      <td>80.07</td>\n",
       "      <td>Monday</td>\n",
       "      <td>Afternoon</td>\n",
       "      <td>58.68</td>\n",
       "      <td>3.0</td>\n",
       "      <td>Neutral</td>\n",
       "      <td>75.61031</td>\n",
       "      <td>medium</td>\n",
       "    </tr>\n",
       "  </tbody>\n",
       "</table>\n",
       "</div>"
      ],
      "text/plain": [
       "   id     Podcast_Name Episode_Title  Episode_Length_minutes       Genre  \\\n",
       "0   0  Mystery Matters    Episode 98                   63.84  True Crime   \n",
       "1   1    Joke Junction    Episode 26                  119.80      Comedy   \n",
       "2   2   Study Sessions    Episode 16                   73.90   Education   \n",
       "3   3   Digital Digest    Episode 45                   67.17  Technology   \n",
       "4   4      Mind & Body    Episode 86                  110.51      Health   \n",
       "\n",
       "   Host_Popularity_percentage Publication_Day Publication_Time  \\\n",
       "0                       74.81        Thursday            Night   \n",
       "1                       66.95        Saturday        Afternoon   \n",
       "2                       69.97         Tuesday          Evening   \n",
       "3                       57.22          Monday          Morning   \n",
       "4                       80.07          Monday        Afternoon   \n",
       "\n",
       "   Guest_Popularity_percentage  Number_of_Ads Episode_Sentiment  \\\n",
       "0                        53.58            0.0          Positive   \n",
       "1                        75.95            2.0          Negative   \n",
       "2                         8.97            0.0          Negative   \n",
       "3                        78.70            2.0          Positive   \n",
       "4                        58.68            3.0           Neutral   \n",
       "\n",
       "   Listening_Time_minutes length_binning  \n",
       "0                31.41998          short  \n",
       "1                88.01241         medium  \n",
       "2                44.92531          short  \n",
       "3                46.27824          short  \n",
       "4                75.61031         medium  "
      ]
     },
     "execution_count": 15,
     "metadata": {},
     "output_type": "execute_result"
    }
   ],
   "source": [
    "train.head()"
   ]
  },
  {
   "cell_type": "code",
   "execution_count": 16,
   "id": "29fde7db",
   "metadata": {
    "execution": {
     "iopub.execute_input": "2025-04-22T05:26:43.425865Z",
     "iopub.status.busy": "2025-04-22T05:26:43.425663Z",
     "iopub.status.idle": "2025-04-22T05:27:03.403190Z",
     "shell.execute_reply": "2025-04-22T05:27:03.402498Z"
    },
    "papermill": {
     "duration": 19.984995,
     "end_time": "2025-04-22T05:27:03.404765",
     "exception": false,
     "start_time": "2025-04-22T05:26:43.419770",
     "status": "completed"
    },
    "tags": []
   },
   "outputs": [],
   "source": [
    "from category_encoders import CountEncoder\n",
    "\n",
    "ce = CountEncoder()\n",
    "count_category = ['Podcast_Name', 'Genre', 'Episode_Title', 'length_binning']\n",
    "train[count_category] = ce.fit_transform(train[count_category])\n",
    "test[count_category] = ce.transform(test[count_category])"
   ]
  },
  {
   "cell_type": "code",
   "execution_count": 17,
   "id": "3968f205",
   "metadata": {
    "execution": {
     "iopub.execute_input": "2025-04-22T05:27:03.417132Z",
     "iopub.status.busy": "2025-04-22T05:27:03.416751Z",
     "iopub.status.idle": "2025-04-22T05:27:03.811071Z",
     "shell.execute_reply": "2025-04-22T05:27:03.810391Z"
    },
    "papermill": {
     "duration": 0.401977,
     "end_time": "2025-04-22T05:27:03.812647",
     "exception": false,
     "start_time": "2025-04-22T05:27:03.410670",
     "status": "completed"
    },
    "tags": []
   },
   "outputs": [],
   "source": [
    "from sklearn.preprocessing import LabelEncoder\n",
    "\n",
    "cat_cols = ['Publication_Day', 'Publication_Time']\n",
    "for colname in cat_cols:\n",
    "    le = LabelEncoder()\n",
    "    train[colname] = le.fit_transform(train[colname])\n",
    "    test[colname] = le.transform(test[colname])"
   ]
  },
  {
   "cell_type": "code",
   "execution_count": 18,
   "id": "0b7c7f2d",
   "metadata": {
    "execution": {
     "iopub.execute_input": "2025-04-22T05:27:03.824664Z",
     "iopub.status.busy": "2025-04-22T05:27:03.824389Z",
     "iopub.status.idle": "2025-04-22T05:27:03.828084Z",
     "shell.execute_reply": "2025-04-22T05:27:03.827489Z"
    },
    "papermill": {
     "duration": 0.010882,
     "end_time": "2025-04-22T05:27:03.829269",
     "exception": false,
     "start_time": "2025-04-22T05:27:03.818387",
     "status": "completed"
    },
    "tags": []
   },
   "outputs": [],
   "source": [
    "cat_features = ['Publication_Day', 'Publication_Time', 'Podcast_Name', 'Genre', 'Episode_Sentiment', 'Episode_Title']\n",
    "def combo_1(df):\n",
    "    for i, col1 in enumerate(cat_features):\n",
    "        for col2 in (cat_features[i+1:]):\n",
    "            new_col = f'{col1}_{col2}'\n",
    "            df[new_col] = df[col1] * df[col2]\n",
    "    return df"
   ]
  },
  {
   "cell_type": "markdown",
   "id": "0690e04b",
   "metadata": {
    "papermill": {
     "duration": 0.005006,
     "end_time": "2025-04-22T05:27:03.839643",
     "exception": false,
     "start_time": "2025-04-22T05:27:03.834637",
     "status": "completed"
    },
    "tags": []
   },
   "source": [
    "## Splitting the train data by KFold"
   ]
  },
  {
   "cell_type": "code",
   "execution_count": 19,
   "id": "7e4bf745",
   "metadata": {
    "execution": {
     "iopub.execute_input": "2025-04-22T05:27:03.850917Z",
     "iopub.status.busy": "2025-04-22T05:27:03.850716Z",
     "iopub.status.idle": "2025-04-22T05:27:11.642059Z",
     "shell.execute_reply": "2025-04-22T05:27:11.638753Z"
    },
    "papermill": {
     "duration": 7.799261,
     "end_time": "2025-04-22T05:27:11.644274",
     "exception": false,
     "start_time": "2025-04-22T05:27:03.845013",
     "status": "completed"
    },
    "tags": []
   },
   "outputs": [],
   "source": [
    "from sklearn.model_selection import KFold\n",
    "\n",
    "X = train.copy()\n",
    "y = X.pop('Listening_Time_minutes')\n",
    "X = add_features(X)\n",
    "X = combo_1(X)\n",
    "\n",
    "X_test = test.copy()\n",
    "X_test = add_features(X_test)\n",
    "X_test = combo_1(X_test)\n",
    "\n",
    "kf = KFold(n_splits=10, shuffle=True, random_state=600)\n",
    "\n",
    "for train_index, valid_index in kf.split(X, y):\n",
    "    X_train, X_valid = X.iloc[train_index], X.iloc[valid_index]\n",
    "    y_train, y_valid = y.iloc[train_index], y.iloc[valid_index]  "
   ]
  },
  {
   "cell_type": "markdown",
   "id": "19a5bf61",
   "metadata": {
    "papermill": {
     "duration": 0.006973,
     "end_time": "2025-04-22T05:27:11.660972",
     "exception": false,
     "start_time": "2025-04-22T05:27:11.653999",
     "status": "completed"
    },
    "tags": []
   },
   "source": [
    "## Target encoding"
   ]
  },
  {
   "cell_type": "code",
   "execution_count": 20,
   "id": "dee40942",
   "metadata": {
    "execution": {
     "iopub.execute_input": "2025-04-22T05:27:11.676642Z",
     "iopub.status.busy": "2025-04-22T05:27:11.676241Z",
     "iopub.status.idle": "2025-04-22T05:27:12.597330Z",
     "shell.execute_reply": "2025-04-22T05:27:12.596681Z"
    },
    "papermill": {
     "duration": 0.930407,
     "end_time": "2025-04-22T05:27:12.598917",
     "exception": false,
     "start_time": "2025-04-22T05:27:11.668510",
     "status": "completed"
    },
    "tags": []
   },
   "outputs": [],
   "source": [
    "stats = ['mean', 'median', 'std', 'skew', 'count', 'max', 'min', 'nunique']\n",
    "\n",
    "train_with_target = X_train.copy()\n",
    "train_with_target['Listening_Time_minutes'] = y_train\n",
    "\n",
    "grouped_stats = train_with_target.groupby(['Episode_Length_minutes'])['Listening_Time_minutes'].agg(stats).fillna(0.0)\n",
    "grouped_stats.columns = [f'TE1_WC_{stat}' for stat in stats]\n",
    "\n",
    "grouped_stats_full = train.groupby(['Episode_Length_minutes'])['Listening_Time_minutes'].agg(stats).fillna(0.0)\n",
    "grouped_stats_full.columns = [f'TE1_WC_{stat}' for stat in stats]\n",
    "\n",
    "X_train = X_train.merge(grouped_stats, on='Episode_Length_minutes', how='left')\n",
    "X_valid = X_valid.merge(grouped_stats_full, on='Episode_Length_minutes', how='left')\n",
    "X_test = X_test.merge(grouped_stats_full, on='Episode_Length_minutes', how='left')"
   ]
  },
  {
   "cell_type": "code",
   "execution_count": 21,
   "id": "b0adb1ff",
   "metadata": {
    "execution": {
     "iopub.execute_input": "2025-04-22T05:27:12.611376Z",
     "iopub.status.busy": "2025-04-22T05:27:12.611154Z",
     "iopub.status.idle": "2025-04-22T05:27:34.640137Z",
     "shell.execute_reply": "2025-04-22T05:27:34.639091Z"
    },
    "papermill": {
     "duration": 22.036534,
     "end_time": "2025-04-22T05:27:34.641547",
     "exception": false,
     "start_time": "2025-04-22T05:27:12.605013",
     "status": "completed"
    },
    "tags": []
   },
   "outputs": [
    {
     "name": "stdout",
     "output_type": "stream",
     "text": [
      "RMSE: 12.680399061284708\n"
     ]
    }
   ],
   "source": [
    "from xgboost import XGBRegressor\n",
    "from sklearn.metrics import mean_squared_error\n",
    "\n",
    "xgb = XGBRegressor(\n",
    "    n_estimators=386, \n",
    "    learning_rate=0.07, \n",
    "    max_depth=11, \n",
    "    random_state=600, \n",
    "    reg_lambda=8, \n",
    "    reg_alpha= 7, \n",
    "    device='cuda',\n",
    "    verbose=0, \n",
    "    eval_metric='rmse'\n",
    "    ).fit(X_train, y_train)\n",
    "pred_xgb = xgb.predict(X_valid)\n",
    "print(f'RMSE: {np.sqrt(mean_squared_error(y_valid, pred_xgb))}')"
   ]
  },
  {
   "cell_type": "markdown",
   "id": "1bb6e939",
   "metadata": {
    "papermill": {
     "duration": 0.005713,
     "end_time": "2025-04-22T05:27:34.653157",
     "exception": false,
     "start_time": "2025-04-22T05:27:34.647444",
     "status": "completed"
    },
    "tags": []
   },
   "source": [
    "## Final Submission"
   ]
  },
  {
   "cell_type": "code",
   "execution_count": 22,
   "id": "5306d6d4",
   "metadata": {
    "execution": {
     "iopub.execute_input": "2025-04-22T05:27:34.665710Z",
     "iopub.status.busy": "2025-04-22T05:27:34.665295Z",
     "iopub.status.idle": "2025-04-22T05:27:35.400601Z",
     "shell.execute_reply": "2025-04-22T05:27:35.399497Z"
    },
    "papermill": {
     "duration": 0.743386,
     "end_time": "2025-04-22T05:27:35.402113",
     "exception": false,
     "start_time": "2025-04-22T05:27:34.658727",
     "status": "completed"
    },
    "tags": []
   },
   "outputs": [
    {
     "name": "stdout",
     "output_type": "stream",
     "text": [
      "Your submission was successfully saved!\n"
     ]
    }
   ],
   "source": [
    "test_preds = xgb.predict(X_test)\n",
    "\n",
    "output = pd.DataFrame({\n",
    "    'id': test['id'],\n",
    "    'Listening_Time_minutes': test_preds\n",
    "})\n",
    "output.to_csv('submission.csv', index=False)\n",
    "print(\"Your submission was successfully saved!\")"
   ]
  }
 ],
 "metadata": {
  "kaggle": {
   "accelerator": "nvidiaTeslaT4",
   "dataSources": [
    {
     "databundleVersionId": 11351736,
     "sourceId": 91715,
     "sourceType": "competition"
    }
   ],
   "dockerImageVersionId": 30918,
   "isGpuEnabled": true,
   "isInternetEnabled": true,
   "language": "python",
   "sourceType": "notebook"
  },
  "kernelspec": {
   "display_name": "Python 3",
   "language": "python",
   "name": "python3"
  },
  "language_info": {
   "codemirror_mode": {
    "name": "ipython",
    "version": 3
   },
   "file_extension": ".py",
   "mimetype": "text/x-python",
   "name": "python",
   "nbconvert_exporter": "python",
   "pygments_lexer": "ipython3",
   "version": "3.10.12"
  },
  "papermill": {
   "default_parameters": {},
   "duration": 73.608534,
   "end_time": "2025-04-22T05:27:37.128486",
   "environment_variables": {},
   "exception": null,
   "input_path": "__notebook__.ipynb",
   "output_path": "__notebook__.ipynb",
   "parameters": {},
   "start_time": "2025-04-22T05:26:23.519952",
   "version": "2.6.0"
  }
 },
 "nbformat": 4,
 "nbformat_minor": 5
}
